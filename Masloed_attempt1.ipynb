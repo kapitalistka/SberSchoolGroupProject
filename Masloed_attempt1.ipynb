{
  "nbformat": 4,
  "nbformat_minor": 0,
  "metadata": {
    "colab": {
      "name": "Masloed_attempt1.ipynb",
      "provenance": [],
      "collapsed_sections": [],
      "machine_shape": "hm",
      "authorship_tag": "ABX9TyP6GO72LcvdNF/PXSTTFRJz",
      "include_colab_link": true
    },
    "kernelspec": {
      "name": "python3",
      "display_name": "Python 3"
    },
    "language_info": {
      "name": "python"
    },
    "accelerator": "GPU"
  },
  "cells": [
    {
      "cell_type": "markdown",
      "metadata": {
        "id": "view-in-github",
        "colab_type": "text"
      },
      "source": [
        "<a href=\"https://colab.research.google.com/github/kapitalistka/SberSchoolGroupProject/blob/main/Masloed_attempt1.ipynb\" target=\"_parent\"><img src=\"https://colab.research.google.com/assets/colab-badge.svg\" alt=\"Open In Colab\"/></a>"
      ]
    },
    {
      "cell_type": "markdown",
      "source": [
        "https://www.kaggle.com/c/ieee-fraud-detection/\n",
        "\n",
        "Детекция мошеннических операций. Предсказание мошенничества крайне актуальная задача в современных финансовых организациях. Обратите внимание на несбалансированность классов. Это может стать большой проблемой при решении.\n",
        "\n",
        "\n",
        "Categorical Features \n",
        "- Transaction\n",
        "- ProductCD\n",
        "-card1 \n",
        "- card6\n",
        "-addr1, addr2\n",
        "-P_emaildomain\n",
        "-R_emaildomain\n",
        "-M1 - M9\n",
        "\n",
        "\n",
        "Categorical Features \n",
        "- Identity\n",
        "-DeviceType\n",
        "-DeviceInfo\n",
        "-id_12 - id_38\n",
        "\n",
        "\n",
        "The TransactionDT feature is a timedelta from a given reference datetime (not an actual timestamp)."
      ],
      "metadata": {
        "id": "_JioXzgStjFK"
      }
    },
    {
      "cell_type": "markdown",
      "source": [
        "## Загружаем данные с Kaggle"
      ],
      "metadata": {
        "id": "IJI8iFXwH1Xb"
      }
    },
    {
      "cell_type": "code",
      "source": [
        "#!pip install kaggle\n",
        "from google.colab import files\n",
        "from google.colab import drive\n",
        "from zipfile import ZipFile\n",
        "from google.colab import files\n",
        "\n",
        "import numpy as np\n",
        "import pandas as pd\n",
        "import matplotlib.pyplot as plt\n",
        "import seaborn as sns\n",
        "import gc\n",
        "\n",
        "drive.mount('/content/gdrive')\n",
        "pd.options.display.float_format = \"{:,.2f}\".format\n",
        "\n",
        "\n",
        "def update_kaggle_token():\n",
        "  uploaded = files.upload()\n",
        "\n",
        "  for fn in uploaded.keys():\n",
        "    print('User uploaded file \"{name}\" with length {length} bytes'.format(\n",
        "        name=fn, length=len(uploaded[fn])))\n",
        "  \n",
        "  # Then move kaggle.json into the folder where the API expects to find it.\n",
        "  !mkdir -p ~/.kaggle/ && mv kaggle.json ~/.kaggle/ && chmod 600 ~/.kaggle/kaggle.json\n",
        "\n",
        "update_kaggle_token()\n",
        "\n",
        "%cd /\n",
        "%cd /content\n",
        "!mkdir -p kaggle/GP2/\n",
        "%cd kaggle/GP2\n",
        "!kaggle competitions download -c ieee-fraud-detection\n",
        "%cd /content\n"
      ],
      "metadata": {
        "colab": {
          "resources": {
            "http://localhost:8080/nbextensions/google.colab/files.js": {
              "data": "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",
              "ok": true,
              "headers": [
                [
                  "content-type",
                  "application/javascript"
                ]
              ],
              "status": 200,
              "status_text": ""
            }
          },
          "base_uri": "https://localhost:8080/",
          "height": 437
        },
        "id": "I9Esa9ottmM8",
        "outputId": "51882a45-e4b2-4b2f-b0ff-2a2119f03791"
      },
      "execution_count": null,
      "outputs": [
        {
          "output_type": "stream",
          "name": "stdout",
          "text": [
            "Mounted at /content/gdrive\n"
          ]
        },
        {
          "output_type": "display_data",
          "data": {
            "text/html": [
              "\n",
              "     <input type=\"file\" id=\"files-36be5097-5a99-4874-ab76-453888d39b85\" name=\"files[]\" multiple disabled\n",
              "        style=\"border:none\" />\n",
              "     <output id=\"result-36be5097-5a99-4874-ab76-453888d39b85\">\n",
              "      Upload widget is only available when the cell has been executed in the\n",
              "      current browser session. Please rerun this cell to enable.\n",
              "      </output>\n",
              "      <script src=\"/nbextensions/google.colab/files.js\"></script> "
            ],
            "text/plain": [
              "<IPython.core.display.HTML object>"
            ]
          },
          "metadata": {}
        },
        {
          "output_type": "stream",
          "name": "stdout",
          "text": [
            "Saving kaggle.json to kaggle.json\n",
            "User uploaded file \"kaggle.json\" with length 65 bytes\n",
            "/\n",
            "/content\n",
            "/content/kaggle/GP2\n",
            "Warning: Looks like you're using an outdated API Version, please consider updating (server 1.5.12 / client 1.5.4)\n",
            "Downloading train_transaction.csv.zip to /content/kaggle/GP2\n",
            " 89% 52.0M/58.3M [00:00<00:00, 111MB/s] \n",
            "100% 58.3M/58.3M [00:00<00:00, 168MB/s]\n",
            "Downloading train_identity.csv.zip to /content/kaggle/GP2\n",
            "  0% 0.00/3.26M [00:00<?, ?B/s]\n",
            "100% 3.26M/3.26M [00:00<00:00, 107MB/s]\n",
            "Downloading test_identity.csv.zip to /content/kaggle/GP2\n",
            "  0% 0.00/3.21M [00:00<?, ?B/s]\n",
            "100% 3.21M/3.21M [00:00<00:00, 107MB/s]\n",
            "Downloading test_transaction.csv.zip to /content/kaggle/GP2\n",
            " 61% 32.0M/52.2M [00:00<00:00, 100MB/s] \n",
            "100% 52.2M/52.2M [00:00<00:00, 174MB/s]\n",
            "Downloading sample_submission.csv.zip to /content/kaggle/GP2\n",
            "  0% 0.00/1.14M [00:00<?, ?B/s]\n",
            "100% 1.14M/1.14M [00:00<00:00, 159MB/s]\n",
            "/content\n"
          ]
        }
      ]
    },
    {
      "cell_type": "markdown",
      "source": [
        "## Загружаем  Train датасет"
      ],
      "metadata": {
        "id": "u65k6eAiIDa7"
      }
    },
    {
      "cell_type": "code",
      "source": [
        "path = \"kaggle/GP2/\"\n",
        "file_train_transactions = \"train_transaction.csv\"\n",
        "file_test_transactions = \"test_transaction.csv\"\n",
        "file_train_identity = \"train_identity.csv\"\n",
        "file_test_identity = \"test_identity.csv\"\n",
        "\n",
        "def get_zip_file(path, file_name):\n",
        "  return path + file_name + \".zip\"\n",
        "\n",
        "def get_big_data_from_zip(path, file_name):\n",
        "  file = ZipFile(get_zip_file(path, file_name)).open(file_name)\n",
        "  tp = pd.read_csv(file, iterator=True, chunksize=50_000)\n",
        "  #tp = pd.read_csv(file, iterator=True, chunksize=10_000, nrows=200_000)\n",
        "\n",
        "  return pd.concat(tp)\n",
        "\n",
        "%time raw_train_transactions = get_big_data_from_zip(path, file_train_transactions)\n",
        "\n",
        "#%time raw_test_transactions = get_big_data_from_zip(path, file_test_transactions)\n",
        "\n",
        "%time raw_train_identity = get_big_data_from_zip(path, file_train_identity)\n",
        "\n",
        "#%time raw_test_identity = get_big_data_from_zip(path, file_test_identity)\n",
        "\n",
        "train = pd.merge(raw_train_transactions, raw_train_identity, how = 'left', on = 'TransactionID')\n",
        "\n",
        "del raw_train_transactions, raw_train_identity\n",
        "gc.collect\n",
        "\n",
        "print(train.shape)"
      ],
      "metadata": {
        "colab": {
          "base_uri": "https://localhost:8080/"
        },
        "id": "TvU-eSKPvKgL",
        "outputId": "df63bcc1-0cce-47ec-bd63-a0d927bae548"
      },
      "execution_count": null,
      "outputs": [
        {
          "output_type": "stream",
          "name": "stdout",
          "text": [
            "CPU times: user 26.8 s, sys: 524 ms, total: 27.3 s\n",
            "Wall time: 27.3 s\n",
            "CPU times: user 607 ms, sys: 18 ms, total: 624 ms\n",
            "Wall time: 619 ms\n",
            "(590540, 434)\n"
          ]
        }
      ]
    },
    {
      "cell_type": "code",
      "source": [
        " # Выведем список колонок так, чтобы из него было удобно собирать массив\n",
        " str = '' \n",
        " for c in train.columns:\n",
        "   str += f\"'{c}', \"\n",
        " print(str)"
      ],
      "metadata": {
        "colab": {
          "base_uri": "https://localhost:8080/"
        },
        "id": "8e-5z8y_Aw_i",
        "outputId": "82298251-1afe-4992-8e41-dc702e8d7559"
      },
      "execution_count": null,
      "outputs": [
        {
          "output_type": "stream",
          "name": "stdout",
          "text": [
            "'TransactionID', 'isFraud', 'TransactionDT', 'TransactionAmt', 'ProductCD', 'card1', 'card2', 'card3', 'card4', 'card5', 'card6', 'addr1', 'addr2', 'dist1', 'dist2', 'P_emaildomain', 'R_emaildomain', 'C1', 'C2', 'C3', 'C4', 'C5', 'C6', 'C7', 'C8', 'C9', 'C10', 'C11', 'C12', 'C13', 'C14', 'D1', 'D2', 'D3', 'D4', 'D5', 'D6', 'D7', 'D8', 'D9', 'D10', 'D11', 'D12', 'D13', 'D14', 'D15', 'M1', 'M2', 'M3', 'M4', 'M5', 'M6', 'M7', 'M8', 'M9', 'V1', 'V2', 'V3', 'V4', 'V5', 'V6', 'V7', 'V8', 'V9', 'V10', 'V11', 'V12', 'V13', 'V14', 'V15', 'V16', 'V17', 'V18', 'V19', 'V20', 'V21', 'V22', 'V23', 'V24', 'V25', 'V26', 'V27', 'V28', 'V29', 'V30', 'V31', 'V32', 'V33', 'V34', 'V35', 'V36', 'V37', 'V38', 'V39', 'V40', 'V41', 'V42', 'V43', 'V44', 'V45', 'V46', 'V47', 'V48', 'V49', 'V50', 'V51', 'V52', 'V53', 'V54', 'V55', 'V56', 'V57', 'V58', 'V59', 'V60', 'V61', 'V62', 'V63', 'V64', 'V65', 'V66', 'V67', 'V68', 'V69', 'V70', 'V71', 'V72', 'V73', 'V74', 'V75', 'V76', 'V77', 'V78', 'V79', 'V80', 'V81', 'V82', 'V83', 'V84', 'V85', 'V86', 'V87', 'V88', 'V89', 'V90', 'V91', 'V92', 'V93', 'V94', 'V95', 'V96', 'V97', 'V98', 'V99', 'V100', 'V101', 'V102', 'V103', 'V104', 'V105', 'V106', 'V107', 'V108', 'V109', 'V110', 'V111', 'V112', 'V113', 'V114', 'V115', 'V116', 'V117', 'V118', 'V119', 'V120', 'V121', 'V122', 'V123', 'V124', 'V125', 'V126', 'V127', 'V128', 'V129', 'V130', 'V131', 'V132', 'V133', 'V134', 'V135', 'V136', 'V137', 'V138', 'V139', 'V140', 'V141', 'V142', 'V143', 'V144', 'V145', 'V146', 'V147', 'V148', 'V149', 'V150', 'V151', 'V152', 'V153', 'V154', 'V155', 'V156', 'V157', 'V158', 'V159', 'V160', 'V161', 'V162', 'V163', 'V164', 'V165', 'V166', 'V167', 'V168', 'V169', 'V170', 'V171', 'V172', 'V173', 'V174', 'V175', 'V176', 'V177', 'V178', 'V179', 'V180', 'V181', 'V182', 'V183', 'V184', 'V185', 'V186', 'V187', 'V188', 'V189', 'V190', 'V191', 'V192', 'V193', 'V194', 'V195', 'V196', 'V197', 'V198', 'V199', 'V200', 'V201', 'V202', 'V203', 'V204', 'V205', 'V206', 'V207', 'V208', 'V209', 'V210', 'V211', 'V212', 'V213', 'V214', 'V215', 'V216', 'V217', 'V218', 'V219', 'V220', 'V221', 'V222', 'V223', 'V224', 'V225', 'V226', 'V227', 'V228', 'V229', 'V230', 'V231', 'V232', 'V233', 'V234', 'V235', 'V236', 'V237', 'V238', 'V239', 'V240', 'V241', 'V242', 'V243', 'V244', 'V245', 'V246', 'V247', 'V248', 'V249', 'V250', 'V251', 'V252', 'V253', 'V254', 'V255', 'V256', 'V257', 'V258', 'V259', 'V260', 'V261', 'V262', 'V263', 'V264', 'V265', 'V266', 'V267', 'V268', 'V269', 'V270', 'V271', 'V272', 'V273', 'V274', 'V275', 'V276', 'V277', 'V278', 'V279', 'V280', 'V281', 'V282', 'V283', 'V284', 'V285', 'V286', 'V287', 'V288', 'V289', 'V290', 'V291', 'V292', 'V293', 'V294', 'V295', 'V296', 'V297', 'V298', 'V299', 'V300', 'V301', 'V302', 'V303', 'V304', 'V305', 'V306', 'V307', 'V308', 'V309', 'V310', 'V311', 'V312', 'V313', 'V314', 'V315', 'V316', 'V317', 'V318', 'V319', 'V320', 'V321', 'V322', 'V323', 'V324', 'V325', 'V326', 'V327', 'V328', 'V329', 'V330', 'V331', 'V332', 'V333', 'V334', 'V335', 'V336', 'V337', 'V338', 'V339', 'id_01', 'id_02', 'id_03', 'id_04', 'id_05', 'id_06', 'id_07', 'id_08', 'id_09', 'id_10', 'id_11', 'id_12', 'id_13', 'id_14', 'id_15', 'id_16', 'id_17', 'id_18', 'id_19', 'id_20', 'id_21', 'id_22', 'id_23', 'id_24', 'id_25', 'id_26', 'id_27', 'id_28', 'id_29', 'id_30', 'id_31', 'id_32', 'id_33', 'id_34', 'id_35', 'id_36', 'id_37', 'id_38', 'DeviceType', 'DeviceInfo', \n"
          ]
        }
      ]
    },
    {
      "cell_type": "code",
      "source": [
        "#Разобьем фичи на разные списки для удобства обработки\n",
        "\n",
        "target = 'isFraud'\n",
        "COLS_EXCLUDE = ['TransactionID',  'TransactionDT']\n",
        "\n",
        "c1 =['TransactionID', 'isFraud', 'TransactionDT',\n",
        "      'DeviceType', 'DeviceInfo',]#exclude\n",
        "\n",
        "\n",
        "c_object = ['ProductCD']\n",
        "\n",
        "c_object_with_na = ['card4', 'card6',  'P_emaildomain', 'R_emaildomain', ]\n",
        "\n",
        "#f\n",
        "c_int  = ['card1',]\n",
        "\n",
        "#f\n",
        "c_float_to_int_with_na = [ 'card2', 'card3', 'card5', 'addr1', 'addr2',  'dist1', 'dist2',  'TransactionAmt']\n",
        "\n",
        "#non nan, float \n",
        "# Упс!! !!!! в тестовом дата сете полно нулей\n",
        "c_C =[ 'C1', 'C2', 'C3', 'C4', 'C5', 'C6', 'C7', 'C8', 'C9', 'C10', 'C11', 'C12', 'C13', 'C14']\n",
        " \n",
        "# with nan, float\n",
        "c_D = [ 'D1', 'D2', 'D3', 'D4', 'D5', 'D6', 'D7', 'D8', 'D9', 'D10', 'D11', 'D12', 'D13', 'D14', 'D15',] \n",
        " \n",
        "# with nan, object \n",
        "c_M = [ 'M1', 'M2', 'M3', 'M4', 'M5', 'M6', 'M7', 'M8', 'M9', ] \n",
        "\n",
        "\n",
        "#with  nan, float\n",
        "c_V = [ 'V1', 'V2', 'V3', 'V4', 'V5', 'V6', 'V7', 'V8', 'V9', 'V10', 'V11', 'V12', 'V13', 'V14', 'V15', 'V16', 'V17', 'V18', 'V19', 'V20', 'V21', 'V22', 'V23', 'V24', 'V25', 'V26', 'V27', 'V28', 'V29', 'V30', 'V31', 'V32', 'V33', 'V34', 'V35', 'V36', 'V37', 'V38', 'V39', 'V40', 'V41', 'V42', 'V43', 'V44', 'V45', 'V46', 'V47', 'V48', 'V49', 'V50', 'V51', 'V52', 'V53', 'V54', 'V55', 'V56', 'V57', 'V58', 'V59', 'V60', 'V61', 'V62', 'V63', 'V64', 'V65', 'V66', 'V67', 'V68', 'V69', 'V70', 'V71', 'V72', 'V73', 'V74', 'V75', 'V76', 'V77', 'V78', 'V79', 'V80', 'V81', 'V82', 'V83', 'V84', 'V85', 'V86', 'V87', 'V88', 'V89', 'V90', 'V91', 'V92', 'V93', 'V94', 'V95', 'V96', 'V97', 'V98', 'V99', 'V100', \n",
        " 'V101', 'V102', 'V103', 'V104', 'V105', 'V106', 'V107', 'V108', 'V109', 'V110', 'V111', 'V112', 'V113', 'V114', 'V115', 'V116', 'V117', 'V118', 'V119', 'V120', 'V121', 'V122', 'V123', 'V124', 'V125', 'V126', 'V127', 'V128', 'V129', 'V130', 'V131', 'V132', 'V133', 'V134', 'V135', 'V136', 'V137', 'V138', 'V139', 'V140', 'V141', 'V142', 'V143', 'V144', 'V145', 'V146', 'V147', 'V148', 'V149', 'V150', 'V151', 'V152', 'V153', 'V154', 'V155', 'V156', 'V157', 'V158', 'V159', 'V160', 'V161', 'V162', 'V163', 'V164', 'V165', 'V166', 'V167', 'V168', 'V169', 'V170', 'V171', 'V172', 'V173', 'V174', 'V175', 'V176', 'V177', 'V178', 'V179', 'V180', 'V181', 'V182', 'V183', 'V184', 'V185', 'V186', 'V187', 'V188', 'V189', 'V190', 'V191', 'V192', 'V193', 'V194', 'V195', 'V196', 'V197', 'V198', 'V199', \n",
        " 'V200', 'V201', 'V202', 'V203', 'V204', 'V205', 'V206', 'V207', 'V208', 'V209', 'V210', 'V211', 'V212', 'V213', 'V214', 'V215', 'V216', 'V217', 'V218', 'V219', 'V220', 'V221', 'V222', 'V223', 'V224', 'V225', 'V226', 'V227', 'V228', 'V229', 'V230', 'V231', 'V232', 'V233', 'V234', 'V235', 'V236', 'V237', 'V238', 'V239', 'V240', 'V241', 'V242', 'V243', 'V244', 'V245', 'V246', 'V247', 'V248', 'V249', 'V250', 'V251', 'V252', 'V253', 'V254', 'V255', 'V256', 'V257', 'V258', 'V259', 'V260', 'V261', 'V262', 'V263', 'V264', 'V265', 'V266', 'V267', 'V268', 'V269', 'V270', 'V271', 'V272', 'V273', 'V274', 'V275', 'V276', 'V277', 'V278', 'V279', 'V280', 'V281', 'V282', 'V283', 'V284', 'V285', 'V286', 'V287', 'V288', 'V289', 'V290', 'V291', 'V292', 'V293', 'V294', 'V295', 'V296', 'V297', 'V298', 'V299', 'V300', \n",
        " 'V301', 'V302', 'V303', 'V304', 'V305', 'V306', 'V307', 'V308', 'V309', 'V310', 'V311', 'V312', 'V313', 'V314', 'V315', 'V316', 'V317', 'V318', 'V319', 'V320', 'V321', 'V322', 'V323', 'V324', 'V325', 'V326', 'V327', 'V328', 'V329', 'V330', 'V331', 'V332', 'V333', 'V334', 'V335', 'V336', 'V337', 'V338', 'V339', \n",
        "] \n",
        "\n",
        "#with  nan, float and object ->\n",
        "c_id =  ['id_01', 'id_02', 'id_03', 'id_04', 'id_05', 'id_06', 'id_07', 'id_08', 'id_09', 'id_10', 'id_11', 'id_12', 'id_13', 'id_14',\n",
        "  'id_15', 'id_16', 'id_17', 'id_18', 'id_19', 'id_20', 'id_21', 'id_22', 'id_23', 'id_24', 'id_25', 'id_26', 'id_27', 'id_28', 'id_29', 'id_30', \n",
        "  'id_31', 'id_32', 'id_33', 'id_34', 'id_35', 'id_36', 'id_37', 'id_38', \n",
        "  ]\n",
        "\n",
        "\n",
        "c_id_float =  ['id_01', 'id_02', 'id_03', 'id_04', 'id_05', 'id_06', 'id_07', 'id_08', 'id_09', 'id_10', 'id_11', 'id_13', 'id_14', 'id_17', 'id_18', 'id_19', 'id_20', 'id_21', 'id_22', 'id_24', 'id_25', 'id_26', 'id_32', ]\n",
        "c_id_obj = ['id_12', 'id_15', 'id_16', 'id_23', 'id_27', 'id_28', 'id_29', 'id_30', 'id_31', 'id_33', 'id_34', 'id_35', 'id_36', 'id_37', 'id_38', ]\n",
        "\n",
        "c_float_and_int = c_int + c_float_to_int_with_na + c_C+ c_D + c_V + c_id_float\n",
        "\n",
        "c_obj_to_model = c_object + c_object_with_na  + c_id_obj\n",
        "\n",
        "c_cat = c_C + c_V\n"
      ],
      "metadata": {
        "id": "y4-gHhCPyon-"
      },
      "execution_count": null,
      "outputs": []
    },
    {
      "cell_type": "code",
      "source": [
        "from sklearn.impute import SimpleImputer\n",
        "\n",
        "# пока простое избавление от пропущенных значений\n",
        "def prepare_data(data):\n",
        "\n",
        "  #################### все столбцы C\n",
        "  print(\"C_ columns processing...\")\n",
        "  imputer = SimpleImputer(missing_values = np.nan, strategy = 'constant', fill_value = 0)\n",
        "  imputer.fit(data[c_C])\n",
        "  data[c_C] = imputer.transform(data[c_C])\n",
        "  data[c_C] = data[c_C].astype(int)\n",
        "\n",
        "\n",
        "  #################### все столбцы V\n",
        "  print(\"V_ columns processing...\")\n",
        "  imputer = SimpleImputer(missing_values = np.nan, strategy = 'constant', fill_value = 0)\n",
        "  imputer.fit(data[c_V])\n",
        "  data[c_V] = imputer.transform(data[c_V])\n",
        "  data[c_V] = data[c_V].astype(int)\n",
        "\n",
        "\n",
        "  #################### все столбцы id_\n",
        "  col_id_float =[]\n",
        "  col_id_obj =[]\n",
        "\n",
        "  print(\"id_ columns processing...\")\n",
        "  for col in c_id:\n",
        "    if data[col].dtype == np.object: col_id_obj.append(col)\n",
        "    elif data[col].dtype == np.float64: col_id_float.append(col)\n",
        "    else: print(f'error: {col.dtype}')\n",
        "\n",
        "  imputer = SimpleImputer(missing_values = np.nan, strategy = 'constant', fill_value = 0)\n",
        "  imputer.fit(data[col_id_float])\n",
        "  data[col_id_float] = imputer.transform(data[col_id_float])\n",
        "\n",
        "\n",
        "  imputer = SimpleImputer(missing_values = np.nan, strategy = 'constant', fill_value = \"NO_INFO\")\n",
        "  imputer.fit(data[col_id_obj])\n",
        "  data[col_id_obj] = imputer.transform(data[col_id_obj])\n",
        "\n",
        "   #################### все столбцы D_\n",
        "  print(\"D_ columns processing...\")\n",
        "  imputer = SimpleImputer(missing_values = np.nan, strategy = 'constant', fill_value = 0)\n",
        "  imputer.fit(data[c_D])\n",
        "  data[c_D] = imputer.transform(data[c_D])\n",
        "\n",
        "   #################### все столбцы M_\n",
        "  print(\"M_ columns processing...\")\n",
        "  imputer = SimpleImputer(missing_values = np.nan, strategy = 'constant', fill_value = \"NO_INFO\")\n",
        "  imputer.fit(data[c_M])\n",
        "  data[c_M] = imputer.transform(data[c_M])\n",
        "\n",
        "   #################### остальный  object столбцы с na\n",
        "  print(\"other object columns processing...\")\n",
        "  imputer = SimpleImputer(missing_values = np.nan, strategy = 'constant', fill_value = \"NO_INFO\")\n",
        "  imputer.fit(data[c_object_with_na])\n",
        "  data[c_object_with_na] = imputer.transform(data[c_object_with_na])\n",
        "\n",
        "   #################### остальный  float  столбцы с na. которые можно перевести в инт\n",
        "  print(\"other float columns processing...\")\n",
        "  imputer = SimpleImputer(missing_values = np.nan, strategy = 'constant', fill_value = 0)\n",
        "  imputer.fit(data[c_float_to_int_with_na])\n",
        "  data[c_float_to_int_with_na] = imputer.transform(data[c_float_to_int_with_na])\n",
        "  data[c_float_to_int_with_na] = data[c_float_to_int_with_na].astype(int)\n",
        "\n",
        "  return data\n",
        "\n",
        "#train = prepare_data(train)\n"
      ],
      "metadata": {
        "id": "zpSJAei7A1sK"
      },
      "execution_count": null,
      "outputs": []
    },
    {
      "cell_type": "code",
      "source": [
        "#Всякие методы, может еще пригодятся\n",
        "def inf(n):\n",
        "  print(n)\n",
        "  print(train[n].describe())\n",
        "  print(train[n].isna().sum())\n",
        "  print(train[n].dtype)\n",
        "  print(train[n].value_counts())"
      ],
      "metadata": {
        "id": "B8wyCMriLaqO"
      },
      "execution_count": null,
      "outputs": []
    },
    {
      "cell_type": "code",
      "source": [
        "n = \"C1\"\n",
        "inf(n)"
      ],
      "metadata": {
        "id": "rXYO06dkLc3H"
      },
      "execution_count": null,
      "outputs": []
    },
    {
      "cell_type": "code",
      "source": [
        "str = \"\"\n",
        "for col in train.columns:\n",
        "  if col.startswith(\"id_\") or col.startswith(\"C\") or  col.startswith(\"D\"): str = str+ \"'\" + col +  \"', \"\n",
        "print(str)"
      ],
      "metadata": {
        "colab": {
          "base_uri": "https://localhost:8080/"
        },
        "id": "PhbnGoAKdVWp",
        "outputId": "f8993feb-3cc4-4a63-9760-21aca81e53f8"
      },
      "execution_count": null,
      "outputs": [
        {
          "output_type": "stream",
          "name": "stdout",
          "text": [
            "'C1', 'C2', 'C3', 'C4', 'C5', 'C6', 'C7', 'C8', 'C9', 'C10', 'C11', 'C12', 'C13', 'C14', 'D1', 'D2', 'D3', 'D4', 'D5', 'D6', 'D7', 'D8', 'D9', 'D10', 'D11', 'D12', 'D13', 'D14', 'D15', 'id_01', 'id_02', 'id_03', 'id_04', 'id_05', 'id_06', 'id_07', 'id_08', 'id_09', 'id_10', 'id_11', 'id_12', 'id_13', 'id_14', 'id_15', 'id_16', 'id_17', 'id_18', 'id_19', 'id_20', 'id_21', 'id_22', 'id_23', 'id_24', 'id_25', 'id_26', 'id_27', 'id_28', 'id_29', 'id_30', 'id_31', 'id_32', 'id_33', 'id_34', 'id_35', 'id_36', 'id_37', 'id_38', 'DeviceType', 'DeviceInfo', \n"
          ]
        }
      ]
    },
    {
      "cell_type": "code",
      "source": [
        "\n",
        "def get_obj_cols(data, with_na):\n",
        "  col_obj = []\n",
        "  for col in data.columns:\n",
        "      dtype = data[col].dtype\n",
        "      \n",
        "      if with_na: \n",
        "        isWithNa = data[col].isna().sum() > 0\n",
        "        if dtype == np.object and isWithNa: col_obj.append(col) \n",
        "\n",
        "      else:\n",
        "        if  dtype == np.object: col_obj.append(col) \n",
        "  return col_obj\n"
      ],
      "metadata": {
        "id": "z5bcsPDlmaYE"
      },
      "execution_count": null,
      "outputs": []
    },
    {
      "cell_type": "markdown",
      "source": [
        "## Разбиваем данные и готовим"
      ],
      "metadata": {
        "id": "lzHURLXGJJiX"
      }
    },
    {
      "cell_type": "code",
      "source": [
        "from sklearn.model_selection import train_test_split\n",
        "from sklearn.preprocessing import OrdinalEncoder\n",
        "\n",
        "target = 'isFraud'\n",
        "y = train[target]\n",
        "X = train.drop(target, 1)\n",
        "\n",
        "#'TransactionID', 'isFraud', 'TransactionDT',\n",
        "X = train.drop('TransactionID', 1)\n",
        "X = train.drop('TransactionDT', 1)\n",
        "X = train.drop('DeviceType', 1)\n",
        "X = train.drop('DeviceInfo', 1)\n",
        "\n",
        "\n",
        "X_train, X_val, y_train, y_val = train_test_split(X, y, test_size = 0.3, random_state = 42)\n",
        "\n",
        "del X, y,train, \n",
        "gc.collect"
      ],
      "metadata": {
        "colab": {
          "base_uri": "https://localhost:8080/"
        },
        "id": "AWYhD7BALq99",
        "outputId": "15aefa43-df23-41e5-e29d-d6e599b18bad"
      },
      "execution_count": null,
      "outputs": [
        {
          "output_type": "stream",
          "name": "stderr",
          "text": [
            "/usr/local/lib/python3.7/dist-packages/ipykernel_launcher.py:6: FutureWarning: In a future version of pandas all arguments of DataFrame.drop except for the argument 'labels' will be keyword-only\n",
            "  \n",
            "/usr/local/lib/python3.7/dist-packages/ipykernel_launcher.py:9: FutureWarning: In a future version of pandas all arguments of DataFrame.drop except for the argument 'labels' will be keyword-only\n",
            "  if __name__ == '__main__':\n",
            "/usr/local/lib/python3.7/dist-packages/ipykernel_launcher.py:10: FutureWarning: In a future version of pandas all arguments of DataFrame.drop except for the argument 'labels' will be keyword-only\n",
            "  # Remove the CWD from sys.path while we load stuff.\n",
            "/usr/local/lib/python3.7/dist-packages/ipykernel_launcher.py:11: FutureWarning: In a future version of pandas all arguments of DataFrame.drop except for the argument 'labels' will be keyword-only\n",
            "  # This is added back by InteractiveShellApp.init_path()\n",
            "/usr/local/lib/python3.7/dist-packages/ipykernel_launcher.py:12: FutureWarning: In a future version of pandas all arguments of DataFrame.drop except for the argument 'labels' will be keyword-only\n",
            "  if sys.path[0] == '':\n"
          ]
        },
        {
          "output_type": "execute_result",
          "data": {
            "text/plain": [
              "<function gc.collect>"
            ]
          },
          "metadata": {},
          "execution_count": 108
        }
      ]
    },
    {
      "cell_type": "code",
      "source": [
        "print(X_train.shape)\n",
        "print(y_train.shape)"
      ],
      "metadata": {
        "colab": {
          "base_uri": "https://localhost:8080/"
        },
        "id": "hD9q_2qub6E7",
        "outputId": "24cb095a-d686-42bd-93fc-1e63029a999b"
      },
      "execution_count": null,
      "outputs": [
        {
          "output_type": "stream",
          "name": "stdout",
          "text": [
            "(413378, 433)\n",
            "(413378,)\n"
          ]
        }
      ]
    },
    {
      "cell_type": "code",
      "source": [
        "X_train  = prepare_data(X_train)\n",
        "X_val  = prepare_data(X_val)"
      ],
      "metadata": {
        "colab": {
          "base_uri": "https://localhost:8080/"
        },
        "id": "4VAxC8O1haox",
        "outputId": "e8689622-38e2-4243-840e-e53ce5bb447d"
      },
      "execution_count": null,
      "outputs": [
        {
          "output_type": "stream",
          "name": "stdout",
          "text": [
            "C_ columns processing...\n",
            "V_ columns processing...\n",
            "id_ columns processing...\n",
            "D_ columns processing...\n",
            "M_ columns processing...\n",
            "other object columns processing...\n",
            "other float columns processing...\n",
            "C_ columns processing...\n",
            "V_ columns processing...\n",
            "id_ columns processing...\n",
            "D_ columns processing...\n",
            "M_ columns processing...\n",
            "other object columns processing...\n",
            "other float columns processing...\n"
          ]
        }
      ]
    },
    {
      "cell_type": "code",
      "source": [
        "print(X_train.shape)\n",
        "print(y_train.shape)"
      ],
      "metadata": {
        "colab": {
          "base_uri": "https://localhost:8080/"
        },
        "id": "9xpEgYtPcBhK",
        "outputId": "5539e052-5735-450a-9781-7d637abb373e"
      },
      "execution_count": null,
      "outputs": [
        {
          "output_type": "stream",
          "name": "stdout",
          "text": [
            "(413378, 433)\n",
            "(413378,)\n"
          ]
        }
      ]
    },
    {
      "cell_type": "markdown",
      "source": [
        "## Попытка применения PCA"
      ],
      "metadata": {
        "id": "oikkHf8UJQfm"
      }
    },
    {
      "cell_type": "code",
      "source": [
        "from sklearn.decomposition import PCA\n",
        "pca = PCA(5)\n",
        "pca.fit(X_train[c_float_and_int])\n",
        "plt.plot(pca.explained_variance_ratio_.cumsum())\n",
        "plt.axvline(x=6)\n",
        "plt.grid()"
      ],
      "metadata": {
        "colab": {
          "base_uri": "https://localhost:8080/",
          "height": 265
        },
        "id": "mKYL_-iXJ7Uj",
        "outputId": "527ce50c-a0f9-47f4-9293-6a2a8ecb103e"
      },
      "execution_count": null,
      "outputs": [
        {
          "output_type": "display_data",
          "data": {
            "image/png": "[encoded data removed]",
            "text/plain": [
              "<Figure size 432x288 with 1 Axes>"
            ]
          },
          "metadata": {
            "needs_background": "light"
          }
        }
      ]
    },
    {
      "cell_type": "code",
      "source": [
        "X_train_pca_part = pd.DataFrame(pca.transform(X_train[c_float_and_int]))\n",
        "X_val_pca_part = pd.DataFrame(pca.transform(X_val[c_float_and_int]))"
      ],
      "metadata": {
        "id": "WDute9F9rgk3"
      },
      "execution_count": null,
      "outputs": []
    },
    {
      "cell_type": "code",
      "source": [
        "print(X_train_pca_part.isna().sum().sum())\n"
      ],
      "metadata": {
        "colab": {
          "base_uri": "https://localhost:8080/"
        },
        "id": "mx8jx62Fcmp8",
        "outputId": "bc8f0b8a-4dd3-4c09-bd61-58f18419d119"
      },
      "execution_count": null,
      "outputs": [
        {
          "output_type": "stream",
          "name": "stdout",
          "text": [
            "0\n"
          ]
        }
      ]
    },
    {
      "cell_type": "code",
      "source": [
        "X_train_prepared = X_train_pca_part\n",
        "#X_train_prepared[c_obj_to_model] =  X_train[c_obj_to_model].values\n",
        "X_train_prepared[c_cat] =  X_train[c_cat].values\n",
        "print(X_train_prepared .isna().sum().sum())\n",
        "\n",
        "\n",
        "X_val_prepared = X_val_pca_part\n",
        "#X_val_prepared[c_obj_to_model] =  X_val[c_obj_to_model] .values\n",
        "X_val_prepared[c_cat] =  X_val[c_cat].values\n"
      ],
      "metadata": {
        "colab": {
          "base_uri": "https://localhost:8080/"
        },
        "id": "MDZ6gVSvSOK_",
        "outputId": "5c833125-f66e-4e44-9a6b-3a7f33f95a80"
      },
      "execution_count": null,
      "outputs": [
        {
          "output_type": "stream",
          "name": "stderr",
          "text": [
            "/usr/local/lib/python3.7/dist-packages/pandas/core/frame.py:3678: PerformanceWarning: DataFrame is highly fragmented.  This is usually the result of calling `frame.insert` many times, which has poor performance.  Consider joining all columns at once using pd.concat(axis=1) instead.  To get a de-fragmented frame, use `newframe = frame.copy()`\n",
            "  self[col] = igetitem(value, i)\n"
          ]
        },
        {
          "output_type": "stream",
          "name": "stdout",
          "text": [
            "0\n"
          ]
        }
      ]
    },
    {
      "cell_type": "code",
      "source": [
        "print(X_train_prepared.shape)\n",
        "print(y_train.shape)"
      ],
      "metadata": {
        "colab": {
          "base_uri": "https://localhost:8080/"
        },
        "id": "m_BK8qINalSK",
        "outputId": "aeb922cb-8389-4f05-88fe-2e9c79cb3e86"
      },
      "execution_count": null,
      "outputs": [
        {
          "output_type": "stream",
          "name": "stdout",
          "text": [
            "(413378, 358)\n",
            "(413378,)\n"
          ]
        }
      ]
    },
    {
      "cell_type": "code",
      "source": [
        "X_train_prepared .isna().sum().sum()"
      ],
      "metadata": {
        "colab": {
          "base_uri": "https://localhost:8080/"
        },
        "id": "4K2C5P18apB2",
        "outputId": "ddf4523f-5dd3-49cd-88dc-f2ee6fb96667"
      },
      "execution_count": null,
      "outputs": [
        {
          "output_type": "execute_result",
          "data": {
            "text/plain": [
              "0"
            ]
          },
          "metadata": {},
          "execution_count": 99
        }
      ]
    },
    {
      "cell_type": "code",
      "source": [
        "X_train_pca_part.shape"
      ],
      "metadata": {
        "colab": {
          "base_uri": "https://localhost:8080/"
        },
        "id": "I3Au7fahbIF1",
        "outputId": "96fca60a-c634-4bc6-a9ec-58b3f6edd7f3"
      },
      "execution_count": null,
      "outputs": [
        {
          "output_type": "execute_result",
          "data": {
            "text/plain": [
              "(413378, 5)"
            ]
          },
          "metadata": {},
          "execution_count": 30
        }
      ]
    },
    {
      "cell_type": "markdown",
      "source": [
        "## Попытка применения Catboost"
      ],
      "metadata": {
        "id": "Ijarxmc4JZKm"
      }
    },
    {
      "cell_type": "code",
      "source": [
        "!pip install -q catboost shap"
      ],
      "metadata": {
        "colab": {
          "base_uri": "https://localhost:8080/"
        },
        "id": "H2_Y19MSuSuP",
        "outputId": "22d53b84-8c5d-4410-b330-b59f336e40d3"
      },
      "execution_count": null,
      "outputs": [
        {
          "output_type": "stream",
          "name": "stdout",
          "text": [
            "\u001b[K     |████████████████████████████████| 76.1 MB 1.8 MB/s \n",
            "\u001b[K     |████████████████████████████████| 564 kB 48.4 MB/s \n",
            "\u001b[?25h"
          ]
        }
      ]
    },
    {
      "cell_type": "code",
      "source": [
        "from catboost import CatBoostClassifier\n",
        "from sklearn.metrics import roc_auc_score\n",
        "\n",
        "model = CatBoostClassifier( task_type=\"GPU\") \n",
        "model.fit(\n",
        "    X_train_prepared, \n",
        "    y_train,  \n",
        "    cat_features = c_cat,\n",
        "    #text_features = c_obj_to_model\n",
        "    ) \n",
        "y_pred = model.predict(X_val_prepared) \n",
        "print(f\"{roc_auc_score(y_pred, y_val)}\")\n",
        " "
      ],
      "metadata": {
        "colab": {
          "base_uri": "https://localhost:8080/"
        },
        "id": "ZMliPONgsWbd",
        "outputId": "efdb780d-ac3e-4503-89d3-4da212008204"
      },
      "execution_count": null,
      "outputs": [
        {
          "output_type": "stream",
          "name": "stderr",
          "text": [
            "Custom logger is already specified. Specify more than one logger at same time is not thread safe."
          ]
        },
        {
          "output_type": "stream",
          "name": "stdout",
          "text": [
            "Learning rate set to 0.024203\n",
            "0:\tlearn: 0.6514509\ttotal: 608ms\tremaining: 10m 7s\n",
            "1:\tlearn: 0.6124761\ttotal: 1.54s\tremaining: 12m 47s\n",
            "2:\tlearn: 0.5773092\ttotal: 2.13s\tremaining: 11m 47s\n",
            "3:\tlearn: 0.5452572\ttotal: 2.71s\tremaining: 11m 14s\n",
            "4:\tlearn: 0.5150909\ttotal: 3.28s\tremaining: 10m 53s\n",
            "5:\tlearn: 0.4860795\ttotal: 4.22s\tremaining: 11m 39s\n",
            "6:\tlearn: 0.4598052\ttotal: 4.8s\tremaining: 11m 21s\n",
            "7:\tlearn: 0.4361482\ttotal: 5.55s\tremaining: 11m 27s\n",
            "8:\tlearn: 0.4133540\ttotal: 6.31s\tremaining: 11m 35s\n",
            "9:\tlearn: 0.3933616\ttotal: 6.91s\tremaining: 11m 24s\n",
            "10:\tlearn: 0.3747656\ttotal: 7.84s\tremaining: 11m 45s\n",
            "11:\tlearn: 0.3577740\ttotal: 8.61s\tremaining: 11m 48s\n",
            "12:\tlearn: 0.3415253\ttotal: 9.19s\tremaining: 11m 37s\n",
            "13:\tlearn: 0.3264181\ttotal: 9.77s\tremaining: 11m 27s\n",
            "14:\tlearn: 0.3119636\ttotal: 10.4s\tremaining: 11m 20s\n",
            "15:\tlearn: 0.2983461\ttotal: 11s\tremaining: 11m 13s\n",
            "16:\tlearn: 0.2861036\ttotal: 11.5s\tremaining: 11m 7s\n",
            "17:\tlearn: 0.2742576\ttotal: 12.2s\tremaining: 11m 3s\n",
            "18:\tlearn: 0.2634746\ttotal: 12.7s\tremaining: 10m 57s\n",
            "19:\tlearn: 0.2536237\ttotal: 13.3s\tremaining: 10m 52s\n",
            "20:\tlearn: 0.2441397\ttotal: 14.1s\tremaining: 10m 57s\n",
            "21:\tlearn: 0.2357980\ttotal: 14.7s\tremaining: 10m 53s\n",
            "22:\tlearn: 0.2277954\ttotal: 15.3s\tremaining: 10m 48s\n",
            "23:\tlearn: 0.2200438\ttotal: 15.9s\tremaining: 10m 45s\n",
            "24:\tlearn: 0.2135772\ttotal: 16.4s\tremaining: 10m 41s\n",
            "25:\tlearn: 0.2072862\ttotal: 17s\tremaining: 10m 37s\n",
            "26:\tlearn: 0.2013594\ttotal: 17.6s\tremaining: 10m 34s\n",
            "27:\tlearn: 0.1955345\ttotal: 18.2s\tremaining: 10m 31s\n",
            "28:\tlearn: 0.1904442\ttotal: 18.8s\tremaining: 10m 28s\n",
            "29:\tlearn: 0.1858102\ttotal: 19.4s\tremaining: 10m 26s\n",
            "30:\tlearn: 0.1811292\ttotal: 20s\tremaining: 10m 23s\n",
            "31:\tlearn: 0.1766565\ttotal: 20.7s\tremaining: 10m 26s\n",
            "32:\tlearn: 0.1723395\ttotal: 21.5s\tremaining: 10m 29s\n",
            "33:\tlearn: 0.1688447\ttotal: 22.2s\tremaining: 10m 31s\n",
            "34:\tlearn: 0.1653541\ttotal: 22.8s\tremaining: 10m 29s\n",
            "35:\tlearn: 0.1621598\ttotal: 23.4s\tremaining: 10m 27s\n",
            "36:\tlearn: 0.1591225\ttotal: 24s\tremaining: 10m 24s\n",
            "37:\tlearn: 0.1560226\ttotal: 24.6s\tremaining: 10m 22s\n",
            "38:\tlearn: 0.1534649\ttotal: 25.2s\tremaining: 10m 20s\n",
            "39:\tlearn: 0.1510206\ttotal: 25.8s\tremaining: 10m 19s\n",
            "40:\tlearn: 0.1489370\ttotal: 26.4s\tremaining: 10m 17s\n",
            "41:\tlearn: 0.1464793\ttotal: 27s\tremaining: 10m 15s\n",
            "42:\tlearn: 0.1444792\ttotal: 27.6s\tremaining: 10m 13s\n",
            "43:\tlearn: 0.1423021\ttotal: 28.2s\tremaining: 10m 11s\n",
            "44:\tlearn: 0.1402752\ttotal: 28.7s\tremaining: 10m 10s\n",
            "45:\tlearn: 0.1384769\ttotal: 29.3s\tremaining: 10m 8s\n",
            "46:\tlearn: 0.1369452\ttotal: 29.9s\tremaining: 10m 6s\n",
            "47:\tlearn: 0.1353181\ttotal: 30.5s\tremaining: 10m 5s\n",
            "48:\tlearn: 0.1339856\ttotal: 31.3s\tremaining: 10m 7s\n",
            "49:\tlearn: 0.1327035\ttotal: 31.9s\tremaining: 10m 5s\n",
            "50:\tlearn: 0.1313660\ttotal: 32.5s\tremaining: 10m 4s\n",
            "51:\tlearn: 0.1300484\ttotal: 33.2s\tremaining: 10m 5s\n",
            "52:\tlearn: 0.1290730\ttotal: 33.8s\tremaining: 10m 4s\n",
            "53:\tlearn: 0.1280596\ttotal: 34.4s\tremaining: 10m 2s\n",
            "54:\tlearn: 0.1270881\ttotal: 35s\tremaining: 10m\n",
            "55:\tlearn: 0.1261009\ttotal: 35.7s\tremaining: 10m 2s\n",
            "56:\tlearn: 0.1251419\ttotal: 36.3s\tremaining: 10m 1s\n",
            "57:\tlearn: 0.1242454\ttotal: 36.9s\tremaining: 9m 59s\n",
            "58:\tlearn: 0.1232339\ttotal: 37.5s\tremaining: 9m 57s\n",
            "59:\tlearn: 0.1225197\ttotal: 38.1s\tremaining: 9m 56s\n",
            "60:\tlearn: 0.1218129\ttotal: 38.7s\tremaining: 9m 55s\n",
            "61:\tlearn: 0.1209343\ttotal: 39.3s\tremaining: 9m 53s\n",
            "62:\tlearn: 0.1201862\ttotal: 39.8s\tremaining: 9m 52s\n",
            "63:\tlearn: 0.1194215\ttotal: 40.4s\tremaining: 9m 51s\n",
            "64:\tlearn: 0.1187215\ttotal: 41s\tremaining: 9m 50s\n",
            "65:\tlearn: 0.1180238\ttotal: 41.6s\tremaining: 9m 49s\n",
            "66:\tlearn: 0.1174869\ttotal: 42.2s\tremaining: 9m 48s\n",
            "67:\tlearn: 0.1169534\ttotal: 42.8s\tremaining: 9m 47s\n",
            "68:\tlearn: 0.1162601\ttotal: 43.4s\tremaining: 9m 45s\n",
            "69:\tlearn: 0.1156626\ttotal: 44s\tremaining: 9m 45s\n",
            "70:\tlearn: 0.1152273\ttotal: 44.7s\tremaining: 9m 44s\n",
            "71:\tlearn: 0.1148785\ttotal: 45.2s\tremaining: 9m 43s\n",
            "72:\tlearn: 0.1143653\ttotal: 45.8s\tremaining: 9m 42s\n",
            "73:\tlearn: 0.1138843\ttotal: 46.4s\tremaining: 9m 41s\n",
            "74:\tlearn: 0.1134765\ttotal: 47s\tremaining: 9m 40s\n",
            "75:\tlearn: 0.1132057\ttotal: 47.6s\tremaining: 9m 39s\n",
            "76:\tlearn: 0.1128747\ttotal: 48.2s\tremaining: 9m 37s\n",
            "77:\tlearn: 0.1122708\ttotal: 48.8s\tremaining: 9m 37s\n",
            "78:\tlearn: 0.1119251\ttotal: 49.6s\tremaining: 9m 38s\n",
            "79:\tlearn: 0.1116003\ttotal: 50.2s\tremaining: 9m 37s\n",
            "80:\tlearn: 0.1112479\ttotal: 50.8s\tremaining: 9m 36s\n",
            "81:\tlearn: 0.1109125\ttotal: 51.4s\tremaining: 9m 35s\n",
            "82:\tlearn: 0.1104318\ttotal: 52s\tremaining: 9m 34s\n",
            "83:\tlearn: 0.1100756\ttotal: 52.6s\tremaining: 9m 33s\n",
            "84:\tlearn: 0.1098018\ttotal: 53.2s\tremaining: 9m 32s\n",
            "85:\tlearn: 0.1096096\ttotal: 53.8s\tremaining: 9m 31s\n",
            "86:\tlearn: 0.1093258\ttotal: 54.4s\tremaining: 9m 30s\n",
            "87:\tlearn: 0.1090038\ttotal: 55.2s\tremaining: 9m 31s\n",
            "88:\tlearn: 0.1087987\ttotal: 55.8s\tremaining: 9m 30s\n",
            "89:\tlearn: 0.1085145\ttotal: 56.4s\tremaining: 9m 30s\n",
            "90:\tlearn: 0.1082237\ttotal: 57s\tremaining: 9m 29s\n",
            "91:\tlearn: 0.1079677\ttotal: 57.6s\tremaining: 9m 28s\n",
            "92:\tlearn: 0.1077302\ttotal: 58.2s\tremaining: 9m 27s\n",
            "93:\tlearn: 0.1075825\ttotal: 58.8s\tremaining: 9m 26s\n",
            "94:\tlearn: 0.1073244\ttotal: 59.5s\tremaining: 9m 27s\n",
            "95:\tlearn: 0.1070807\ttotal: 1m\tremaining: 9m 26s\n",
            "96:\tlearn: 0.1067860\ttotal: 1m\tremaining: 9m 25s\n",
            "97:\tlearn: 0.1066721\ttotal: 1m 1s\tremaining: 9m 24s\n",
            "98:\tlearn: 0.1063631\ttotal: 1m 1s\tremaining: 9m 23s\n",
            "99:\tlearn: 0.1060150\ttotal: 1m 2s\tremaining: 9m 22s\n",
            "100:\tlearn: 0.1057553\ttotal: 1m 3s\tremaining: 9m 22s\n",
            "101:\tlearn: 0.1054651\ttotal: 1m 3s\tremaining: 9m 22s\n",
            "102:\tlearn: 0.1052949\ttotal: 1m 4s\tremaining: 9m 21s\n",
            "103:\tlearn: 0.1051018\ttotal: 1m 5s\tremaining: 9m 20s\n",
            "104:\tlearn: 0.1048671\ttotal: 1m 5s\tremaining: 9m 20s\n",
            "105:\tlearn: 0.1047854\ttotal: 1m 6s\tremaining: 9m 20s\n",
            "106:\tlearn: 0.1045629\ttotal: 1m 7s\tremaining: 9m 19s\n",
            "107:\tlearn: 0.1043183\ttotal: 1m 7s\tremaining: 9m 19s\n",
            "108:\tlearn: 0.1041939\ttotal: 1m 8s\tremaining: 9m 18s\n",
            "109:\tlearn: 0.1041009\ttotal: 1m 8s\tremaining: 9m 17s\n",
            "110:\tlearn: 0.1039925\ttotal: 1m 9s\tremaining: 9m 16s\n",
            "111:\tlearn: 0.1037923\ttotal: 1m 10s\tremaining: 9m 15s\n",
            "112:\tlearn: 0.1036442\ttotal: 1m 10s\tremaining: 9m 14s\n",
            "113:\tlearn: 0.1035370\ttotal: 1m 11s\tremaining: 9m 13s\n",
            "114:\tlearn: 0.1033943\ttotal: 1m 11s\tremaining: 9m 12s\n",
            "115:\tlearn: 0.1032771\ttotal: 1m 12s\tremaining: 9m 13s\n",
            "116:\tlearn: 0.1030904\ttotal: 1m 13s\tremaining: 9m 12s\n",
            "117:\tlearn: 0.1029505\ttotal: 1m 13s\tremaining: 9m 11s\n",
            "118:\tlearn: 0.1028593\ttotal: 1m 14s\tremaining: 9m 10s\n",
            "119:\tlearn: 0.1027096\ttotal: 1m 15s\tremaining: 9m 10s\n",
            "120:\tlearn: 0.1026267\ttotal: 1m 15s\tremaining: 9m 9s\n",
            "121:\tlearn: 0.1025460\ttotal: 1m 16s\tremaining: 9m 8s\n",
            "122:\tlearn: 0.1024735\ttotal: 1m 16s\tremaining: 9m 7s\n",
            "123:\tlearn: 0.1023860\ttotal: 1m 17s\tremaining: 9m 6s\n",
            "124:\tlearn: 0.1023184\ttotal: 1m 17s\tremaining: 9m 5s\n",
            "125:\tlearn: 0.1022409\ttotal: 1m 18s\tremaining: 9m 5s\n",
            "126:\tlearn: 0.1021595\ttotal: 1m 19s\tremaining: 9m 4s\n",
            "127:\tlearn: 0.1021038\ttotal: 1m 19s\tremaining: 9m 3s\n",
            "128:\tlearn: 0.1020433\ttotal: 1m 20s\tremaining: 9m 2s\n",
            "129:\tlearn: 0.1019640\ttotal: 1m 20s\tremaining: 9m 1s\n",
            "130:\tlearn: 0.1018159\ttotal: 1m 21s\tremaining: 9m\n",
            "131:\tlearn: 0.1016453\ttotal: 1m 22s\tremaining: 9m\n",
            "132:\tlearn: 0.1015488\ttotal: 1m 22s\tremaining: 8m 59s\n",
            "133:\tlearn: 0.1014405\ttotal: 1m 23s\tremaining: 8m 58s\n",
            "134:\tlearn: 0.1013300\ttotal: 1m 23s\tremaining: 8m 57s\n",
            "135:\tlearn: 0.1012836\ttotal: 1m 24s\tremaining: 8m 57s\n",
            "136:\tlearn: 0.1011821\ttotal: 1m 25s\tremaining: 8m 56s\n",
            "137:\tlearn: 0.1010442\ttotal: 1m 25s\tremaining: 8m 55s\n",
            "138:\tlearn: 0.1009744\ttotal: 1m 26s\tremaining: 8m 54s\n",
            "139:\tlearn: 0.1008805\ttotal: 1m 26s\tremaining: 8m 53s\n",
            "140:\tlearn: 0.1007733\ttotal: 1m 27s\tremaining: 8m 53s\n",
            "141:\tlearn: 0.1007077\ttotal: 1m 28s\tremaining: 8m 52s\n",
            "142:\tlearn: 0.1006274\ttotal: 1m 28s\tremaining: 8m 51s\n",
            "143:\tlearn: 0.1005137\ttotal: 1m 29s\tremaining: 8m 50s\n",
            "144:\tlearn: 0.1003868\ttotal: 1m 30s\tremaining: 8m 51s\n",
            "145:\tlearn: 0.1003002\ttotal: 1m 30s\tremaining: 8m 51s\n",
            "146:\tlearn: 0.1001567\ttotal: 1m 31s\tremaining: 8m 50s\n",
            "147:\tlearn: 0.1000773\ttotal: 1m 32s\tremaining: 8m 49s\n",
            "148:\tlearn: 0.1000252\ttotal: 1m 32s\tremaining: 8m 50s\n",
            "149:\tlearn: 0.0999192\ttotal: 1m 33s\tremaining: 8m 49s\n",
            "150:\tlearn: 0.0997832\ttotal: 1m 34s\tremaining: 8m 49s\n",
            "151:\tlearn: 0.0996866\ttotal: 1m 35s\tremaining: 8m 50s\n",
            "152:\tlearn: 0.0996367\ttotal: 1m 35s\tremaining: 8m 49s\n",
            "153:\tlearn: 0.0995963\ttotal: 1m 36s\tremaining: 8m 48s\n",
            "154:\tlearn: 0.0995318\ttotal: 1m 36s\tremaining: 8m 47s\n",
            "155:\tlearn: 0.0994692\ttotal: 1m 37s\tremaining: 8m 46s\n",
            "156:\tlearn: 0.0993878\ttotal: 1m 37s\tremaining: 8m 45s\n",
            "157:\tlearn: 0.0992373\ttotal: 1m 38s\tremaining: 8m 46s\n",
            "158:\tlearn: 0.0991924\ttotal: 1m 39s\tremaining: 8m 45s\n",
            "159:\tlearn: 0.0991000\ttotal: 1m 39s\tremaining: 8m 44s\n",
            "160:\tlearn: 0.0990665\ttotal: 1m 40s\tremaining: 8m 43s\n",
            "161:\tlearn: 0.0990031\ttotal: 1m 41s\tremaining: 8m 43s\n",
            "162:\tlearn: 0.0989148\ttotal: 1m 41s\tremaining: 8m 42s\n",
            "163:\tlearn: 0.0988735\ttotal: 1m 42s\tremaining: 8m 42s\n",
            "164:\tlearn: 0.0988019\ttotal: 1m 43s\tremaining: 8m 41s\n",
            "165:\tlearn: 0.0987589\ttotal: 1m 43s\tremaining: 8m 41s\n",
            "166:\tlearn: 0.0987180\ttotal: 1m 44s\tremaining: 8m 40s\n",
            "167:\tlearn: 0.0986782\ttotal: 1m 44s\tremaining: 8m 39s\n",
            "168:\tlearn: 0.0985549\ttotal: 1m 45s\tremaining: 8m 38s\n",
            "169:\tlearn: 0.0985234\ttotal: 1m 46s\tremaining: 8m 38s\n",
            "170:\tlearn: 0.0984859\ttotal: 1m 46s\tremaining: 8m 38s\n",
            "171:\tlearn: 0.0984435\ttotal: 1m 47s\tremaining: 8m 37s\n",
            "172:\tlearn: 0.0983712\ttotal: 1m 48s\tremaining: 8m 36s\n",
            "173:\tlearn: 0.0981850\ttotal: 1m 48s\tremaining: 8m 35s\n",
            "174:\tlearn: 0.0981109\ttotal: 1m 49s\tremaining: 8m 35s\n",
            "175:\tlearn: 0.0980664\ttotal: 1m 50s\tremaining: 8m 35s\n",
            "176:\tlearn: 0.0980331\ttotal: 1m 50s\tremaining: 8m 34s\n",
            "177:\tlearn: 0.0979378\ttotal: 1m 51s\tremaining: 8m 33s\n",
            "178:\tlearn: 0.0979041\ttotal: 1m 51s\tremaining: 8m 32s\n",
            "179:\tlearn: 0.0978642\ttotal: 1m 52s\tremaining: 8m 32s\n",
            "180:\tlearn: 0.0978361\ttotal: 1m 53s\tremaining: 8m 31s\n",
            "181:\tlearn: 0.0977414\ttotal: 1m 53s\tremaining: 8m 31s\n",
            "182:\tlearn: 0.0977064\ttotal: 1m 54s\tremaining: 8m 30s\n",
            "183:\tlearn: 0.0976553\ttotal: 1m 54s\tremaining: 8m 29s\n",
            "184:\tlearn: 0.0976029\ttotal: 1m 55s\tremaining: 8m 29s\n",
            "185:\tlearn: 0.0975727\ttotal: 1m 56s\tremaining: 8m 28s\n",
            "186:\tlearn: 0.0975136\ttotal: 1m 56s\tremaining: 8m 27s\n",
            "187:\tlearn: 0.0974748\ttotal: 1m 57s\tremaining: 8m 26s\n",
            "188:\tlearn: 0.0973996\ttotal: 1m 57s\tremaining: 8m 26s\n",
            "189:\tlearn: 0.0973382\ttotal: 1m 58s\tremaining: 8m 26s\n",
            "190:\tlearn: 0.0973178\ttotal: 1m 59s\tremaining: 8m 25s\n",
            "191:\tlearn: 0.0972799\ttotal: 1m 59s\tremaining: 8m 24s\n",
            "192:\tlearn: 0.0972143\ttotal: 2m\tremaining: 8m 23s\n",
            "193:\tlearn: 0.0971567\ttotal: 2m 1s\tremaining: 8m 22s\n",
            "194:\tlearn: 0.0970971\ttotal: 2m 1s\tremaining: 8m 22s\n",
            "195:\tlearn: 0.0970245\ttotal: 2m 2s\tremaining: 8m 21s\n",
            "196:\tlearn: 0.0969583\ttotal: 2m 2s\tremaining: 8m 20s\n",
            "197:\tlearn: 0.0969041\ttotal: 2m 3s\tremaining: 8m 20s\n",
            "198:\tlearn: 0.0968826\ttotal: 2m 4s\tremaining: 8m 19s\n",
            "199:\tlearn: 0.0968211\ttotal: 2m 4s\tremaining: 8m 18s\n",
            "200:\tlearn: 0.0967536\ttotal: 2m 5s\tremaining: 8m 17s\n",
            "201:\tlearn: 0.0966900\ttotal: 2m 5s\tremaining: 8m 17s\n",
            "202:\tlearn: 0.0966670\ttotal: 2m 6s\tremaining: 8m 16s\n",
            "203:\tlearn: 0.0966197\ttotal: 2m 7s\tremaining: 8m 15s\n",
            "204:\tlearn: 0.0965058\ttotal: 2m 7s\tremaining: 8m 15s\n",
            "205:\tlearn: 0.0964620\ttotal: 2m 8s\tremaining: 8m 14s\n",
            "206:\tlearn: 0.0963786\ttotal: 2m 8s\tremaining: 8m 13s\n",
            "207:\tlearn: 0.0963514\ttotal: 2m 9s\tremaining: 8m 13s\n",
            "208:\tlearn: 0.0962998\ttotal: 2m 10s\tremaining: 8m 13s\n",
            "209:\tlearn: 0.0962814\ttotal: 2m 10s\tremaining: 8m 12s\n",
            "210:\tlearn: 0.0962263\ttotal: 2m 11s\tremaining: 8m 11s\n",
            "211:\tlearn: 0.0961610\ttotal: 2m 12s\tremaining: 8m 10s\n",
            "212:\tlearn: 0.0961408\ttotal: 2m 12s\tremaining: 8m 10s\n",
            "213:\tlearn: 0.0960757\ttotal: 2m 13s\tremaining: 8m 10s\n",
            "214:\tlearn: 0.0960132\ttotal: 2m 14s\tremaining: 8m 10s\n",
            "215:\tlearn: 0.0959569\ttotal: 2m 14s\tremaining: 8m 9s\n",
            "216:\tlearn: 0.0959181\ttotal: 2m 15s\tremaining: 8m 9s\n",
            "217:\tlearn: 0.0958900\ttotal: 2m 16s\tremaining: 8m 8s\n",
            "218:\tlearn: 0.0958385\ttotal: 2m 16s\tremaining: 8m 8s\n",
            "219:\tlearn: 0.0958109\ttotal: 2m 17s\tremaining: 8m 7s\n",
            "220:\tlearn: 0.0957905\ttotal: 2m 18s\tremaining: 8m 6s\n",
            "221:\tlearn: 0.0957652\ttotal: 2m 18s\tremaining: 8m 6s\n",
            "222:\tlearn: 0.0957461\ttotal: 2m 19s\tremaining: 8m 5s\n",
            "223:\tlearn: 0.0956932\ttotal: 2m 20s\tremaining: 8m 5s\n",
            "224:\tlearn: 0.0956520\ttotal: 2m 20s\tremaining: 8m 5s\n",
            "225:\tlearn: 0.0956059\ttotal: 2m 21s\tremaining: 8m 5s\n",
            "226:\tlearn: 0.0955632\ttotal: 2m 22s\tremaining: 8m 4s\n",
            "227:\tlearn: 0.0955430\ttotal: 2m 22s\tremaining: 8m 3s\n",
            "228:\tlearn: 0.0955007\ttotal: 2m 23s\tremaining: 8m 3s\n",
            "229:\tlearn: 0.0954659\ttotal: 2m 24s\tremaining: 8m 2s\n",
            "230:\tlearn: 0.0954361\ttotal: 2m 24s\tremaining: 8m 1s\n",
            "231:\tlearn: 0.0953824\ttotal: 2m 25s\tremaining: 8m\n",
            "232:\tlearn: 0.0953112\ttotal: 2m 26s\tremaining: 8m\n",
            "233:\tlearn: 0.0952761\ttotal: 2m 26s\tremaining: 7m 59s\n",
            "234:\tlearn: 0.0952512\ttotal: 2m 27s\tremaining: 7m 59s\n",
            "235:\tlearn: 0.0952195\ttotal: 2m 28s\tremaining: 7m 59s\n",
            "236:\tlearn: 0.0951803\ttotal: 2m 28s\tremaining: 7m 58s\n",
            "237:\tlearn: 0.0951521\ttotal: 2m 29s\tremaining: 7m 57s\n",
            "238:\tlearn: 0.0951245\ttotal: 2m 29s\tremaining: 7m 56s\n",
            "239:\tlearn: 0.0950640\ttotal: 2m 30s\tremaining: 7m 56s\n",
            "240:\tlearn: 0.0949683\ttotal: 2m 31s\tremaining: 7m 56s\n",
            "241:\tlearn: 0.0949455\ttotal: 2m 31s\tremaining: 7m 55s\n",
            "242:\tlearn: 0.0949087\ttotal: 2m 32s\tremaining: 7m 54s\n",
            "243:\tlearn: 0.0948612\ttotal: 2m 32s\tremaining: 7m 53s\n",
            "244:\tlearn: 0.0948385\ttotal: 2m 33s\tremaining: 7m 53s\n",
            "245:\tlearn: 0.0948168\ttotal: 2m 34s\tremaining: 7m 52s\n",
            "246:\tlearn: 0.0947911\ttotal: 2m 34s\tremaining: 7m 51s\n",
            "247:\tlearn: 0.0947297\ttotal: 2m 35s\tremaining: 7m 51s\n",
            "248:\tlearn: 0.0947115\ttotal: 2m 36s\tremaining: 7m 50s\n",
            "249:\tlearn: 0.0946896\ttotal: 2m 36s\tremaining: 7m 49s\n",
            "250:\tlearn: 0.0946596\ttotal: 2m 37s\tremaining: 7m 49s\n",
            "251:\tlearn: 0.0946354\ttotal: 2m 37s\tremaining: 7m 48s\n",
            "252:\tlearn: 0.0945736\ttotal: 2m 38s\tremaining: 7m 47s\n",
            "253:\tlearn: 0.0945503\ttotal: 2m 39s\tremaining: 7m 47s\n",
            "254:\tlearn: 0.0944835\ttotal: 2m 39s\tremaining: 7m 47s\n",
            "255:\tlearn: 0.0944630\ttotal: 2m 40s\tremaining: 7m 46s\n",
            "256:\tlearn: 0.0944381\ttotal: 2m 41s\tremaining: 7m 45s\n",
            "257:\tlearn: 0.0944057\ttotal: 2m 41s\tremaining: 7m 44s\n",
            "258:\tlearn: 0.0943869\ttotal: 2m 42s\tremaining: 7m 44s\n",
            "259:\tlearn: 0.0943427\ttotal: 2m 43s\tremaining: 7m 44s\n",
            "260:\tlearn: 0.0943186\ttotal: 2m 43s\tremaining: 7m 43s\n",
            "261:\tlearn: 0.0942873\ttotal: 2m 44s\tremaining: 7m 42s\n",
            "262:\tlearn: 0.0942677\ttotal: 2m 45s\tremaining: 7m 42s\n",
            "263:\tlearn: 0.0942375\ttotal: 2m 45s\tremaining: 7m 41s\n",
            "264:\tlearn: 0.0942045\ttotal: 2m 46s\tremaining: 7m 40s\n",
            "265:\tlearn: 0.0941814\ttotal: 2m 46s\tremaining: 7m 40s\n",
            "266:\tlearn: 0.0941342\ttotal: 2m 47s\tremaining: 7m 40s\n",
            "267:\tlearn: 0.0941023\ttotal: 2m 48s\tremaining: 7m 39s\n",
            "268:\tlearn: 0.0940540\ttotal: 2m 48s\tremaining: 7m 38s\n",
            "269:\tlearn: 0.0940418\ttotal: 2m 49s\tremaining: 7m 37s\n",
            "270:\tlearn: 0.0940049\ttotal: 2m 49s\tremaining: 7m 37s\n",
            "271:\tlearn: 0.0939746\ttotal: 2m 50s\tremaining: 7m 36s\n",
            "272:\tlearn: 0.0939215\ttotal: 2m 51s\tremaining: 7m 36s\n",
            "273:\tlearn: 0.0939037\ttotal: 2m 52s\tremaining: 7m 35s\n",
            "274:\tlearn: 0.0938695\ttotal: 2m 52s\tremaining: 7m 35s\n",
            "275:\tlearn: 0.0938356\ttotal: 2m 53s\tremaining: 7m 34s\n",
            "276:\tlearn: 0.0938070\ttotal: 2m 54s\tremaining: 7m 34s\n",
            "277:\tlearn: 0.0937796\ttotal: 2m 54s\tremaining: 7m 33s\n",
            "278:\tlearn: 0.0937424\ttotal: 2m 55s\tremaining: 7m 33s\n",
            "279:\tlearn: 0.0937014\ttotal: 2m 55s\tremaining: 7m 32s\n",
            "280:\tlearn: 0.0936624\ttotal: 2m 56s\tremaining: 7m 31s\n",
            "281:\tlearn: 0.0936378\ttotal: 2m 57s\tremaining: 7m 31s\n",
            "282:\tlearn: 0.0936203\ttotal: 2m 57s\tremaining: 7m 30s\n",
            "283:\tlearn: 0.0935776\ttotal: 2m 58s\tremaining: 7m 29s\n",
            "284:\tlearn: 0.0935413\ttotal: 2m 58s\tremaining: 7m 28s\n",
            "285:\tlearn: 0.0935236\ttotal: 2m 59s\tremaining: 7m 28s\n",
            "286:\tlearn: 0.0935051\ttotal: 3m\tremaining: 7m 27s\n",
            "287:\tlearn: 0.0934678\ttotal: 3m\tremaining: 7m 26s\n",
            "288:\tlearn: 0.0934194\ttotal: 3m 1s\tremaining: 7m 26s\n",
            "289:\tlearn: 0.0933759\ttotal: 3m 2s\tremaining: 7m 26s\n",
            "290:\tlearn: 0.0933623\ttotal: 3m 2s\tremaining: 7m 25s\n",
            "291:\tlearn: 0.0933262\ttotal: 3m 3s\tremaining: 7m 24s\n",
            "292:\tlearn: 0.0933116\ttotal: 3m 4s\tremaining: 7m 24s\n",
            "293:\tlearn: 0.0932897\ttotal: 3m 4s\tremaining: 7m 23s\n",
            "294:\tlearn: 0.0932591\ttotal: 3m 5s\tremaining: 7m 23s\n",
            "295:\tlearn: 0.0932365\ttotal: 3m 6s\tremaining: 7m 22s\n",
            "296:\tlearn: 0.0932218\ttotal: 3m 6s\tremaining: 7m 22s\n",
            "297:\tlearn: 0.0931934\ttotal: 3m 7s\tremaining: 7m 21s\n",
            "298:\tlearn: 0.0931624\ttotal: 3m 8s\tremaining: 7m 21s\n",
            "299:\tlearn: 0.0931220\ttotal: 3m 8s\tremaining: 7m 20s\n",
            "300:\tlearn: 0.0931026\ttotal: 3m 9s\tremaining: 7m 20s\n",
            "301:\tlearn: 0.0930824\ttotal: 3m 10s\tremaining: 7m 19s\n",
            "302:\tlearn: 0.0930650\ttotal: 3m 10s\tremaining: 7m 18s\n",
            "303:\tlearn: 0.0930312\ttotal: 3m 11s\tremaining: 7m 17s\n",
            "304:\tlearn: 0.0929718\ttotal: 3m 12s\tremaining: 7m 17s\n",
            "305:\tlearn: 0.0929578\ttotal: 3m 12s\tremaining: 7m 16s\n",
            "306:\tlearn: 0.0929150\ttotal: 3m 13s\tremaining: 7m 17s\n",
            "307:\tlearn: 0.0928995\ttotal: 3m 14s\tremaining: 7m 16s\n",
            "308:\tlearn: 0.0928675\ttotal: 3m 14s\tremaining: 7m 15s\n",
            "309:\tlearn: 0.0928169\ttotal: 3m 15s\tremaining: 7m 14s\n",
            "310:\tlearn: 0.0928039\ttotal: 3m 15s\tremaining: 7m 14s\n",
            "311:\tlearn: 0.0927884\ttotal: 3m 16s\tremaining: 7m 13s\n",
            "312:\tlearn: 0.0927453\ttotal: 3m 17s\tremaining: 7m 12s\n",
            "313:\tlearn: 0.0927167\ttotal: 3m 17s\tremaining: 7m 11s\n",
            "314:\tlearn: 0.0926943\ttotal: 3m 18s\tremaining: 7m 11s\n",
            "315:\tlearn: 0.0926824\ttotal: 3m 19s\tremaining: 7m 10s\n",
            "316:\tlearn: 0.0926599\ttotal: 3m 19s\tremaining: 7m 10s\n",
            "317:\tlearn: 0.0926384\ttotal: 3m 20s\tremaining: 7m 9s\n",
            "318:\tlearn: 0.0926013\ttotal: 3m 21s\tremaining: 7m 9s\n",
            "319:\tlearn: 0.0925905\ttotal: 3m 21s\tremaining: 7m 9s\n",
            "320:\tlearn: 0.0925707\ttotal: 3m 22s\tremaining: 7m 8s\n",
            "321:\tlearn: 0.0925196\ttotal: 3m 23s\tremaining: 7m 8s\n",
            "322:\tlearn: 0.0924618\ttotal: 3m 23s\tremaining: 7m 7s\n",
            "323:\tlearn: 0.0924461\ttotal: 3m 24s\tremaining: 7m 7s\n",
            "324:\tlearn: 0.0924351\ttotal: 3m 25s\tremaining: 7m 6s\n",
            "325:\tlearn: 0.0924069\ttotal: 3m 25s\tremaining: 7m 5s\n",
            "326:\tlearn: 0.0923877\ttotal: 3m 26s\tremaining: 7m 5s\n",
            "327:\tlearn: 0.0923791\ttotal: 3m 27s\tremaining: 7m 4s\n",
            "328:\tlearn: 0.0923658\ttotal: 3m 27s\tremaining: 7m 3s\n",
            "329:\tlearn: 0.0923408\ttotal: 3m 28s\tremaining: 7m 3s\n",
            "330:\tlearn: 0.0923200\ttotal: 3m 29s\tremaining: 7m 2s\n",
            "331:\tlearn: 0.0922967\ttotal: 3m 29s\tremaining: 7m 2s\n",
            "332:\tlearn: 0.0922699\ttotal: 3m 30s\tremaining: 7m 1s\n",
            "333:\tlearn: 0.0922471\ttotal: 3m 30s\tremaining: 7m\n",
            "334:\tlearn: 0.0922263\ttotal: 3m 31s\tremaining: 7m\n",
            "335:\tlearn: 0.0922197\ttotal: 3m 32s\tremaining: 6m 59s\n",
            "336:\tlearn: 0.0922007\ttotal: 3m 32s\tremaining: 6m 58s\n",
            "337:\tlearn: 0.0921893\ttotal: 3m 33s\tremaining: 6m 57s\n",
            "338:\tlearn: 0.0921747\ttotal: 3m 33s\tremaining: 6m 57s\n",
            "339:\tlearn: 0.0921243\ttotal: 3m 34s\tremaining: 6m 56s\n",
            "340:\tlearn: 0.0921083\ttotal: 3m 35s\tremaining: 6m 55s\n",
            "341:\tlearn: 0.0920777\ttotal: 3m 35s\tremaining: 6m 55s\n",
            "342:\tlearn: 0.0920635\ttotal: 3m 36s\tremaining: 6m 54s\n",
            "343:\tlearn: 0.0920037\ttotal: 3m 37s\tremaining: 6m 54s\n",
            "344:\tlearn: 0.0919936\ttotal: 3m 37s\tremaining: 6m 53s\n",
            "345:\tlearn: 0.0919808\ttotal: 3m 38s\tremaining: 6m 52s\n",
            "346:\tlearn: 0.0919698\ttotal: 3m 38s\tremaining: 6m 51s\n",
            "347:\tlearn: 0.0919527\ttotal: 3m 39s\tremaining: 6m 51s\n",
            "348:\tlearn: 0.0919359\ttotal: 3m 40s\tremaining: 6m 50s\n",
            "349:\tlearn: 0.0919233\ttotal: 3m 40s\tremaining: 6m 49s\n",
            "350:\tlearn: 0.0919018\ttotal: 3m 41s\tremaining: 6m 49s\n",
            "351:\tlearn: 0.0918845\ttotal: 3m 41s\tremaining: 6m 48s\n",
            "352:\tlearn: 0.0918370\ttotal: 3m 42s\tremaining: 6m 47s\n",
            "353:\tlearn: 0.0918181\ttotal: 3m 43s\tremaining: 6m 47s\n",
            "354:\tlearn: 0.0918072\ttotal: 3m 43s\tremaining: 6m 46s\n",
            "355:\tlearn: 0.0917937\ttotal: 3m 44s\tremaining: 6m 45s\n",
            "356:\tlearn: 0.0917788\ttotal: 3m 45s\tremaining: 6m 45s\n",
            "357:\tlearn: 0.0917637\ttotal: 3m 45s\tremaining: 6m 44s\n",
            "358:\tlearn: 0.0917494\ttotal: 3m 46s\tremaining: 6m 44s\n",
            "359:\tlearn: 0.0917221\ttotal: 3m 47s\tremaining: 6m 43s\n",
            "360:\tlearn: 0.0917081\ttotal: 3m 47s\tremaining: 6m 43s\n",
            "361:\tlearn: 0.0916654\ttotal: 3m 48s\tremaining: 6m 42s\n",
            "362:\tlearn: 0.0916074\ttotal: 3m 49s\tremaining: 6m 42s\n",
            "363:\tlearn: 0.0915956\ttotal: 3m 49s\tremaining: 6m 41s\n",
            "364:\tlearn: 0.0915777\ttotal: 3m 50s\tremaining: 6m 40s\n",
            "365:\tlearn: 0.0915704\ttotal: 3m 50s\tremaining: 6m 40s\n",
            "366:\tlearn: 0.0915579\ttotal: 3m 51s\tremaining: 6m 39s\n",
            "367:\tlearn: 0.0915491\ttotal: 3m 52s\tremaining: 6m 38s\n",
            "368:\tlearn: 0.0915428\ttotal: 3m 53s\tremaining: 6m 38s\n",
            "369:\tlearn: 0.0915290\ttotal: 3m 53s\tremaining: 6m 37s\n",
            "370:\tlearn: 0.0915052\ttotal: 3m 54s\tremaining: 6m 37s\n",
            "371:\tlearn: 0.0914970\ttotal: 3m 54s\tremaining: 6m 36s\n",
            "372:\tlearn: 0.0914931\ttotal: 3m 55s\tremaining: 6m 35s\n",
            "373:\tlearn: 0.0914717\ttotal: 3m 55s\tremaining: 6m 34s\n",
            "374:\tlearn: 0.0914647\ttotal: 3m 56s\tremaining: 6m 34s\n",
            "375:\tlearn: 0.0914561\ttotal: 3m 57s\tremaining: 6m 33s\n",
            "376:\tlearn: 0.0914486\ttotal: 3m 57s\tremaining: 6m 33s\n",
            "377:\tlearn: 0.0914338\ttotal: 3m 58s\tremaining: 6m 32s\n",
            "378:\tlearn: 0.0914155\ttotal: 3m 59s\tremaining: 6m 32s\n",
            "379:\tlearn: 0.0913476\ttotal: 3m 59s\tremaining: 6m 31s\n",
            "380:\tlearn: 0.0913332\ttotal: 4m\tremaining: 6m 30s\n",
            "381:\tlearn: 0.0913221\ttotal: 4m 1s\tremaining: 6m 30s\n",
            "382:\tlearn: 0.0913134\ttotal: 4m 1s\tremaining: 6m 29s\n",
            "383:\tlearn: 0.0913039\ttotal: 4m 2s\tremaining: 6m 28s\n",
            "384:\tlearn: 0.0912734\ttotal: 4m 3s\tremaining: 6m 28s\n",
            "385:\tlearn: 0.0912510\ttotal: 4m 3s\tremaining: 6m 27s\n",
            "386:\tlearn: 0.0912371\ttotal: 4m 4s\tremaining: 6m 26s\n",
            "387:\tlearn: 0.0912168\ttotal: 4m 5s\tremaining: 6m 26s\n",
            "388:\tlearn: 0.0911771\ttotal: 4m 5s\tremaining: 6m 25s\n",
            "389:\tlearn: 0.0911584\ttotal: 4m 6s\tremaining: 6m 25s\n",
            "390:\tlearn: 0.0911426\ttotal: 4m 7s\tremaining: 6m 24s\n",
            "391:\tlearn: 0.0911310\ttotal: 4m 7s\tremaining: 6m 24s\n",
            "392:\tlearn: 0.0911228\ttotal: 4m 8s\tremaining: 6m 23s\n",
            "393:\tlearn: 0.0911051\ttotal: 4m 8s\tremaining: 6m 22s\n",
            "394:\tlearn: 0.0910946\ttotal: 4m 9s\tremaining: 6m 21s\n",
            "395:\tlearn: 0.0910472\ttotal: 4m 9s\tremaining: 6m 21s\n",
            "396:\tlearn: 0.0910239\ttotal: 4m 10s\tremaining: 6m 20s\n",
            "397:\tlearn: 0.0910158\ttotal: 4m 11s\tremaining: 6m 19s\n",
            "398:\tlearn: 0.0910107\ttotal: 4m 11s\tremaining: 6m 19s\n",
            "399:\tlearn: 0.0910012\ttotal: 4m 12s\tremaining: 6m 18s\n",
            "400:\tlearn: 0.0909910\ttotal: 4m 13s\tremaining: 6m 18s\n",
            "401:\tlearn: 0.0909829\ttotal: 4m 13s\tremaining: 6m 17s\n",
            "402:\tlearn: 0.0909726\ttotal: 4m 14s\tremaining: 6m 16s\n",
            "403:\tlearn: 0.0909545\ttotal: 4m 15s\tremaining: 6m 16s\n",
            "404:\tlearn: 0.0909323\ttotal: 4m 15s\tremaining: 6m 15s\n",
            "405:\tlearn: 0.0909142\ttotal: 4m 16s\tremaining: 6m 14s\n",
            "406:\tlearn: 0.0908999\ttotal: 4m 16s\tremaining: 6m 14s\n",
            "407:\tlearn: 0.0908860\ttotal: 4m 17s\tremaining: 6m 13s\n",
            "408:\tlearn: 0.0908720\ttotal: 4m 18s\tremaining: 6m 12s\n",
            "409:\tlearn: 0.0908474\ttotal: 4m 18s\tremaining: 6m 12s\n",
            "410:\tlearn: 0.0908216\ttotal: 4m 19s\tremaining: 6m 11s\n",
            "411:\tlearn: 0.0908055\ttotal: 4m 19s\tremaining: 6m 10s\n",
            "412:\tlearn: 0.0908000\ttotal: 4m 20s\tremaining: 6m 10s\n",
            "413:\tlearn: 0.0907878\ttotal: 4m 21s\tremaining: 6m 9s\n",
            "414:\tlearn: 0.0907755\ttotal: 4m 21s\tremaining: 6m 9s\n",
            "415:\tlearn: 0.0907695\ttotal: 4m 22s\tremaining: 6m 8s\n",
            "416:\tlearn: 0.0907579\ttotal: 4m 22s\tremaining: 6m 7s\n",
            "417:\tlearn: 0.0907304\ttotal: 4m 23s\tremaining: 6m 7s\n",
            "418:\tlearn: 0.0907068\ttotal: 4m 24s\tremaining: 6m 6s\n",
            "419:\tlearn: 0.0906950\ttotal: 4m 24s\tremaining: 6m 5s\n",
            "420:\tlearn: 0.0906857\ttotal: 4m 25s\tremaining: 6m 4s\n",
            "421:\tlearn: 0.0906775\ttotal: 4m 26s\tremaining: 6m 4s\n",
            "422:\tlearn: 0.0906671\ttotal: 4m 26s\tremaining: 6m 4s\n",
            "423:\tlearn: 0.0906550\ttotal: 4m 27s\tremaining: 6m 3s\n",
            "424:\tlearn: 0.0906323\ttotal: 4m 28s\tremaining: 6m 2s\n",
            "425:\tlearn: 0.0906238\ttotal: 4m 28s\tremaining: 6m 2s\n",
            "426:\tlearn: 0.0906121\ttotal: 4m 29s\tremaining: 6m 1s\n",
            "427:\tlearn: 0.0906026\ttotal: 4m 29s\tremaining: 6m\n",
            "428:\tlearn: 0.0905599\ttotal: 4m 30s\tremaining: 6m\n",
            "429:\tlearn: 0.0905474\ttotal: 4m 31s\tremaining: 5m 59s\n",
            "430:\tlearn: 0.0905208\ttotal: 4m 31s\tremaining: 5m 58s\n",
            "431:\tlearn: 0.0905064\ttotal: 4m 32s\tremaining: 5m 58s\n",
            "432:\tlearn: 0.0904942\ttotal: 4m 32s\tremaining: 5m 57s\n",
            "433:\tlearn: 0.0904853\ttotal: 4m 33s\tremaining: 5m 56s\n",
            "434:\tlearn: 0.0904762\ttotal: 4m 34s\tremaining: 5m 56s\n",
            "435:\tlearn: 0.0904683\ttotal: 4m 34s\tremaining: 5m 55s\n",
            "436:\tlearn: 0.0904572\ttotal: 4m 35s\tremaining: 5m 55s\n",
            "437:\tlearn: 0.0904475\ttotal: 4m 36s\tremaining: 5m 54s\n",
            "438:\tlearn: 0.0904352\ttotal: 4m 36s\tremaining: 5m 53s\n",
            "439:\tlearn: 0.0904264\ttotal: 4m 37s\tremaining: 5m 53s\n",
            "440:\tlearn: 0.0904134\ttotal: 4m 38s\tremaining: 5m 52s\n",
            "441:\tlearn: 0.0904046\ttotal: 4m 38s\tremaining: 5m 51s\n",
            "442:\tlearn: 0.0903951\ttotal: 4m 39s\tremaining: 5m 51s\n",
            "443:\tlearn: 0.0903876\ttotal: 4m 39s\tremaining: 5m 50s\n",
            "444:\tlearn: 0.0903778\ttotal: 4m 40s\tremaining: 5m 49s\n",
            "445:\tlearn: 0.0903483\ttotal: 4m 41s\tremaining: 5m 49s\n",
            "446:\tlearn: 0.0903392\ttotal: 4m 41s\tremaining: 5m 48s\n",
            "447:\tlearn: 0.0903366\ttotal: 4m 42s\tremaining: 5m 47s\n",
            "448:\tlearn: 0.0903084\ttotal: 4m 42s\tremaining: 5m 47s\n",
            "449:\tlearn: 0.0902844\ttotal: 4m 43s\tremaining: 5m 46s\n",
            "450:\tlearn: 0.0902597\ttotal: 4m 44s\tremaining: 5m 46s\n",
            "451:\tlearn: 0.0902427\ttotal: 4m 44s\tremaining: 5m 45s\n",
            "452:\tlearn: 0.0902349\ttotal: 4m 45s\tremaining: 5m 44s\n",
            "453:\tlearn: 0.0902139\ttotal: 4m 46s\tremaining: 5m 44s\n",
            "454:\tlearn: 0.0902083\ttotal: 4m 46s\tremaining: 5m 43s\n",
            "455:\tlearn: 0.0901949\ttotal: 4m 47s\tremaining: 5m 42s\n",
            "456:\tlearn: 0.0901832\ttotal: 4m 47s\tremaining: 5m 42s\n",
            "457:\tlearn: 0.0901773\ttotal: 4m 48s\tremaining: 5m 41s\n",
            "458:\tlearn: 0.0901731\ttotal: 4m 49s\tremaining: 5m 40s\n",
            "459:\tlearn: 0.0901609\ttotal: 4m 49s\tremaining: 5m 40s\n",
            "460:\tlearn: 0.0901130\ttotal: 4m 50s\tremaining: 5m 39s\n",
            "461:\tlearn: 0.0900958\ttotal: 4m 50s\tremaining: 5m 38s\n",
            "462:\tlearn: 0.0900829\ttotal: 4m 51s\tremaining: 5m 38s\n",
            "463:\tlearn: 0.0900740\ttotal: 4m 52s\tremaining: 5m 37s\n",
            "464:\tlearn: 0.0900674\ttotal: 4m 52s\tremaining: 5m 36s\n",
            "465:\tlearn: 0.0900582\ttotal: 4m 53s\tremaining: 5m 36s\n",
            "466:\tlearn: 0.0900503\ttotal: 4m 53s\tremaining: 5m 35s\n",
            "467:\tlearn: 0.0900435\ttotal: 4m 54s\tremaining: 5m 34s\n",
            "468:\tlearn: 0.0900365\ttotal: 4m 55s\tremaining: 5m 34s\n",
            "469:\tlearn: 0.0900289\ttotal: 4m 55s\tremaining: 5m 33s\n",
            "470:\tlearn: 0.0900137\ttotal: 4m 56s\tremaining: 5m 33s\n",
            "471:\tlearn: 0.0899845\ttotal: 4m 57s\tremaining: 5m 32s\n",
            "472:\tlearn: 0.0899784\ttotal: 4m 57s\tremaining: 5m 31s\n",
            "473:\tlearn: 0.0899757\ttotal: 4m 58s\tremaining: 5m 31s\n",
            "474:\tlearn: 0.0899651\ttotal: 4m 59s\tremaining: 5m 30s\n",
            "475:\tlearn: 0.0899449\ttotal: 4m 59s\tremaining: 5m 29s\n",
            "476:\tlearn: 0.0899402\ttotal: 5m\tremaining: 5m 29s\n",
            "477:\tlearn: 0.0899100\ttotal: 5m\tremaining: 5m 28s\n",
            "478:\tlearn: 0.0899062\ttotal: 5m 1s\tremaining: 5m 27s\n",
            "479:\tlearn: 0.0898617\ttotal: 5m 2s\tremaining: 5m 27s\n",
            "480:\tlearn: 0.0898491\ttotal: 5m 3s\tremaining: 5m 27s\n",
            "481:\tlearn: 0.0898189\ttotal: 5m 3s\tremaining: 5m 26s\n",
            "482:\tlearn: 0.0898088\ttotal: 5m 4s\tremaining: 5m 25s\n",
            "483:\tlearn: 0.0897995\ttotal: 5m 4s\tremaining: 5m 25s\n",
            "484:\tlearn: 0.0897885\ttotal: 5m 5s\tremaining: 5m 24s\n",
            "485:\tlearn: 0.0897700\ttotal: 5m 6s\tremaining: 5m 23s\n",
            "486:\tlearn: 0.0897422\ttotal: 5m 6s\tremaining: 5m 23s\n",
            "487:\tlearn: 0.0897319\ttotal: 5m 7s\tremaining: 5m 22s\n",
            "488:\tlearn: 0.0897249\ttotal: 5m 8s\tremaining: 5m 21s\n",
            "489:\tlearn: 0.0897187\ttotal: 5m 8s\tremaining: 5m 21s\n",
            "490:\tlearn: 0.0897095\ttotal: 5m 9s\tremaining: 5m 20s\n",
            "491:\tlearn: 0.0896818\ttotal: 5m 9s\tremaining: 5m 19s\n",
            "492:\tlearn: 0.0896689\ttotal: 5m 10s\tremaining: 5m 19s\n",
            "493:\tlearn: 0.0896609\ttotal: 5m 11s\tremaining: 5m 18s\n",
            "494:\tlearn: 0.0896573\ttotal: 5m 11s\tremaining: 5m 18s\n",
            "495:\tlearn: 0.0896428\ttotal: 5m 12s\tremaining: 5m 17s\n",
            "496:\tlearn: 0.0896343\ttotal: 5m 12s\tremaining: 5m 16s\n",
            "497:\tlearn: 0.0896084\ttotal: 5m 13s\tremaining: 5m 16s\n",
            "498:\tlearn: 0.0895789\ttotal: 5m 14s\tremaining: 5m 15s\n",
            "499:\tlearn: 0.0895627\ttotal: 5m 14s\tremaining: 5m 14s\n",
            "500:\tlearn: 0.0895551\ttotal: 5m 15s\tremaining: 5m 14s\n",
            "501:\tlearn: 0.0895458\ttotal: 5m 15s\tremaining: 5m 13s\n",
            "502:\tlearn: 0.0895397\ttotal: 5m 16s\tremaining: 5m 12s\n",
            "503:\tlearn: 0.0895070\ttotal: 5m 17s\tremaining: 5m 12s\n",
            "504:\tlearn: 0.0894996\ttotal: 5m 17s\tremaining: 5m 11s\n",
            "505:\tlearn: 0.0894899\ttotal: 5m 18s\tremaining: 5m 10s\n",
            "506:\tlearn: 0.0894837\ttotal: 5m 18s\tremaining: 5m 10s\n",
            "507:\tlearn: 0.0894473\ttotal: 5m 19s\tremaining: 5m 9s\n",
            "508:\tlearn: 0.0894370\ttotal: 5m 20s\tremaining: 5m 8s\n",
            "509:\tlearn: 0.0894326\ttotal: 5m 20s\tremaining: 5m 8s\n",
            "510:\tlearn: 0.0894133\ttotal: 5m 21s\tremaining: 5m 7s\n",
            "511:\tlearn: 0.0893817\ttotal: 5m 21s\tremaining: 5m 6s\n",
            "512:\tlearn: 0.0893775\ttotal: 5m 22s\tremaining: 5m 6s\n",
            "513:\tlearn: 0.0893692\ttotal: 5m 23s\tremaining: 5m 5s\n",
            "514:\tlearn: 0.0893651\ttotal: 5m 23s\tremaining: 5m 4s\n",
            "515:\tlearn: 0.0893497\ttotal: 5m 24s\tremaining: 5m 4s\n",
            "516:\tlearn: 0.0893431\ttotal: 5m 24s\tremaining: 5m 3s\n",
            "517:\tlearn: 0.0893197\ttotal: 5m 25s\tremaining: 5m 2s\n",
            "518:\tlearn: 0.0893144\ttotal: 5m 26s\tremaining: 5m 2s\n",
            "519:\tlearn: 0.0893111\ttotal: 5m 26s\tremaining: 5m 1s\n",
            "520:\tlearn: 0.0892865\ttotal: 5m 27s\tremaining: 5m\n",
            "521:\tlearn: 0.0892616\ttotal: 5m 27s\tremaining: 5m\n",
            "522:\tlearn: 0.0892571\ttotal: 5m 28s\tremaining: 4m 59s\n",
            "523:\tlearn: 0.0892291\ttotal: 5m 29s\tremaining: 4m 58s\n",
            "524:\tlearn: 0.0892252\ttotal: 5m 29s\tremaining: 4m 58s\n",
            "525:\tlearn: 0.0892120\ttotal: 5m 30s\tremaining: 4m 57s\n",
            "526:\tlearn: 0.0892075\ttotal: 5m 30s\tremaining: 4m 56s\n",
            "527:\tlearn: 0.0892018\ttotal: 5m 31s\tremaining: 4m 56s\n",
            "528:\tlearn: 0.0891884\ttotal: 5m 32s\tremaining: 4m 55s\n",
            "529:\tlearn: 0.0891819\ttotal: 5m 32s\tremaining: 4m 55s\n",
            "530:\tlearn: 0.0891793\ttotal: 5m 33s\tremaining: 4m 54s\n",
            "531:\tlearn: 0.0891422\ttotal: 5m 34s\tremaining: 4m 53s\n",
            "532:\tlearn: 0.0891282\ttotal: 5m 34s\tremaining: 4m 53s\n",
            "533:\tlearn: 0.0891266\ttotal: 5m 35s\tremaining: 4m 52s\n",
            "534:\tlearn: 0.0891196\ttotal: 5m 35s\tremaining: 4m 51s\n",
            "535:\tlearn: 0.0890824\ttotal: 5m 36s\tremaining: 4m 51s\n",
            "536:\tlearn: 0.0890800\ttotal: 5m 37s\tremaining: 4m 50s\n",
            "537:\tlearn: 0.0890651\ttotal: 5m 37s\tremaining: 4m 49s\n",
            "538:\tlearn: 0.0890571\ttotal: 5m 38s\tremaining: 4m 49s\n",
            "539:\tlearn: 0.0890298\ttotal: 5m 38s\tremaining: 4m 48s\n",
            "540:\tlearn: 0.0890263\ttotal: 5m 39s\tremaining: 4m 48s\n",
            "541:\tlearn: 0.0889762\ttotal: 5m 40s\tremaining: 4m 47s\n",
            "542:\tlearn: 0.0889642\ttotal: 5m 40s\tremaining: 4m 46s\n",
            "543:\tlearn: 0.0889545\ttotal: 5m 41s\tremaining: 4m 46s\n",
            "544:\tlearn: 0.0889426\ttotal: 5m 42s\tremaining: 4m 45s\n",
            "545:\tlearn: 0.0889241\ttotal: 5m 42s\tremaining: 4m 45s\n",
            "546:\tlearn: 0.0889128\ttotal: 5m 43s\tremaining: 4m 44s\n",
            "547:\tlearn: 0.0889027\ttotal: 5m 44s\tremaining: 4m 43s\n",
            "548:\tlearn: 0.0888946\ttotal: 5m 44s\tremaining: 4m 43s\n",
            "549:\tlearn: 0.0888864\ttotal: 5m 45s\tremaining: 4m 42s\n",
            "550:\tlearn: 0.0888816\ttotal: 5m 46s\tremaining: 4m 42s\n",
            "551:\tlearn: 0.0888657\ttotal: 5m 46s\tremaining: 4m 41s\n",
            "552:\tlearn: 0.0888645\ttotal: 5m 47s\tremaining: 4m 40s\n",
            "553:\tlearn: 0.0888474\ttotal: 5m 47s\tremaining: 4m 40s\n",
            "554:\tlearn: 0.0888344\ttotal: 5m 48s\tremaining: 4m 39s\n",
            "555:\tlearn: 0.0887969\ttotal: 5m 49s\tremaining: 4m 38s\n",
            "556:\tlearn: 0.0887850\ttotal: 5m 49s\tremaining: 4m 38s\n",
            "557:\tlearn: 0.0887503\ttotal: 5m 50s\tremaining: 4m 37s\n",
            "558:\tlearn: 0.0887356\ttotal: 5m 50s\tremaining: 4m 36s\n",
            "559:\tlearn: 0.0887271\ttotal: 5m 51s\tremaining: 4m 36s\n",
            "560:\tlearn: 0.0887216\ttotal: 5m 52s\tremaining: 4m 35s\n",
            "561:\tlearn: 0.0887160\ttotal: 5m 52s\tremaining: 4m 34s\n",
            "562:\tlearn: 0.0887097\ttotal: 5m 53s\tremaining: 4m 34s\n",
            "563:\tlearn: 0.0887007\ttotal: 5m 53s\tremaining: 4m 33s\n",
            "564:\tlearn: 0.0886893\ttotal: 5m 54s\tremaining: 4m 32s\n",
            "565:\tlearn: 0.0886878\ttotal: 5m 55s\tremaining: 4m 32s\n",
            "566:\tlearn: 0.0886656\ttotal: 5m 55s\tremaining: 4m 31s\n",
            "567:\tlearn: 0.0886526\ttotal: 5m 56s\tremaining: 4m 31s\n",
            "568:\tlearn: 0.0886350\ttotal: 5m 57s\tremaining: 4m 30s\n",
            "569:\tlearn: 0.0886264\ttotal: 5m 57s\tremaining: 4m 29s\n",
            "570:\tlearn: 0.0886153\ttotal: 5m 58s\tremaining: 4m 29s\n",
            "571:\tlearn: 0.0885795\ttotal: 5m 59s\tremaining: 4m 28s\n",
            "572:\tlearn: 0.0885754\ttotal: 5m 59s\tremaining: 4m 28s\n",
            "573:\tlearn: 0.0885650\ttotal: 6m\tremaining: 4m 27s\n",
            "574:\tlearn: 0.0885478\ttotal: 6m\tremaining: 4m 26s\n",
            "575:\tlearn: 0.0885384\ttotal: 6m 1s\tremaining: 4m 26s\n",
            "576:\tlearn: 0.0885316\ttotal: 6m 2s\tremaining: 4m 25s\n",
            "577:\tlearn: 0.0885265\ttotal: 6m 2s\tremaining: 4m 24s\n",
            "578:\tlearn: 0.0885151\ttotal: 6m 3s\tremaining: 4m 24s\n",
            "579:\tlearn: 0.0885005\ttotal: 6m 4s\tremaining: 4m 23s\n",
            "580:\tlearn: 0.0884847\ttotal: 6m 4s\tremaining: 4m 23s\n",
            "581:\tlearn: 0.0884729\ttotal: 6m 5s\tremaining: 4m 22s\n",
            "582:\tlearn: 0.0884682\ttotal: 6m 5s\tremaining: 4m 21s\n",
            "583:\tlearn: 0.0884580\ttotal: 6m 6s\tremaining: 4m 21s\n",
            "584:\tlearn: 0.0884508\ttotal: 6m 7s\tremaining: 4m 20s\n",
            "585:\tlearn: 0.0884379\ttotal: 6m 7s\tremaining: 4m 19s\n",
            "586:\tlearn: 0.0884236\ttotal: 6m 8s\tremaining: 4m 19s\n",
            "587:\tlearn: 0.0884109\ttotal: 6m 8s\tremaining: 4m 18s\n",
            "588:\tlearn: 0.0884008\ttotal: 6m 9s\tremaining: 4m 17s\n",
            "589:\tlearn: 0.0883828\ttotal: 6m 10s\tremaining: 4m 17s\n",
            "590:\tlearn: 0.0883701\ttotal: 6m 10s\tremaining: 4m 16s\n",
            "591:\tlearn: 0.0883582\ttotal: 6m 11s\tremaining: 4m 15s\n",
            "592:\tlearn: 0.0883512\ttotal: 6m 12s\tremaining: 4m 15s\n",
            "593:\tlearn: 0.0883379\ttotal: 6m 12s\tremaining: 4m 14s\n",
            "594:\tlearn: 0.0883306\ttotal: 6m 13s\tremaining: 4m 14s\n",
            "595:\tlearn: 0.0883280\ttotal: 6m 14s\tremaining: 4m 13s\n",
            "596:\tlearn: 0.0883097\ttotal: 6m 14s\tremaining: 4m 12s\n",
            "597:\tlearn: 0.0882829\ttotal: 6m 15s\tremaining: 4m 12s\n",
            "598:\tlearn: 0.0882760\ttotal: 6m 15s\tremaining: 4m 11s\n",
            "599:\tlearn: 0.0882702\ttotal: 6m 16s\tremaining: 4m 11s\n",
            "600:\tlearn: 0.0882557\ttotal: 6m 17s\tremaining: 4m 10s\n",
            "601:\tlearn: 0.0882507\ttotal: 6m 17s\tremaining: 4m 9s\n",
            "602:\tlearn: 0.0882259\ttotal: 6m 18s\tremaining: 4m 9s\n",
            "603:\tlearn: 0.0882173\ttotal: 6m 19s\tremaining: 4m 8s\n",
            "604:\tlearn: 0.0882010\ttotal: 6m 19s\tremaining: 4m 7s\n",
            "605:\tlearn: 0.0881962\ttotal: 6m 20s\tremaining: 4m 7s\n",
            "606:\tlearn: 0.0881886\ttotal: 6m 20s\tremaining: 4m 6s\n",
            "607:\tlearn: 0.0881819\ttotal: 6m 21s\tremaining: 4m 6s\n",
            "608:\tlearn: 0.0881692\ttotal: 6m 22s\tremaining: 4m 5s\n",
            "609:\tlearn: 0.0881573\ttotal: 6m 23s\tremaining: 4m 5s\n",
            "610:\tlearn: 0.0881507\ttotal: 6m 23s\tremaining: 4m 4s\n",
            "611:\tlearn: 0.0881495\ttotal: 6m 24s\tremaining: 4m 3s\n",
            "612:\tlearn: 0.0881399\ttotal: 6m 25s\tremaining: 4m 3s\n",
            "613:\tlearn: 0.0881338\ttotal: 6m 25s\tremaining: 4m 2s\n",
            "614:\tlearn: 0.0881266\ttotal: 6m 26s\tremaining: 4m 1s\n",
            "615:\tlearn: 0.0881239\ttotal: 6m 26s\tremaining: 4m 1s\n",
            "616:\tlearn: 0.0881170\ttotal: 6m 27s\tremaining: 4m\n",
            "617:\tlearn: 0.0881102\ttotal: 6m 28s\tremaining: 3m 59s\n",
            "618:\tlearn: 0.0881047\ttotal: 6m 28s\tremaining: 3m 59s\n",
            "619:\tlearn: 0.0880945\ttotal: 6m 29s\tremaining: 3m 58s\n",
            "620:\tlearn: 0.0880919\ttotal: 6m 30s\tremaining: 3m 58s\n",
            "621:\tlearn: 0.0880847\ttotal: 6m 30s\tremaining: 3m 57s\n",
            "622:\tlearn: 0.0880736\ttotal: 6m 31s\tremaining: 3m 56s\n",
            "623:\tlearn: 0.0880585\ttotal: 6m 32s\tremaining: 3m 56s\n",
            "624:\tlearn: 0.0880510\ttotal: 6m 32s\tremaining: 3m 55s\n",
            "625:\tlearn: 0.0880328\ttotal: 6m 33s\tremaining: 3m 55s\n",
            "626:\tlearn: 0.0880275\ttotal: 6m 34s\tremaining: 3m 54s\n",
            "627:\tlearn: 0.0880231\ttotal: 6m 34s\tremaining: 3m 53s\n",
            "628:\tlearn: 0.0880202\ttotal: 6m 35s\tremaining: 3m 53s\n",
            "629:\tlearn: 0.0880071\ttotal: 6m 36s\tremaining: 3m 52s\n",
            "630:\tlearn: 0.0880004\ttotal: 6m 36s\tremaining: 3m 52s\n",
            "631:\tlearn: 0.0879817\ttotal: 6m 37s\tremaining: 3m 51s\n",
            "632:\tlearn: 0.0879470\ttotal: 6m 37s\tremaining: 3m 50s\n",
            "633:\tlearn: 0.0879317\ttotal: 6m 38s\tremaining: 3m 50s\n",
            "634:\tlearn: 0.0879270\ttotal: 6m 39s\tremaining: 3m 49s\n",
            "635:\tlearn: 0.0878991\ttotal: 6m 39s\tremaining: 3m 48s\n",
            "636:\tlearn: 0.0878947\ttotal: 6m 40s\tremaining: 3m 48s\n",
            "637:\tlearn: 0.0878716\ttotal: 6m 40s\tremaining: 3m 47s\n",
            "638:\tlearn: 0.0878621\ttotal: 6m 41s\tremaining: 3m 46s\n",
            "639:\tlearn: 0.0878486\ttotal: 6m 42s\tremaining: 3m 46s\n",
            "640:\tlearn: 0.0878446\ttotal: 6m 42s\tremaining: 3m 45s\n",
            "641:\tlearn: 0.0878371\ttotal: 6m 43s\tremaining: 3m 45s\n",
            "642:\tlearn: 0.0878330\ttotal: 6m 44s\tremaining: 3m 44s\n",
            "643:\tlearn: 0.0878166\ttotal: 6m 44s\tremaining: 3m 43s\n",
            "644:\tlearn: 0.0878149\ttotal: 6m 45s\tremaining: 3m 43s\n",
            "645:\tlearn: 0.0878106\ttotal: 6m 46s\tremaining: 3m 42s\n",
            "646:\tlearn: 0.0878060\ttotal: 6m 46s\tremaining: 3m 41s\n",
            "647:\tlearn: 0.0878003\ttotal: 6m 47s\tremaining: 3m 41s\n",
            "648:\tlearn: 0.0877988\ttotal: 6m 47s\tremaining: 3m 40s\n",
            "649:\tlearn: 0.0877894\ttotal: 6m 48s\tremaining: 3m 39s\n",
            "650:\tlearn: 0.0877685\ttotal: 6m 49s\tremaining: 3m 39s\n",
            "651:\tlearn: 0.0877567\ttotal: 6m 49s\tremaining: 3m 38s\n",
            "652:\tlearn: 0.0877516\ttotal: 6m 50s\tremaining: 3m 38s\n",
            "653:\tlearn: 0.0877254\ttotal: 6m 50s\tremaining: 3m 37s\n",
            "654:\tlearn: 0.0877244\ttotal: 6m 51s\tremaining: 3m 36s\n",
            "655:\tlearn: 0.0877205\ttotal: 6m 52s\tremaining: 3m 36s\n",
            "656:\tlearn: 0.0876919\ttotal: 6m 52s\tremaining: 3m 35s\n",
            "657:\tlearn: 0.0876659\ttotal: 6m 53s\tremaining: 3m 34s\n",
            "658:\tlearn: 0.0876508\ttotal: 6m 54s\tremaining: 3m 34s\n",
            "659:\tlearn: 0.0876470\ttotal: 6m 54s\tremaining: 3m 33s\n",
            "660:\tlearn: 0.0876394\ttotal: 6m 55s\tremaining: 3m 33s\n",
            "661:\tlearn: 0.0876329\ttotal: 6m 56s\tremaining: 3m 32s\n",
            "662:\tlearn: 0.0876282\ttotal: 6m 56s\tremaining: 3m 31s\n",
            "663:\tlearn: 0.0876192\ttotal: 6m 57s\tremaining: 3m 31s\n",
            "664:\tlearn: 0.0876133\ttotal: 6m 57s\tremaining: 3m 30s\n",
            "665:\tlearn: 0.0876098\ttotal: 6m 58s\tremaining: 3m 29s\n",
            "666:\tlearn: 0.0876025\ttotal: 6m 58s\tremaining: 3m 29s\n",
            "667:\tlearn: 0.0875719\ttotal: 6m 59s\tremaining: 3m 28s\n",
            "668:\tlearn: 0.0875641\ttotal: 7m\tremaining: 3m 27s\n",
            "669:\tlearn: 0.0875567\ttotal: 7m\tremaining: 3m 27s\n",
            "670:\tlearn: 0.0875439\ttotal: 7m 1s\tremaining: 3m 26s\n",
            "671:\tlearn: 0.0875298\ttotal: 7m 2s\tremaining: 3m 26s\n",
            "672:\tlearn: 0.0875256\ttotal: 7m 2s\tremaining: 3m 25s\n",
            "673:\tlearn: 0.0875179\ttotal: 7m 3s\tremaining: 3m 24s\n",
            "674:\tlearn: 0.0875138\ttotal: 7m 4s\tremaining: 3m 24s\n",
            "675:\tlearn: 0.0875030\ttotal: 7m 4s\tremaining: 3m 23s\n",
            "676:\tlearn: 0.0874820\ttotal: 7m 5s\tremaining: 3m 22s\n",
            "677:\tlearn: 0.0874681\ttotal: 7m 5s\tremaining: 3m 22s\n",
            "678:\tlearn: 0.0874631\ttotal: 7m 6s\tremaining: 3m 21s\n",
            "679:\tlearn: 0.0874613\ttotal: 7m 7s\tremaining: 3m 20s\n",
            "680:\tlearn: 0.0874568\ttotal: 7m 7s\tremaining: 3m 20s\n",
            "681:\tlearn: 0.0874456\ttotal: 7m 8s\tremaining: 3m 19s\n",
            "682:\tlearn: 0.0874405\ttotal: 7m 8s\tremaining: 3m 19s\n",
            "683:\tlearn: 0.0874325\ttotal: 7m 9s\tremaining: 3m 18s\n",
            "684:\tlearn: 0.0874258\ttotal: 7m 10s\tremaining: 3m 17s\n",
            "685:\tlearn: 0.0874154\ttotal: 7m 10s\tremaining: 3m 17s\n",
            "686:\tlearn: 0.0874045\ttotal: 7m 11s\tremaining: 3m 16s\n",
            "687:\tlearn: 0.0873961\ttotal: 7m 11s\tremaining: 3m 15s\n",
            "688:\tlearn: 0.0873892\ttotal: 7m 12s\tremaining: 3m 15s\n",
            "689:\tlearn: 0.0873859\ttotal: 7m 13s\tremaining: 3m 14s\n",
            "690:\tlearn: 0.0873827\ttotal: 7m 13s\tremaining: 3m 13s\n",
            "691:\tlearn: 0.0873801\ttotal: 7m 14s\tremaining: 3m 13s\n",
            "692:\tlearn: 0.0873764\ttotal: 7m 14s\tremaining: 3m 12s\n",
            "693:\tlearn: 0.0873726\ttotal: 7m 15s\tremaining: 3m 12s\n",
            "694:\tlearn: 0.0873656\ttotal: 7m 16s\tremaining: 3m 11s\n",
            "695:\tlearn: 0.0873561\ttotal: 7m 16s\tremaining: 3m 10s\n",
            "696:\tlearn: 0.0873476\ttotal: 7m 17s\tremaining: 3m 10s\n",
            "697:\tlearn: 0.0873432\ttotal: 7m 17s\tremaining: 3m 9s\n",
            "698:\tlearn: 0.0873416\ttotal: 7m 18s\tremaining: 3m 8s\n",
            "699:\tlearn: 0.0873371\ttotal: 7m 19s\tremaining: 3m 8s\n",
            "700:\tlearn: 0.0873239\ttotal: 7m 19s\tremaining: 3m 7s\n",
            "701:\tlearn: 0.0873209\ttotal: 7m 20s\tremaining: 3m 6s\n",
            "702:\tlearn: 0.0873187\ttotal: 7m 21s\tremaining: 3m 6s\n",
            "703:\tlearn: 0.0873116\ttotal: 7m 21s\tremaining: 3m 5s\n",
            "704:\tlearn: 0.0873018\ttotal: 7m 22s\tremaining: 3m 5s\n",
            "705:\tlearn: 0.0872772\ttotal: 7m 23s\tremaining: 3m 4s\n",
            "706:\tlearn: 0.0872618\ttotal: 7m 23s\tremaining: 3m 3s\n",
            "707:\tlearn: 0.0872561\ttotal: 7m 24s\tremaining: 3m 3s\n",
            "708:\tlearn: 0.0872516\ttotal: 7m 25s\tremaining: 3m 2s\n",
            "709:\tlearn: 0.0872485\ttotal: 7m 25s\tremaining: 3m 2s\n",
            "710:\tlearn: 0.0872469\ttotal: 7m 26s\tremaining: 3m 1s\n",
            "711:\tlearn: 0.0872429\ttotal: 7m 27s\tremaining: 3m\n",
            "712:\tlearn: 0.0872220\ttotal: 7m 27s\tremaining: 3m\n",
            "713:\tlearn: 0.0872143\ttotal: 7m 28s\tremaining: 2m 59s\n",
            "714:\tlearn: 0.0872100\ttotal: 7m 29s\tremaining: 2m 58s\n",
            "715:\tlearn: 0.0872069\ttotal: 7m 29s\tremaining: 2m 58s\n",
            "716:\tlearn: 0.0872030\ttotal: 7m 30s\tremaining: 2m 57s\n",
            "717:\tlearn: 0.0871994\ttotal: 7m 30s\tremaining: 2m 57s\n",
            "718:\tlearn: 0.0871939\ttotal: 7m 31s\tremaining: 2m 56s\n",
            "719:\tlearn: 0.0871895\ttotal: 7m 32s\tremaining: 2m 55s\n",
            "720:\tlearn: 0.0871851\ttotal: 7m 32s\tremaining: 2m 55s\n",
            "721:\tlearn: 0.0871717\ttotal: 7m 33s\tremaining: 2m 54s\n",
            "722:\tlearn: 0.0871558\ttotal: 7m 34s\tremaining: 2m 54s\n",
            "723:\tlearn: 0.0871526\ttotal: 7m 34s\tremaining: 2m 53s\n",
            "724:\tlearn: 0.0871445\ttotal: 7m 35s\tremaining: 2m 52s\n",
            "725:\tlearn: 0.0871380\ttotal: 7m 36s\tremaining: 2m 52s\n",
            "726:\tlearn: 0.0871363\ttotal: 7m 36s\tremaining: 2m 51s\n",
            "727:\tlearn: 0.0871361\ttotal: 7m 37s\tremaining: 2m 50s\n",
            "728:\tlearn: 0.0871308\ttotal: 7m 37s\tremaining: 2m 50s\n",
            "729:\tlearn: 0.0871288\ttotal: 7m 38s\tremaining: 2m 49s\n",
            "730:\tlearn: 0.0871052\ttotal: 7m 39s\tremaining: 2m 48s\n",
            "731:\tlearn: 0.0871025\ttotal: 7m 39s\tremaining: 2m 48s\n",
            "732:\tlearn: 0.0870995\ttotal: 7m 40s\tremaining: 2m 47s\n",
            "733:\tlearn: 0.0870931\ttotal: 7m 40s\tremaining: 2m 47s\n",
            "734:\tlearn: 0.0870881\ttotal: 7m 41s\tremaining: 2m 46s\n",
            "735:\tlearn: 0.0870823\ttotal: 7m 42s\tremaining: 2m 45s\n",
            "736:\tlearn: 0.0870676\ttotal: 7m 42s\tremaining: 2m 45s\n",
            "737:\tlearn: 0.0870631\ttotal: 7m 43s\tremaining: 2m 44s\n",
            "738:\tlearn: 0.0870598\ttotal: 7m 44s\tremaining: 2m 43s\n",
            "739:\tlearn: 0.0870576\ttotal: 7m 44s\tremaining: 2m 43s\n",
            "740:\tlearn: 0.0870462\ttotal: 7m 45s\tremaining: 2m 42s\n",
            "741:\tlearn: 0.0870432\ttotal: 7m 45s\tremaining: 2m 41s\n",
            "742:\tlearn: 0.0870400\ttotal: 7m 46s\tremaining: 2m 41s\n",
            "743:\tlearn: 0.0870316\ttotal: 7m 47s\tremaining: 2m 40s\n",
            "744:\tlearn: 0.0870065\ttotal: 7m 47s\tremaining: 2m 40s\n",
            "745:\tlearn: 0.0870024\ttotal: 7m 48s\tremaining: 2m 39s\n",
            "746:\tlearn: 0.0869916\ttotal: 7m 48s\tremaining: 2m 38s\n",
            "747:\tlearn: 0.0869789\ttotal: 7m 49s\tremaining: 2m 38s\n",
            "748:\tlearn: 0.0869514\ttotal: 7m 50s\tremaining: 2m 37s\n",
            "749:\tlearn: 0.0869404\ttotal: 7m 50s\tremaining: 2m 36s\n",
            "750:\tlearn: 0.0869277\ttotal: 7m 51s\tremaining: 2m 36s\n",
            "751:\tlearn: 0.0869223\ttotal: 7m 51s\tremaining: 2m 35s\n",
            "752:\tlearn: 0.0869207\ttotal: 7m 52s\tremaining: 2m 35s\n",
            "753:\tlearn: 0.0869175\ttotal: 7m 53s\tremaining: 2m 34s\n",
            "754:\tlearn: 0.0869060\ttotal: 7m 53s\tremaining: 2m 33s\n",
            "755:\tlearn: 0.0868870\ttotal: 7m 54s\tremaining: 2m 33s\n",
            "756:\tlearn: 0.0868820\ttotal: 7m 55s\tremaining: 2m 32s\n",
            "757:\tlearn: 0.0868754\ttotal: 7m 55s\tremaining: 2m 31s\n",
            "758:\tlearn: 0.0868425\ttotal: 7m 56s\tremaining: 2m 31s\n",
            "759:\tlearn: 0.0868337\ttotal: 7m 56s\tremaining: 2m 30s\n",
            "760:\tlearn: 0.0868242\ttotal: 7m 57s\tremaining: 2m 30s\n",
            "761:\tlearn: 0.0867793\ttotal: 7m 58s\tremaining: 2m 29s\n",
            "762:\tlearn: 0.0867776\ttotal: 7m 58s\tremaining: 2m 28s\n",
            "763:\tlearn: 0.0867750\ttotal: 7m 59s\tremaining: 2m 28s\n",
            "764:\tlearn: 0.0867713\ttotal: 7m 59s\tremaining: 2m 27s\n",
            "765:\tlearn: 0.0867692\ttotal: 8m\tremaining: 2m 26s\n",
            "766:\tlearn: 0.0867663\ttotal: 8m 1s\tremaining: 2m 26s\n",
            "767:\tlearn: 0.0867597\ttotal: 8m 1s\tremaining: 2m 25s\n",
            "768:\tlearn: 0.0867493\ttotal: 8m 2s\tremaining: 2m 24s\n",
            "769:\tlearn: 0.0867478\ttotal: 8m 3s\tremaining: 2m 24s\n",
            "770:\tlearn: 0.0867427\ttotal: 8m 3s\tremaining: 2m 23s\n",
            "771:\tlearn: 0.0867202\ttotal: 8m 4s\tremaining: 2m 23s\n",
            "772:\tlearn: 0.0867187\ttotal: 8m 5s\tremaining: 2m 22s\n",
            "773:\tlearn: 0.0867166\ttotal: 8m 6s\tremaining: 2m 21s\n",
            "774:\tlearn: 0.0867122\ttotal: 8m 6s\tremaining: 2m 21s\n",
            "775:\tlearn: 0.0867074\ttotal: 8m 7s\tremaining: 2m 20s\n",
            "776:\tlearn: 0.0867059\ttotal: 8m 8s\tremaining: 2m 20s\n",
            "777:\tlearn: 0.0867033\ttotal: 8m 8s\tremaining: 2m 19s\n",
            "778:\tlearn: 0.0866911\ttotal: 8m 9s\tremaining: 2m 18s\n",
            "779:\tlearn: 0.0866783\ttotal: 8m 9s\tremaining: 2m 18s\n",
            "780:\tlearn: 0.0866714\ttotal: 8m 10s\tremaining: 2m 17s\n",
            "781:\tlearn: 0.0866601\ttotal: 8m 11s\tremaining: 2m 16s\n",
            "782:\tlearn: 0.0866517\ttotal: 8m 11s\tremaining: 2m 16s\n",
            "783:\tlearn: 0.0866473\ttotal: 8m 12s\tremaining: 2m 15s\n",
            "784:\tlearn: 0.0866439\ttotal: 8m 12s\tremaining: 2m 15s\n",
            "785:\tlearn: 0.0866400\ttotal: 8m 13s\tremaining: 2m 14s\n",
            "786:\tlearn: 0.0866370\ttotal: 8m 14s\tremaining: 2m 13s\n",
            "787:\tlearn: 0.0866326\ttotal: 8m 14s\tremaining: 2m 13s\n",
            "788:\tlearn: 0.0866235\ttotal: 8m 15s\tremaining: 2m 12s\n",
            "789:\tlearn: 0.0866166\ttotal: 8m 15s\tremaining: 2m 11s\n",
            "790:\tlearn: 0.0866145\ttotal: 8m 16s\tremaining: 2m 11s\n",
            "791:\tlearn: 0.0866036\ttotal: 8m 17s\tremaining: 2m 10s\n",
            "792:\tlearn: 0.0865841\ttotal: 8m 17s\tremaining: 2m 9s\n",
            "793:\tlearn: 0.0865814\ttotal: 8m 18s\tremaining: 2m 9s\n",
            "794:\tlearn: 0.0865751\ttotal: 8m 19s\tremaining: 2m 8s\n",
            "795:\tlearn: 0.0865716\ttotal: 8m 19s\tremaining: 2m 8s\n",
            "796:\tlearn: 0.0865530\ttotal: 8m 20s\tremaining: 2m 7s\n",
            "797:\tlearn: 0.0865186\ttotal: 8m 21s\tremaining: 2m 6s\n",
            "798:\tlearn: 0.0865014\ttotal: 8m 21s\tremaining: 2m 6s\n",
            "799:\tlearn: 0.0864935\ttotal: 8m 22s\tremaining: 2m 5s\n",
            "800:\tlearn: 0.0864897\ttotal: 8m 22s\tremaining: 2m 4s\n",
            "801:\tlearn: 0.0864853\ttotal: 8m 23s\tremaining: 2m 4s\n",
            "802:\tlearn: 0.0864819\ttotal: 8m 24s\tremaining: 2m 3s\n",
            "803:\tlearn: 0.0864803\ttotal: 8m 24s\tremaining: 2m 3s\n",
            "804:\tlearn: 0.0864776\ttotal: 8m 25s\tremaining: 2m 2s\n",
            "805:\tlearn: 0.0864708\ttotal: 8m 26s\tremaining: 2m 1s\n",
            "806:\tlearn: 0.0864693\ttotal: 8m 26s\tremaining: 2m 1s\n",
            "807:\tlearn: 0.0864626\ttotal: 8m 27s\tremaining: 2m\n",
            "808:\tlearn: 0.0864580\ttotal: 8m 28s\tremaining: 1m 59s\n",
            "809:\tlearn: 0.0864486\ttotal: 8m 28s\tremaining: 1m 59s\n",
            "810:\tlearn: 0.0864430\ttotal: 8m 29s\tremaining: 1m 58s\n",
            "811:\tlearn: 0.0864388\ttotal: 8m 29s\tremaining: 1m 58s\n",
            "812:\tlearn: 0.0864313\ttotal: 8m 30s\tremaining: 1m 57s\n",
            "813:\tlearn: 0.0864117\ttotal: 8m 30s\tremaining: 1m 56s\n",
            "814:\tlearn: 0.0864050\ttotal: 8m 31s\tremaining: 1m 56s\n",
            "815:\tlearn: 0.0863986\ttotal: 8m 32s\tremaining: 1m 55s\n",
            "816:\tlearn: 0.0863872\ttotal: 8m 32s\tremaining: 1m 54s\n",
            "817:\tlearn: 0.0863789\ttotal: 8m 33s\tremaining: 1m 54s\n",
            "818:\tlearn: 0.0863705\ttotal: 8m 33s\tremaining: 1m 53s\n",
            "819:\tlearn: 0.0863633\ttotal: 8m 34s\tremaining: 1m 52s\n",
            "820:\tlearn: 0.0863597\ttotal: 8m 35s\tremaining: 1m 52s\n",
            "821:\tlearn: 0.0863582\ttotal: 8m 36s\tremaining: 1m 51s\n",
            "822:\tlearn: 0.0863544\ttotal: 8m 36s\tremaining: 1m 51s\n",
            "823:\tlearn: 0.0863532\ttotal: 8m 37s\tremaining: 1m 50s\n",
            "824:\tlearn: 0.0863471\ttotal: 8m 37s\tremaining: 1m 49s\n",
            "825:\tlearn: 0.0863296\ttotal: 8m 38s\tremaining: 1m 49s\n",
            "826:\tlearn: 0.0863244\ttotal: 8m 39s\tremaining: 1m 48s\n",
            "827:\tlearn: 0.0863180\ttotal: 8m 39s\tremaining: 1m 47s\n",
            "828:\tlearn: 0.0863113\ttotal: 8m 40s\tremaining: 1m 47s\n",
            "829:\tlearn: 0.0863085\ttotal: 8m 41s\tremaining: 1m 46s\n",
            "830:\tlearn: 0.0863010\ttotal: 8m 41s\tremaining: 1m 46s\n",
            "831:\tlearn: 0.0862987\ttotal: 8m 42s\tremaining: 1m 45s\n",
            "832:\tlearn: 0.0862934\ttotal: 8m 43s\tremaining: 1m 44s\n",
            "833:\tlearn: 0.0862925\ttotal: 8m 43s\tremaining: 1m 44s\n",
            "834:\tlearn: 0.0862891\ttotal: 8m 44s\tremaining: 1m 43s\n",
            "835:\tlearn: 0.0862833\ttotal: 8m 44s\tremaining: 1m 42s\n",
            "836:\tlearn: 0.0862799\ttotal: 8m 45s\tremaining: 1m 42s\n",
            "837:\tlearn: 0.0862778\ttotal: 8m 46s\tremaining: 1m 41s\n",
            "838:\tlearn: 0.0862731\ttotal: 8m 46s\tremaining: 1m 41s\n",
            "839:\tlearn: 0.0862704\ttotal: 8m 47s\tremaining: 1m 40s\n",
            "840:\tlearn: 0.0862665\ttotal: 8m 47s\tremaining: 1m 39s\n",
            "841:\tlearn: 0.0862542\ttotal: 8m 48s\tremaining: 1m 39s\n",
            "842:\tlearn: 0.0862348\ttotal: 8m 49s\tremaining: 1m 38s\n",
            "843:\tlearn: 0.0862288\ttotal: 8m 49s\tremaining: 1m 37s\n",
            "844:\tlearn: 0.0862235\ttotal: 8m 50s\tremaining: 1m 37s\n",
            "845:\tlearn: 0.0862143\ttotal: 8m 50s\tremaining: 1m 36s\n",
            "846:\tlearn: 0.0862101\ttotal: 8m 51s\tremaining: 1m 36s\n",
            "847:\tlearn: 0.0862082\ttotal: 8m 52s\tremaining: 1m 35s\n",
            "848:\tlearn: 0.0862038\ttotal: 8m 52s\tremaining: 1m 34s\n",
            "849:\tlearn: 0.0862013\ttotal: 8m 53s\tremaining: 1m 34s\n",
            "850:\tlearn: 0.0861945\ttotal: 8m 53s\tremaining: 1m 33s\n",
            "851:\tlearn: 0.0861911\ttotal: 8m 54s\tremaining: 1m 32s\n",
            "852:\tlearn: 0.0861872\ttotal: 8m 55s\tremaining: 1m 32s\n",
            "853:\tlearn: 0.0861847\ttotal: 8m 55s\tremaining: 1m 31s\n",
            "854:\tlearn: 0.0861754\ttotal: 8m 56s\tremaining: 1m 30s\n",
            "855:\tlearn: 0.0861611\ttotal: 8m 57s\tremaining: 1m 30s\n",
            "856:\tlearn: 0.0861598\ttotal: 8m 57s\tremaining: 1m 29s\n",
            "857:\tlearn: 0.0861530\ttotal: 8m 58s\tremaining: 1m 29s\n",
            "858:\tlearn: 0.0861474\ttotal: 8m 58s\tremaining: 1m 28s\n",
            "859:\tlearn: 0.0861426\ttotal: 8m 59s\tremaining: 1m 27s\n",
            "860:\tlearn: 0.0861373\ttotal: 9m\tremaining: 1m 27s\n",
            "861:\tlearn: 0.0861315\ttotal: 9m\tremaining: 1m 26s\n",
            "862:\tlearn: 0.0861314\ttotal: 9m 1s\tremaining: 1m 25s\n",
            "863:\tlearn: 0.0861261\ttotal: 9m 1s\tremaining: 1m 25s\n",
            "864:\tlearn: 0.0861222\ttotal: 9m 2s\tremaining: 1m 24s\n",
            "865:\tlearn: 0.0861087\ttotal: 9m 3s\tremaining: 1m 24s\n",
            "866:\tlearn: 0.0861037\ttotal: 9m 3s\tremaining: 1m 23s\n",
            "867:\tlearn: 0.0860993\ttotal: 9m 4s\tremaining: 1m 22s\n",
            "868:\tlearn: 0.0860970\ttotal: 9m 4s\tremaining: 1m 22s\n",
            "869:\tlearn: 0.0860883\ttotal: 9m 5s\tremaining: 1m 21s\n",
            "870:\tlearn: 0.0860865\ttotal: 9m 6s\tremaining: 1m 20s\n",
            "871:\tlearn: 0.0860820\ttotal: 9m 6s\tremaining: 1m 20s\n",
            "872:\tlearn: 0.0860803\ttotal: 9m 7s\tremaining: 1m 19s\n",
            "873:\tlearn: 0.0860694\ttotal: 9m 7s\tremaining: 1m 18s\n",
            "874:\tlearn: 0.0860643\ttotal: 9m 8s\tremaining: 1m 18s\n",
            "875:\tlearn: 0.0860631\ttotal: 9m 9s\tremaining: 1m 17s\n",
            "876:\tlearn: 0.0860602\ttotal: 9m 9s\tremaining: 1m 17s\n",
            "877:\tlearn: 0.0860544\ttotal: 9m 10s\tremaining: 1m 16s\n",
            "878:\tlearn: 0.0860526\ttotal: 9m 10s\tremaining: 1m 15s\n",
            "879:\tlearn: 0.0860375\ttotal: 9m 11s\tremaining: 1m 15s\n",
            "880:\tlearn: 0.0860354\ttotal: 9m 11s\tremaining: 1m 14s\n",
            "881:\tlearn: 0.0860277\ttotal: 9m 12s\tremaining: 1m 13s\n",
            "882:\tlearn: 0.0860218\ttotal: 9m 13s\tremaining: 1m 13s\n",
            "883:\tlearn: 0.0860174\ttotal: 9m 13s\tremaining: 1m 12s\n",
            "884:\tlearn: 0.0860147\ttotal: 9m 14s\tremaining: 1m 12s\n",
            "885:\tlearn: 0.0860026\ttotal: 9m 14s\tremaining: 1m 11s\n",
            "886:\tlearn: 0.0859991\ttotal: 9m 15s\tremaining: 1m 10s\n",
            "887:\tlearn: 0.0859933\ttotal: 9m 16s\tremaining: 1m 10s\n",
            "888:\tlearn: 0.0859587\ttotal: 9m 17s\tremaining: 1m 9s\n",
            "889:\tlearn: 0.0859578\ttotal: 9m 17s\tremaining: 1m 8s\n",
            "890:\tlearn: 0.0859564\ttotal: 9m 18s\tremaining: 1m 8s\n",
            "891:\tlearn: 0.0859526\ttotal: 9m 19s\tremaining: 1m 7s\n",
            "892:\tlearn: 0.0859499\ttotal: 9m 19s\tremaining: 1m 7s\n",
            "893:\tlearn: 0.0859471\ttotal: 9m 20s\tremaining: 1m 6s\n",
            "894:\tlearn: 0.0859464\ttotal: 9m 21s\tremaining: 1m 5s\n",
            "895:\tlearn: 0.0859272\ttotal: 9m 21s\tremaining: 1m 5s\n",
            "896:\tlearn: 0.0859240\ttotal: 9m 22s\tremaining: 1m 4s\n",
            "897:\tlearn: 0.0859211\ttotal: 9m 23s\tremaining: 1m 3s\n",
            "898:\tlearn: 0.0859055\ttotal: 9m 23s\tremaining: 1m 3s\n",
            "899:\tlearn: 0.0859018\ttotal: 9m 24s\tremaining: 1m 2s\n",
            "900:\tlearn: 0.0858921\ttotal: 9m 24s\tremaining: 1m 2s\n",
            "901:\tlearn: 0.0858907\ttotal: 9m 25s\tremaining: 1m 1s\n",
            "902:\tlearn: 0.0858874\ttotal: 9m 25s\tremaining: 1m\n",
            "903:\tlearn: 0.0858688\ttotal: 9m 26s\tremaining: 1m\n",
            "904:\tlearn: 0.0858611\ttotal: 9m 27s\tremaining: 59.6s\n",
            "905:\tlearn: 0.0858589\ttotal: 9m 28s\tremaining: 58.9s\n",
            "906:\tlearn: 0.0858570\ttotal: 9m 28s\tremaining: 58.3s\n",
            "907:\tlearn: 0.0858353\ttotal: 9m 29s\tremaining: 57.7s\n",
            "908:\tlearn: 0.0858312\ttotal: 9m 29s\tremaining: 57.1s\n",
            "909:\tlearn: 0.0858245\ttotal: 9m 30s\tremaining: 56.4s\n",
            "910:\tlearn: 0.0858221\ttotal: 9m 31s\tremaining: 55.8s\n",
            "911:\tlearn: 0.0858198\ttotal: 9m 31s\tremaining: 55.2s\n",
            "912:\tlearn: 0.0858143\ttotal: 9m 32s\tremaining: 54.5s\n",
            "913:\tlearn: 0.0858132\ttotal: 9m 33s\tremaining: 53.9s\n",
            "914:\tlearn: 0.0857983\ttotal: 9m 33s\tremaining: 53.3s\n",
            "915:\tlearn: 0.0857969\ttotal: 9m 34s\tremaining: 52.7s\n",
            "916:\tlearn: 0.0857942\ttotal: 9m 34s\tremaining: 52s\n",
            "917:\tlearn: 0.0857912\ttotal: 9m 35s\tremaining: 51.4s\n",
            "918:\tlearn: 0.0857641\ttotal: 9m 36s\tremaining: 50.8s\n",
            "919:\tlearn: 0.0857608\ttotal: 9m 36s\tremaining: 50.1s\n",
            "920:\tlearn: 0.0857547\ttotal: 9m 37s\tremaining: 49.5s\n",
            "921:\tlearn: 0.0857459\ttotal: 9m 37s\tremaining: 48.9s\n",
            "922:\tlearn: 0.0857420\ttotal: 9m 38s\tremaining: 48.3s\n",
            "923:\tlearn: 0.0857356\ttotal: 9m 39s\tremaining: 47.6s\n",
            "924:\tlearn: 0.0857307\ttotal: 9m 39s\tremaining: 47s\n",
            "925:\tlearn: 0.0857135\ttotal: 9m 40s\tremaining: 46.4s\n",
            "926:\tlearn: 0.0857086\ttotal: 9m 40s\tremaining: 45.7s\n",
            "927:\tlearn: 0.0857062\ttotal: 9m 41s\tremaining: 45.1s\n",
            "928:\tlearn: 0.0857032\ttotal: 9m 42s\tremaining: 44.5s\n",
            "929:\tlearn: 0.0857008\ttotal: 9m 42s\tremaining: 43.9s\n",
            "930:\tlearn: 0.0856750\ttotal: 9m 43s\tremaining: 43.2s\n",
            "931:\tlearn: 0.0856739\ttotal: 9m 43s\tremaining: 42.6s\n",
            "932:\tlearn: 0.0856642\ttotal: 9m 44s\tremaining: 42s\n",
            "933:\tlearn: 0.0856538\ttotal: 9m 45s\tremaining: 41.3s\n",
            "934:\tlearn: 0.0856484\ttotal: 9m 45s\tremaining: 40.7s\n",
            "935:\tlearn: 0.0856467\ttotal: 9m 46s\tremaining: 40.1s\n",
            "936:\tlearn: 0.0856446\ttotal: 9m 46s\tremaining: 39.5s\n",
            "937:\tlearn: 0.0856412\ttotal: 9m 47s\tremaining: 38.8s\n",
            "938:\tlearn: 0.0856394\ttotal: 9m 48s\tremaining: 38.2s\n",
            "939:\tlearn: 0.0856384\ttotal: 9m 48s\tremaining: 37.6s\n",
            "940:\tlearn: 0.0856361\ttotal: 9m 49s\tremaining: 36.9s\n",
            "941:\tlearn: 0.0856341\ttotal: 9m 49s\tremaining: 36.3s\n",
            "942:\tlearn: 0.0856299\ttotal: 9m 50s\tremaining: 35.7s\n",
            "943:\tlearn: 0.0856223\ttotal: 9m 51s\tremaining: 35.1s\n",
            "944:\tlearn: 0.0856188\ttotal: 9m 51s\tremaining: 34.4s\n",
            "945:\tlearn: 0.0856144\ttotal: 9m 52s\tremaining: 33.8s\n",
            "946:\tlearn: 0.0856115\ttotal: 9m 52s\tremaining: 33.2s\n",
            "947:\tlearn: 0.0856081\ttotal: 9m 53s\tremaining: 32.6s\n",
            "948:\tlearn: 0.0856046\ttotal: 9m 54s\tremaining: 31.9s\n",
            "949:\tlearn: 0.0856012\ttotal: 9m 54s\tremaining: 31.3s\n",
            "950:\tlearn: 0.0855835\ttotal: 9m 55s\tremaining: 30.7s\n",
            "951:\tlearn: 0.0855761\ttotal: 9m 56s\tremaining: 30.1s\n",
            "952:\tlearn: 0.0855745\ttotal: 9m 56s\tremaining: 29.4s\n",
            "953:\tlearn: 0.0855690\ttotal: 9m 57s\tremaining: 28.8s\n",
            "954:\tlearn: 0.0855675\ttotal: 9m 57s\tremaining: 28.2s\n",
            "955:\tlearn: 0.0855613\ttotal: 9m 58s\tremaining: 27.5s\n",
            "956:\tlearn: 0.0855595\ttotal: 9m 58s\tremaining: 26.9s\n",
            "957:\tlearn: 0.0855546\ttotal: 9m 59s\tremaining: 26.3s\n",
            "958:\tlearn: 0.0855535\ttotal: 10m\tremaining: 25.7s\n",
            "959:\tlearn: 0.0855446\ttotal: 10m\tremaining: 25s\n",
            "960:\tlearn: 0.0855329\ttotal: 10m 1s\tremaining: 24.4s\n",
            "961:\tlearn: 0.0855262\ttotal: 10m 2s\tremaining: 23.8s\n",
            "962:\tlearn: 0.0855204\ttotal: 10m 2s\tremaining: 23.2s\n",
            "963:\tlearn: 0.0855152\ttotal: 10m 3s\tremaining: 22.5s\n",
            "964:\tlearn: 0.0855111\ttotal: 10m 4s\tremaining: 21.9s\n",
            "965:\tlearn: 0.0855073\ttotal: 10m 4s\tremaining: 21.3s\n",
            "966:\tlearn: 0.0855055\ttotal: 10m 5s\tremaining: 20.7s\n",
            "967:\tlearn: 0.0854988\ttotal: 10m 5s\tremaining: 20s\n",
            "968:\tlearn: 0.0854937\ttotal: 10m 6s\tremaining: 19.4s\n",
            "969:\tlearn: 0.0854839\ttotal: 10m 7s\tremaining: 18.8s\n",
            "970:\tlearn: 0.0854793\ttotal: 10m 7s\tremaining: 18.2s\n",
            "971:\tlearn: 0.0854723\ttotal: 10m 8s\tremaining: 17.5s\n",
            "972:\tlearn: 0.0854632\ttotal: 10m 9s\tremaining: 16.9s\n",
            "973:\tlearn: 0.0854595\ttotal: 10m 9s\tremaining: 16.3s\n",
            "974:\tlearn: 0.0854526\ttotal: 10m 10s\tremaining: 15.6s\n",
            "975:\tlearn: 0.0854500\ttotal: 10m 10s\tremaining: 15s\n",
            "976:\tlearn: 0.0854477\ttotal: 10m 11s\tremaining: 14.4s\n",
            "977:\tlearn: 0.0854460\ttotal: 10m 12s\tremaining: 13.8s\n",
            "978:\tlearn: 0.0854439\ttotal: 10m 12s\tremaining: 13.1s\n",
            "979:\tlearn: 0.0854408\ttotal: 10m 13s\tremaining: 12.5s\n",
            "980:\tlearn: 0.0854373\ttotal: 10m 13s\tremaining: 11.9s\n",
            "981:\tlearn: 0.0854319\ttotal: 10m 14s\tremaining: 11.3s\n",
            "982:\tlearn: 0.0854240\ttotal: 10m 15s\tremaining: 10.6s\n",
            "983:\tlearn: 0.0854091\ttotal: 10m 15s\tremaining: 10s\n",
            "984:\tlearn: 0.0854052\ttotal: 10m 16s\tremaining: 9.39s\n",
            "985:\tlearn: 0.0854024\ttotal: 10m 17s\tremaining: 8.76s\n",
            "986:\tlearn: 0.0853910\ttotal: 10m 17s\tremaining: 8.13s\n",
            "987:\tlearn: 0.0853855\ttotal: 10m 18s\tremaining: 7.51s\n",
            "988:\tlearn: 0.0853761\ttotal: 10m 19s\tremaining: 6.88s\n",
            "989:\tlearn: 0.0853590\ttotal: 10m 19s\tremaining: 6.26s\n",
            "990:\tlearn: 0.0853572\ttotal: 10m 20s\tremaining: 5.63s\n",
            "991:\tlearn: 0.0853540\ttotal: 10m 21s\tremaining: 5.01s\n",
            "992:\tlearn: 0.0853514\ttotal: 10m 21s\tremaining: 4.38s\n",
            "993:\tlearn: 0.0853498\ttotal: 10m 22s\tremaining: 3.76s\n",
            "994:\tlearn: 0.0853478\ttotal: 10m 22s\tremaining: 3.13s\n",
            "995:\tlearn: 0.0853329\ttotal: 10m 23s\tremaining: 2.5s\n",
            "996:\tlearn: 0.0853278\ttotal: 10m 24s\tremaining: 1.88s\n",
            "997:\tlearn: 0.0853270\ttotal: 10m 24s\tremaining: 1.25s\n",
            "998:\tlearn: 0.0853114\ttotal: 10m 25s\tremaining: 626ms\n",
            "999:\tlearn: 0.0852868\ttotal: 10m 26s\tremaining: 0us\n",
            "0.9472109211900297\n"
          ]
        }
      ]
    },
    {
      "cell_type": "code",
      "source": [
        "print(f\"{roc_auc_score(y_pred, y_val)}\")\n"
      ],
      "metadata": {
        "colab": {
          "base_uri": "https://localhost:8080/"
        },
        "id": "7CgdRnLuvUv6",
        "outputId": "c8a0f400-37bc-4c72-92f2-fdce5398dd7b"
      },
      "execution_count": null,
      "outputs": [
        {
          "output_type": "stream",
          "name": "stdout",
          "text": [
            "0.9472109211900297\n"
          ]
        }
      ]
    },
    {
      "cell_type": "markdown",
      "source": [
        "## Загружаем  тестовый датасет"
      ],
      "metadata": {
        "id": "srIdNA_QHnXr"
      }
    },
    {
      "cell_type": "code",
      "source": [
        "%time raw_test_transactions = get_big_data_from_zip(path, file_test_transactions)\n",
        "%time raw_test_identity = get_big_data_from_zip(path, file_test_identity)\n",
        "test = pd.merge(raw_test_transactions, raw_test_identity, how = 'left', on = 'TransactionID')\n",
        "X = test\n",
        "del raw_test_transactions, raw_test_identity, test\n",
        "gc.collect\n"
      ],
      "metadata": {
        "colab": {
          "base_uri": "https://localhost:8080/"
        },
        "id": "NLwROa5IwC78",
        "outputId": "fb1edcc8-d33c-47d2-fb3b-801321d8943f"
      },
      "execution_count": null,
      "outputs": [
        {
          "output_type": "stream",
          "name": "stdout",
          "text": [
            "CPU times: user 23 s, sys: 1.65 s, total: 24.6 s\n",
            "Wall time: 24.5 s\n",
            "CPU times: user 595 ms, sys: 29 ms, total: 624 ms\n",
            "Wall time: 619 ms\n"
          ]
        },
        {
          "output_type": "execute_result",
          "data": {
            "text/plain": [
              "<function gc.collect>"
            ]
          },
          "metadata": {},
          "execution_count": 120
        }
      ]
    },
    {
      "cell_type": "code",
      "source": [
        "del test\n",
        "gc.collect()"
      ],
      "metadata": {
        "colab": {
          "base_uri": "https://localhost:8080/",
          "height": 184
        },
        "id": "P4nxw0_cFzvN",
        "outputId": "0448f257-0e4e-4172-8364-af8e535b5247"
      },
      "execution_count": null,
      "outputs": [
        {
          "output_type": "error",
          "ename": "NameError",
          "evalue": "ignored",
          "traceback": [
            "\u001b[0;31m---------------------------------------------------------------------------\u001b[0m",
            "\u001b[0;31mNameError\u001b[0m                                 Traceback (most recent call last)",
            "\u001b[0;32m<ipython-input-121-d4a1fb87a3e3>\u001b[0m in \u001b[0;36m<module>\u001b[0;34m()\u001b[0m\n\u001b[0;32m----> 1\u001b[0;31m \u001b[0;32mdel\u001b[0m \u001b[0mtest\u001b[0m\u001b[0;34m\u001b[0m\u001b[0;34m\u001b[0m\u001b[0m\n\u001b[0m\u001b[1;32m      2\u001b[0m \u001b[0mgc\u001b[0m\u001b[0;34m.\u001b[0m\u001b[0mcollect\u001b[0m\u001b[0;34m(\u001b[0m\u001b[0;34m)\u001b[0m\u001b[0;34m\u001b[0m\u001b[0;34m\u001b[0m\u001b[0m\n",
            "\u001b[0;31mNameError\u001b[0m: name 'test' is not defined"
          ]
        }
      ]
    },
    {
      "cell_type": "code",
      "source": [
        "\n",
        "Y_ID = X['TransactionID']\n",
        "X = X.drop('TransactionID', 1)\n",
        "X = X.drop('TransactionDT', 1)\n",
        "X = X.drop('DeviceType', 1)\n",
        "X = X.drop('DeviceInfo', 1)\n",
        "\n",
        "test_c_id = list(map(lambda c: c.replace(\"_\",\"-\"), c_id))\n",
        "c_dict = dict(zip(test_c_id, c_id))\n",
        "X = X.rename(columns = c_dict)\n",
        "\n",
        "X_test  = prepare_data(X)"
      ],
      "metadata": {
        "colab": {
          "base_uri": "https://localhost:8080/"
        },
        "id": "VUx3SnvBxt8p",
        "outputId": "0153fd24-6a1e-4e05-c7dc-9268eb611c4c"
      },
      "execution_count": null,
      "outputs": [
        {
          "output_type": "stream",
          "name": "stderr",
          "text": [
            "/usr/local/lib/python3.7/dist-packages/ipykernel_launcher.py:3: FutureWarning: In a future version of pandas all arguments of DataFrame.drop except for the argument 'labels' will be keyword-only\n",
            "  This is separate from the ipykernel package so we can avoid doing imports until\n",
            "/usr/local/lib/python3.7/dist-packages/ipykernel_launcher.py:4: FutureWarning: In a future version of pandas all arguments of DataFrame.drop except for the argument 'labels' will be keyword-only\n",
            "  after removing the cwd from sys.path.\n",
            "/usr/local/lib/python3.7/dist-packages/ipykernel_launcher.py:5: FutureWarning: In a future version of pandas all arguments of DataFrame.drop except for the argument 'labels' will be keyword-only\n",
            "  \"\"\"\n",
            "/usr/local/lib/python3.7/dist-packages/ipykernel_launcher.py:6: FutureWarning: In a future version of pandas all arguments of DataFrame.drop except for the argument 'labels' will be keyword-only\n",
            "  \n"
          ]
        },
        {
          "output_type": "stream",
          "name": "stdout",
          "text": [
            "C_ columns processing...\n",
            "V_ columns processing...\n",
            "id_ columns processing...\n",
            "D_ columns processing...\n",
            "M_ columns processing...\n",
            "other object columns processing...\n",
            "other float columns processing...\n"
          ]
        }
      ]
    },
    {
      "cell_type": "code",
      "source": [
        "X_test_pca_part = pd.DataFrame(pca.transform(X_test[c_float_and_int]))\n",
        "\n",
        "X_test_prepared = X_test_pca_part\n",
        "#XX_test_prepared[c_obj_to_model] =  X_val[c_obj_to_model] .values\n",
        "X_test_prepared[c_cat] =  X_test[c_cat].values\n",
        "\n",
        "Y_test_pred = model.predict(X_test_prepared)\n",
        "submission = pd.DataFrame(columns=['TransactionID'], data= Y_ID)\n",
        "submission[target] = Y_test_pred\n",
        "submission.head()\n",
        "submission.isFraud.value_counts()"
      ],
      "metadata": {
        "colab": {
          "base_uri": "https://localhost:8080/"
        },
        "id": "5_I7-OiYzlMN",
        "outputId": "8147ad57-38cd-4624-b3bc-d50796a75e4b"
      },
      "execution_count": null,
      "outputs": [
        {
          "output_type": "stream",
          "name": "stderr",
          "text": [
            "/usr/local/lib/python3.7/dist-packages/pandas/core/frame.py:3678: PerformanceWarning: DataFrame is highly fragmented.  This is usually the result of calling `frame.insert` many times, which has poor performance.  Consider joining all columns at once using pd.concat(axis=1) instead.  To get a de-fragmented frame, use `newframe = frame.copy()`\n",
            "  self[col] = igetitem(value, i)\n"
          ]
        },
        {
          "output_type": "execute_result",
          "data": {
            "text/plain": [
              "0    498595\n",
              "1      8096\n",
              "Name: isFraud, dtype: int64"
            ]
          },
          "metadata": {},
          "execution_count": 126
        }
      ]
    },
    {
      "cell_type": "markdown",
      "source": [
        "### 3. Загрузка  тестовых значений"
      ],
      "metadata": {
        "id": "d5FiT-eAu4T1"
      }
    },
    {
      "cell_type": "code",
      "source": [
        "submission.to_csv(\"submission.csv\", index = False)"
      ],
      "metadata": {
        "id": "R3o05F1nGL8K"
      },
      "execution_count": null,
      "outputs": []
    },
    {
      "cell_type": "code",
      "source": [
        "!kaggle competitions submit -c ieee-fraud-detection -f \"submission.csv\" -m \"one more time\""
      ],
      "metadata": {
        "colab": {
          "base_uri": "https://localhost:8080/"
        },
        "id": "M1UAIQZxGNtc",
        "outputId": "c4bbfc25-10fb-4cd1-a58f-b60f8503e604"
      },
      "execution_count": null,
      "outputs": [
        {
          "output_type": "stream",
          "name": "stdout",
          "text": [
            "Warning: Looks like you're using an outdated API Version, please consider updating (server 1.5.12 / client 1.5.4)\n",
            "100% 4.83M/4.83M [00:00<00:00, 16.1MB/s]\n",
            "Successfully submitted to IEEE-CIS Fraud Detection"
          ]
        }
      ]
    }
  ]
}