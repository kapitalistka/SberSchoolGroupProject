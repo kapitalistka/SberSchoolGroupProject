{
  "nbformat": 4,
  "nbformat_minor": 0,
  "metadata": {
    "colab": {
      "name": "Find_Froud_06_02_CatB_v6_4.ipynb\"\"",
      "provenance": [],
      "collapsed_sections": []
    },
    "kernelspec": {
      "name": "python3",
      "display_name": "Python 3"
    },
    "language_info": {
      "name": "python"
    },
    "accelerator": "GPU",
    "widgets": {
      "application/vnd.jupyter.widget-state+json": {
        "deedcf53497940d3860e4094bc63e6b4": {
          "model_module": "catboost-widget",
          "model_name": "CatboostWidgetModel",
          "model_module_version": "^1.0.0",
          "state": {
            "_view_name": "CatboostWidgetView",
            "_dom_classes": [],
            "_model_name": "CatboostWidgetModel",
            "data": {
              "catboost_clf_find_fraud": {
                "content": {
                  "data": {
                    "meta": {
                      "name": "experiment",
                      "parameters": "",
                      "test_metrics": [
                        {
                          "best_value": "Max",
                          "name": "AUC"
                        },
                        {
                          "best_value": "Min",
                          "name": "Logloss"
                        }
                      ],
                      "learn_sets": [
                        "learn"
                      ],
                      "launch_mode": "Train",
                      "learn_metrics": [
                        {
                          "best_value": "Max",
                          "name": "AUC"
                        },
                        {
                          "best_value": "Min",
                          "name": "Logloss"
                        }
                      ],
                      "iteration_count": 1000,
                      "test_sets": [
                        "test"
                      ]
                    },
                    "iterations": [
                      {
                        "test": [
                          0.8506633043,
                          0.6692461183
                        ],
                        "passed_time": 0.4796808651,
                        "iteration": 0,
                        "remaining_time": 479.2011842,
                        "learn": [
                          0.8400967419,
                          0.6705863865
                        ]
                      },
                      {
                        "test": [
                          0.8553198278,
                          0.6477014989
                        ],
                        "passed_time": 0.8870922032,
                        "iteration": 1,
                        "remaining_time": 442.6590094,
                        "learn": [
                          0.8441338241,
                          0.6501301575
                        ]
                      },
                      {
                        "test": [
                          0.8669434786,
                          0.6274740016
                        ],
                        "passed_time": 1.29999627,
                        "iteration": 2,
                        "remaining_time": 432.0320939,
                        "learn": [
                          0.8563647568,
                          0.6309572668
                        ]
                      },
                      {
                        "test": [
                          0.8677735031,
                          0.6093077165
                        ],
                        "passed_time": 1.705485077,
                        "iteration": 3,
                        "remaining_time": 424.6657842,
                        "learn": [
                          0.856715858,
                          0.6137056559
                        ]
                      },
                      {
                        "test": [
                          0.87329638,
                          0.5946332838
                        ],
                        "passed_time": 2.135390869,
                        "iteration": 4,
                        "remaining_time": 424.9427829,
                        "learn": [
                          0.8617568016,
                          0.5998566678
                        ]
                      },
                      {
                        "test": [
                          0.879086256,
                          0.5801658452
                        ],
                        "passed_time": 2.565456673,
                        "iteration": 5,
                        "remaining_time": 425.0106554,
                        "learn": [
                          0.866672039,
                          0.5863348002
                        ]
                      },
                      {
                        "test": [
                          0.880014956,
                          0.5694310875
                        ],
                        "passed_time": 2.98256346,
                        "iteration": 6,
                        "remaining_time": 423.0979308,
                        "learn": [
                          0.8679251075,
                          0.5759973409
                        ]
                      },
                      {
                        "test": [
                          0.8872906566,
                          0.5560904787
                        ],
                        "passed_time": 3.455085563,
                        "iteration": 7,
                        "remaining_time": 428.4306098,
                        "learn": [
                          0.8753876388,
                          0.5636280512
                        ]
                      },
                      {
                        "test": [
                          0.8885958195,
                          0.5434109362
                        ],
                        "passed_time": 3.873064826,
                        "iteration": 8,
                        "remaining_time": 426.4674714,
                        "learn": [
                          0.8767508268,
                          0.5517395199
                        ]
                      },
                      {
                        "test": [
                          0.8894223571,
                          0.5337147045
                        ],
                        "passed_time": 4.317995698,
                        "iteration": 9,
                        "remaining_time": 427.4815741,
                        "learn": [
                          0.8779315948,
                          0.5425699512
                        ]
                      },
                      {
                        "test": [
                          0.8911426067,
                          0.5237307716
                        ],
                        "passed_time": 4.751403777,
                        "iteration": 10,
                        "remaining_time": 427.1943941,
                        "learn": [
                          0.8797298968,
                          0.5331285557
                        ]
                      },
                      {
                        "test": [
                          0.8929013908,
                          0.5153401323
                        ],
                        "passed_time": 5.221809849,
                        "iteration": 11,
                        "remaining_time": 429.9290109,
                        "learn": [
                          0.8815838695,
                          0.5252935624
                        ]
                      },
                      {
                        "test": [
                          0.8941677511,
                          0.5069708822
                        ],
                        "passed_time": 5.683810465,
                        "iteration": 12,
                        "remaining_time": 431.5323791,
                        "learn": [
                          0.8826827705,
                          0.5175942632
                        ]
                      },
                      {
                        "test": [
                          0.8959477246,
                          0.4997474802
                        ],
                        "passed_time": 6.141425991,
                        "iteration": 13,
                        "remaining_time": 432.5318591,
                        "learn": [
                          0.8846964538,
                          0.5106599018
                        ]
                      },
                      {
                        "test": [
                          0.8975051641,
                          0.493289773
                        ],
                        "passed_time": 6.601730532,
                        "iteration": 14,
                        "remaining_time": 433.5136383,
                        "learn": [
                          0.8864416778,
                          0.5045293628
                        ]
                      },
                      {
                        "test": [
                          0.8984327018,
                          0.4862802074
                        ],
                        "passed_time": 7.025797764,
                        "iteration": 15,
                        "remaining_time": 432.0865625,
                        "learn": [
                          0.8872206509,
                          0.4979107927
                        ]
                      },
                      {
                        "test": [
                          0.8988765776,
                          0.4806729429
                        ],
                        "passed_time": 7.459722914,
                        "iteration": 16,
                        "remaining_time": 431.3475073,
                        "learn": [
                          0.887891382,
                          0.49242079
                        ]
                      },
                      {
                        "test": [
                          0.8991112411,
                          0.4743704003
                        ],
                        "passed_time": 7.870343226,
                        "iteration": 17,
                        "remaining_time": 429.3709471,
                        "learn": [
                          0.8880750537,
                          0.486517821
                        ]
                      },
                      {
                        "test": [
                          0.8998824358,
                          0.4688779469
                        ],
                        "passed_time": 8.292028692,
                        "iteration": 18,
                        "remaining_time": 428.1305341,
                        "learn": [
                          0.8889376521,
                          0.4813405762
                        ]
                      },
                      {
                        "test": [
                          0.9016624987,
                          0.4630305003
                        ],
                        "passed_time": 8.766815195,
                        "iteration": 19,
                        "remaining_time": 429.5739446,
                        "learn": [
                          0.8903996348,
                          0.4761697269
                        ]
                      },
                      {
                        "test": [
                          0.9022913277,
                          0.4589506922
                        ],
                        "passed_time": 9.218784572,
                        "iteration": 20,
                        "remaining_time": 429.770957,
                        "learn": [
                          0.8911943734,
                          0.4723399217
                        ]
                      },
                      {
                        "test": [
                          0.9029068947,
                          0.4542067468
                        ],
                        "passed_time": 9.653959205,
                        "iteration": 21,
                        "remaining_time": 429.1623683,
                        "learn": [
                          0.8916909099,
                          0.467785452
                        ]
                      },
                      {
                        "test": [
                          0.9031085074,
                          0.4508449526
                        ],
                        "passed_time": 10.09031191,
                        "iteration": 22,
                        "remaining_time": 428.6189014,
                        "learn": [
                          0.8919194043,
                          0.4645480888
                        ]
                      },
                      {
                        "test": [
                          0.9040919244,
                          0.446212478
                        ],
                        "passed_time": 10.4984393,
                        "iteration": 23,
                        "remaining_time": 426.9365315,
                        "learn": [
                          0.89289698,
                          0.4603134304
                        ]
                      },
                      {
                        "test": [
                          0.9042761922,
                          0.4425459306
                        ],
                        "passed_time": 10.9128079,
                        "iteration": 24,
                        "remaining_time": 425.5995083,
                        "learn": [
                          0.8929691315,
                          0.4568899767
                        ]
                      },
                      {
                        "test": [
                          0.9043740034,
                          0.4397266741
                        ],
                        "passed_time": 11.29988126,
                        "iteration": 25,
                        "remaining_time": 423.3109366,
                        "learn": [
                          0.8933167458,
                          0.4540196053
                        ]
                      },
                      {
                        "test": [
                          0.9051048458,
                          0.4361770929
                        ],
                        "passed_time": 11.73550256,
                        "iteration": 26,
                        "remaining_time": 422.9127404,
                        "learn": [
                          0.8939460814,
                          0.4507550156
                        ]
                      },
                      {
                        "test": [
                          0.9052494466,
                          0.4336545889
                        ],
                        "passed_time": 12.10700639,
                        "iteration": 27,
                        "remaining_time": 420.2860791,
                        "learn": [
                          0.8941538632,
                          0.4481974388
                        ]
                      },
                      {
                        "test": [
                          0.9054470658,
                          0.431564822
                        ],
                        "passed_time": 12.52942369,
                        "iteration": 28,
                        "remaining_time": 419.519669,
                        "learn": [
                          0.8945997655,
                          0.4460249439
                        ]
                      },
                      {
                        "test": [
                          0.9060016274,
                          0.4286759031
                        ],
                        "passed_time": 12.94455152,
                        "iteration": 29,
                        "remaining_time": 418.5404992,
                        "learn": [
                          0.8951894939,
                          0.4432410396
                        ]
                      },
                      {
                        "test": [
                          0.9086118937,
                          0.4233115413
                        ],
                        "passed_time": 13.31578674,
                        "iteration": 30,
                        "remaining_time": 416.2257211,
                        "learn": [
                          0.8972305059,
                          0.4387955126
                        ]
                      },
                      {
                        "test": [
                          0.9087580144,
                          0.4211566106
                        ],
                        "passed_time": 13.7214578,
                        "iteration": 31,
                        "remaining_time": 415.0740985,
                        "learn": [
                          0.897552222,
                          0.4366309847
                        ]
                      },
                      {
                        "test": [
                          0.9091566205,
                          0.4188104718
                        ],
                        "passed_time": 14.15393132,
                        "iteration": 32,
                        "remaining_time": 414.7530784,
                        "learn": [
                          0.8980331719,
                          0.4343052902
                        ]
                      },
                      {
                        "test": [
                          0.9094154239,
                          0.4164943961
                        ],
                        "passed_time": 14.59338068,
                        "iteration": 33,
                        "remaining_time": 414.6236983,
                        "learn": [
                          0.8983483911,
                          0.4321145956
                        ]
                      },
                      {
                        "test": [
                          0.9096529484,
                          0.4148627423
                        ],
                        "passed_time": 14.98202506,
                        "iteration": 34,
                        "remaining_time": 413.0758339,
                        "learn": [
                          0.8986543119,
                          0.4304744617
                        ]
                      },
                      {
                        "test": [
                          0.909683913,
                          0.4134556732
                        ],
                        "passed_time": 15.38356255,
                        "iteration": 35,
                        "remaining_time": 411.9376195,
                        "learn": [
                          0.8988741338,
                          0.4289579619
                        ]
                      },
                      {
                        "test": [
                          0.9100889266,
                          0.4119318264
                        ],
                        "passed_time": 15.82704644,
                        "iteration": 36,
                        "remaining_time": 411.9309655,
                        "learn": [
                          0.8992877305,
                          0.4274717219
                        ]
                      },
                      {
                        "test": [
                          0.9119841754,
                          0.4078450413
                        ],
                        "passed_time": 16.13347359,
                        "iteration": 37,
                        "remaining_time": 408.4316209,
                        "learn": [
                          0.9007770121,
                          0.4241760318
                        ]
                      },
                      {
                        "test": [
                          0.9124203026,
                          0.4059098734
                        ],
                        "passed_time": 16.54624074,
                        "iteration": 38,
                        "remaining_time": 407.7163423,
                        "learn": [
                          0.9013119638,
                          0.4221931359
                        ]
                      },
                      {
                        "test": [
                          0.9148486853,
                          0.4007716858
                        ],
                        "passed_time": 16.89682328,
                        "iteration": 39,
                        "remaining_time": 405.5237588,
                        "learn": [
                          0.903197825,
                          0.4179884084
                        ]
                      },
                      {
                        "test": [
                          0.9182893932,
                          0.3946252239
                        ],
                        "passed_time": 17.25112091,
                        "iteration": 40,
                        "remaining_time": 403.5079258,
                        "learn": [
                          0.9056492448,
                          0.4132850882
                        ]
                      },
                      {
                        "test": [
                          0.9186583757,
                          0.3933385152
                        ],
                        "passed_time": 17.63689558,
                        "iteration": 41,
                        "remaining_time": 402.2891896,
                        "learn": [
                          0.9061886966,
                          0.4119026014
                        ]
                      },
                      {
                        "test": [
                          0.9200195074,
                          0.3893323834
                        ],
                        "passed_time": 17.99907625,
                        "iteration": 42,
                        "remaining_time": 400.5840923,
                        "learn": [
                          0.9072821736,
                          0.408610237
                        ]
                      },
                      {
                        "test": [
                          0.921225816,
                          0.3861844794
                        ],
                        "passed_time": 18.38774755,
                        "iteration": 43,
                        "remaining_time": 399.5156058,
                        "learn": [
                          0.9083647728,
                          0.4058755963
                        ]
                      },
                      {
                        "test": [
                          0.9219334424,
                          0.3841677423
                        ],
                        "passed_time": 18.83105939,
                        "iteration": 44,
                        "remaining_time": 399.6369271,
                        "learn": [
                          0.9090960026,
                          0.4039191595
                        ]
                      },
                      {
                        "test": [
                          0.9220524132,
                          0.3832459131
                        ],
                        "passed_time": 19.23217523,
                        "iteration": 45,
                        "remaining_time": 398.8585906,
                        "learn": [
                          0.9093268812,
                          0.4029315854
                        ]
                      },
                      {
                        "test": [
                          0.9225523174,
                          0.3816491713
                        ],
                        "passed_time": 19.66156938,
                        "iteration": 46,
                        "remaining_time": 398.669694,
                        "learn": [
                          0.909884721,
                          0.4013104187
                        ]
                      },
                      {
                        "test": [
                          0.9227568507,
                          0.3806973598
                        ],
                        "passed_time": 20.04262322,
                        "iteration": 47,
                        "remaining_time": 397.5120272,
                        "learn": [
                          0.9102007747,
                          0.4002384606
                        ]
                      },
                      {
                        "test": [
                          0.9230834246,
                          0.3791381161
                        ],
                        "passed_time": 20.47758176,
                        "iteration": 48,
                        "remaining_time": 397.43225,
                        "learn": [
                          0.91062814,
                          0.3987462637
                        ]
                      },
                      {
                        "test": [
                          0.9247588813,
                          0.3751329541
                        ],
                        "passed_time": 20.84658643,
                        "iteration": 49,
                        "remaining_time": 396.0851421,
                        "learn": [
                          0.9121027887,
                          0.3953597941
                        ]
                      },
                      {
                        "test": [
                          0.9263694286,
                          0.3713989801
                        ],
                        "passed_time": 21.22120728,
                        "iteration": 50,
                        "remaining_time": 394.8808962,
                        "learn": [
                          0.9132287204,
                          0.3925509657
                        ]
                      },
                      {
                        "test": [
                          0.9278741181,
                          0.3679070738
                        ],
                        "passed_time": 21.5304505,
                        "iteration": 51,
                        "remaining_time": 392.5166745,
                        "learn": [
                          0.914442718,
                          0.3897884041
                        ]
                      },
                      {
                        "test": [
                          0.9278625846,
                          0.3671836184
                        ],
                        "passed_time": 21.93913826,
                        "iteration": 52,
                        "remaining_time": 392.0068666,
                        "learn": [
                          0.9146306515,
                          0.3888933272
                        ]
                      },
                      {
                        "test": [
                          0.9282737076,
                          0.3661906451
                        ],
                        "passed_time": 22.23393809,
                        "iteration": 53,
                        "remaining_time": 389.5056561,
                        "learn": [
                          0.9151158631,
                          0.3879168629
                        ]
                      },
                      {
                        "test": [
                          0.9284804463,
                          0.3652346311
                        ],
                        "passed_time": 22.63120899,
                        "iteration": 54,
                        "remaining_time": 388.8453181,
                        "learn": [
                          0.9154222608,
                          0.3868516293
                        ]
                      },
                      {
                        "test": [
                          0.9286516011,
                          0.3643061482
                        ],
                        "passed_time": 23.00544705,
                        "iteration": 55,
                        "remaining_time": 387.8061073,
                        "learn": [
                          0.9157379866,
                          0.3858259015
                        ]
                      },
                      {
                        "test": [
                          0.9289111197,
                          0.3632304203
                        ],
                        "passed_time": 23.45155598,
                        "iteration": 56,
                        "remaining_time": 387.9792507,
                        "learn": [
                          0.9160468578,
                          0.384806021
                        ]
                      },
                      {
                        "test": [
                          0.929227829,
                          0.3621943727
                        ],
                        "passed_time": 23.86159198,
                        "iteration": 57,
                        "remaining_time": 387.5451663,
                        "learn": [
                          0.9163935483,
                          0.3837823763
                        ]
                      },
                      {
                        "test": [
                          0.9297368228,
                          0.3603977755
                        ],
                        "passed_time": 24.30207979,
                        "iteration": 58,
                        "remaining_time": 387.5975777,
                        "learn": [
                          0.9169070125,
                          0.3821161853
                        ]
                      },
                      {
                        "test": [
                          0.930498302,
                          0.3584271299
                        ],
                        "passed_time": 24.5936208,
                        "iteration": 59,
                        "remaining_time": 385.3000592,
                        "learn": [
                          0.9175607562,
                          0.3804644299
                        ]
                      },
                      {
                        "test": [
                          0.9313336313,
                          0.3562066583
                        ],
                        "passed_time": 24.91838099,
                        "iteration": 60,
                        "remaining_time": 383.5796681,
                        "learn": [
                          0.9183085263,
                          0.3785981148
                        ]
                      },
                      {
                        "test": [
                          0.9321091175,
                          0.3538173104
                        ],
                        "passed_time": 25.29533097,
                        "iteration": 61,
                        "remaining_time": 382.6938782,
                        "learn": [
                          0.9189848006,
                          0.3766888219
                        ]
                      },
                      {
                        "test": [
                          0.9328355491,
                          0.3516812635
                        ],
                        "passed_time": 25.65970588,
                        "iteration": 62,
                        "remaining_time": 381.6372128,
                        "learn": [
                          0.9196327031,
                          0.374930682
                        ]
                      },
                      {
                        "test": [
                          0.9329204857,
                          0.3509052783
                        ],
                        "passed_time": 26.06398235,
                        "iteration": 63,
                        "remaining_time": 381.1857418,
                        "learn": [
                          0.9198630154,
                          0.3740375054
                        ]
                      },
                      {
                        "test": [
                          0.9330997169,
                          0.3503487327
                        ],
                        "passed_time": 26.46425926,
                        "iteration": 64,
                        "remaining_time": 380.6781908,
                        "learn": [
                          0.9201514423,
                          0.3733520179
                        ]
                      },
                      {
                        "test": [
                          0.9339566231,
                          0.3475618022
                        ],
                        "passed_time": 26.89490007,
                        "iteration": 65,
                        "remaining_time": 380.6035859,
                        "learn": [
                          0.9209937155,
                          0.3709478964
                        ]
                      },
                      {
                        "test": [
                          0.934027493,
                          0.3470084622
                        ],
                        "passed_time": 27.27809892,
                        "iteration": 66,
                        "remaining_time": 379.8577059,
                        "learn": [
                          0.9211387038,
                          0.3703287029
                        ]
                      },
                      {
                        "test": [
                          0.9348938763,
                          0.3448594849
                        ],
                        "passed_time": 27.60005623,
                        "iteration": 67,
                        "remaining_time": 378.2831236,
                        "learn": [
                          0.9219116867,
                          0.3685237479
                        ]
                      },
                      {
                        "test": [
                          0.9350243807,
                          0.3444407557
                        ],
                        "passed_time": 28.00529969,
                        "iteration": 68,
                        "remaining_time": 377.8686089,
                        "learn": [
                          0.9220786989,
                          0.3680692292
                        ]
                      },
                      {
                        "test": [
                          0.9351273179,
                          0.3438281784
                        ],
                        "passed_time": 28.42512315,
                        "iteration": 69,
                        "remaining_time": 377.6480647,
                        "learn": [
                          0.922300607,
                          0.3673974464
                        ]
                      },
                      {
                        "test": [
                          0.9353537858,
                          0.3432602648
                        ],
                        "passed_time": 28.68800853,
                        "iteration": 70,
                        "remaining_time": 375.3684496,
                        "learn": [
                          0.9226040542,
                          0.3667640731
                        ]
                      },
                      {
                        "test": [
                          0.9354373217,
                          0.342689819
                        ],
                        "passed_time": 29.07936612,
                        "iteration": 71,
                        "remaining_time": 374.8007189,
                        "learn": [
                          0.9227769971,
                          0.366111294
                        ]
                      },
                      {
                        "test": [
                          0.9355623424,
                          0.3421571946
                        ],
                        "passed_time": 29.45717375,
                        "iteration": 72,
                        "remaining_time": 374.0657544,
                        "learn": [
                          0.9230247736,
                          0.3654766416
                        ]
                      },
                      {
                        "test": [
                          0.9362056851,
                          0.3402067796
                        ],
                        "passed_time": 29.86611729,
                        "iteration": 73,
                        "remaining_time": 373.7300623,
                        "learn": [
                          0.9236630797,
                          0.363705528
                        ]
                      },
                      {
                        "test": [
                          0.9364409149,
                          0.3397215936
                        ],
                        "passed_time": 30.14924899,
                        "iteration": 74,
                        "remaining_time": 371.8407375,
                        "learn": [
                          0.9239310026,
                          0.363226341
                        ]
                      },
                      {
                        "test": [
                          0.9370386004,
                          0.3378434811
                        ],
                        "passed_time": 30.57799665,
                        "iteration": 75,
                        "remaining_time": 371.7640646,
                        "learn": [
                          0.9244650006,
                          0.3616948209
                        ]
                      },
                      {
                        "test": [
                          0.9371716976,
                          0.3372181888
                        ],
                        "passed_time": 30.92987164,
                        "iteration": 76,
                        "remaining_time": 370.7567731,
                        "learn": [
                          0.9246626496,
                          0.3610880894
                        ]
                      },
                      {
                        "test": [
                          0.9373044074,
                          0.3368038236
                        ],
                        "passed_time": 31.32829929,
                        "iteration": 77,
                        "remaining_time": 370.3165634,
                        "learn": [
                          0.9248699546,
                          0.3606272117
                        ]
                      },
                      {
                        "test": [
                          0.9377967715,
                          0.3352691747
                        ],
                        "passed_time": 31.77641448,
                        "iteration": 78,
                        "remaining_time": 370.4566802,
                        "learn": [
                          0.925339371,
                          0.3592833902
                        ]
                      },
                      {
                        "test": [
                          0.9384819865,
                          0.3334092455
                        ],
                        "passed_time": 32.15896704,
                        "iteration": 79,
                        "remaining_time": 369.828121,
                        "learn": [
                          0.925928086,
                          0.3577436839
                        ]
                      },
                      {
                        "test": [
                          0.9392338395,
                          0.3314245381
                        ],
                        "passed_time": 32.78073742,
                        "iteration": 80,
                        "remaining_time": 371.9197245,
                        "learn": [
                          0.9264494181,
                          0.3563419741
                        ]
                      },
                      {
                        "test": [
                          0.9395723641,
                          0.3304778717
                        ],
                        "passed_time": 33.29871962,
                        "iteration": 81,
                        "remaining_time": 372.783227,
                        "learn": [
                          0.9267787933,
                          0.3554378338
                        ]
                      },
                      {
                        "test": [
                          0.9399128258,
                          0.3295138302
                        ],
                        "passed_time": 33.88203821,
                        "iteration": 82,
                        "remaining_time": 374.3352896,
                        "learn": [
                          0.9271054268,
                          0.3545617606
                        ]
                      },
                      {
                        "test": [
                          0.9407107234,
                          0.3273924377
                        ],
                        "passed_time": 34.38368029,
                        "iteration": 83,
                        "remaining_time": 374.945847,
                        "learn": [
                          0.9277057946,
                          0.3530025023
                        ]
                      },
                      {
                        "test": [
                          0.9408796728,
                          0.3268795052
                        ],
                        "passed_time": 34.65748082,
                        "iteration": 84,
                        "remaining_time": 373.0775877,
                        "learn": [
                          0.9279252887,
                          0.3524808857
                        ]
                      },
                      {
                        "test": [
                          0.9413273335,
                          0.3255727005
                        ],
                        "passed_time": 35.34366359,
                        "iteration": 85,
                        "remaining_time": 375.6291689,
                        "learn": [
                          0.928368181,
                          0.3513273942
                        ]
                      },
                      {
                        "test": [
                          0.9414642751,
                          0.3249938769
                        ],
                        "passed_time": 35.76963207,
                        "iteration": 86,
                        "remaining_time": 375.3755642,
                        "learn": [
                          0.928591609,
                          0.3507109781
                        ]
                      },
                      {
                        "test": [
                          0.9416019619,
                          0.3245857884
                        ],
                        "passed_time": 36.10955998,
                        "iteration": 87,
                        "remaining_time": 374.2263489,
                        "learn": [
                          0.9287340939,
                          0.3502890581
                        ]
                      },
                      {
                        "test": [
                          0.9421858191,
                          0.3228207629
                        ],
                        "passed_time": 36.48674355,
                        "iteration": 88,
                        "remaining_time": 373.4766671,
                        "learn": [
                          0.9291668832,
                          0.3489845598
                        ]
                      },
                      {
                        "test": [
                          0.9423643947,
                          0.322325017
                        ],
                        "passed_time": 36.78117112,
                        "iteration": 89,
                        "remaining_time": 371.898508,
                        "learn": [
                          0.9293488264,
                          0.3485456827
                        ]
                      },
                      {
                        "test": [
                          0.9438368082,
                          0.3186448927
                        ],
                        "passed_time": 37.16738467,
                        "iteration": 90,
                        "remaining_time": 371.2654139,
                        "learn": [
                          0.9305275381,
                          0.3457638981
                        ]
                      },
                      {
                        "test": [
                          0.9439074993,
                          0.318153915
                        ],
                        "passed_time": 37.5920301,
                        "iteration": 91,
                        "remaining_time": 371.0169928,
                        "learn": [
                          0.9307268262,
                          0.3451013613
                        ]
                      },
                      {
                        "test": [
                          0.9439753592,
                          0.3178431007
                        ],
                        "passed_time": 37.98014765,
                        "iteration": 92,
                        "remaining_time": 370.4085368,
                        "learn": [
                          0.9308644533,
                          0.3446865312
                        ]
                      },
                      {
                        "test": [
                          0.9441719949,
                          0.3171727407
                        ],
                        "passed_time": 38.37707959,
                        "iteration": 93,
                        "remaining_time": 369.8897246,
                        "learn": [
                          0.9310559332,
                          0.3440855008
                        ]
                      },
                      {
                        "test": [
                          0.9443595111,
                          0.3166882281
                        ],
                        "passed_time": 38.7580897,
                        "iteration": 94,
                        "remaining_time": 369.2218019,
                        "learn": [
                          0.9313131869,
                          0.3435408605
                        ]
                      },
                      {
                        "test": [
                          0.9449444711,
                          0.3149818204
                        ],
                        "passed_time": 39.12836543,
                        "iteration": 95,
                        "remaining_time": 368.4587745,
                        "learn": [
                          0.9318242669,
                          0.3421845769
                        ]
                      },
                      {
                        "test": [
                          0.9449794292,
                          0.3145902989
                        ],
                        "passed_time": 39.51230735,
                        "iteration": 96,
                        "remaining_time": 367.8310674,
                        "learn": [
                          0.9319284558,
                          0.3417223836
                        ]
                      },
                      {
                        "test": [
                          0.9450772405,
                          0.3142396698
                        ],
                        "passed_time": 39.84560867,
                        "iteration": 97,
                        "remaining_time": 366.7422349,
                        "learn": [
                          0.9320562482,
                          0.3413424546
                        ]
                      },
                      {
                        "test": [
                          0.9452041388,
                          0.3138323894
                        ],
                        "passed_time": 40.25594519,
                        "iteration": 98,
                        "remaining_time": 366.3697638,
                        "learn": [
                          0.9322174191,
                          0.3409054779
                        ]
                      },
                      {
                        "test": [
                          0.9452551901,
                          0.3135231644
                        ],
                        "passed_time": 40.658739,
                        "iteration": 99,
                        "remaining_time": 365.928651,
                        "learn": [
                          0.9323508739,
                          0.3404988706
                        ]
                      },
                      {
                        "test": [
                          0.9454188645,
                          0.3131343098
                        ],
                        "passed_time": 40.93242703,
                        "iteration": 100,
                        "remaining_time": 364.3391277,
                        "learn": [
                          0.932505101,
                          0.3401481416
                        ]
                      },
                      {
                        "test": [
                          0.9455628991,
                          0.3127851084
                        ],
                        "passed_time": 41.30921298,
                        "iteration": 101,
                        "remaining_time": 363.6830712,
                        "learn": [
                          0.9326828122,
                          0.3397559333
                        ]
                      },
                      {
                        "test": [
                          0.9456074834,
                          0.3124436652
                        ],
                        "passed_time": 41.67825298,
                        "iteration": 102,
                        "remaining_time": 362.9649798,
                        "learn": [
                          0.9328115284,
                          0.3393271062
                        ]
                      },
                      {
                        "test": [
                          0.9457027912,
                          0.3120613567
                        ],
                        "passed_time": 42.10592756,
                        "iteration": 103,
                        "remaining_time": 362.7587605,
                        "learn": [
                          0.9329341948,
                          0.3389475792
                        ]
                      },
                      {
                        "test": [
                          0.9458341599,
                          0.3115704597
                        ],
                        "passed_time": 42.46591758,
                        "iteration": 104,
                        "remaining_time": 361.9713927,
                        "learn": [
                          0.9331172109,
                          0.3384378034
                        ]
                      },
                      {
                        "test": [
                          0.9458472133,
                          0.3112939918
                        ],
                        "passed_time": 42.86703933,
                        "iteration": 105,
                        "remaining_time": 361.5389921,
                        "learn": [
                          0.9332755208,
                          0.3379968432
                        ]
                      },
                      {
                        "test": [
                          0.9458912313,
                          0.3110302118
                        ],
                        "passed_time": 43.27230303,
                        "iteration": 106,
                        "remaining_time": 361.1417439,
                        "learn": [
                          0.933383733,
                          0.3376621943
                        ]
                      },
                      {
                        "test": [
                          0.9462063313,
                          0.3099756036
                        ],
                        "passed_time": 43.70275251,
                        "iteration": 107,
                        "remaining_time": 360.9523633,
                        "learn": [
                          0.933673501,
                          0.3367897026
                        ]
                      },
                      {
                        "test": [
                          0.9462566674,
                          0.3097781457
                        ],
                        "passed_time": 44.03763947,
                        "iteration": 108,
                        "remaining_time": 359.9774016,
                        "learn": [
                          0.9337786734,
                          0.3365213476
                        ]
                      },
                      {
                        "test": [
                          0.9463165104,
                          0.3094834675
                        ],
                        "passed_time": 44.40581352,
                        "iteration": 109,
                        "remaining_time": 359.2834003,
                        "learn": [
                          0.9339211583,
                          0.3361534422
                        ]
                      },
                      {
                        "test": [
                          0.9463910758,
                          0.3092040902
                        ],
                        "passed_time": 44.79272465,
                        "iteration": 110,
                        "remaining_time": 358.7453352,
                        "learn": [
                          0.9340507686,
                          0.3358343983
                        ]
                      },
                      {
                        "test": [
                          0.9465171397,
                          0.3088799145
                        ],
                        "passed_time": 45.13107814,
                        "iteration": 111,
                        "remaining_time": 357.8249767,
                        "learn": [
                          0.9342313409,
                          0.3354415687
                        ]
                      },
                      {
                        "test": [
                          0.9466380477,
                          0.3085275344
                        ],
                        "passed_time": 45.46082965,
                        "iteration": 112,
                        "remaining_time": 356.8473973,
                        "learn": [
                          0.9343831539,
                          0.3350720553
                        ]
                      },
                      {
                        "test": [
                          0.9470949173,
                          0.3072375661
                        ],
                        "passed_time": 45.90474647,
                        "iteration": 113,
                        "remaining_time": 356.7684682,
                        "learn": [
                          0.9348612428,
                          0.3338969653
                        ]
                      },
                      {
                        "test": [
                          0.9472515583,
                          0.3068150655
                        ],
                        "passed_time": 46.30438266,
                        "iteration": 114,
                        "remaining_time": 356.342423,
                        "learn": [
                          0.9350858033,
                          0.3334009672
                        ]
                      },
                      {
                        "test": [
                          0.9474993944,
                          0.3059639494
                        ],
                        "passed_time": 46.77343849,
                        "iteration": 115,
                        "remaining_time": 356.4458588,
                        "learn": [
                          0.9353340566,
                          0.3326386242
                        ]
                      },
                      {
                        "test": [
                          0.9478627443,
                          0.3047660025
                        ],
                        "passed_time": 47.13143559,
                        "iteration": 116,
                        "remaining_time": 355.7013472,
                        "learn": [
                          0.9356269836,
                          0.3316829545
                        ]
                      },
                      {
                        "test": [
                          0.9479097724,
                          0.3046305297
                        ],
                        "passed_time": 47.39085361,
                        "iteration": 117,
                        "remaining_time": 354.2265499,
                        "learn": [
                          0.9357137084,
                          0.3315051962
                        ]
                      },
                      {
                        "test": [
                          0.9480111003,
                          0.3043244834
                        ],
                        "passed_time": 47.72810649,
                        "iteration": 118,
                        "remaining_time": 353.3484186,
                        "learn": [
                          0.9358753562,
                          0.3311157654
                        ]
                      },
                      {
                        "test": [
                          0.9481366277,
                          0.3040481771
                        ],
                        "passed_time": 48.16203069,
                        "iteration": 119,
                        "remaining_time": 353.1882251,
                        "learn": [
                          0.9360635281,
                          0.3307713954
                        ]
                      },
                      {
                        "test": [
                          0.9481732845,
                          0.3038885137
                        ],
                        "passed_time": 48.53306443,
                        "iteration": 120,
                        "remaining_time": 352.5666416,
                        "learn": [
                          0.9361572862,
                          0.3305432407
                        ]
                      },
                      {
                        "test": [
                          0.9492784142,
                          0.3008152289
                        ],
                        "passed_time": 48.93099315,
                        "iteration": 121,
                        "remaining_time": 352.1427212,
                        "learn": [
                          0.93700248,
                          0.32832415
                        ]
                      },
                      {
                        "test": [
                          0.9494026899,
                          0.3004930736
                        ],
                        "passed_time": 49.32432226,
                        "iteration": 122,
                        "remaining_time": 351.6864278,
                        "learn": [
                          0.9371834397,
                          0.3279354866
                        ]
                      },
                      {
                        "test": [
                          0.9494450688,
                          0.3003434582
                        ],
                        "passed_time": 49.65362245,
                        "iteration": 123,
                        "remaining_time": 350.7788167,
                        "learn": [
                          0.9372669458,
                          0.3277054681
                        ]
                      },
                      {
                        "test": [
                          0.9495470524,
                          0.3000577773
                        ],
                        "passed_time": 49.9329779,
                        "iteration": 124,
                        "remaining_time": 349.5308453,
                        "learn": [
                          0.9373863935,
                          0.3274131026
                        ]
                      },
                      {
                        "test": [
                          0.9496719241,
                          0.2996383477
                        ],
                        "passed_time": 50.31985458,
                        "iteration": 125,
                        "remaining_time": 349.0440706,
                        "learn": [
                          0.9375430048,
                          0.3269798169
                        ]
                      },
                      {
                        "test": [
                          0.9497482777,
                          0.2993599671
                        ],
                        "passed_time": 50.6557315,
                        "iteration": 126,
                        "remaining_time": 348.2082961,
                        "learn": [
                          0.9376638234,
                          0.3266343505
                        ]
                      },
                      {
                        "test": [
                          0.9498518109,
                          0.2990535977
                        ],
                        "passed_time": 51.03371372,
                        "iteration": 127,
                        "remaining_time": 347.6671747,
                        "learn": [
                          0.9377895594,
                          0.326291954
                        ]
                      },
                      {
                        "test": [
                          0.9499579668,
                          0.2987483596
                        ],
                        "passed_time": 51.31699991,
                        "iteration": 128,
                        "remaining_time": 346.4892009,
                        "learn": [
                          0.9379439354,
                          0.3259289457
                        ]
                      },
                      {
                        "test": [
                          0.9499822855,
                          0.298601869
                        ],
                        "passed_time": 51.68174588,
                        "iteration": 129,
                        "remaining_time": 345.8701455,
                        "learn": [
                          0.9380101562,
                          0.3257114623
                        ]
                      },
                      {
                        "test": [
                          0.9500870705,
                          0.2982493811
                        ],
                        "passed_time": 51.96119158,
                        "iteration": 130,
                        "remaining_time": 344.6891258,
                        "learn": [
                          0.938170135,
                          0.325301237
                        ]
                      },
                      {
                        "test": [
                          0.9501019418,
                          0.298044623
                        ],
                        "passed_time": 52.382289,
                        "iteration": 131,
                        "remaining_time": 344.4532337,
                        "learn": [
                          0.9382507205,
                          0.3249759073
                        ]
                      },
                      {
                        "test": [
                          0.9503769279,
                          0.2972260214
                        ],
                        "passed_time": 52.76075168,
                        "iteration": 132,
                        "remaining_time": 343.9366294,
                        "learn": [
                          0.9385684133,
                          0.3242049029
                        ]
                      },
                      {
                        "test": [
                          0.9504516721,
                          0.2969978
                        ],
                        "passed_time": 53.04988652,
                        "iteration": 133,
                        "remaining_time": 342.844789,
                        "learn": [
                          0.9387095571,
                          0.3239004408
                        ]
                      },
                      {
                        "test": [
                          0.9505052269,
                          0.2968463528
                        ],
                        "passed_time": 53.43852829,
                        "iteration": 134,
                        "remaining_time": 342.402422,
                        "learn": [
                          0.9388147593,
                          0.3236857349
                        ]
                      },
                      {
                        "test": [
                          0.9510302544,
                          0.2951409149
                        ],
                        "passed_time": 53.74739629,
                        "iteration": 135,
                        "remaining_time": 341.454047,
                        "learn": [
                          0.9393129349,
                          0.322281613
                        ]
                      },
                      {
                        "test": [
                          0.9510852695,
                          0.2949597816
                        ],
                        "passed_time": 54.09673019,
                        "iteration": 136,
                        "remaining_time": 340.7699135,
                        "learn": [
                          0.9393868446,
                          0.3220761897
                        ]
                      },
                      {
                        "test": [
                          0.9511240125,
                          0.2947218894
                        ],
                        "passed_time": 54.52078902,
                        "iteration": 137,
                        "remaining_time": 340.5573923,
                        "learn": [
                          0.9394703507,
                          0.3218054227
                        ]
                      },
                      {
                        "test": [
                          0.9511932731,
                          0.2944856942
                        ],
                        "passed_time": 54.84761629,
                        "iteration": 138,
                        "remaining_time": 339.7395513,
                        "learn": [
                          0.9395629168,
                          0.3215424765
                        ]
                      },
                      {
                        "test": [
                          0.9516763687,
                          0.2930069961
                        ],
                        "passed_time": 55.2177096,
                        "iteration": 139,
                        "remaining_time": 339.1945018,
                        "learn": [
                          0.9399555922,
                          0.3204358
                        ]
                      },
                      {
                        "test": [
                          0.9517682493,
                          0.2928108043
                        ],
                        "passed_time": 55.66141367,
                        "iteration": 140,
                        "remaining_time": 339.1003854,
                        "learn": [
                          0.940051198,
                          0.320234616
                        ]
                      },
                      {
                        "test": [
                          0.9520435333,
                          0.291786394
                        ],
                        "passed_time": 56.0251248,
                        "iteration": 141,
                        "remaining_time": 338.5180076,
                        "learn": [
                          0.9402951598,
                          0.3194086469
                        ]
                      },
                      {
                        "test": [
                          0.9520512223,
                          0.2915843566
                        ],
                        "passed_time": 56.42993283,
                        "iteration": 142,
                        "remaining_time": 338.1849821,
                        "learn": [
                          0.9403644502,
                          0.3191403285
                        ]
                      },
                      {
                        "test": [
                          0.9521726966,
                          0.2912834826
                        ],
                        "passed_time": 56.85437835,
                        "iteration": 143,
                        "remaining_time": 337.9676935,
                        "learn": [
                          0.9405226707,
                          0.3187916461
                        ]
                      },
                      {
                        "test": [
                          0.9522550106,
                          0.2910524326
                        ],
                        "passed_time": 57.22654016,
                        "iteration": 144,
                        "remaining_time": 337.4392541,
                        "learn": [
                          0.9406554699,
                          0.3185127294
                        ]
                      },
                      {
                        "test": [
                          0.9522925019,
                          0.2909316412
                        ],
                        "passed_time": 57.49619678,
                        "iteration": 145,
                        "remaining_time": 336.3133702,
                        "learn": [
                          0.9407219291,
                          0.3183705667
                        ]
                      },
                      {
                        "test": [
                          0.9526740313,
                          0.289657378
                        ],
                        "passed_time": 57.92722081,
                        "iteration": 146,
                        "remaining_time": 336.1355058,
                        "learn": [
                          0.9410663843,
                          0.3173528789
                        ]
                      },
                      {
                        "test": [
                          0.9527536631,
                          0.2894257354
                        ],
                        "passed_time": 58.25310178,
                        "iteration": 147,
                        "remaining_time": 335.3489373,
                        "learn": [
                          0.9411897659,
                          0.3170809059
                        ]
                      },
                      {
                        "test": [
                          0.9527609944,
                          0.2893261175
                        ],
                        "passed_time": 58.53505291,
                        "iteration": 148,
                        "remaining_time": 334.3176512,
                        "learn": [
                          0.9412292838,
                          0.3169280719
                        ]
                      },
                      {
                        "test": [
                          0.9528230429,
                          0.2890644926
                        ],
                        "passed_time": 58.9463164,
                        "iteration": 149,
                        "remaining_time": 334.0291263,
                        "learn": [
                          0.9413544536,
                          0.3165711301
                        ]
                      },
                      {
                        "test": [
                          0.9531884789,
                          0.2878052879
                        ],
                        "passed_time": 59.33394416,
                        "iteration": 150,
                        "remaining_time": 333.6060834,
                        "learn": [
                          0.9416763186,
                          0.3155583761
                        ]
                      },
                      {
                        "test": [
                          0.9532141685,
                          0.2875824272
                        ],
                        "passed_time": 59.7237847,
                        "iteration": 151,
                        "remaining_time": 333.1958515,
                        "learn": [
                          0.9417604804,
                          0.3152534023
                        ]
                      },
                      {
                        "test": [
                          0.9532762766,
                          0.2873917578
                        ],
                        "passed_time": 60.1263353,
                        "iteration": 152,
                        "remaining_time": 332.8562483,
                        "learn": [
                          0.941853106,
                          0.3150112871
                        ]
                      },
                      {
                        "test": [
                          0.9533521533,
                          0.2871788104
                        ],
                        "passed_time": 60.520963,
                        "iteration": 153,
                        "remaining_time": 332.4723033,
                        "learn": [
                          0.9419781566,
                          0.3147586468
                        ]
                      },
                      {
                        "test": [
                          0.9534221888,
                          0.2869349109
                        ],
                        "passed_time": 60.93683602,
                        "iteration": 154,
                        "remaining_time": 332.2040415,
                        "learn": [
                          0.9420859814,
                          0.3144715439
                        ]
                      },
                      {
                        "test": [
                          0.9534541965,
                          0.2868345657
                        ],
                        "passed_time": 61.31438323,
                        "iteration": 155,
                        "remaining_time": 331.7265349,
                        "learn": [
                          0.9421557784,
                          0.3143091714
                        ]
                      },
                      {
                        "test": [
                          0.9535458088,
                          0.2865385674
                        ],
                        "passed_time": 61.69499441,
                        "iteration": 156,
                        "remaining_time": 331.2667534,
                        "learn": [
                          0.9422746897,
                          0.313962097
                        ]
                      },
                      {
                        "test": [
                          0.9535833001,
                          0.2864167793
                        ],
                        "passed_time": 62.10388021,
                        "iteration": 157,
                        "remaining_time": 330.9586528,
                        "learn": [
                          0.9423937798,
                          0.3137168024
                        ]
                      },
                      {
                        "test": [
                          0.9536604285,
                          0.2862747874
                        ],
                        "passed_time": 62.42553774,
                        "iteration": 158,
                        "remaining_time": 330.1879071,
                        "learn": [
                          0.942483902,
                          0.313572118
                        ]
                      },
                      {
                        "test": [
                          0.9537208676,
                          0.2860628906
                        ],
                        "passed_time": 62.75953848,
                        "iteration": 159,
                        "remaining_time": 329.487577,
                        "learn": [
                          0.9425778389,
                          0.3133056999
                        ]
                      },
                      {
                        "test": [
                          0.9538013339,
                          0.2858149773
                        ],
                        "passed_time": 63.20332161,
                        "iteration": 160,
                        "remaining_time": 329.3638934,
                        "learn": [
                          0.9426714182,
                          0.3130514516
                        ]
                      },
                      {
                        "test": [
                          0.9538961649,
                          0.2855517091
                        ],
                        "passed_time": 63.60264202,
                        "iteration": 161,
                        "remaining_time": 329.0062593,
                        "learn": [
                          0.942805469,
                          0.3127371587
                        ]
                      },
                      {
                        "test": [
                          0.9539633989,
                          0.2853435837
                        ],
                        "passed_time": 63.93490585,
                        "iteration": 162,
                        "remaining_time": 328.3037803,
                        "learn": [
                          0.9428970814,
                          0.312510685
                        ]
                      },
                      {
                        "test": [
                          0.9539784789,
                          0.2852269677
                        ],
                        "passed_time": 64.33901991,
                        "iteration": 163,
                        "remaining_time": 327.9720771,
                        "learn": [
                          0.9429443479,
                          0.3123443656
                        ]
                      },
                      {
                        "test": [
                          0.9540120363,
                          0.2851294241
                        ],
                        "passed_time": 64.73947069,
                        "iteration": 164,
                        "remaining_time": 327.6209577,
                        "learn": [
                          0.9429934621,
                          0.3122354229
                        ]
                      },
                      {
                        "test": [
                          0.9540582895,
                          0.2849205444
                        ],
                        "passed_time": 65.07368237,
                        "iteration": 165,
                        "remaining_time": 326.9364524,
                        "learn": [
                          0.9430627823,
                          0.3119832211
                        ]
                      },
                      {
                        "test": [
                          0.9540963769,
                          0.2848165625
                        ],
                        "passed_time": 65.48693165,
                        "iteration": 166,
                        "remaining_time": 326.6503836,
                        "learn": [
                          0.9431310296,
                          0.3118133202
                        ]
                      },
                      {
                        "test": [
                          0.9541504681,
                          0.2846255428
                        ],
                        "passed_time": 65.85961356,
                        "iteration": 167,
                        "remaining_time": 326.1618957,
                        "learn": [
                          0.9432070255,
                          0.3116125748
                        ]
                      },
                      {
                        "test": [
                          0.954182148,
                          0.2845474487
                        ],
                        "passed_time": 66.27267245,
                        "iteration": 168,
                        "remaining_time": 325.8733184,
                        "learn": [
                          0.9432883859,
                          0.311475163
                        ]
                      },
                      {
                        "test": [
                          0.9542187452,
                          0.2844276809
                        ],
                        "passed_time": 66.65540629,
                        "iteration": 169,
                        "remaining_time": 325.435219,
                        "learn": [
                          0.9433552623,
                          0.3112941157
                        ]
                      },
                      {
                        "test": [
                          0.954289794,
                          0.2842196093
                        ],
                        "passed_time": 66.9879217,
                        "iteration": 170,
                        "remaining_time": 324.7543105,
                        "learn": [
                          0.9434396625,
                          0.3110743299
                        ]
                      },
                      {
                        "test": [
                          0.9546286464,
                          0.2832517695
                        ],
                        "passed_time": 67.34795375,
                        "iteration": 171,
                        "remaining_time": 324.2099169,
                        "learn": [
                          0.943774581,
                          0.3102542447
                        ]
                      },
                      {
                        "test": [
                          0.9551025033,
                          0.281667123
                        ],
                        "passed_time": 67.71643218,
                        "iteration": 172,
                        "remaining_time": 323.7080313,
                        "learn": [
                          0.9441866875,
                          0.3089273439
                        ]
                      },
                      {
                        "test": [
                          0.9551567435,
                          0.2814856126
                        ],
                        "passed_time": 68.06811242,
                        "iteration": 173,
                        "remaining_time": 323.127936,
                        "learn": [
                          0.9442961216,
                          0.3086593909
                        ]
                      },
                      {
                        "test": [
                          0.955365479,
                          0.2808843224
                        ],
                        "passed_time": 68.39257799,
                        "iteration": 174,
                        "remaining_time": 322.4221534,
                        "learn": [
                          0.9445393085,
                          0.3081057968
                        ]
                      },
                      {
                        "test": [
                          0.9553934932,
                          0.2807570658
                        ],
                        "passed_time": 68.78174521,
                        "iteration": 175,
                        "remaining_time": 322.0236253,
                        "learn": [
                          0.9446113706,
                          0.3078992041
                        ]
                      },
                      {
                        "test": [
                          0.9554391205,
                          0.2805793538
                        ],
                        "passed_time": 69.07666914,
                        "iteration": 176,
                        "remaining_time": 321.1869983,
                        "learn": [
                          0.9446899295,
                          0.307681209
                        ]
                      },
                      {
                        "test": [
                          0.9558691382,
                          0.2792902206
                        ],
                        "passed_time": 69.47125546,
                        "iteration": 177,
                        "remaining_time": 320.8166966,
                        "learn": [
                          0.9451156855,
                          0.3066108955
                        ]
                      },
                      {
                        "test": [
                          0.9558948874,
                          0.2791902794
                        ],
                        "passed_time": 69.87545915,
                        "iteration": 178,
                        "remaining_time": 320.4902344,
                        "learn": [
                          0.9451844096,
                          0.3064421641
                        ]
                      },
                      {
                        "test": [
                          0.9559276104,
                          0.2790999014
                        ],
                        "passed_time": 70.22019564,
                        "iteration": 179,
                        "remaining_time": 319.8920024,
                        "learn": [
                          0.9452414513,
                          0.3063196081
                        ]
                      },
                      {
                        "test": [
                          0.9559534788,
                          0.2789806993
                        ],
                        "passed_time": 70.6234629,
                        "iteration": 180,
                        "remaining_time": 319.561415,
                        "learn": [
                          0.9452832341,
                          0.3061823791
                        ]
                      },
                      {
                        "test": [
                          0.9560985565,
                          0.2782460645
                        ],
                        "passed_time": 71.04264309,
                        "iteration": 181,
                        "remaining_time": 319.3015497,
                        "learn": [
                          0.9454371333,
                          0.3055633865
                        ]
                      },
                      {
                        "test": [
                          0.956248045,
                          0.2777195012
                        ],
                        "passed_time": 71.41430624,
                        "iteration": 182,
                        "remaining_time": 318.8278043,
                        "learn": [
                          0.9456257224,
                          0.305040838
                        ]
                      },
                      {
                        "test": [
                          0.9562596977,
                          0.2776721706
                        ],
                        "passed_time": 71.78676454,
                        "iteration": 183,
                        "remaining_time": 318.3586949,
                        "learn": [
                          0.9456697702,
                          0.3049441198
                        ]
                      },
                      {
                        "test": [
                          0.9562998414,
                          0.2775622892
                        ],
                        "passed_time": 72.16592632,
                        "iteration": 184,
                        "remaining_time": 317.9201619,
                        "learn": [
                          0.9457448125,
                          0.3047733235
                        ]
                      },
                      {
                        "test": [
                          0.9567753673,
                          0.2759293154
                        ],
                        "passed_time": 72.48905886,
                        "iteration": 185,
                        "remaining_time": 317.237064,
                        "learn": [
                          0.9461027384,
                          0.3035699289
                        ]
                      },
                      {
                        "test": [
                          0.956806004,
                          0.2758034865
                        ],
                        "passed_time": 72.89152488,
                        "iteration": 186,
                        "remaining_time": 316.9027258,
                        "learn": [
                          0.9461704493,
                          0.303389649
                        ]
                      },
                      {
                        "test": [
                          0.9568408728,
                          0.2756828028
                        ],
                        "passed_time": 73.29371886,
                        "iteration": 187,
                        "remaining_time": 316.5664878,
                        "learn": [
                          0.9462259412,
                          0.3032229824
                        ]
                      },
                      {
                        "test": [
                          0.9568628669,
                          0.275596708
                        ],
                        "passed_time": 73.679456,
                        "iteration": 188,
                        "remaining_time": 316.1589355,
                        "learn": [
                          0.9462913871,
                          0.3030833413
                        ]
                      },
                      {
                        "test": [
                          0.9568784237,
                          0.2755173207
                        ],
                        "passed_time": 74.07154077,
                        "iteration": 189,
                        "remaining_time": 315.7786738,
                        "learn": [
                          0.946353972,
                          0.3029359526
                        ]
                      },
                      {
                        "test": [
                          0.9569395781,
                          0.2753212098
                        ],
                        "passed_time": 74.40217733,
                        "iteration": 190,
                        "remaining_time": 315.1380181,
                        "learn": [
                          0.9464550018,
                          0.3026724216
                        ]
                      },
                      {
                        "test": [
                          0.9569895864,
                          0.2751300286
                        ],
                        "passed_time": 74.73403102,
                        "iteration": 191,
                        "remaining_time": 314.5057139,
                        "learn": [
                          0.9465191364,
                          0.3024646229
                        ]
                      },
                      {
                        "test": [
                          0.9570029974,
                          0.2750382767
                        ],
                        "passed_time": 75.13799835,
                        "iteration": 192,
                        "remaining_time": 314.1780553,
                        "learn": [
                          0.9465765357,
                          0.3023085362
                        ]
                      },
                      {
                        "test": [
                          0.9570555687,
                          0.2748984399
                        ],
                        "passed_time": 75.53858558,
                        "iteration": 193,
                        "remaining_time": 313.8355669,
                        "learn": [
                          0.9466436505,
                          0.3021476621
                        ]
                      },
                      {
                        "test": [
                          0.957079947,
                          0.2748073883
                        ],
                        "passed_time": 75.9246744,
                        "iteration": 194,
                        "remaining_time": 313.4326302,
                        "learn": [
                          0.9466966391,
                          0.3019987019
                        ]
                      },
                      {
                        "test": [
                          0.957123816,
                          0.2746385928
                        ],
                        "passed_time": 76.26988346,
                        "iteration": 195,
                        "remaining_time": 312.862175,
                        "learn": [
                          0.9467739463,
                          0.3018043702
                        ]
                      },
                      {
                        "test": [
                          0.9571433663,
                          0.2745047902
                        ],
                        "passed_time": 76.56016878,
                        "iteration": 196,
                        "remaining_time": 312.0701296,
                        "learn": [
                          0.9468312562,
                          0.3016165985
                        ]
                      },
                      {
                        "test": [
                          0.9572073221,
                          0.2743250039
                        ],
                        "passed_time": 76.83769425,
                        "iteration": 197,
                        "remaining_time": 311.2314686,
                        "learn": [
                          0.9469253421,
                          0.3013956067
                        ]
                      },
                      {
                        "test": [
                          0.9572287202,
                          0.2742348683
                        ],
                        "passed_time": 77.16365651,
                        "iteration": 198,
                        "remaining_time": 310.5934114,
                        "learn": [
                          0.9469724298,
                          0.3012580853
                        ]
                      },
                      {
                        "test": [
                          0.957270205,
                          0.2740682009
                        ],
                        "passed_time": 77.48479996,
                        "iteration": 199,
                        "remaining_time": 309.9391999,
                        "learn": [
                          0.9470530152,
                          0.3010278474
                        ]
                      },
                      {
                        "test": [
                          0.9573612213,
                          0.2736501452
                        ],
                        "passed_time": 77.78595616,
                        "iteration": 200,
                        "remaining_time": 309.2088506,
                        "learn": [
                          0.947132051,
                          0.3007066657
                        ]
                      },
                      {
                        "test": [
                          0.9574375749,
                          0.2733304682
                        ],
                        "passed_time": 78.11451844,
                        "iteration": 201,
                        "remaining_time": 308.5910184,
                        "learn": [
                          0.9472329617,
                          0.3003851915
                        ]
                      },
                      {
                        "test": [
                          0.9574402571,
                          0.2732948018
                        ],
                        "passed_time": 78.47898382,
                        "iteration": 202,
                        "remaining_time": 308.1169956,
                        "learn": [
                          0.9472747445,
                          0.300293608
                        ]
                      },
                      {
                        "test": [
                          0.9575099349,
                          0.2730712946
                        ],
                        "passed_time": 78.77443522,
                        "iteration": 203,
                        "remaining_time": 307.374757,
                        "learn": [
                          0.9473669529,
                          0.3000372766
                        ]
                      },
                      {
                        "test": [
                          0.9575381279,
                          0.2729689021
                        ],
                        "passed_time": 79.14616279,
                        "iteration": 204,
                        "remaining_time": 306.9326801,
                        "learn": [
                          0.9474367499,
                          0.2998680518
                        ]
                      },
                      {
                        "test": [
                          0.9575551152,
                          0.2728569734
                        ],
                        "passed_time": 79.5529028,
                        "iteration": 205,
                        "remaining_time": 306.626237,
                        "learn": [
                          0.9474784136,
                          0.2997136645
                        ]
                      },
                      {
                        "test": [
                          0.9576237798,
                          0.2726519997
                        ],
                        "passed_time": 79.94136621,
                        "iteration": 206,
                        "remaining_time": 306.2488087,
                        "learn": [
                          0.9475561976,
                          0.2994913754
                        ]
                      },
                      {
                        "test": [
                          0.9576595426,
                          0.272501226
                        ],
                        "passed_time": 80.32686818,
                        "iteration": 207,
                        "remaining_time": 305.8599981,
                        "learn": [
                          0.9476074576,
                          0.2993199761
                        ]
                      },
                      {
                        "test": [
                          0.9578077197,
                          0.2719894788
                        ],
                        "passed_time": 80.74751248,
                        "iteration": 208,
                        "remaining_time": 305.6042219,
                        "learn": [
                          0.9477618933,
                          0.2989054567
                        ]
                      },
                      {
                        "test": [
                          0.9578217864,
                          0.2719050002
                        ],
                        "passed_time": 81.16230817,
                        "iteration": 209,
                        "remaining_time": 305.3248736,
                        "learn": [
                          0.9478137493,
                          0.2987490411
                        ]
                      },
                      {
                        "test": [
                          0.9578424096,
                          0.2717974894
                        ],
                        "passed_time": 81.4204126,
                        "iteration": 210,
                        "remaining_time": 304.4583201,
                        "learn": [
                          0.9478594661,
                          0.2986224103
                        ]
                      },
                      {
                        "test": [
                          0.9578674436,
                          0.2717016428
                        ],
                        "passed_time": 81.82170104,
                        "iteration": 211,
                        "remaining_time": 304.1297189,
                        "learn": [
                          0.9479297996,
                          0.2984628153
                        ]
                      },
                      {
                        "test": [
                          0.9580844045,
                          0.270832478
                        ],
                        "passed_time": 82.2637555,
                        "iteration": 212,
                        "remaining_time": 303.9510591,
                        "learn": [
                          0.9480965734,
                          0.2978200315
                        ]
                      },
                      {
                        "test": [
                          0.9581224322,
                          0.2707446322
                        ],
                        "passed_time": 82.59275629,
                        "iteration": 213,
                        "remaining_time": 303.354703,
                        "learn": [
                          0.9481515288,
                          0.2977006916
                        ]
                      },
                      {
                        "test": [
                          0.9581370354,
                          0.2706147895
                        ],
                        "passed_time": 82.96973606,
                        "iteration": 214,
                        "remaining_time": 302.9360131,
                        "learn": [
                          0.9482008219,
                          0.2975235363
                        ]
                      },
                      {
                        "test": [
                          0.9582551718,
                          0.2702096911
                        ],
                        "passed_time": 83.37888986,
                        "iteration": 215,
                        "remaining_time": 302.6344891,
                        "learn": [
                          0.9483323097,
                          0.2971574765
                        ]
                      },
                      {
                        "test": [
                          0.9583002925,
                          0.2700484383
                        ],
                        "passed_time": 83.81962694,
                        "iteration": 216,
                        "remaining_time": 302.445935,
                        "learn": [
                          0.9484151304,
                          0.2969338717
                        ]
                      },
                      {
                        "test": [
                          0.9583158493,
                          0.2699893895
                        ],
                        "passed_time": 84.19919869,
                        "iteration": 217,
                        "remaining_time": 302.0356577,
                        "learn": [
                          0.9484593868,
                          0.2968316534
                        ]
                      },
                      {
                        "test": [
                          0.9583842754,
                          0.2697884566
                        ],
                        "passed_time": 84.60750855,
                        "iteration": 218,
                        "remaining_time": 301.7281469,
                        "learn": [
                          0.9485629201,
                          0.2965676473
                        ]
                      },
                      {
                        "test": [
                          0.9584363103,
                          0.2696846633
                        ],
                        "passed_time": 84.97272408,
                        "iteration": 219,
                        "remaining_time": 301.2669308,
                        "learn": [
                          0.9486356974,
                          0.2964288834
                        ]
                      },
                      {
                        "test": [
                          0.9584587812,
                          0.2696137616
                        ],
                        "passed_time": 85.36469441,
                        "iteration": 220,
                        "remaining_time": 300.9008912,
                        "learn": [
                          0.948669076,
                          0.2963370623
                        ]
                      },
                      {
                        "test": [
                          0.9584834874,
                          0.2694294766
                        ],
                        "passed_time": 85.75142694,
                        "iteration": 221,
                        "remaining_time": 300.516262,
                        "learn": [
                          0.9487189651,
                          0.2961151935
                        ]
                      },
                      {
                        "test": [
                          0.9584921598,
                          0.2693516788
                        ],
                        "passed_time": 86.14228173,
                        "iteration": 222,
                        "remaining_time": 300.1459771,
                        "learn": [
                          0.9487711191,
                          0.2959746753
                        ]
                      },
                      {
                        "test": [
                          0.9585025311,
                          0.2692918757
                        ],
                        "passed_time": 86.55913917,
                        "iteration": 223,
                        "remaining_time": 299.8655893,
                        "learn": [
                          0.9488272071,
                          0.2958448833
                        ]
                      },
                      {
                        "test": [
                          0.9587776661,
                          0.2682472078
                        ],
                        "passed_time": 86.91973662,
                        "iteration": 224,
                        "remaining_time": 299.3902039,
                        "learn": [
                          0.9490693212,
                          0.2949982659
                        ]
                      },
                      {
                        "test": [
                          0.9588443637,
                          0.26800778
                        ],
                        "passed_time": 87.3041098,
                        "iteration": 225,
                        "remaining_time": 298.997261,
                        "learn": [
                          0.9491536021,
                          0.2947522403
                        ]
                      },
                      {
                        "test": [
                          0.9588828087,
                          0.2679094282
                        ],
                        "passed_time": 87.73518384,
                        "iteration": 226,
                        "remaining_time": 298.7634234,
                        "learn": [
                          0.9492171407,
                          0.2946015259
                        ]
                      },
                      {
                        "test": [
                          0.9589430094,
                          0.2677060439
                        ],
                        "passed_time": 88.16635626,
                        "iteration": 227,
                        "remaining_time": 298.5281888,
                        "learn": [
                          0.9492970705,
                          0.2943766603
                        ]
                      },
                      {
                        "test": [
                          0.9589740634,
                          0.2676232086
                        ],
                        "passed_time": 88.55222523,
                        "iteration": 228,
                        "remaining_time": 298.1387146,
                        "learn": [
                          0.9493547678,
                          0.294247453
                        ]
                      },
                      {
                        "test": [
                          0.9589910507,
                          0.2675587991
                        ],
                        "passed_time": 88.89418973,
                        "iteration": 229,
                        "remaining_time": 297.6022874,
                        "learn": [
                          0.9493894577,
                          0.2941538595
                        ]
                      },
                      {
                        "test": [
                          0.9590065479,
                          0.2674982417
                        ],
                        "passed_time": 89.2994332,
                        "iteration": 230,
                        "remaining_time": 297.2781997,
                        "learn": [
                          0.9494370818,
                          0.2940458488
                        ]
                      },
                      {
                        "test": [
                          0.9590068758,
                          0.2674764217
                        ],
                        "passed_time": 89.62330171,
                        "iteration": 231,
                        "remaining_time": 296.6840332,
                        "learn": [
                          0.9494646192,
                          0.2939725747
                        ]
                      },
                      {
                        "test": [
                          0.9590443969,
                          0.2673898689
                        ],
                        "passed_time": 90.04790152,
                        "iteration": 232,
                        "remaining_time": 296.4237788,
                        "learn": [
                          0.9495315552,
                          0.2938323123
                        ]
                      },
                      {
                        "test": [
                          0.9590725303,
                          0.2673150342
                        ],
                        "passed_time": 90.43330906,
                        "iteration": 233,
                        "remaining_time": 296.0338237,
                        "learn": [
                          0.9495837688,
                          0.2937256537
                        ]
                      },
                      {
                        "test": [
                          0.9591313601,
                          0.2671813394
                        ],
                        "passed_time": 90.81878893,
                        "iteration": 234,
                        "remaining_time": 295.6441427,
                        "learn": [
                          0.9496596456,
                          0.2935621483
                        ]
                      },
                      {
                        "test": [
                          0.9591345191,
                          0.2671149903
                        ],
                        "passed_time": 91.20991998,
                        "iteration": 235,
                        "remaining_time": 295.2727918,
                        "learn": [
                          0.9496892095,
                          0.293433471
                        ]
                      },
                      {
                        "test": [
                          0.9591391981,
                          0.2670805901
                        ],
                        "passed_time": 91.57152643,
                        "iteration": 236,
                        "remaining_time": 294.8062222,
                        "learn": [
                          0.9497247338,
                          0.2933417413
                        ]
                      },
                      {
                        "test": [
                          0.9591545463,
                          0.2670037889
                        ],
                        "passed_time": 92.0169714,
                        "iteration": 237,
                        "remaining_time": 294.6089588,
                        "learn": [
                          0.9497842193,
                          0.2931938592
                        ]
                      },
                      {
                        "test": [
                          0.959181726,
                          0.2669019352
                        ],
                        "passed_time": 92.38342303,
                        "iteration": 238,
                        "remaining_time": 294.1580959,
                        "learn": [
                          0.9498428106,
                          0.2930399104
                        ]
                      },
                      {
                        "test": [
                          0.959212184,
                          0.2667782883
                        ],
                        "passed_time": 92.76067056,
                        "iteration": 239,
                        "remaining_time": 293.7421234,
                        "learn": [
                          0.9498847723,
                          0.2929086383
                        ]
                      },
                      {
                        "test": [
                          0.959215045,
                          0.2667192664
                        ],
                        "passed_time": 93.15086903,
                        "iteration": 240,
                        "remaining_time": 293.3672597,
                        "learn": [
                          0.9499172568,
                          0.2927943234
                        ]
                      },
                      {
                        "test": [
                          0.9592706561,
                          0.2665578251
                        ],
                        "passed_time": 93.56171766,
                        "iteration": 241,
                        "remaining_time": 293.0569504,
                        "learn": [
                          0.95001477,
                          0.2925578363
                        ]
                      },
                      {
                        "test": [
                          0.9593145251,
                          0.2664408589
                        ],
                        "passed_time": 93.91583096,
                        "iteration": 242,
                        "remaining_time": 292.5690701,
                        "learn": [
                          0.9500806928,
                          0.2924163314
                        ]
                      },
                      {
                        "test": [
                          0.9593367875,
                          0.2663608791
                        ],
                        "passed_time": 94.31861871,
                        "iteration": 243,
                        "remaining_time": 292.2330973,
                        "learn": [
                          0.9501274824,
                          0.29230346
                        ]
                      },
                      {
                        "test": [
                          0.9593951702,
                          0.2661843253
                        ],
                        "passed_time": 94.73778293,
                        "iteration": 244,
                        "remaining_time": 291.9470454,
                        "learn": [
                          0.9501816034,
                          0.292135423
                        ]
                      },
                      {
                        "test": [
                          0.959603101,
                          0.2653675286
                        ],
                        "passed_time": 95.09510513,
                        "iteration": 245,
                        "remaining_time": 291.4703629,
                        "learn": [
                          0.9503430128,
                          0.2915382847
                        ]
                      },
                      {
                        "test": [
                          0.9596179724,
                          0.2653201172
                        ],
                        "passed_time": 95.51777116,
                        "iteration": 246,
                        "remaining_time": 291.193853,
                        "learn": [
                          0.9503783584,
                          0.291437912
                        ]
                      },
                      {
                        "test": [
                          0.9596502781,
                          0.2652342648
                        ],
                        "passed_time": 95.91295315,
                        "iteration": 247,
                        "remaining_time": 290.8328257,
                        "learn": [
                          0.9504363537,
                          0.2912975217
                        ]
                      },
                      {
                        "test": [
                          0.9596853852,
                          0.2651443447
                        ],
                        "passed_time": 96.28708662,
                        "iteration": 248,
                        "remaining_time": 290.4080404,
                        "learn": [
                          0.950491786,
                          0.2911855823
                        ]
                      },
                      {
                        "test": [
                          0.9596938491,
                          0.2650290756
                        ],
                        "passed_time": 96.72492213,
                        "iteration": 249,
                        "remaining_time": 290.1747664,
                        "learn": [
                          0.9505488873,
                          0.2909907024
                        ]
                      },
                      {
                        "test": [
                          0.9597118497,
                          0.2649894763
                        ],
                        "passed_time": 97.09937715,
                        "iteration": 250,
                        "remaining_time": 289.750731,
                        "learn": [
                          0.9505869746,
                          0.2909193652
                        ]
                      },
                      {
                        "test": [
                          0.9597163796,
                          0.2649124058
                        ],
                        "passed_time": 97.43901432,
                        "iteration": 251,
                        "remaining_time": 289.2237409,
                        "learn": [
                          0.9506008029,
                          0.2908309429
                        ]
                      },
                      {
                        "test": [
                          0.959743917,
                          0.2648220008
                        ],
                        "passed_time": 97.87280277,
                        "iteration": 252,
                        "remaining_time": 288.97622,
                        "learn": [
                          0.9506478906,
                          0.2907210318
                        ]
                      },
                      {
                        "test": [
                          0.9597941637,
                          0.2647060852
                        ],
                        "passed_time": 98.27052081,
                        "iteration": 253,
                        "remaining_time": 288.6212934,
                        "learn": [
                          0.9507003427,
                          0.2906047434
                        ]
                      },
                      {
                        "test": [
                          0.9599895477,
                          0.263909142
                        ],
                        "passed_time": 98.61658974,
                        "iteration": 254,
                        "remaining_time": 288.1151347,
                        "learn": [
                          0.9508736134,
                          0.2899422249
                        ]
                      },
                      {
                        "test": [
                          0.9600644708,
                          0.2636747517
                        ],
                        "passed_time": 99.05357675,
                        "iteration": 255,
                        "remaining_time": 287.8744574,
                        "learn": [
                          0.95098418,
                          0.2896677851
                        ]
                      },
                      {
                        "test": [
                          0.9600824714,
                          0.2635771003
                        ],
                        "passed_time": 99.45096935,
                        "iteration": 256,
                        "remaining_time": 287.517783,
                        "learn": [
                          0.9510388374,
                          0.2894966782
                        ]
                      },
                      {
                        "test": [
                          0.960103184,
                          0.2634898471
                        ],
                        "passed_time": 99.71467656,
                        "iteration": 257,
                        "remaining_time": 286.7763178,
                        "learn": [
                          0.9510723352,
                          0.2893915545
                        ]
                      },
                      {
                        "test": [
                          0.9601398706,
                          0.2633847338
                        ],
                        "passed_time": 100.0837958,
                        "iteration": 258,
                        "remaining_time": 286.3401262,
                        "learn": [
                          0.9511216879,
                          0.2892600631
                        ]
                      },
                      {
                        "test": [
                          0.9601330757,
                          0.2633570412
                        ],
                        "passed_time": 100.4286548,
                        "iteration": 259,
                        "remaining_time": 285.835402,
                        "learn": [
                          0.9511392713,
                          0.2891877209
                        ]
                      },
                      {
                        "test": [
                          0.9601333737,
                          0.2632833649
                        ],
                        "passed_time": 100.836165,
                        "iteration": 260,
                        "remaining_time": 285.5092947,
                        "learn": [
                          0.951197207,
                          0.2890015024
                        ]
                      },
                      {
                        "test": [
                          0.9602168202,
                          0.2629842149
                        ],
                        "passed_time": 101.1365964,
                        "iteration": 261,
                        "remaining_time": 284.8809471,
                        "learn": [
                          0.9512786269,
                          0.2887336956
                        ]
                      },
                      {
                        "test": [
                          0.960226357,
                          0.2629475788
                        ],
                        "passed_time": 101.5684675,
                        "iteration": 262,
                        "remaining_time": 284.6234242,
                        "learn": [
                          0.9513315558,
                          0.2886342731
                        ]
                      },
                      {
                        "test": [
                          0.9602704644,
                          0.2627943806
                        ],
                        "passed_time": 101.9230488,
                        "iteration": 263,
                        "remaining_time": 284.1491056,
                        "learn": [
                          0.9513962865,
                          0.2884480362
                        ]
                      },
                      {
                        "test": [
                          0.9602864981,
                          0.2627281123
                        ],
                        "passed_time": 102.3813969,
                        "iteration": 264,
                        "remaining_time": 283.9634971,
                        "learn": [
                          0.951438725,
                          0.2883285684
                        ]
                      },
                      {
                        "test": [
                          0.9603108764,
                          0.2626648612
                        ],
                        "passed_time": 102.8079484,
                        "iteration": 265,
                        "remaining_time": 283.6880983,
                        "learn": [
                          0.9514661431,
                          0.2882581448
                        ]
                      },
                      {
                        "test": [
                          0.9603433013,
                          0.262581945
                        ],
                        "passed_time": 103.2099398,
                        "iteration": 266,
                        "remaining_time": 283.3441419,
                        "learn": [
                          0.951525867,
                          0.2881337616
                        ]
                      },
                      {
                        "test": [
                          0.9603620768,
                          0.262522977
                        ],
                        "passed_time": 103.5977182,
                        "iteration": 267,
                        "remaining_time": 282.9609317,
                        "learn": [
                          0.9515662193,
                          0.2880345949
                        ]
                      },
                      {
                        "test": [
                          0.9603905082,
                          0.2624725754
                        ],
                        "passed_time": 103.9676718,
                        "iteration": 268,
                        "remaining_time": 282.5292494,
                        "learn": [
                          0.9516180158,
                          0.2879355561
                        ]
                      },
                      {
                        "test": [
                          0.9604025483,
                          0.2623818472
                        ],
                        "passed_time": 104.3277397,
                        "iteration": 269,
                        "remaining_time": 282.0712963,
                        "learn": [
                          0.9516609907,
                          0.2877841473
                        ]
                      },
                      {
                        "test": [
                          0.9604250789,
                          0.2622859198
                        ],
                        "passed_time": 104.6897915,
                        "iteration": 270,
                        "remaining_time": 281.6194022,
                        "learn": [
                          0.9517156482,
                          0.2876391888
                        ]
                      },
                      {
                        "test": [
                          0.9604405463,
                          0.262233444
                        ],
                        "passed_time": 105.060711,
                        "iteration": 271,
                        "remaining_time": 281.1919029,
                        "learn": [
                          0.9517602921,
                          0.2875325668
                        ]
                      },
                      {
                        "test": [
                          0.9604718685,
                          0.2621738295
                        ],
                        "passed_time": 105.4833327,
                        "iteration": 272,
                        "remaining_time": 280.9025013,
                        "learn": [
                          0.951811254,
                          0.2874423355
                        ]
                      },
                      {
                        "test": [
                          0.9604879618,
                          0.2621346881
                        ],
                        "passed_time": 105.8420126,
                        "iteration": 273,
                        "remaining_time": 280.442705,
                        "learn": [
                          0.9518383145,
                          0.2873736113
                        ]
                      },
                      {
                        "test": [
                          0.9607124329,
                          0.2613113454
                        ],
                        "passed_time": 106.2986987,
                        "iteration": 274,
                        "remaining_time": 280.2420239,
                        "learn": [
                          0.9519885778,
                          0.2867990583
                        ]
                      },
                      {
                        "test": [
                          0.9607194662,
                          0.2612793966
                        ],
                        "passed_time": 106.6820286,
                        "iteration": 275,
                        "remaining_time": 279.8470605,
                        "learn": [
                          0.9520158172,
                          0.2867370403
                        ]
                      },
                      {
                        "test": [
                          0.9607522488,
                          0.2611686801
                        ],
                        "passed_time": 107.0821436,
                        "iteration": 276,
                        "remaining_time": 279.4959923,
                        "learn": [
                          0.9520599842,
                          0.2865917712
                        ]
                      },
                      {
                        "test": [
                          0.9607647061,
                          0.2610835011
                        ],
                        "passed_time": 107.4171885,
                        "iteration": 277,
                        "remaining_time": 278.9755759,
                        "learn": [
                          0.9521084428,
                          0.2864569724
                        ]
                      },
                      {
                        "test": [
                          0.9607678652,
                          0.2610293551
                        ],
                        "passed_time": 107.7502735,
                        "iteration": 278,
                        "remaining_time": 278.4514237,
                        "learn": [
                          0.9521204829,
                          0.2863790753
                        ]
                      },
                      {
                        "test": [
                          0.9608434141,
                          0.2607921902
                        ],
                        "passed_time": 108.1019597,
                        "iteration": 279,
                        "remaining_time": 277.9764677,
                        "learn": [
                          0.9522140026,
                          0.2861234016
                        ]
                      },
                      {
                        "test": [
                          0.9609351754,
                          0.2605847113
                        ],
                        "passed_time": 108.521065,
                        "iteration": 280,
                        "remaining_time": 277.674896,
                        "learn": [
                          0.9523271322,
                          0.2858805373
                        ]
                      },
                      {
                        "test": [
                          0.9609724879,
                          0.2603852869
                        ],
                        "passed_time": 108.875829,
                        "iteration": 281,
                        "remaining_time": 277.2086711,
                        "learn": [
                          0.952394098,
                          0.2856340366
                        ]
                      },
                      {
                        "test": [
                          0.9609751701,
                          0.2603493242
                        ],
                        "passed_time": 109.2653826,
                        "iteration": 282,
                        "remaining_time": 276.8313758,
                        "learn": [
                          0.9524295926,
                          0.2855511327
                        ]
                      },
                      {
                        "test": [
                          0.9610028863,
                          0.2602608049
                        ],
                        "passed_time": 109.7031986,
                        "iteration": 283,
                        "remaining_time": 276.5756698,
                        "learn": [
                          0.9524695277,
                          0.2854386451
                        ]
                      },
                      {
                        "test": [
                          0.9610251188,
                          0.2601720701
                        ],
                        "passed_time": 110.0447176,
                        "iteration": 284,
                        "remaining_time": 276.0770984,
                        "learn": [
                          0.9525188208,
                          0.2852968296
                        ]
                      },
                      {
                        "test": [
                          0.9610129297,
                          0.2601307198
                        ],
                        "passed_time": 110.4550113,
                        "iteration": 285,
                        "remaining_time": 275.7513219,
                        "learn": [
                          0.9525279403,
                          0.2852055932
                        ]
                      },
                      {
                        "test": [
                          0.9610142708,
                          0.2601029733
                        ],
                        "passed_time": 110.8446359,
                        "iteration": 286,
                        "remaining_time": 275.3736078,
                        "learn": [
                          0.9525520205,
                          0.2851447264
                        ]
                      },
                      {
                        "test": [
                          0.9610456228,
                          0.2599800538
                        ],
                        "passed_time": 111.1162006,
                        "iteration": 287,
                        "remaining_time": 274.7039403,
                        "learn": [
                          0.9526005387,
                          0.285003258
                        ]
                      },
                      {
                        "test": [
                          0.9611052871,
                          0.2598082412
                        ],
                        "passed_time": 111.5441921,
                        "iteration": 288,
                        "remaining_time": 274.4218705,
                        "learn": [
                          0.9526645541,
                          0.28484306
                        ]
                      },
                      {
                        "test": [
                          0.96111691,
                          0.2597923745
                        ],
                        "passed_time": 111.9551275,
                        "iteration": 289,
                        "remaining_time": 274.0970362,
                        "learn": [
                          0.9526998401,
                          0.2847774057
                        ]
                      },
                      {
                        "test": [
                          0.9611771703,
                          0.2595872662
                        ],
                        "passed_time": 112.3583478,
                        "iteration": 290,
                        "remaining_time": 273.752813,
                        "learn": [
                          0.9527869821,
                          0.284543495
                        ]
                      },
                      {
                        "test": [
                          0.9611872435,
                          0.2595518692
                        ],
                        "passed_time": 112.7642893,
                        "iteration": 291,
                        "remaining_time": 273.4147837,
                        "learn": [
                          0.9528125525,
                          0.2844744237
                        ]
                      },
                      {
                        "test": [
                          0.9613157511,
                          0.2589952967
                        ],
                        "passed_time": 113.0677877,
                        "iteration": 292,
                        "remaining_time": 272.8290987,
                        "learn": [
                          0.9529268742,
                          0.2840239615
                        ]
                      },
                      {
                        "test": [
                          0.9613308311,
                          0.2589369752
                        ],
                        "passed_time": 113.4866459,
                        "iteration": 293,
                        "remaining_time": 272.5223537,
                        "learn": [
                          0.9529747367,
                          0.2839142148
                        ]
                      },
                      {
                        "test": [
                          0.961352706,
                          0.2587997514
                        ],
                        "passed_time": 113.7528571,
                        "iteration": 294,
                        "remaining_time": 271.8500482,
                        "learn": [
                          0.9530152082,
                          0.2837521165
                        ]
                      },
                      {
                        "test": [
                          0.96144104,
                          0.2585023255
                        ],
                        "passed_time": 114.0418395,
                        "iteration": 295,
                        "remaining_time": 271.2346454,
                        "learn": [
                          0.9531274438,
                          0.283445827
                        ]
                      },
                      {
                        "test": [
                          0.9614796042,
                          0.2583463257
                        ],
                        "passed_time": 114.434371,
                        "iteration": 296,
                        "remaining_time": 270.8665414,
                        "learn": [
                          0.9531841278,
                          0.283267009
                        ]
                      },
                      {
                        "test": [
                          0.9615041018,
                          0.2582883005
                        ],
                        "passed_time": 114.7678341,
                        "iteration": 297,
                        "remaining_time": 270.359126,
                        "learn": [
                          0.9532104135,
                          0.2832049362
                        ]
                      },
                      {
                        "test": [
                          0.9616221786,
                          0.2577113087
                        ],
                        "passed_time": 115.1976365,
                        "iteration": 298,
                        "remaining_time": 270.0787399,
                        "learn": [
                          0.9533080459,
                          0.2827435103
                        ]
                      },
                      {
                        "test": [
                          0.961797744,
                          0.2571276093
                        ],
                        "passed_time": 115.5088659,
                        "iteration": 299,
                        "remaining_time": 269.520687,
                        "learn": [
                          0.9535048008,
                          0.2821933515
                        ]
                      },
                      {
                        "test": [
                          0.9617842436,
                          0.257127313
                        ],
                        "passed_time": 115.902643,
                        "iteration": 300,
                        "remaining_time": 269.1559715,
                        "learn": [
                          0.9535104036,
                          0.2821553806
                        ]
                      },
                      {
                        "test": [
                          0.9618141055,
                          0.2570253245
                        ],
                        "passed_time": 116.1705622,
                        "iteration": 301,
                        "remaining_time": 268.5001735,
                        "learn": [
                          0.9535615444,
                          0.2820032591
                        ]
                      },
                      {
                        "test": [
                          0.9620244503,
                          0.2562914978
                        ],
                        "passed_time": 116.5594616,
                        "iteration": 302,
                        "remaining_time": 268.1252301,
                        "learn": [
                          0.9537755251,
                          0.2813490913
                        ]
                      },
                      {
                        "test": [
                          0.9620560408,
                          0.2561978063
                        ],
                        "passed_time": 116.8988885,
                        "iteration": 303,
                        "remaining_time": 267.6369288,
                        "learn": [
                          0.9538271427,
                          0.2812327664
                        ]
                      },
                      {
                        "test": [
                          0.9621104002,
                          0.2560607442
                        ],
                        "passed_time": 117.3368039,
                        "iteration": 304,
                        "remaining_time": 267.3740285,
                        "learn": [
                          0.953892231,
                          0.2810812297
                        ]
                      },
                      {
                        "test": [
                          0.9621325731,
                          0.2559439396
                        ],
                        "passed_time": 117.6067108,
                        "iteration": 305,
                        "remaining_time": 266.7289454,
                        "learn": [
                          0.9539301395,
                          0.2809536487
                        ]
                      },
                      {
                        "test": [
                          0.9621418118,
                          0.2558838403
                        ],
                        "passed_time": 117.962238,
                        "iteration": 306,
                        "remaining_time": 266.2795796,
                        "learn": [
                          0.9539507031,
                          0.2808786387
                        ]
                      },
                      {
                        "test": [
                          0.962156415,
                          0.2558335734
                        ],
                        "passed_time": 118.343751,
                        "iteration": 307,
                        "remaining_time": 265.8892067,
                        "learn": [
                          0.9539931417,
                          0.2807658587
                        ]
                      },
                      {
                        "test": [
                          0.96217978,
                          0.2557815285
                        ],
                        "passed_time": 118.7431891,
                        "iteration": 308,
                        "remaining_time": 265.5389762,
                        "learn": [
                          0.9540241957,
                          0.2807127761
                        ]
                      },
                      {
                        "test": [
                          0.9621956348,
                          0.255684793
                        ],
                        "passed_time": 119.1949626,
                        "iteration": 309,
                        "remaining_time": 265.3049168,
                        "learn": [
                          0.954049468,
                          0.2806114715
                        ]
                      },
                      {
                        "test": [
                          0.9622273445,
                          0.2555952501
                        ],
                        "passed_time": 119.5265353,
                        "iteration": 310,
                        "remaining_time": 264.8031602,
                        "learn": [
                          0.9540960193,
                          0.2805083944
                        ]
                      },
                      {
                        "test": [
                          0.9622164965,
                          0.255601392
                        ],
                        "passed_time": 119.9237156,
                        "iteration": 311,
                        "remaining_time": 264.4471677,
                        "learn": [
                          0.9541155696,
                          0.2804623651
                        ]
                      },
                      {
                        "test": [
                          0.9622265697,
                          0.2555505055
                        ],
                        "passed_time": 120.3058373,
                        "iteration": 312,
                        "remaining_time": 264.0578602,
                        "learn": [
                          0.9541392922,
                          0.2803775791
                        ]
                      },
                      {
                        "test": [
                          0.9622377753,
                          0.2555067308
                        ],
                        "passed_time": 120.6467405,
                        "iteration": 313,
                        "remaining_time": 263.5785478,
                        "learn": [
                          0.9541659355,
                          0.2803015092
                        ]
                      },
                      {
                        "test": [
                          0.9622638822,
                          0.2554171339
                        ],
                        "passed_time": 121.0546065,
                        "iteration": 314,
                        "remaining_time": 263.2457316,
                        "learn": [
                          0.9542303681,
                          0.2801407447
                        ]
                      },
                      {
                        "test": [
                          0.9622859955,
                          0.2553401173
                        ],
                        "passed_time": 121.3955552,
                        "iteration": 315,
                        "remaining_time": 262.7675941,
                        "learn": [
                          0.9542656541,
                          0.2800362424
                        ]
                      },
                      {
                        "test": [
                          0.962320745,
                          0.2552337378
                        ],
                        "passed_time": 121.7295315,
                        "iteration": 316,
                        "remaining_time": 262.2752997,
                        "learn": [
                          0.9543020129,
                          0.2799413515
                        ]
                      },
                      {
                        "test": [
                          0.9623542428,
                          0.2550803241
                        ],
                        "passed_time": 122.0759609,
                        "iteration": 317,
                        "remaining_time": 261.8107087,
                        "learn": [
                          0.9543493092,
                          0.2797822133
                        ]
                      },
                      {
                        "test": [
                          0.9623537064,
                          0.2550614943
                        ],
                        "passed_time": 122.4070361,
                        "iteration": 318,
                        "remaining_time": 261.3140802,
                        "learn": [
                          0.9543605447,
                          0.2797258781
                        ]
                      },
                      {
                        "test": [
                          0.9623622894,
                          0.2550392971
                        ],
                        "passed_time": 122.7860198,
                        "iteration": 319,
                        "remaining_time": 260.9202921,
                        "learn": [
                          0.9543776512,
                          0.279690374
                        ]
                      },
                      {
                        "test": [
                          0.9623767138,
                          0.2549993206
                        ],
                        "passed_time": 123.1987311,
                        "iteration": 320,
                        "remaining_time": 260.5979391,
                        "learn": [
                          0.954408586,
                          0.2796149071
                        ]
                      },
                      {
                        "test": [
                          0.962385416,
                          0.2549588054
                        ],
                        "passed_time": 123.5925082,
                        "iteration": 321,
                        "remaining_time": 260.235157,
                        "learn": [
                          0.9544214606,
                          0.2795598693
                        ]
                      },
                      {
                        "test": [
                          0.9623839855,
                          0.2549350727
                        ],
                        "passed_time": 123.9235872,
                        "iteration": 322,
                        "remaining_time": 259.7407694,
                        "learn": [
                          0.9544581175,
                          0.279475193
                        ]
                      },
                      {
                        "test": [
                          0.9624058008,
                          0.2548757276
                        ],
                        "passed_time": 124.2943163,
                        "iteration": 323,
                        "remaining_time": 259.3301168,
                        "learn": [
                          0.9544838071,
                          0.2794100137
                        ]
                      },
                      {
                        "test": [
                          0.9624271095,
                          0.2548102406
                        ],
                        "passed_time": 124.6373774,
                        "iteration": 324,
                        "remaining_time": 258.8622454,
                        "learn": [
                          0.954508841,
                          0.2793290833
                        ]
                      },
                      {
                        "test": [
                          0.9624100327,
                          0.2548186184
                        ],
                        "passed_time": 124.9879099,
                        "iteration": 325,
                        "remaining_time": 258.4105867,
                        "learn": [
                          0.9545226693,
                          0.2792840956
                        ]
                      },
                      {
                        "test": [
                          0.9624287486,
                          0.2547889593
                        ],
                        "passed_time": 125.3553557,
                        "iteration": 326,
                        "remaining_time": 257.994356,
                        "learn": [
                          0.9545834661,
                          0.2791728505
                        ]
                      },
                      {
                        "test": [
                          0.9624464214,
                          0.2547275938
                        ],
                        "passed_time": 125.7724392,
                        "iteration": 327,
                        "remaining_time": 257.6801192,
                        "learn": [
                          0.9546176195,
                          0.2790841358
                        ]
                      },
                      {
                        "test": [
                          0.9624572992,
                          0.2546716429
                        ],
                        "passed_time": 126.1184786,
                        "iteration": 328,
                        "remaining_time": 257.2203621,
                        "learn": [
                          0.9546555281,
                          0.2789771849
                        ]
                      },
                      {
                        "test": [
                          0.9625746012,
                          0.2541040526
                        ],
                        "passed_time": 126.4237419,
                        "iteration": 329,
                        "remaining_time": 256.6785063,
                        "learn": [
                          0.954769671,
                          0.2784778794
                        ]
                      },
                      {
                        "test": [
                          0.9625906348,
                          0.2540643455
                        ],
                        "passed_time": 126.7994719,
                        "iteration": 330,
                        "remaining_time": 256.2805036,
                        "learn": [
                          0.9548050761,
                          0.2783946284
                        ]
                      },
                      {
                        "test": [
                          0.9626250267,
                          0.2539782776
                        ],
                        "passed_time": 127.1467853,
                        "iteration": 331,
                        "remaining_time": 255.8254596,
                        "learn": [
                          0.954861939,
                          0.278271579
                        ]
                      },
                      {
                        "test": [
                          0.9626402855,
                          0.2539207104
                        ],
                        "passed_time": 127.5509128,
                        "iteration": 332,
                        "remaining_time": 255.4848613,
                        "learn": [
                          0.9548882842,
                          0.2781904111
                        ]
                      },
                      {
                        "test": [
                          0.9626390338,
                          0.2538779593
                        ],
                        "passed_time": 127.9468703,
                        "iteration": 333,
                        "remaining_time": 255.1275916,
                        "learn": [
                          0.9549283385,
                          0.2780771925
                        ]
                      },
                      {
                        "test": [
                          0.9628800154,
                          0.2529258514
                        ],
                        "passed_time": 128.3186325,
                        "iteration": 334,
                        "remaining_time": 254.7220616,
                        "learn": [
                          0.9551116824,
                          0.2773175904
                        ]
                      },
                      {
                        "test": [
                          0.9629245996,
                          0.2527975442
                        ],
                        "passed_time": 128.6897948,
                        "iteration": 335,
                        "remaining_time": 254.3155468,
                        "learn": [
                          0.9551663995,
                          0.2771964963
                        ]
                      },
                      {
                        "test": [
                          0.9629425406,
                          0.2526768606
                        ],
                        "passed_time": 129.0796014,
                        "iteration": 336,
                        "remaining_time": 253.9459221,
                        "learn": [
                          0.9552046061,
                          0.2770417619
                        ]
                      },
                      {
                        "test": [
                          0.962957561,
                          0.2526378808
                        ],
                        "passed_time": 129.5042991,
                        "iteration": 337,
                        "remaining_time": 253.6445147,
                        "learn": [
                          0.955229044,
                          0.2769855363
                        ]
                      },
                      {
                        "test": [
                          0.9629628062,
                          0.2526057973
                        ],
                        "passed_time": 129.9260155,
                        "iteration": 338,
                        "remaining_time": 253.3365671,
                        "learn": [
                          0.9552716613,
                          0.2768748942
                        ]
                      },
                      {
                        "test": [
                          0.9629984498,
                          0.2524810459
                        ],
                        "passed_time": 130.3283902,
                        "iteration": 339,
                        "remaining_time": 252.9904045,
                        "learn": [
                          0.9553363919,
                          0.2767096712
                        ]
                      },
                      {
                        "test": [
                          0.9630267918,
                          0.252395409
                        ],
                        "passed_time": 130.7447129,
                        "iteration": 340,
                        "remaining_time": 252.6708674,
                        "learn": [
                          0.9553967714,
                          0.2765626296
                        ]
                      },
                      {
                        "test": [
                          0.96302706,
                          0.2523817513
                        ],
                        "passed_time": 131.1174431,
                        "iteration": 341,
                        "remaining_time": 252.2668935,
                        "learn": [
                          0.9554134607,
                          0.2765177881
                        ]
                      },
                      {
                        "test": [
                          0.9630372524,
                          0.2523448189
                        ],
                        "passed_time": 131.4877156,
                        "iteration": 342,
                        "remaining_time": 251.8583939,
                        "learn": [
                          0.9554397464,
                          0.2764470539
                        ]
                      },
                      {
                        "test": [
                          0.9630357027,
                          0.2523278477
                        ],
                        "passed_time": 131.8957682,
                        "iteration": 343,
                        "remaining_time": 251.5221627,
                        "learn": [
                          0.9554707408,
                          0.2763786586
                        ]
                      },
                      {
                        "test": [
                          0.9630515575,
                          0.2522673981
                        ],
                        "passed_time": 132.2329611,
                        "iteration": 344,
                        "remaining_time": 251.0509842,
                        "learn": [
                          0.9554906487,
                          0.276315124
                        ]
                      },
                      {
                        "test": [
                          0.9630849957,
                          0.2521819498
                        ],
                        "passed_time": 132.6133844,
                        "iteration": 345,
                        "remaining_time": 250.6622931,
                        "learn": [
                          0.9555487633,
                          0.2761964236
                        ]
                      },
                      {
                        "test": [
                          0.9631212354,
                          0.2521077886
                        ],
                        "passed_time": 133.0246815,
                        "iteration": 346,
                        "remaining_time": 250.3317493,
                        "learn": [
                          0.9556068778,
                          0.2760811037
                        ]
                      },
                      {
                        "test": [
                          0.9631261826,
                          0.2520754896
                        ],
                        "passed_time": 133.4610559,
                        "iteration": 347,
                        "remaining_time": 250.0477255,
                        "learn": [
                          0.955632925,
                          0.2760022381
                        ]
                      },
                      {
                        "test": [
                          0.9632324576,
                          0.2517644328
                        ],
                        "passed_time": 133.8706522,
                        "iteration": 348,
                        "remaining_time": 249.7128784,
                        "learn": [
                          0.9557189345,
                          0.2757670666
                        ]
                      },
                      {
                        "test": [
                          0.9632334113,
                          0.2517510175
                        ],
                        "passed_time": 134.2638738,
                        "iteration": 349,
                        "remaining_time": 249.3471942,
                        "learn": [
                          0.9557425976,
                          0.2757130155
                        ]
                      },
                      {
                        "test": [
                          0.9632527828,
                          0.2516940161
                        ],
                        "passed_time": 134.6941637,
                        "iteration": 350,
                        "remaining_time": 249.0498924,
                        "learn": [
                          0.9557665586,
                          0.2756482383
                        ]
                      },
                      {
                        "test": [
                          0.963249743,
                          0.2516412978
                        ],
                        "passed_time": 135.0915686,
                        "iteration": 351,
                        "remaining_time": 248.6912968,
                        "learn": [
                          0.9558072686,
                          0.2755129461
                        ]
                      },
                      {
                        "test": [
                          0.9632592201,
                          0.2516012136
                        ],
                        "passed_time": 135.502205,
                        "iteration": 352,
                        "remaining_time": 248.3567326,
                        "learn": [
                          0.9558470249,
                          0.2754268993
                        ]
                      },
                      {
                        "test": [
                          0.9632666707,
                          0.2515471484
                        ],
                        "passed_time": 135.7885537,
                        "iteration": 353,
                        "remaining_time": 247.7949314,
                        "learn": [
                          0.9558636546,
                          0.2753648082
                        ]
                      },
                      {
                        "test": [
                          0.963270247,
                          0.2515305813
                        ],
                        "passed_time": 136.1212973,
                        "iteration": 354,
                        "remaining_time": 247.3189767,
                        "learn": [
                          0.955883801,
                          0.2753151974
                        ]
                      },
                      {
                        "test": [
                          0.9632678628,
                          0.2515087074
                        ],
                        "passed_time": 136.5367657,
                        "iteration": 355,
                        "remaining_time": 246.9934749,
                        "learn": [
                          0.9558942318,
                          0.2752692047
                        ]
                      },
                      {
                        "test": [
                          0.9632760882,
                          0.2514731219
                        ],
                        "passed_time": 136.8803412,
                        "iteration": 356,
                        "remaining_time": 246.5379815,
                        "learn": [
                          0.9559247494,
                          0.2751926963
                        ]
                      },
                      {
                        "test": [
                          0.9632894397,
                          0.2514493353
                        ],
                        "passed_time": 137.2289968,
                        "iteration": 357,
                        "remaining_time": 246.0922233,
                        "learn": [
                          0.9559631348,
                          0.2751286865
                        ]
                      },
                      {
                        "test": [
                          0.9633003473,
                          0.2514192452
                        ],
                        "passed_time": 137.6165045,
                        "iteration": 358,
                        "remaining_time": 245.7163772,
                        "learn": [
                          0.9559868574,
                          0.2750706885
                        ]
                      },
                      {
                        "test": [
                          0.9633166194,
                          0.2513732076
                        ],
                        "passed_time": 138.0354804,
                        "iteration": 359,
                        "remaining_time": 245.3964097,
                        "learn": [
                          0.9560322762,
                          0.2749842945
                        ]
                      },
                      {
                        "test": [
                          0.963339448,
                          0.2513330965
                        ],
                        "passed_time": 138.4144641,
                        "iteration": 360,
                        "remaining_time": 245.0051041,
                        "learn": [
                          0.9560667276,
                          0.2749216735
                        ]
                      },
                      {
                        "test": [
                          0.9633559585,
                          0.2512637303
                        ],
                        "passed_time": 138.8128038,
                        "iteration": 361,
                        "remaining_time": 244.6479801,
                        "learn": [
                          0.9561079741,
                          0.2748141012
                        ]
                      },
                      {
                        "test": [
                          0.9633694291,
                          0.2512128977
                        ],
                        "passed_time": 139.1556868,
                        "iteration": 362,
                        "remaining_time": 244.1933126,
                        "learn": [
                          0.9561495781,
                          0.2747022532
                        ]
                      },
                      {
                        "test": [
                          0.9633722305,
                          0.2511772314
                        ],
                        "passed_time": 139.4302023,
                        "iteration": 363,
                        "remaining_time": 243.619804,
                        "learn": [
                          0.9561755061,
                          0.2746308977
                        ]
                      },
                      {
                        "test": [
                          0.9633961618,
                          0.2510637672
                        ],
                        "passed_time": 139.713324,
                        "iteration": 364,
                        "remaining_time": 243.0629062,
                        "learn": [
                          0.9562249184,
                          0.2744717778
                        ]
                      },
                      {
                        "test": [
                          0.9634049535,
                          0.2510299327
                        ],
                        "passed_time": 140.1077362,
                        "iteration": 365,
                        "remaining_time": 242.7002862,
                        "learn": [
                          0.9562661052,
                          0.2743850914
                        ]
                      },
                      {
                        "test": [
                          0.963432312,
                          0.2509294797
                        ],
                        "passed_time": 140.4370868,
                        "iteration": 366,
                        "remaining_time": 242.2252751,
                        "learn": [
                          0.9563025832,
                          0.274268602
                        ]
                      },
                      {
                        "test": [
                          0.9634336829,
                          0.25092191
                        ],
                        "passed_time": 140.8201928,
                        "iteration": 367,
                        "remaining_time": 241.8433745,
                        "learn": [
                          0.9563336968,
                          0.2742170361
                        ]
                      },
                      {
                        "test": [
                          0.9634435773,
                          0.2508841156
                        ],
                        "passed_time": 141.1992406,
                        "iteration": 368,
                        "remaining_time": 241.454528,
                        "learn": [
                          0.9563764334,
                          0.2741309344
                        ]
                      },
                      {
                        "test": [
                          0.9634420872,
                          0.2508659591
                        ],
                        "passed_time": 141.5887163,
                        "iteration": 369,
                        "remaining_time": 241.0834899,
                        "learn": [
                          0.9563855529,
                          0.2740920315
                        ]
                      },
                      {
                        "test": [
                          0.963580966,
                          0.2504261103
                        ],
                        "passed_time": 142.0291912,
                        "iteration": 370,
                        "remaining_time": 240.7988175,
                        "learn": [
                          0.9565358162,
                          0.2736532458
                        ]
                      },
                      {
                        "test": [
                          0.9635848999,
                          0.2504034282
                        ],
                        "passed_time": 142.3554853,
                        "iteration": 371,
                        "remaining_time": 240.3205505,
                        "learn": [
                          0.9565483332,
                          0.2736121684
                        ]
                      },
                      {
                        "test": [
                          0.9635873437,
                          0.2503933802
                        ],
                        "passed_time": 142.786185,
                        "iteration": 372,
                        "remaining_time": 240.0186005,
                        "learn": [
                          0.9565674067,
                          0.2735676192
                        ]
                      },
                      {
                        "test": [
                          0.9636052251,
                          0.2503203774
                        ],
                        "passed_time": 143.1965924,
                        "iteration": 373,
                        "remaining_time": 239.6819969,
                        "learn": [
                          0.9565976262,
                          0.273471303
                        ]
                      },
                      {
                        "test": [
                          0.9636095762,
                          0.2502886441
                        ],
                        "passed_time": 143.4955437,
                        "iteration": 374,
                        "remaining_time": 239.1592395,
                        "learn": [
                          0.9566095471,
                          0.2734171789
                        ]
                      },
                      {
                        "test": [
                          0.9636169076,
                          0.2502615172
                        ],
                        "passed_time": 143.8915214,
                        "iteration": 375,
                        "remaining_time": 238.798695,
                        "learn": [
                          0.956628263,
                          0.2733559649
                        ]
                      },
                      {
                        "test": [
                          0.9636304379,
                          0.2502186853
                        ],
                        "passed_time": 144.277797,
                        "iteration": 376,
                        "remaining_time": 238.4219298,
                        "learn": [
                          0.9566580355,
                          0.2732814117
                        ]
                      },
                      {
                        "test": [
                          0.9636548758,
                          0.2501514742
                        ],
                        "passed_time": 144.6173404,
                        "iteration": 377,
                        "remaining_time": 237.9682162,
                        "learn": [
                          0.9566829205,
                          0.2732191561
                        ]
                      },
                      {
                        "test": [
                          0.9636764526,
                          0.2500936645
                        ],
                        "passed_time": 145.0239595,
                        "iteration": 378,
                        "remaining_time": 237.6250102,
                        "learn": [
                          0.9567281008,
                          0.273113137
                        ]
                      },
                      {
                        "test": [
                          0.9636909366,
                          0.2500621736
                        ],
                        "passed_time": 145.3769986,
                        "iteration": 379,
                        "remaining_time": 237.1940503,
                        "learn": [
                          0.9567646384,
                          0.2730453265
                        ]
                      },
                      {
                        "test": [
                          0.9637058377,
                          0.250026184
                        ],
                        "passed_time": 145.7817925,
                        "iteration": 380,
                        "remaining_time": 236.8475841,
                        "learn": [
                          0.9567962289,
                          0.2729767668
                        ]
                      },
                      {
                        "test": [
                          0.9637058377,
                          0.2499887398
                        ],
                        "passed_time": 146.1639164,
                        "iteration": 381,
                        "remaining_time": 236.464137,
                        "learn": [
                          0.9568223357,
                          0.2728944111
                        ]
                      },
                      {
                        "test": [
                          0.963876307,
                          0.249430524
                        ],
                        "passed_time": 146.4661741,
                        "iteration": 382,
                        "remaining_time": 235.952035,
                        "learn": [
                          0.9569759965,
                          0.2724461417
                        ]
                      },
                      {
                        "test": [
                          0.963893652,
                          0.2493843786
                        ],
                        "passed_time": 146.8597668,
                        "iteration": 383,
                        "remaining_time": 235.5875426,
                        "learn": [
                          0.9570054412,
                          0.2723896969
                        ]
                      },
                      {
                        "test": [
                          0.9639182687,
                          0.2493078738
                        ],
                        "passed_time": 147.1472716,
                        "iteration": 384,
                        "remaining_time": 235.0534338,
                        "learn": [
                          0.9570479989,
                          0.2722946598
                        ]
                      },
                      {
                        "test": [
                          0.9639315009,
                          0.2492654729
                        ],
                        "passed_time": 147.5192447,
                        "iteration": 385,
                        "remaining_time": 234.6549644,
                        "learn": [
                          0.9570665956,
                          0.2722330438
                        ]
                      },
                      {
                        "test": [
                          0.9639675021,
                          0.2491490186
                        ],
                        "passed_time": 147.8965206,
                        "iteration": 386,
                        "remaining_time": 234.2650313,
                        "learn": [
                          0.9571341872,
                          0.2720616994
                        ]
                      },
                      {
                        "test": [
                          0.9639680386,
                          0.249141826
                        ],
                        "passed_time": 148.2845518,
                        "iteration": 387,
                        "remaining_time": 233.8921282,
                        "learn": [
                          0.9571501613,
                          0.2720207682
                        ]
                      },
                      {
                        "test": [
                          0.9639890194,
                          0.2490574552
                        ],
                        "passed_time": 148.6060723,
                        "iteration": 388,
                        "remaining_time": 233.414679,
                        "learn": [
                          0.9571757317,
                          0.271938047
                        ]
                      },
                      {
                        "test": [
                          0.9640192986,
                          0.2489532578
                        ],
                        "passed_time": 149.0192424,
                        "iteration": 389,
                        "remaining_time": 233.0813791,
                        "learn": [
                          0.9572329521,
                          0.2717837146
                        ]
                      },
                      {
                        "test": [
                          0.9640285373,
                          0.2488910572
                        ],
                        "passed_time": 149.3791822,
                        "iteration": 390,
                        "remaining_time": 232.6647621,
                        "learn": [
                          0.9572639465,
                          0.2716815328
                        ]
                      },
                      {
                        "test": [
                          0.9640558362,
                          0.2488264322
                        ],
                        "passed_time": 149.7407391,
                        "iteration": 391,
                        "remaining_time": 232.2509424,
                        "learn": [
                          0.9573102593,
                          0.2715780903
                        ]
                      },
                      {
                        "test": [
                          0.9640979767,
                          0.2486979095
                        ],
                        "passed_time": 150.0981608,
                        "iteration": 392,
                        "remaining_time": 231.8310016,
                        "learn": [
                          0.9573819637,
                          0.2713937173
                        ]
                      },
                      {
                        "test": [
                          0.9641073346,
                          0.2486628089
                        ],
                        "passed_time": 150.5293482,
                        "iteration": 393,
                        "remaining_time": 231.524835,
                        "learn": [
                          0.957418561,
                          0.2713040159
                        ]
                      },
                      {
                        "test": [
                          0.9641197324,
                          0.2486236675
                        ],
                        "passed_time": 150.9244796,
                        "iteration": 394,
                        "remaining_time": 231.1628105,
                        "learn": [
                          0.9574378729,
                          0.2712523037
                        ]
                      },
                      {
                        "test": [
                          0.9641523957,
                          0.248490673
                        ],
                        "passed_time": 151.3300028,
                        "iteration": 395,
                        "remaining_time": 230.8164689,
                        "learn": [
                          0.9574970007,
                          0.2710812151
                        ]
                      },
                      {
                        "test": [
                          0.9641566277,
                          0.248433914
                        ],
                        "passed_time": 151.6701596,
                        "iteration": 396,
                        "remaining_time": 230.3705448,
                        "learn": [
                          0.9575400949,
                          0.2709422136
                        ]
                      },
                      {
                        "test": [
                          0.9641569257,
                          0.2484245395
                        ],
                        "passed_time": 152.0527834,
                        "iteration": 397,
                        "remaining_time": 229.989386,
                        "learn": [
                          0.9575554729,
                          0.2709021047
                        ]
                      },
                      {
                        "test": [
                          0.9641749561,
                          0.2483832969
                        ],
                        "passed_time": 152.4665299,
                        "iteration": 398,
                        "remaining_time": 229.6550989,
                        "learn": [
                          0.957598567,
                          0.270808566
                        ]
                      },
                      {
                        "test": [
                          0.9641775489,
                          0.2483562239
                        ],
                        "passed_time": 152.7878597,
                        "iteration": 399,
                        "remaining_time": 229.1817895,
                        "learn": [
                          0.9576176405,
                          0.2707587177
                        ]
                      },
                      {
                        "test": [
                          0.9641859829,
                          0.2483381213
                        ],
                        "passed_time": 153.1309967,
                        "iteration": 400,
                        "remaining_time": 228.741813,
                        "learn": [
                          0.9576495886,
                          0.2706855715
                        ]
                      },
                      {
                        "test": [
                          0.9641916752,
                          0.2483187527
                        ],
                        "passed_time": 153.4685095,
                        "iteration": 401,
                        "remaining_time": 228.2939519,
                        "learn": [
                          0.9576710463,
                          0.2706268791
                        ]
                      },
                      {
                        "test": [
                          0.9643249512,
                          0.2477389593
                        ],
                        "passed_time": 153.8494445,
                        "iteration": 402,
                        "remaining_time": 227.9109637,
                        "learn": [
                          0.95777601,
                          0.2701843474
                        ]
                      },
                      {
                        "test": [
                          0.9643330574,
                          0.2477193751
                        ],
                        "passed_time": 154.3005623,
                        "iteration": 403,
                        "remaining_time": 227.6315226,
                        "learn": [
                          0.9577949047,
                          0.2701397799
                        ]
                      },
                      {
                        "test": [
                          0.964341104,
                          0.2476957502
                        ],
                        "passed_time": 154.7022224,
                        "iteration": 404,
                        "remaining_time": 227.2785736,
                        "learn": [
                          0.9578260183,
                          0.2700759529
                        ]
                      },
                      {
                        "test": [
                          0.9643433094,
                          0.2476831431
                        ],
                        "passed_time": 155.074821,
                        "iteration": 405,
                        "remaining_time": 226.8828661,
                        "learn": [
                          0.957862556,
                          0.2699959361
                        ]
                      },
                      {
                        "test": [
                          0.9643574357,
                          0.247648689
                        ],
                        "passed_time": 155.4512848,
                        "iteration": 406,
                        "remaining_time": 226.4929039,
                        "learn": [
                          0.9579111338,
                          0.2699007712
                        ]
                      },
                      {
                        "test": [
                          0.9643474221,
                          0.2476219123
                        ],
                        "passed_time": 155.8655643,
                        "iteration": 407,
                        "remaining_time": 226.1578777,
                        "learn": [
                          0.9579369426,
                          0.2698049301
                        ]
                      },
                      {
                        "test": [
                          0.964360714,
                          0.2475468352
                        ],
                        "passed_time": 156.2759718,
                        "iteration": 408,
                        "remaining_time": 225.8168688,
                        "learn": [
                          0.9579645991,
                          0.2696962067
                        ]
                      },
                      {
                        "test": [
                          0.9643685818,
                          0.2475182267
                        ],
                        "passed_time": 156.6004503,
                        "iteration": 409,
                        "remaining_time": 225.3518676,
                        "learn": [
                          0.9579800367,
                          0.2696473085
                        ]
                      },
                      {
                        "test": [
                          0.9643785954,
                          0.2474691182
                        ],
                        "passed_time": 156.9595568,
                        "iteration": 410,
                        "remaining_time": 224.937175,
                        "learn": [
                          0.9580023289,
                          0.2695723168
                        ]
                      },
                      {
                        "test": [
                          0.9643852711,
                          0.2474375465
                        ],
                        "passed_time": 157.3000905,
                        "iteration": 411,
                        "remaining_time": 224.4962457,
                        "learn": [
                          0.9580255747,
                          0.2695126011
                        ]
                      },
                      {
                        "test": [
                          0.9644015431,
                          0.2473876298
                        ],
                        "passed_time": 157.6707773,
                        "iteration": 412,
                        "remaining_time": 224.0986592,
                        "learn": [
                          0.9580647945,
                          0.269416084
                        ]
                      },
                      {
                        "test": [
                          0.9644249678,
                          0.2473133339
                        ],
                        "passed_time": 158.0525708,
                        "iteration": 413,
                        "remaining_time": 223.7169239,
                        "learn": [
                          0.958107233,
                          0.2693032674
                        ]
                      },
                      {
                        "test": [
                          0.9644259214,
                          0.2472890086
                        ],
                        "passed_time": 158.4254296,
                        "iteration": 414,
                        "remaining_time": 223.3225935,
                        "learn": [
                          0.9581409097,
                          0.2692300847
                        ]
                      },
                      {
                        "test": [
                          0.964438498,
                          0.2472452608
                        ],
                        "passed_time": 158.8632643,
                        "iteration": 415,
                        "remaining_time": 223.0195826,
                        "learn": [
                          0.9581772685,
                          0.2691338416
                        ]
                      },
                      {
                        "test": [
                          0.9644394219,
                          0.2472397384
                        ],
                        "passed_time": 159.2640249,
                        "iteration": 416,
                        "remaining_time": 222.6640923,
                        "learn": [
                          0.9581928849,
                          0.2690974421
                        ]
                      },
                      {
                        "test": [
                          0.9644353986,
                          0.247223306
                        ],
                        "passed_time": 159.6250966,
                        "iteration": 417,
                        "remaining_time": 222.253125,
                        "learn": [
                          0.9582118392,
                          0.2690452366
                        ]
                      },
                      {
                        "test": [
                          0.9644635618,
                          0.2471263281
                        ],
                        "passed_time": 160.0303935,
                        "iteration": 418,
                        "remaining_time": 221.9037199,
                        "learn": [
                          0.9582762718,
                          0.2688807628
                        ]
                      },
                      {
                        "test": [
                          0.9644775987,
                          0.2470679528
                        ],
                        "passed_time": 160.4589313,
                        "iteration": 419,
                        "remaining_time": 221.5861433,
                        "learn": [
                          0.958317101,
                          0.2687828569
                        ]
                      },
                      {
                        "test": [
                          0.9645193219,
                          0.246981373
                        ],
                        "passed_time": 160.8422828,
                        "iteration": 420,
                        "remaining_time": 221.2058948,
                        "learn": [
                          0.9583640695,
                          0.2686930458
                        ]
                      },
                      {
                        "test": [
                          0.964517951,
                          0.2469760931
                        ],
                        "passed_time": 161.2260398,
                        "iteration": 421,
                        "remaining_time": 220.8261873,
                        "learn": [
                          0.95837605,
                          0.2686578706
                        ]
                      },
                      {
                        "test": [
                          0.9647709727,
                          0.2458971866
                        ],
                        "passed_time": 161.655361,
                        "iteration": 422,
                        "remaining_time": 220.508613,
                        "learn": [
                          0.9585713148,
                          0.2678247386
                        ]
                      },
                      {
                        "test": [
                          0.9647814631,
                          0.2458620321
                        ],
                        "passed_time": 162.0909677,
                        "iteration": 423,
                        "remaining_time": 220.1990505,
                        "learn": [
                          0.9585857689,
                          0.267781505
                        ]
                      },
                      {
                        "test": [
                          0.9648005664,
                          0.2458058118
                        ],
                        "passed_time": 162.3877336,
                        "iteration": 424,
                        "remaining_time": 219.7010513,
                        "learn": [
                          0.9586319327,
                          0.2676752667
                        ]
                      },
                      {
                        "test": [
                          0.9648221731,
                          0.2457436382
                        ],
                        "passed_time": 162.7673123,
                        "iteration": 425,
                        "remaining_time": 219.3155804,
                        "learn": [
                          0.958661437,
                          0.267597936
                        ]
                      },
                      {
                        "test": [
                          0.9651635885,
                          0.2443180355
                        ],
                        "passed_time": 163.1795679,
                        "iteration": 426,
                        "remaining_time": 218.9739868,
                        "learn": [
                          0.9589217305,
                          0.2665067549
                        ]
                      },
                      {
                        "test": [
                          0.9651612043,
                          0.2442743415
                        ],
                        "passed_time": 163.5117333,
                        "iteration": 427,
                        "remaining_time": 218.5250268,
                        "learn": [
                          0.9589383602,
                          0.266425057
                        ]
                      },
                      {
                        "test": [
                          0.9651714563,
                          0.2442462449
                        ],
                        "passed_time": 163.8640807,
                        "iteration": 428,
                        "remaining_time": 218.1034734,
                        "learn": [
                          0.9589676857,
                          0.2663663829
                        ]
                      },
                      {
                        "test": [
                          0.9651804566,
                          0.2441974865
                        ],
                        "passed_time": 164.2600717,
                        "iteration": 429,
                        "remaining_time": 217.740095,
                        "learn": [
                          0.958991766,
                          0.2662932916
                        ]
                      },
                      {
                        "test": [
                          0.9651859403,
                          0.2441362827
                        ],
                        "passed_time": 164.6763578,
                        "iteration": 430,
                        "remaining_time": 217.4033587,
                        "learn": [
                          0.959028244,
                          0.2661791959
                        ]
                      },
                      {
                        "test": [
                          0.9652062058,
                          0.2440755637
                        ],
                        "passed_time": 165.0201774,
                        "iteration": 431,
                        "remaining_time": 216.9709741,
                        "learn": [
                          0.9590767026,
                          0.2660853101
                        ]
                      },
                      {
                        "test": [
                          0.9653264284,
                          0.2435275036
                        ],
                        "passed_time": 165.4014045,
                        "iteration": 432,
                        "remaining_time": 216.5879824,
                        "learn": [
                          0.9591446519,
                          0.2657284232
                        ]
                      },
                      {
                        "test": [
                          0.9653322697,
                          0.243505495
                        ],
                        "passed_time": 165.7064982,
                        "iteration": 433,
                        "remaining_time": 216.1057097,
                        "learn": [
                          0.9591604471,
                          0.2656835999
                        ]
                      },
                      {
                        "test": [
                          0.965344131,
                          0.2434479009
                        ],
                        "passed_time": 166.0291687,
                        "iteration": 434,
                        "remaining_time": 215.6470811,
                        "learn": [
                          0.959184885,
                          0.2656140534
                        ]
                      },
                      {
                        "test": [
                          0.9653845429,
                          0.2433340327
                        ],
                        "passed_time": 166.4190853,
                        "iteration": 435,
                        "remaining_time": 215.2760645,
                        "learn": [
                          0.9592225552,
                          0.2655208619
                        ]
                      },
                      {
                        "test": [
                          0.9654524326,
                          0.2431655065
                        ],
                        "passed_time": 166.836369,
                        "iteration": 436,
                        "remaining_time": 214.9402191,
                        "learn": [
                          0.9592909217,
                          0.2653580509
                        ]
                      },
                      {
                        "test": [
                          0.9654606581,
                          0.2431355781
                        ],
                        "passed_time": 167.1667688,
                        "iteration": 437,
                        "remaining_time": 214.4925207,
                        "learn": [
                          0.9593009949,
                          0.265322565
                        ]
                      },
                      {
                        "test": [
                          0.9654652476,
                          0.2430998848
                        ],
                        "passed_time": 167.5639034,
                        "iteration": 438,
                        "remaining_time": 214.1306373,
                        "learn": [
                          0.9593133926,
                          0.2652686053
                        ]
                      },
                      {
                        "test": [
                          0.9654873013,
                          0.2429865284
                        ],
                        "passed_time": 167.9592174,
                        "iteration": 439,
                        "remaining_time": 213.7662767,
                        "learn": [
                          0.9593665004,
                          0.2650992709
                        ]
                      },
                      {
                        "test": [
                          0.9655154943,
                          0.2428605109
                        ],
                        "passed_time": 168.39037,
                        "iteration": 440,
                        "remaining_time": 213.4472037,
                        "learn": [
                          0.9594200253,
                          0.2649272503
                        ]
                      },
                      {
                        "test": [
                          0.9656159282,
                          0.242449944
                        ],
                        "passed_time": 168.8077291,
                        "iteration": 441,
                        "remaining_time": 213.11021,
                        "learn": [
                          0.9595124125,
                          0.2646027429
                        ]
                      },
                      {
                        "test": [
                          0.9656224847,
                          0.2424306831
                        ],
                        "passed_time": 169.1785955,
                        "iteration": 442,
                        "remaining_time": 212.7143966,
                        "learn": [
                          0.9595374465,
                          0.2645344207
                        ]
                      },
                      {
                        "test": [
                          0.9656319618,
                          0.2423993
                        ],
                        "passed_time": 169.5825791,
                        "iteration": 443,
                        "remaining_time": 212.3601666,
                        "learn": [
                          0.9595699906,
                          0.2644605071
                        ]
                      },
                      {
                        "test": [
                          0.9656407237,
                          0.2423811436
                        ],
                        "passed_time": 170.0106578,
                        "iteration": 444,
                        "remaining_time": 212.0357642,
                        "learn": [
                          0.9595842957,
                          0.2644290047
                        ]
                      },
                      {
                        "test": [
                          0.9656520486,
                          0.2423479825
                        ],
                        "passed_time": 170.3893172,
                        "iteration": 445,
                        "remaining_time": 211.6495106,
                        "learn": [
                          0.9596124887,
                          0.2643806548
                        ]
                      },
                      {
                        "test": [
                          0.9656522274,
                          0.242346016
                        ],
                        "passed_time": 170.7118827,
                        "iteration": 446,
                        "remaining_time": 211.1938952,
                        "learn": [
                          0.9596222043,
                          0.2643564432
                        ]
                      },
                      {
                        "test": [
                          0.9657890201,
                          0.2418725751
                        ],
                        "passed_time": 171.0967606,
                        "iteration": 447,
                        "remaining_time": 210.8156515,
                        "learn": [
                          0.9597710371,
                          0.2639147155
                        ]
                      },
                      {
                        "test": [
                          0.9657976627,
                          0.2418226853
                        ],
                        "passed_time": 171.5260756,
                        "iteration": 448,
                        "remaining_time": 210.4919101,
                        "learn": [
                          0.9597966671,
                          0.2638281205
                        ]
                      },
                      {
                        "test": [
                          0.9658017159,
                          0.2418089198
                        ],
                        "passed_time": 171.9335728,
                        "iteration": 449,
                        "remaining_time": 210.1410334,
                        "learn": [
                          0.9598110318,
                          0.2637908987
                        ]
                      },
                      {
                        "test": [
                          0.9658207297,
                          0.2417587607
                        ],
                        "passed_time": 172.3499748,
                        "iteration": 450,
                        "remaining_time": 209.8007454,
                        "learn": [
                          0.9598367214,
                          0.2637198174
                        ]
                      },
                      {
                        "test": [
                          0.9658429623,
                          0.2416820942
                        ],
                        "passed_time": 172.752691,
                        "iteration": 451,
                        "remaining_time": 209.443528,
                        "learn": [
                          0.9598823786,
                          0.2636105823
                        ]
                      },
                      {
                        "test": [
                          0.9658510089,
                          0.2416594661
                        ],
                        "passed_time": 173.1444911,
                        "iteration": 452,
                        "remaining_time": 209.0729285,
                        "learn": [
                          0.9599263668,
                          0.2635288844
                        ]
                      },
                      {
                        "test": [
                          0.9658600688,
                          0.241629349
                        ],
                        "passed_time": 173.4927402,
                        "iteration": 453,
                        "remaining_time": 208.6498593,
                        "learn": [
                          0.9599567652,
                          0.2634630108
                        ]
                      },
                      {
                        "test": [
                          0.9658693671,
                          0.2416050776
                        ],
                        "passed_time": 173.8846964,
                        "iteration": 454,
                        "remaining_time": 208.2794716,
                        "learn": [
                          0.9599805474,
                          0.2633998782
                        ]
                      },
                      {
                        "test": [
                          0.9658669829,
                          0.2415719165
                        ],
                        "passed_time": 174.2784393,
                        "iteration": 455,
                        "remaining_time": 207.9111205,
                        "learn": [
                          0.9599894285,
                          0.2633311174
                        ]
                      },
                      {
                        "test": [
                          0.9658792019,
                          0.2415369506
                        ],
                        "passed_time": 174.6841699,
                        "iteration": 456,
                        "remaining_time": 207.5569021,
                        "learn": [
                          0.9600368738,
                          0.2632332481
                        ]
                      },
                      {
                        "test": [
                          0.9658867717,
                          0.2414751272
                        ],
                        "passed_time": 175.0347647,
                        "iteration": 457,
                        "remaining_time": 207.1372106,
                        "learn": [
                          0.9600543976,
                          0.2631498874
                        ]
                      },
                      {
                        "test": [
                          0.9659169316,
                          0.2414060304
                        ],
                        "passed_time": 175.4194045,
                        "iteration": 458,
                        "remaining_time": 206.7579474,
                        "learn": [
                          0.9600901008,
                          0.2630613006
                        ]
                      },
                      {
                        "test": [
                          0.965936482,
                          0.2413394388
                        ],
                        "passed_time": 175.8230582,
                        "iteration": 459,
                        "remaining_time": 206.4009814,
                        "learn": [
                          0.9601173401,
                          0.2629910781
                        ]
                      },
                      {
                        "test": [
                          0.9659460783,
                          0.2412928356
                        ],
                        "passed_time": 176.2119121,
                        "iteration": 460,
                        "remaining_time": 206.0265089,
                        "learn": [
                          0.9601546228,
                          0.2628901024
                        ]
                      },
                      {
                        "test": [
                          0.9659520388,
                          0.2412692645
                        ],
                        "passed_time": 176.5507275,
                        "iteration": 461,
                        "remaining_time": 205.5937044,
                        "learn": [
                          0.9601795673,
                          0.2628317755
                        ]
                      },
                      {
                        "test": [
                          0.9659552574,
                          0.2412449123
                        ],
                        "passed_time": 176.9588634,
                        "iteration": 462,
                        "remaining_time": 205.2417055,
                        "learn": [
                          0.9602001905,
                          0.2627587389
                        ]
                      },
                      {
                        "test": [
                          0.96595186,
                          0.2412360765
                        ],
                        "passed_time": 177.3752252,
                        "iteration": 463,
                        "remaining_time": 204.8989671,
                        "learn": [
                          0.9602139592,
                          0.2627117046
                        ]
                      },
                      {
                        "test": [
                          0.965960145,
                          0.2412154957
                        ],
                        "passed_time": 177.7517604,
                        "iteration": 464,
                        "remaining_time": 204.51009,
                        "learn": [
                          0.9602426887,
                          0.2626624227
                        ]
                      },
                      {
                        "test": [
                          0.96595186,
                          0.2412317664
                        ],
                        "passed_time": 178.1722017,
                        "iteration": 465,
                        "remaining_time": 204.1715788,
                        "learn": [
                          0.9602553844,
                          0.2626223504
                        ]
                      },
                      {
                        "test": [
                          0.9659747481,
                          0.2410862456
                        ],
                        "passed_time": 178.557222,
                        "iteration": 466,
                        "remaining_time": 203.7922898,
                        "learn": [
                          0.960297823,
                          0.2624539661
                        ]
                      },
                      {
                        "test": [
                          0.9659743309,
                          0.2410629978
                        ],
                        "passed_time": 178.9741769,
                        "iteration": 467,
                        "remaining_time": 203.449278,
                        "learn": [
                          0.9603379369,
                          0.2623573942
                        ]
                      },
                      {
                        "test": [
                          0.9659830332,
                          0.2410317494
                        ],
                        "passed_time": 179.3549953,
                        "iteration": 468,
                        "remaining_time": 203.0650374,
                        "learn": [
                          0.9603651762,
                          0.262296107
                        ]
                      },
                      {
                        "test": [
                          0.9659922719,
                          0.2410015785
                        ],
                        "passed_time": 179.7583077,
                        "iteration": 469,
                        "remaining_time": 202.7061768,
                        "learn": [
                          0.9603798389,
                          0.2622534948
                        ]
                      },
                      {
                        "test": [
                          0.9660024643,
                          0.2409779536
                        ],
                        "passed_time": 180.1167008,
                        "iteration": 470,
                        "remaining_time": 202.2966767,
                        "learn": [
                          0.9604113698,
                          0.2621806044
                        ]
                      },
                      {
                        "test": [
                          0.9660608768,
                          0.2406646609
                        ],
                        "passed_time": 180.5813765,
                        "iteration": 471,
                        "remaining_time": 202.0062856,
                        "learn": [
                          0.9604584575,
                          0.2619612755
                        ]
                      },
                      {
                        "test": [
                          0.966072917,
                          0.2406004939
                        ],
                        "passed_time": 180.9604665,
                        "iteration": 472,
                        "remaining_time": 201.619801,
                        "learn": [
                          0.960493803,
                          0.2618495553
                        ]
                      },
                      {
                        "test": [
                          0.9660969377,
                          0.2405400982
                        ],
                        "passed_time": 181.3231358,
                        "iteration": 473,
                        "remaining_time": 201.2151253,
                        "learn": [
                          0.9605300426,
                          0.2617675285
                        ]
                      },
                      {
                        "test": [
                          0.9660990834,
                          0.2405355725
                        ],
                        "passed_time": 181.6471971,
                        "iteration": 474,
                        "remaining_time": 200.7679547,
                        "learn": [
                          0.960544467,
                          0.2617355693
                        ]
                      },
                      {
                        "test": [
                          0.9662123322,
                          0.2400131578
                        ],
                        "passed_time": 181.9689156,
                        "iteration": 475,
                        "remaining_time": 200.3187222,
                        "learn": [
                          0.9606087804,
                          0.2613818436
                        ]
                      },
                      {
                        "test": [
                          0.9662187696,
                          0.239995136
                        ],
                        "passed_time": 182.3422001,
                        "iteration": 476,
                        "remaining_time": 199.9265632,
                        "learn": [
                          0.960629046,
                          0.2613322876
                        ]
                      },
                      {
                        "test": [
                          0.9662716389,
                          0.2398055711
                        ],
                        "passed_time": 182.7708564,
                        "iteration": 477,
                        "remaining_time": 199.5949519,
                        "learn": [
                          0.9606800079,
                          0.2611538533
                        ]
                      },
                      {
                        "test": [
                          0.9662784338,
                          0.2397870914
                        ],
                        "passed_time": 183.2085321,
                        "iteration": 478,
                        "remaining_time": 199.2727457,
                        "learn": [
                          0.9607107639,
                          0.2610923835
                        ]
                      },
                      {
                        "test": [
                          0.9662804604,
                          0.2397847478
                        ],
                        "passed_time": 183.6185782,
                        "iteration": 479,
                        "remaining_time": 198.9201264,
                        "learn": [
                          0.9607216716,
                          0.2610726305
                        ]
                      },
                      {
                        "test": [
                          0.9663075805,
                          0.2396827324
                        ],
                        "passed_time": 183.9385347,
                        "iteration": 480,
                        "remaining_time": 198.4700613,
                        "learn": [
                          0.9607517719,
                          0.2609725502
                        ]
                      },
                      {
                        "test": [
                          0.9664151669,
                          0.2393285743
                        ],
                        "passed_time": 184.3104577,
                        "iteration": 481,
                        "remaining_time": 198.076384,
                        "learn": [
                          0.9608455896,
                          0.2606865436
                        ]
                      },
                      {
                        "test": [
                          0.9664270282,
                          0.2393029021
                        ],
                        "passed_time": 184.7155246,
                        "iteration": 482,
                        "remaining_time": 197.7182737,
                        "learn": [
                          0.9608683586,
                          0.2606415193
                        ]
                      },
                      {
                        "test": [
                          0.9664356112,
                          0.2392614979
                        ],
                        "passed_time": 185.0405523,
                        "iteration": 483,
                        "remaining_time": 197.2746384,
                        "learn": [
                          0.9608841538,
                          0.2605851293
                        ]
                      },
                      {
                        "test": [
                          0.9664463401,
                          0.2392141403
                        ],
                        "passed_time": 185.430443,
                        "iteration": 484,
                        "remaining_time": 196.9003673,
                        "learn": [
                          0.9609199166,
                          0.2604815406
                        ]
                      },
                      {
                        "test": [
                          0.9664511085,
                          0.239195499
                        ],
                        "passed_time": 185.8519431,
                        "iteration": 485,
                        "remaining_time": 196.5594625,
                        "learn": [
                          0.9609371424,
                          0.2604312355
                        ]
                      },
                      {
                        "test": [
                          0.9664666653,
                          0.2391528287
                        ],
                        "passed_time": 186.2765346,
                        "iteration": 486,
                        "remaining_time": 196.2214831,
                        "learn": [
                          0.9609695673,
                          0.2603400357
                        ]
                      },
                      {
                        "test": [
                          0.9664635658,
                          0.2391473064
                        ],
                        "passed_time": 186.6840504,
                        "iteration": 487,
                        "remaining_time": 195.8652333,
                        "learn": [
                          0.9609808922,
                          0.260309319
                        ]
                      },
                      {
                        "test": [
                          0.9664650559,
                          0.2391353188
                        ],
                        "passed_time": 187.0656653,
                        "iteration": 488,
                        "remaining_time": 195.4817075,
                        "learn": [
                          0.9610009789,
                          0.2602617548
                        ]
                      },
                      {
                        "test": [
                          0.9664660096,
                          0.2391148996
                        ],
                        "passed_time": 187.4507412,
                        "iteration": 489,
                        "remaining_time": 195.1017918,
                        "learn": [
                          0.9610161185,
                          0.2602057486
                        ]
                      },
                      {
                        "test": [
                          0.9664728045,
                          0.2390839744
                        ],
                        "passed_time": 187.7833996,
                        "iteration": 490,
                        "remaining_time": 194.6675161,
                        "learn": [
                          0.9610261321,
                          0.260168673
                        ]
                      },
                      {
                        "test": [
                          0.9664804935,
                          0.239030852
                        ],
                        "passed_time": 188.0989795,
                        "iteration": 491,
                        "remaining_time": 194.2160195,
                        "learn": [
                          0.9610519409,
                          0.2600837408
                        ]
                      },
                      {
                        "test": [
                          0.9664788246,
                          0.2390287778
                        ],
                        "passed_time": 188.4598101,
                        "iteration": 492,
                        "remaining_time": 193.81161,
                        "learn": [
                          0.9610709548,
                          0.2600403245
                        ]
                      },
                      {
                        "test": [
                          0.9664754272,
                          0.2390260839
                        ],
                        "passed_time": 188.8508266,
                        "iteration": 493,
                        "remaining_time": 193.438296,
                        "learn": [
                          0.961086452,
                          0.2600016409
                        ]
                      },
                      {
                        "test": [
                          0.966488719,
                          0.2389618091
                        ],
                        "passed_time": 189.2472664,
                        "iteration": 494,
                        "remaining_time": 193.0704435,
                        "learn": [
                          0.9611158371,
                          0.2599073713
                        ]
                      },
                      {
                        "test": [
                          0.9664995074,
                          0.238917738
                        ],
                        "passed_time": 189.6594045,
                        "iteration": 495,
                        "remaining_time": 192.7184271,
                        "learn": [
                          0.9611288905,
                          0.2598612506
                        ]
                      },
                      {
                        "test": [
                          0.9665091038,
                          0.2388729665
                        ],
                        "passed_time": 190.0191843,
                        "iteration": 496,
                        "remaining_time": 192.3131785,
                        "learn": [
                          0.961143136,
                          0.2598103425
                        ]
                      },
                      {
                        "test": [
                          0.9665019512,
                          0.238870165
                        ],
                        "passed_time": 190.3989231,
                        "iteration": 497,
                        "remaining_time": 191.9282317,
                        "learn": [
                          0.9611803293,
                          0.2597200929
                        ]
                      },
                      {
                        "test": [
                          0.966520071,
                          0.2387603913
                        ],
                        "passed_time": 190.7948772,
                        "iteration": 498,
                        "remaining_time": 191.5595861,
                        "learn": [
                          0.9612261057,
                          0.2595797027
                        ]
                      },
                      {
                        "test": [
                          0.9665206075,
                          0.2387514209
                        ],
                        "passed_time": 191.1740016,
                        "iteration": 499,
                        "remaining_time": 191.1740016,
                        "learn": [
                          0.9612395167,
                          0.2595504661
                        ]
                      },
                      {
                        "test": [
                          0.9665299058,
                          0.2387131146
                        ],
                        "passed_time": 191.5089335,
                        "iteration": 500,
                        "remaining_time": 190.7444268,
                        "learn": [
                          0.9612571001,
                          0.2594844098
                        ]
                      },
                      {
                        "test": [
                          0.9665583372,
                          0.2386307911
                        ],
                        "passed_time": 191.9348586,
                        "iteration": 501,
                        "remaining_time": 190.4054972,
                        "learn": [
                          0.9612941742,
                          0.2593936851
                        ]
                      },
                      {
                        "test": [
                          0.966568768,
                          0.2385855616
                        ],
                        "passed_time": 192.2617658,
                        "iteration": 502,
                        "remaining_time": 189.9683849,
                        "learn": [
                          0.9613176584,
                          0.2593174143
                        ]
                      },
                      {
                        "test": [
                          0.9665887356,
                          0.2385457737
                        ],
                        "passed_time": 192.6708254,
                        "iteration": 503,
                        "remaining_time": 189.6125584,
                        "learn": [
                          0.9613454938,
                          0.2592525091
                        ]
                      },
                      {
                        "test": [
                          0.9665898681,
                          0.2384999517
                        ],
                        "passed_time": 193.0541376,
                        "iteration": 504,
                        "remaining_time": 189.2312834,
                        "learn": [
                          0.961371839,
                          0.2591660603
                        ]
                      },
                      {
                        "test": [
                          0.9666067362,
                          0.2384411992
                        ],
                        "passed_time": 193.4421738,
                        "iteration": 505,
                        "remaining_time": 188.8546123,
                        "learn": [
                          0.9613999128,
                          0.2590948693
                        ]
                      },
                      {
                        "test": [
                          0.9665959477,
                          0.2384584667
                        ],
                        "passed_time": 193.80864,
                        "iteration": 506,
                        "remaining_time": 188.4569221,
                        "learn": [
                          0.9614129663,
                          0.2590663271
                        ]
                      },
                      {
                        "test": [
                          0.9666059017,
                          0.2384003877
                        ],
                        "passed_time": 194.1758402,
                        "iteration": 507,
                        "remaining_time": 188.0600657,
                        "learn": [
                          0.9614355564,
                          0.2589885031
                        ]
                      },
                      {
                        "test": [
                          0.9665985405,
                          0.23840459
                        ],
                        "passed_time": 194.5934399,
                        "iteration": 508,
                        "remaining_time": 187.711943,
                        "learn": [
                          0.9614677429,
                          0.2589193952
                        ]
                      },
                      {
                        "test": [
                          0.9666138291,
                          0.2383573402
                        ],
                        "passed_time": 194.8550564,
                        "iteration": 509,
                        "remaining_time": 187.2136816,
                        "learn": [
                          0.9614961147,
                          0.2588443852
                        ]
                      },
                      {
                        "test": [
                          0.9666270018,
                          0.238284526
                        ],
                        "passed_time": 195.2432477,
                        "iteration": 510,
                        "remaining_time": 186.8374718,
                        "learn": [
                          0.9615249038,
                          0.2587387133
                        ]
                      },
                      {
                        "test": [
                          0.9666466713,
                          0.2382481592
                        ],
                        "passed_time": 195.6353102,
                        "iteration": 511,
                        "remaining_time": 186.464905,
                        "learn": [
                          0.9615598321,
                          0.2586707383
                        ]
                      },
                      {
                        "test": [
                          0.9666646719,
                          0.2381770151
                        ],
                        "passed_time": 196.0243535,
                        "iteration": 512,
                        "remaining_time": 186.089396,
                        "learn": [
                          0.9615833163,
                          0.2585750435
                        ]
                      },
                      {
                        "test": [
                          0.96668607,
                          0.2381204716
                        ],
                        "passed_time": 196.4602446,
                        "iteration": 513,
                        "remaining_time": 185.7581301,
                        "learn": [
                          0.9616137743,
                          0.2584894169
                        ]
                      },
                      {
                        "test": [
                          0.9666842222,
                          0.2381104236
                        ],
                        "passed_time": 196.8221005,
                        "iteration": 514,
                        "remaining_time": 185.3567354,
                        "learn": [
                          0.9616287947,
                          0.2584496552
                        ]
                      },
                      {
                        "test": [
                          0.9666896462,
                          0.2380899774
                        ],
                        "passed_time": 197.2291366,
                        "iteration": 515,
                        "remaining_time": 184.9978723,
                        "learn": [
                          0.9616551399,
                          0.258400885
                        ]
                      },
                      {
                        "test": [
                          0.9666959047,
                          0.238080576
                        ],
                        "passed_time": 197.5926925,
                        "iteration": 516,
                        "remaining_time": 184.5982021,
                        "learn": [
                          0.9616683722,
                          0.2583786835
                        ]
                      },
                      {
                        "test": [
                          0.9667061567,
                          0.2380606955
                        ],
                        "passed_time": 197.9799376,
                        "iteration": 517,
                        "remaining_time": 184.2207141,
                        "learn": [
                          0.9616830945,
                          0.2583478755
                        ]
                      },
                      {
                        "test": [
                          0.9667059779,
                          0.2380431856
                        ],
                        "passed_time": 198.3690555,
                        "iteration": 518,
                        "remaining_time": 183.8449243,
                        "learn": [
                          0.9617140889,
                          0.2582713671
                        ]
                      },
                      {
                        "test": [
                          0.9667044282,
                          0.2380394681
                        ],
                        "passed_time": 198.6945653,
                        "iteration": 519,
                        "remaining_time": 183.410368,
                        "learn": [
                          0.9617338777,
                          0.2582190154
                        ]
                      },
                      {
                        "test": [
                          0.9666951299,
                          0.2380392256
                        ],
                        "passed_time": 199.0818136,
                        "iteration": 520,
                        "remaining_time": 183.0329918,
                        "learn": [
                          0.9617604613,
                          0.258154695
                        ]
                      },
                      {
                        "test": [
                          0.9667154551,
                          0.2379771867
                        ],
                        "passed_time": 199.5254,
                        "iteration": 521,
                        "remaining_time": 182.7071671,
                        "learn": [
                          0.9617970586,
                          0.258067497
                        ]
                      },
                      {
                        "test": [
                          0.9666854739,
                          0.2379939962
                        ],
                        "passed_time": 199.88783,
                        "iteration": 522,
                        "remaining_time": 182.3068736,
                        "learn": [
                          0.9618332386,
                          0.2579758952
                        ]
                      },
                      {
                        "test": [
                          0.9667146206,
                          0.2378772725
                        ],
                        "passed_time": 200.2952595,
                        "iteration": 523,
                        "remaining_time": 181.9476021,
                        "learn": [
                          0.9618737102,
                          0.2578450616
                        ]
                      },
                      {
                        "test": [
                          0.966716826,
                          0.2378655543
                        ],
                        "passed_time": 200.7054896,
                        "iteration": 524,
                        "remaining_time": 181.5906811,
                        "learn": [
                          0.9618906379,
                          0.2577998546
                        ]
                      },
                      {
                        "test": [
                          0.9667266607,
                          0.2378473709
                        ],
                        "passed_time": 200.9918223,
                        "iteration": 525,
                        "remaining_time": 181.1219083,
                        "learn": [
                          0.9618992805,
                          0.2577747112
                        ]
                      },
                      {
                        "test": [
                          0.9667587876,
                          0.237728142
                        ],
                        "passed_time": 201.4404595,
                        "iteration": 526,
                        "remaining_time": 180.7995016,
                        "learn": [
                          0.961946547,
                          0.257626153
                        ]
                      },
                      {
                        "test": [
                          0.9670116901,
                          0.2367975309
                        ],
                        "passed_time": 201.8278331,
                        "iteration": 527,
                        "remaining_time": 180.4218508,
                        "learn": [
                          0.9621104002,
                          0.2569350375
                        ]
                      },
                      {
                        "test": [
                          0.96700418,
                          0.2367815295
                        ],
                        "passed_time": 202.2131773,
                        "iteration": 528,
                        "remaining_time": 180.0423563,
                        "learn": [
                          0.962151885,
                          0.256836492
                        ]
                      },
                      {
                        "test": [
                          0.9670268893,
                          0.2367056443
                        ],
                        "passed_time": 202.621232,
                        "iteration": 529,
                        "remaining_time": 179.6829793,
                        "learn": [
                          0.9621780515,
                          0.2567541729
                        ]
                      },
                      {
                        "test": [
                          0.9670367241,
                          0.2366849018
                        ],
                        "passed_time": 202.9985916,
                        "iteration": 530,
                        "remaining_time": 179.2963079,
                        "learn": [
                          0.9622085392,
                          0.2566937263
                        ]
                      },
                      {
                        "test": [
                          0.9670427442,
                          0.236676928
                        ],
                        "passed_time": 203.3934706,
                        "iteration": 531,
                        "remaining_time": 178.9250832,
                        "learn": [
                          0.9622291923,
                          0.256649908
                        ]
                      },
                      {
                        "test": [
                          0.9670468569,
                          0.2366427972
                        ],
                        "passed_time": 203.812791,
                        "iteration": 532,
                        "remaining_time": 178.5751846,
                        "learn": [
                          0.9622439146,
                          0.2565883468
                        ]
                      },
                      {
                        "test": [
                          0.9670594037,
                          0.2365796537
                        ],
                        "passed_time": 204.1291724,
                        "iteration": 533,
                        "remaining_time": 178.1351954,
                        "learn": [
                          0.9622692466,
                          0.2565008199
                        ]
                      },
                      {
                        "test": [
                          0.9670664072,
                          0.2365557325
                        ],
                        "passed_time": 204.5227947,
                        "iteration": 534,
                        "remaining_time": 177.7628029,
                        "learn": [
                          0.9622840881,
                          0.2564584817
                        ]
                      },
                      {
                        "test": [
                          0.9670801163,
                          0.2365068934
                        ],
                        "passed_time": 204.923928,
                        "iteration": 535,
                        "remaining_time": 177.3968332,
                        "learn": [
                          0.9623159766,
                          0.2563835082
                        ]
                      },
                      {
                        "test": [
                          0.9670858979,
                          0.2364918348
                        ],
                        "passed_time": 205.3101518,
                        "iteration": 536,
                        "remaining_time": 177.0178776,
                        "learn": [
                          0.9623430967,
                          0.2563259305
                        ]
                      },
                      {
                        "test": [
                          0.9671036005,
                          0.2364416757
                        ],
                        "passed_time": 205.6212688,
                        "iteration": 537,
                        "remaining_time": 176.5743981,
                        "learn": [
                          0.9623686671,
                          0.2562536431
                        ]
                      },
                      {
                        "test": [
                          0.9671351314,
                          0.2363425966
                        ],
                        "passed_time": 206.0655799,
                        "iteration": 538,
                        "remaining_time": 176.245329,
                        "learn": [
                          0.9624126554,
                          0.2561337733
                        ]
                      },
                      {
                        "test": [
                          0.9671464562,
                          0.2363102436
                        ],
                        "passed_time": 206.448355,
                        "iteration": 539,
                        "remaining_time": 175.8634135,
                        "learn": [
                          0.9624404907,
                          0.2560524409
                        ]
                      },
                      {
                        "test": [
                          0.9671592116,
                          0.2362933264
                        ],
                        "passed_time": 206.8462265,
                        "iteration": 540,
                        "remaining_time": 175.494303,
                        "learn": [
                          0.9624695778,
                          0.2559994313
                        ]
                      },
                      {
                        "test": [
                          0.9672413468,
                          0.2360045746
                        ],
                        "passed_time": 207.2360844,
                        "iteration": 541,
                        "remaining_time": 175.1183148,
                        "learn": [
                          0.9625573158,
                          0.2557188884
                        ]
                      },
                      {
                        "test": [
                          0.9672437906,
                          0.2359831855
                        ],
                        "passed_time": 207.6554463,
                        "iteration": 542,
                        "remaining_time": 174.7671067,
                        "learn": [
                          0.9625709653,
                          0.255678414
                        ]
                      },
                      {
                        "test": [
                          0.9672520161,
                          0.2359175099
                        ],
                        "passed_time": 208.0039705,
                        "iteration": 543,
                        "remaining_time": 174.3562694,
                        "learn": [
                          0.9625887275,
                          0.2556011016
                        ]
                      },
                      {
                        "test": [
                          0.9672627449,
                          0.2358565216
                        ],
                        "passed_time": 208.3912083,
                        "iteration": 544,
                        "remaining_time": 173.9779813,
                        "learn": [
                          0.9626049399,
                          0.255536635
                        ]
                      },
                      {
                        "test": [
                          0.9672699571,
                          0.2358211516
                        ],
                        "passed_time": 208.7090728,
                        "iteration": 545,
                        "remaining_time": 173.5419763,
                        "learn": [
                          0.9626209736,
                          0.2554844113
                        ]
                      },
                      {
                        "test": [
                          0.9673593044,
                          0.2355010705
                        ],
                        "passed_time": 209.125288,
                        "iteration": 546,
                        "remaining_time": 173.1878528,
                        "learn": [
                          0.9626982808,
                          0.2552177739
                        ]
                      },
                      {
                        "test": [
                          0.9673578143,
                          0.2354999121
                        ],
                        "passed_time": 209.4782052,
                        "iteration": 547,
                        "remaining_time": 172.7812933,
                        "learn": [
                          0.9627102613,
                          0.2551912235
                        ]
                      },
                      {
                        "test": [
                          0.9673706889,
                          0.2354480289
                        ],
                        "passed_time": 209.902092,
                        "iteration": 548,
                        "remaining_time": 172.4332304,
                        "learn": [
                          0.962731421,
                          0.255115044
                        ]
                      },
                      {
                        "test": [
                          0.967377007,
                          0.2354233804
                        ],
                        "passed_time": 210.2547871,
                        "iteration": 549,
                        "remaining_time": 172.026644,
                        "learn": [
                          0.9627496004,
                          0.2550740946
                        ]
                      },
                      {
                        "test": [
                          0.967382431,
                          0.2353918087
                        ],
                        "passed_time": 210.5899919,
                        "iteration": 550,
                        "remaining_time": 171.6060006,
                        "learn": [
                          0.9627600312,
                          0.2550238077
                        ]
                      },
                      {
                        "test": [
                          0.9674598575,
                          0.2349820769
                        ],
                        "passed_time": 210.9196213,
                        "iteration": 551,
                        "remaining_time": 171.1811419,
                        "learn": [
                          0.9628159404,
                          0.2547011824
                        ]
                      },
                      {
                        "test": [
                          0.9674779177,
                          0.2349194991
                        ],
                        "passed_time": 211.2753384,
                        "iteration": 552,
                        "remaining_time": 170.7777148,
                        "learn": [
                          0.9628346562,
                          0.2546324034
                        ]
                      },
                      {
                        "test": [
                          0.9674932957,
                          0.2348506718
                        ],
                        "passed_time": 211.691219,
                        "iteration": 553,
                        "remaining_time": 170.4228947,
                        "learn": [
                          0.9628756642,
                          0.2545239175
                        ]
                      },
                      {
                        "test": [
                          0.9675003886,
                          0.2348235179
                        ],
                        "passed_time": 212.107768,
                        "iteration": 554,
                        "remaining_time": 170.0683906,
                        "learn": [
                          0.96289891,
                          0.2544615157
                        ]
                      },
                      {
                        "test": [
                          0.9675038457,
                          0.2348064929
                        ],
                        "passed_time": 212.5117528,
                        "iteration": 555,
                        "remaining_time": 169.7036299,
                        "learn": [
                          0.9629199505,
                          0.2543962269
                        ]
                      },
                      {
                        "test": [
                          0.9674984813,
                          0.234807328
                        ],
                        "passed_time": 212.8539308,
                        "iteration": 556,
                        "remaining_time": 169.2895715,
                        "learn": [
                          0.96293962,
                          0.2543451726
                        ]
                      },
                      {
                        "test": [
                          0.9674999118,
                          0.2347853194
                        ],
                        "passed_time": 213.2420448,
                        "iteration": 557,
                        "remaining_time": 168.9121574,
                        "learn": [
                          0.9629518986,
                          0.2542972612
                        ]
                      },
                      {
                        "test": [
                          0.9675105214,
                          0.2347471747
                        ],
                        "passed_time": 213.5387059,
                        "iteration": 558,
                        "remaining_time": 168.4625569,
                        "learn": [
                          0.9629880786,
                          0.2541985878
                        ]
                      },
                      {
                        "test": [
                          0.9675201178,
                          0.23471431
                        ],
                        "passed_time": 213.9439501,
                        "iteration": 559,
                        "remaining_time": 168.098818,
                        "learn": [
                          0.9630141258,
                          0.2541336096
                        ]
                      },
                      {
                        "test": [
                          0.9675379992,
                          0.2346458867
                        ],
                        "passed_time": 214.3963525,
                        "iteration": 560,
                        "remaining_time": 167.7718338,
                        "learn": [
                          0.9630436897,
                          0.2540409845
                        ]
                      },
                      {
                        "test": [
                          0.9675383568,
                          0.234635246
                        ],
                        "passed_time": 214.7408867,
                        "iteration": 561,
                        "remaining_time": 167.3603352,
                        "learn": [
                          0.9630570412,
                          0.2539964171
                        ]
                      },
                      {
                        "test": [
                          0.9675390124,
                          0.2346124832
                        ],
                        "passed_time": 215.1000364,
                        "iteration": 562,
                        "remaining_time": 166.960419,
                        "learn": [
                          0.963080287,
                          0.2539068253
                        ]
                      },
                      {
                        "test": [
                          0.9675498605,
                          0.2345424705
                        ],
                        "passed_time": 215.4449539,
                        "iteration": 563,
                        "remaining_time": 166.5496452,
                        "learn": [
                          0.9630978107,
                          0.2538318153
                        ]
                      },
                      {
                        "test": [
                          0.9675521255,
                          0.234533931
                        ],
                        "passed_time": 215.7181679,
                        "iteration": 564,
                        "remaining_time": 166.0838992,
                        "learn": [
                          0.9631069899,
                          0.2537998378
                        ]
                      },
                      {
                        "test": [
                          0.9675588608,
                          0.2345001234
                        ],
                        "passed_time": 216.1303534,
                        "iteration": 565,
                        "remaining_time": 165.7253946,
                        "learn": [
                          0.9631239176,
                          0.2537428448
                        ]
                      },
                      {
                        "test": [
                          0.9675704837,
                          0.2344747745
                        ],
                        "passed_time": 216.5060151,
                        "iteration": 566,
                        "remaining_time": 165.3388087,
                        "learn": [
                          0.9631474018,
                          0.2536812836
                        ]
                      },
                      {
                        "test": [
                          0.967574954,
                          0.2344502875
                        ],
                        "passed_time": 216.9123901,
                        "iteration": 567,
                        "remaining_time": 164.9756206,
                        "learn": [
                          0.963157177,
                          0.2536500188
                        ]
                      },
                      {
                        "test": [
                          0.9675719142,
                          0.2344515536
                        ],
                        "passed_time": 217.2633364,
                        "iteration": 568,
                        "remaining_time": 164.5702952,
                        "learn": [
                          0.9631636143,
                          0.2536271594
                        ]
                      },
                      {
                        "test": [
                          0.9675839543,
                          0.2344157526
                        ],
                        "passed_time": 217.5552834,
                        "iteration": 569,
                        "remaining_time": 164.1206524,
                        "learn": [
                          0.9631764293,
                          0.2535849492
                        ]
                      },
                      {
                        "test": [
                          0.9675770402,
                          0.2344125739
                        ],
                        "passed_time": 217.9567422,
                        "iteration": 570,
                        "remaining_time": 163.7538396,
                        "learn": [
                          0.9631884694,
                          0.2535494085
                        ]
                      },
                      {
                        "test": [
                          0.9676190019,
                          0.2341346782
                        ],
                        "passed_time": 218.2740728,
                        "iteration": 571,
                        "remaining_time": 163.3239566,
                        "learn": [
                          0.9632116854,
                          0.2533773331
                        ]
                      },
                      {
                        "test": [
                          0.9676743746,
                          0.2339962692
                        ],
                        "passed_time": 218.638613,
                        "iteration": 572,
                        "remaining_time": 162.9296471,
                        "learn": [
                          0.9632914066,
                          0.2531966695
                        ]
                      },
                      {
                        "test": [
                          0.9676792026,
                          0.2339439011
                        ],
                        "passed_time": 218.8937378,
                        "iteration": 573,
                        "remaining_time": 162.4542375,
                        "learn": [
                          0.9633074999,
                          0.2531246197
                        ]
                      },
                      {
                        "test": [
                          0.9676876068,
                          0.2339205725
                        ],
                        "passed_time": 219.2004115,
                        "iteration": 574,
                        "remaining_time": 162.0176954,
                        "learn": [
                          0.963329792,
                          0.2530743328
                        ]
                      },
                      {
                        "test": [
                          0.9676939845,
                          0.2338783063
                        ],
                        "passed_time": 219.6003783,
                        "iteration": 575,
                        "remaining_time": 161.6502785,
                        "learn": [
                          0.9633515477,
                          0.2530067233
                        ]
                      },
                      {
                        "test": [
                          0.9677036405,
                          0.2338541426
                        ],
                        "passed_time": 220.0016574,
                        "iteration": 576,
                        "remaining_time": 161.2837107,
                        "learn": [
                          0.9633681774,
                          0.2529718039
                        ]
                      },
                      {
                        "test": [
                          0.9677188993,
                          0.2338077548
                        ],
                        "passed_time": 220.3917879,
                        "iteration": 577,
                        "remaining_time": 160.9088832,
                        "learn": [
                          0.9634045362,
                          0.2528864332
                        ]
                      },
                      {
                        "test": [
                          0.9677498937,
                          0.2337266435
                        ],
                        "passed_time": 220.7442661,
                        "iteration": 578,
                        "remaining_time": 160.5066253,
                        "learn": [
                          0.9634399414,
                          0.2528006239
                        ]
                      },
                      {
                        "test": [
                          0.9677824378,
                          0.2336476604
                        ],
                        "passed_time": 221.1581494,
                        "iteration": 579,
                        "remaining_time": 160.1490047,
                        "learn": [
                          0.9634996057,
                          0.2526662637
                        ]
                      },
                      {
                        "test": [
                          0.9677884579,
                          0.2336267024
                        ],
                        "passed_time": 221.5361231,
                        "iteration": 580,
                        "remaining_time": 159.7652936,
                        "learn": [
                          0.9635195732,
                          0.2526149718
                        ]
                      },
                      {
                        "test": [
                          0.9678066969,
                          0.23356135
                        ],
                        "passed_time": 221.8214856,
                        "iteration": 581,
                        "remaining_time": 159.3150876,
                        "learn": [
                          0.9635592699,
                          0.252503343
                        ]
                      },
                      {
                        "test": [
                          0.9678195119,
                          0.2335233131
                        ],
                        "passed_time": 222.2369671,
                        "iteration": 582,
                        "remaining_time": 158.9585168,
                        "learn": [
                          0.9635899663,
                          0.2524223395
                        ]
                      },
                      {
                        "test": [
                          0.9678145051,
                          0.2335249564
                        ],
                        "passed_time": 222.6401761,
                        "iteration": 583,
                        "remaining_time": 158.5930021,
                        "learn": [
                          0.9636141062,
                          0.2523631538
                        ]
                      },
                      {
                        "test": [
                          0.9678175449,
                          0.2334965095
                        ],
                        "passed_time": 223.0630042,
                        "iteration": 584,
                        "remaining_time": 158.2412765,
                        "learn": [
                          0.963647306,
                          0.2522718078
                        ]
                      },
                      {
                        "test": [
                          0.967820406,
                          0.2334748241
                        ],
                        "passed_time": 223.4205257,
                        "iteration": 585,
                        "remaining_time": 157.84317,
                        "learn": [
                          0.963662684,
                          0.2522274779
                        ]
                      },
                      {
                        "test": [
                          0.967826426,
                          0.233439535
                        ],
                        "passed_time": 223.8391704,
                        "iteration": 586,
                        "remaining_time": 157.4882068,
                        "learn": [
                          0.9636796713,
                          0.2521804071
                        ]
                      },
                      {
                        "test": [
                          0.9678328633,
                          0.233415937
                        ],
                        "passed_time": 224.270304,
                        "iteration": 587,
                        "remaining_time": 157.1417776,
                        "learn": [
                          0.963706851,
                          0.252109947
                        ]
                      },
                      {
                        "test": [
                          0.9678372145,
                          0.2334047845
                        ],
                        "passed_time": 224.5935267,
                        "iteration": 588,
                        "remaining_time": 156.7197614,
                        "learn": [
                          0.9637168646,
                          0.2520816241
                        ]
                      },
                      {
                        "test": [
                          0.9678406119,
                          0.2333960296
                        ],
                        "passed_time": 225.0104121,
                        "iteration": 589,
                        "remaining_time": 156.3631677,
                        "learn": [
                          0.9637298584,
                          0.252052552
                        ]
                      },
                      {
                        "test": [
                          0.9678606987,
                          0.2333403481
                        ],
                        "passed_time": 225.4230953,
                        "iteration": 590,
                        "remaining_time": 156.0034619,
                        "learn": [
                          0.9637659788,
                          0.2519702511
                        ]
                      },
                      {
                        "test": [
                          0.9678668976,
                          0.2333203329
                        ],
                        "passed_time": 225.8366075,
                        "iteration": 591,
                        "remaining_time": 155.6441484,
                        "learn": [
                          0.9637914896,
                          0.2519087995
                        ]
                      },
                      {
                        "test": [
                          0.9678675532,
                          0.233307187
                        ],
                        "passed_time": 226.2628947,
                        "iteration": 592,
                        "remaining_time": 155.2934201,
                        "learn": [
                          0.9638153315,
                          0.2518425056
                        ]
                      },
                      {
                        "test": [
                          0.9678681493,
                          0.2332962231
                        ],
                        "passed_time": 226.6475423,
                        "iteration": 593,
                        "remaining_time": 154.9139767,
                        "learn": [
                          0.9638324976,
                          0.2518007339
                        ]
                      },
                      {
                        "test": [
                          0.9678766131,
                          0.2332588327
                        ],
                        "passed_time": 227.0438928,
                        "iteration": 594,
                        "remaining_time": 154.5424817,
                        "learn": [
                          0.9638499618,
                          0.2517344035
                        ]
                      },
                      {
                        "test": [
                          0.9678862691,
                          0.233231625
                        ],
                        "passed_time": 227.4683353,
                        "iteration": 595,
                        "remaining_time": 154.1899454,
                        "learn": [
                          0.9638774991,
                          0.2516613669
                        ]
                      },
                      {
                        "test": [
                          0.967890203,
                          0.233215058
                        ],
                        "passed_time": 227.8297535,
                        "iteration": 596,
                        "remaining_time": 153.7946242,
                        "learn": [
                          0.963901341,
                          0.2516069139
                        ]
                      },
                      {
                        "test": [
                          0.9679025114,
                          0.2331790145
                        ],
                        "passed_time": 228.2249184,
                        "iteration": 597,
                        "remaining_time": 153.4221023,
                        "learn": [
                          0.963921845,
                          0.2515482032
                        ]
                      },
                      {
                        "test": [
                          0.9679017067,
                          0.2331560092
                        ],
                        "passed_time": 228.593754,
                        "iteration": 598,
                        "remaining_time": 153.0318787,
                        "learn": [
                          0.9639418125,
                          0.2514731201
                        ]
                      },
                      {
                        "test": [
                          0.9679225683,
                          0.233100193
                        ],
                        "passed_time": 229.021684,
                        "iteration": 599,
                        "remaining_time": 152.6811226,
                        "learn": [
                          0.9639676809,
                          0.2513966117
                        ]
                      },
                      {
                        "test": [
                          0.9679272771,
                          0.2330791541
                        ],
                        "passed_time": 229.382846,
                        "iteration": 600,
                        "remaining_time": 152.285783,
                        "learn": [
                          0.9639736414,
                          0.2513679233
                        ]
                      },
                      {
                        "test": [
                          0.967934072,
                          0.2330524583
                        ],
                        "passed_time": 229.7803436,
                        "iteration": 601,
                        "remaining_time": 151.9145793,
                        "learn": [
                          0.9639984369,
                          0.2513052109
                        ]
                      },
                      {
                        "test": [
                          0.9679360986,
                          0.23303775
                        ],
                        "passed_time": 230.1773324,
                        "iteration": 602,
                        "remaining_time": 151.5429535,
                        "learn": [
                          0.9640063047,
                          0.2512760109
                        ]
                      },
                      {
                        "test": [
                          0.9680019617,
                          0.2327485941
                        ],
                        "passed_time": 230.6094254,
                        "iteration": 603,
                        "remaining_time": 151.194259,
                        "learn": [
                          0.9640678763,
                          0.2510107623
                        ]
                      },
                      {
                        "test": [
                          0.9679989219,
                          0.2327356098
                        ],
                        "passed_time": 230.9869934,
                        "iteration": 604,
                        "remaining_time": 150.8096899,
                        "learn": [
                          0.9640809894,
                          0.2509677663
                        ]
                      },
                      {
                        "test": [
                          0.9680178165,
                          0.2326426726
                        ],
                        "passed_time": 231.4508188,
                        "iteration": 605,
                        "remaining_time": 150.4812254,
                        "learn": [
                          0.9641293287,
                          0.2508249092
                        ]
                      },
                      {
                        "test": [
                          0.9680278301,
                          0.2326088381
                        ],
                        "passed_time": 231.8449642,
                        "iteration": 606,
                        "remaining_time": 150.1072009,
                        "learn": [
                          0.9641510844,
                          0.2507723931
                        ]
                      },
                      {
                        "test": [
                          0.9680503011,
                          0.2325476073
                        ],
                        "passed_time": 232.251762,
                        "iteration": 607,
                        "remaining_time": 149.7412676,
                        "learn": [
                          0.9641791582,
                          0.2506984429
                        ]
                      },
                      {
                        "test": [
                          0.9680611789,
                          0.2325011117
                        ],
                        "passed_time": 232.6427944,
                        "iteration": 608,
                        "remaining_time": 149.3650782,
                        "learn": [
                          0.9642008543,
                          0.2506258814
                        ]
                      },
                      {
                        "test": [
                          0.9680654407,
                          0.232467789
                        ],
                        "passed_time": 233.0122701,
                        "iteration": 609,
                        "remaining_time": 148.9750579,
                        "learn": [
                          0.9642132521,
                          0.2505808206
                        ]
                      },
                      {
                        "test": [
                          0.9680701494,
                          0.2324561248
                        ],
                        "passed_time": 233.4238878,
                        "iteration": 610,
                        "remaining_time": 148.6119351,
                        "learn": [
                          0.9642320871,
                          0.2505431603
                        ]
                      },
                      {
                        "test": [
                          0.9680627584,
                          0.2324699172
                        ],
                        "passed_time": 233.776508,
                        "iteration": 611,
                        "remaining_time": 148.2112502,
                        "learn": [
                          0.9642452002,
                          0.2505063222
                        ]
                      },
                      {
                        "test": [
                          0.9681348801,
                          0.2322229736
                        ],
                        "passed_time": 234.1281195,
                        "iteration": 612,
                        "remaining_time": 147.8100853,
                        "learn": [
                          0.9643124938,
                          0.2502876694
                        ]
                      },
                      {
                        "test": [
                          0.9681412578,
                          0.2321877114
                        ],
                        "passed_time": 234.4700808,
                        "iteration": 613,
                        "remaining_time": 147.4030149,
                        "learn": [
                          0.9643316865,
                          0.2502321565
                        ]
                      },
                      {
                        "test": [
                          0.968142271,
                          0.2321912942
                        ],
                        "passed_time": 234.8537716,
                        "iteration": 614,
                        "remaining_time": 147.0222798,
                        "learn": [
                          0.9643461108,
                          0.2502026276
                        ]
                      },
                      {
                        "test": [
                          0.9681411386,
                          0.2321845057
                        ],
                        "passed_time": 235.2371052,
                        "iteration": 615,
                        "remaining_time": 146.6413123,
                        "learn": [
                          0.9643549323,
                          0.2501714175
                        ]
                      },
                      {
                        "test": [
                          0.9681529403,
                          0.2321408387
                        ],
                        "passed_time": 235.6108264,
                        "iteration": 616,
                        "remaining_time": 146.2543704,
                        "learn": [
                          0.9643679261,
                          0.2501180608
                        ]
                      },
                      {
                        "test": [
                          0.9681612253,
                          0.232107085
                        ],
                        "passed_time": 235.9652243,
                        "iteration": 617,
                        "remaining_time": 145.855527,
                        "learn": [
                          0.9643929601,
                          0.2500428681
                        ]
                      },
                      {
                        "test": [
                          0.9681995511,
                          0.2320274284
                        ],
                        "passed_time": 236.3707829,
                        "iteration": 618,
                        "remaining_time": 145.4883171,
                        "learn": [
                          0.9644262791,
                          0.2499765377
                        ]
                      },
                      {
                        "test": [
                          0.9682022929,
                          0.2320106189
                        ],
                        "passed_time": 236.7835583,
                        "iteration": 619,
                        "remaining_time": 145.1254067,
                        "learn": [
                          0.9644514918,
                          0.2498919161
                        ]
                      },
                      {
                        "test": [
                          0.9682190418,
                          0.2319689184
                        ],
                        "passed_time": 237.1982912,
                        "iteration": 620,
                        "remaining_time": 144.7635304,
                        "learn": [
                          0.9644837677,
                          0.2498220225
                        ]
                      },
                      {
                        "test": [
                          0.9682238102,
                          0.2319427612
                        ],
                        "passed_time": 237.5500804,
                        "iteration": 621,
                        "remaining_time": 144.3632321,
                        "learn": [
                          0.9644991755,
                          0.2497810365
                        ]
                      },
                      {
                        "test": [
                          0.9682332873,
                          0.2319069063
                        ],
                        "passed_time": 237.95197,
                        "iteration": 622,
                        "remaining_time": 143.9934072,
                        "learn": [
                          0.9645326734,
                          0.2496987722
                        ]
                      },
                      {
                        "test": [
                          0.9682397246,
                          0.2318706204
                        ],
                        "passed_time": 238.2956935,
                        "iteration": 623,
                        "remaining_time": 143.5884307,
                        "learn": [
                          0.9645422697,
                          0.2496470418
                        ]
                      },
                      {
                        "test": [
                          0.968244791,
                          0.2318547807
                        ],
                        "passed_time": 238.6226985,
                        "iteration": 624,
                        "remaining_time": 143.1736191,
                        "learn": [
                          0.9645476341,
                          0.2496290978
                        ]
                      },
                      {
                        "test": [
                          0.9682371616,
                          0.2318549423
                        ],
                        "passed_time": 238.9807144,
                        "iteration": 625,
                        "remaining_time": 142.7776153,
                        "learn": [
                          0.9645617604,
                          0.2495840187
                        ]
                      },
                      {
                        "test": [
                          0.9682353139,
                          0.2318429548
                        ],
                        "passed_time": 239.3194856,
                        "iteration": 626,
                        "remaining_time": 142.3702841,
                        "learn": [
                          0.9645700455,
                          0.2495465228
                        ]
                      },
                      {
                        "test": [
                          0.9682445526,
                          0.23179786
                        ],
                        "passed_time": 239.7167759,
                        "iteration": 627,
                        "remaining_time": 141.9978354,
                        "learn": [
                          0.9646064043,
                          0.2494492748
                        ]
                      },
                      {
                        "test": [
                          0.968249768,
                          0.2317795689
                        ],
                        "passed_time": 240.096941,
                        "iteration": 628,
                        "remaining_time": 141.6152069,
                        "learn": [
                          0.9646304846,
                          0.2493951506
                        ]
                      },
                      {
                        "test": [
                          0.9682562351,
                          0.2317557824
                        ],
                        "passed_time": 240.3576936,
                        "iteration": 629,
                        "remaining_time": 141.162455,
                        "learn": [
                          0.9646425843,
                          0.2493547493
                        ]
                      },
                      {
                        "test": [
                          0.9682641625,
                          0.2317425287
                        ],
                        "passed_time": 240.797898,
                        "iteration": 630,
                        "remaining_time": 140.8152526,
                        "learn": [
                          0.9646789432,
                          0.2492729053
                        ]
                      },
                      {
                        "test": [
                          0.9683232903,
                          0.2313635874
                        ],
                        "passed_time": 241.1761708,
                        "iteration": 631,
                        "remaining_time": 140.4316944,
                        "learn": [
                          0.9647220373,
                          0.2489831528
                        ]
                      },
                      {
                        "test": [
                          0.9683226347,
                          0.2313704298
                        ],
                        "passed_time": 241.5441795,
                        "iteration": 632,
                        "remaining_time": 140.042202,
                        "learn": [
                          0.964748621,
                          0.2489334507
                        ]
                      },
                      {
                        "test": [
                          0.9683248401,
                          0.2313471281
                        ],
                        "passed_time": 241.9330634,
                        "iteration": 633,
                        "remaining_time": 139.6648284,
                        "learn": [
                          0.9647635221,
                          0.2488774992
                        ]
                      },
                      {
                        "test": [
                          0.9683299065,
                          0.2313291064
                        ],
                        "passed_time": 242.3305342,
                        "iteration": 634,
                        "remaining_time": 139.2923543,
                        "learn": [
                          0.9647732973,
                          0.248837902
                        ]
                      },
                      {
                        "test": [
                          0.9683321118,
                          0.2313150176
                        ],
                        "passed_time": 242.7184294,
                        "iteration": 635,
                        "remaining_time": 138.9143212,
                        "learn": [
                          0.9647967219,
                          0.2487810552
                        ]
                      },
                      {
                        "test": [
                          0.9683498144,
                          0.231259848
                        ],
                        "passed_time": 243.071861,
                        "iteration": 636,
                        "remaining_time": 138.5166178,
                        "learn": [
                          0.9648259282,
                          0.2487104854
                        ]
                      },
                      {
                        "test": [
                          0.968354404,
                          0.2312470253
                        ],
                        "passed_time": 243.4816713,
                        "iteration": 637,
                        "remaining_time": 138.1510423,
                        "learn": [
                          0.9648438096,
                          0.2486665575
                        ]
                      },
                      {
                        "test": [
                          0.9683753252,
                          0.2311994523
                        ],
                        "passed_time": 243.8900375,
                        "iteration": 638,
                        "remaining_time": 137.7845126,
                        "learn": [
                          0.9648792148,
                          0.2485867966
                        ]
                      },
                      {
                        "test": [
                          0.9683758616,
                          0.2311766894
                        ],
                        "passed_time": 244.3380637,
                        "iteration": 639,
                        "remaining_time": 137.4401608,
                        "learn": [
                          0.9649069905,
                          0.2485199545
                        ]
                      },
                      {
                        "test": [
                          0.9683750868,
                          0.2311723254
                        ],
                        "passed_time": 244.6875101,
                        "iteration": 640,
                        "remaining_time": 137.0402748,
                        "learn": [
                          0.9649248123,
                          0.2484742358
                        ]
                      },
                      {
                        "test": [
                          0.9683769345,
                          0.231168554
                        ],
                        "passed_time": 245.0833557,
                        "iteration": 641,
                        "remaining_time": 136.6664196,
                        "learn": [
                          0.9649397135,
                          0.2484408148
                        ]
                      },
                      {
                        "test": [
                          0.9683753252,
                          0.2311625737
                        ],
                        "passed_time": 245.5177912,
                        "iteration": 642,
                        "remaining_time": 136.3139214,
                        "learn": [
                          0.9649662971,
                          0.2483883352
                        ]
                      },
                      {
                        "test": [
                          0.968375206,
                          0.2311591256
                        ],
                        "passed_time": 245.9086349,
                        "iteration": 643,
                        "remaining_time": 135.9370715,
                        "learn": [
                          0.9649826884,
                          0.2483530503
                        ]
                      },
                      {
                        "test": [
                          0.9683796763,
                          0.2311493201
                        ],
                        "passed_time": 246.2857626,
                        "iteration": 644,
                        "remaining_time": 135.5526291,
                        "learn": [
                          0.9650016427,
                          0.2483020326
                        ]
                      },
                      {
                        "test": [
                          0.9683818221,
                          0.2311469764
                        ],
                        "passed_time": 246.6791023,
                        "iteration": 645,
                        "remaining_time": 135.1770932,
                        "learn": [
                          0.9650251865,
                          0.2482517274
                        ]
                      },
                      {
                        "test": [
                          0.9683776498,
                          0.2311505862
                        ],
                        "passed_time": 247.0297404,
                        "iteration": 646,
                        "remaining_time": 134.7782046,
                        "learn": [
                          0.9650525451,
                          0.2481838255
                        ]
                      },
                      {
                        "test": [
                          0.9684001207,
                          0.2310404084
                        ],
                        "passed_time": 247.3109831,
                        "iteration": 647,
                        "remaining_time": 134.3417686,
                        "learn": [
                          0.9650799036,
                          0.2480690904
                        ]
                      },
                      {
                        "test": [
                          0.9684043527,
                          0.2310250805
                        ],
                        "passed_time": 247.7277354,
                        "iteration": 648,
                        "remaining_time": 133.9790988,
                        "learn": [
                          0.9650996923,
                          0.248012006
                        ]
                      },
                      {
                        "test": [
                          0.9684051275,
                          0.231014844
                        ],
                        "passed_time": 248.1384502,
                        "iteration": 649,
                        "remaining_time": 133.6130117,
                        "learn": [
                          0.9651011229,
                          0.2479921434
                        ]
                      },
                      {
                        "test": [
                          0.9684192538,
                          0.2309620179
                        ],
                        "passed_time": 248.5542941,
                        "iteration": 650,
                        "remaining_time": 133.2495371,
                        "learn": [
                          0.9651210904,
                          0.2479325739
                        ]
                      },
                      {
                        "test": [
                          0.9684213996,
                          0.2309572229
                        ],
                        "passed_time": 248.8330032,
                        "iteration": 651,
                        "remaining_time": 132.8127072,
                        "learn": [
                          0.9651325345,
                          0.2479066813
                        ]
                      },
                      {
                        "test": [
                          0.9684327245,
                          0.2309341637
                        ],
                        "passed_time": 249.2250225,
                        "iteration": 652,
                        "remaining_time": 132.436574,
                        "learn": [
                          0.9651531577,
                          0.2478554077
                        ]
                      },
                      {
                        "test": [
                          0.9684469104,
                          0.2308985243
                        ],
                        "passed_time": 249.6098513,
                        "iteration": 653,
                        "remaining_time": 132.056588,
                        "learn": [
                          0.9651753306,
                          0.2478024165
                        ]
                      },
                      {
                        "test": [
                          0.9684742093,
                          0.230841011
                        ],
                        "passed_time": 250.0257909,
                        "iteration": 654,
                        "remaining_time": 131.6929738,
                        "learn": [
                          0.9652068615,
                          0.2477338933
                        ]
                      },
                      {
                        "test": [
                          0.9684724212,
                          0.230834034
                        ],
                        "passed_time": 250.4068924,
                        "iteration": 655,
                        "remaining_time": 131.3109314,
                        "learn": [
                          0.9652262926,
                          0.2476877178
                        ]
                      },
                      {
                        "test": [
                          0.9684734344,
                          0.2308090352
                        ],
                        "passed_time": 250.6677412,
                        "iteration": 656,
                        "remaining_time": 130.8661115,
                        "learn": [
                          0.9652415514,
                          0.2476376685
                        ]
                      },
                      {
                        "test": [
                          0.9684786797,
                          0.2307906633
                        ],
                        "passed_time": 251.0268387,
                        "iteration": 657,
                        "remaining_time": 130.4729161,
                        "learn": [
                          0.965264976,
                          0.24758084
                        ]
                      },
                      {
                        "test": [
                          0.9684785008,
                          0.2307853565
                        ],
                        "passed_time": 251.439494,
                        "iteration": 658,
                        "remaining_time": 130.1075379,
                        "learn": [
                          0.9652916789,
                          0.2475279401
                        ]
                      },
                      {
                        "test": [
                          0.968480289,
                          0.2307722644
                        ],
                        "passed_time": 251.851103,
                        "iteration": 659,
                        "remaining_time": 129.7414773,
                        "learn": [
                          0.965297401,
                          0.2475061771
                        ]
                      },
                      {
                        "test": [
                          0.9684871435,
                          0.2307322072
                        ],
                        "passed_time": 252.262207,
                        "iteration": 660,
                        "remaining_time": 129.3750199,
                        "learn": [
                          0.9653215408,
                          0.2474331406
                        ]
                      },
                      {
                        "test": [
                          0.9684926867,
                          0.2307084476
                        ],
                        "passed_time": 252.5382831,
                        "iteration": 661,
                        "remaining_time": 128.9394859,
                        "learn": [
                          0.9653277397,
                          0.2474074672
                        ]
                      },
                      {
                        "test": [
                          0.9685009718,
                          0.2306832333
                        ],
                        "passed_time": 252.8974799,
                        "iteration": 662,
                        "remaining_time": 128.5466829,
                        "learn": [
                          0.9653462768,
                          0.2473521005
                        ]
                      },
                      {
                        "test": [
                          0.9684941173,
                          0.2306643226
                        ],
                        "passed_time": 253.2419616,
                        "iteration": 663,
                        "remaining_time": 128.1465348,
                        "learn": [
                          0.9653639197,
                          0.2472833398
                        ]
                      },
                      {
                        "test": [
                          0.9684948921,
                          0.2306603088
                        ],
                        "passed_time": 253.6392674,
                        "iteration": 664,
                        "remaining_time": 127.7731648,
                        "learn": [
                          0.9653812647,
                          0.2472449668
                        ]
                      },
                      {
                        "test": [
                          0.9685010314,
                          0.2306212213
                        ],
                        "passed_time": 254.0386384,
                        "iteration": 665,
                        "remaining_time": 127.4007586,
                        "learn": [
                          0.965406239,
                          0.2471615148
                        ]
                      },
                      {
                        "test": [
                          0.9686112404,
                          0.2302526782
                        ],
                        "passed_time": 254.4434385,
                        "iteration": 666,
                        "remaining_time": 127.0309821,
                        "learn": [
                          0.9655067325,
                          0.2468518266
                        ]
                      },
                      {
                        "test": [
                          0.9686065912,
                          0.2302457281
                        ],
                        "passed_time": 254.8604651,
                        "iteration": 667,
                        "remaining_time": 126.6671772,
                        "learn": [
                          0.9655337334,
                          0.2467826822
                        ]
                      },
                      {
                        "test": [
                          0.9686146379,
                          0.2302210526
                        ],
                        "passed_time": 255.2510257,
                        "iteration": 668,
                        "remaining_time": 126.2901189,
                        "learn": [
                          0.9655508995,
                          0.2467278636
                        ]
                      },
                      {
                        "test": [
                          0.9686257243,
                          0.2301957306
                        ],
                        "passed_time": 255.6777818,
                        "iteration": 669,
                        "remaining_time": 125.9308478,
                        "learn": [
                          0.9655661285,
                          0.2466918113
                        ]
                      },
                      {
                        "test": [
                          0.96869874,
                          0.2297639902
                        ],
                        "passed_time": 256.0693976,
                        "iteration": 670,
                        "remaining_time": 125.5541458,
                        "learn": [
                          0.9656197429,
                          0.2463694601
                        ]
                      },
                      {
                        "test": [
                          0.9687123895,
                          0.2297002272
                        ],
                        "passed_time": 256.4647369,
                        "iteration": 671,
                        "remaining_time": 125.1792168,
                        "learn": [
                          0.9656462669,
                          0.2462895712
                        ]
                      },
                      {
                        "test": [
                          0.9687136412,
                          0.2296999039
                        ],
                        "passed_time": 256.8764371,
                        "iteration": 672,
                        "remaining_time": 124.8121767,
                        "learn": [
                          0.9656643271,
                          0.2462540488
                        ]
                      },
                      {
                        "test": [
                          0.9687174559,
                          0.2296853842
                        ],
                        "passed_time": 257.2112982,
                        "iteration": 673,
                        "remaining_time": 124.4078386,
                        "learn": [
                          0.9656817913,
                          0.2462100843
                        ]
                      },
                      {
                        "test": [
                          0.9687265158,
                          0.2296636719
                        ],
                        "passed_time": 257.6381205,
                        "iteration": 674,
                        "remaining_time": 124.0479839,
                        "learn": [
                          0.9656974673,
                          0.2461774856
                        ]
                      },
                      {
                        "test": [
                          0.9687244892,
                          0.2296549708
                        ],
                        "passed_time": 258.0488488,
                        "iteration": 675,
                        "remaining_time": 123.6802175,
                        "learn": [
                          0.9657161236,
                          0.2461249694
                        ]
                      },
                      {
                        "test": [
                          0.9687169194,
                          0.2296524386
                        ],
                        "passed_time": 258.4571146,
                        "iteration": 676,
                        "remaining_time": 123.3111492,
                        "learn": [
                          0.9657420516,
                          0.2460520425
                        ]
                      },
                      {
                        "test": [
                          0.9687176347,
                          0.2296528966
                        ],
                        "passed_time": 258.8531211,
                        "iteration": 677,
                        "remaining_time": 122.9361431,
                        "learn": [
                          0.9657535553,
                          0.2460273925
                        ]
                      },
                      {
                        "test": [
                          0.9687445164,
                          0.2295722971
                        ],
                        "passed_time": 259.241279,
                        "iteration": 678,
                        "remaining_time": 122.5573646,
                        "learn": [
                          0.9658031464,
                          0.2459075226
                        ]
                      },
                      {
                        "test": [
                          0.9687494636,
                          0.229552255
                        ],
                        "passed_time": 259.6303131,
                        "iteration": 679,
                        "remaining_time": 122.1789709,
                        "learn": [
                          0.9658304453,
                          0.2458375376
                        ]
                      },
                      {
                        "test": [
                          0.9687513709,
                          0.2295412642
                        ],
                        "passed_time": 260.0587971,
                        "iteration": 680,
                        "remaining_time": 121.8190254,
                        "learn": [
                          0.965849936,
                          0.2457858986
                        ]
                      },
                      {
                        "test": [
                          0.9687748551,
                          0.2294672646
                        ],
                        "passed_time": 260.4813301,
                        "iteration": 681,
                        "remaining_time": 121.4561041,
                        "learn": [
                          0.9658854008,
                          0.2456850873
                        ]
                      },
                      {
                        "test": [
                          0.9687749147,
                          0.2294642475
                        ],
                        "passed_time": 260.820242,
                        "iteration": 682,
                        "remaining_time": 121.0541972,
                        "learn": [
                          0.9658861756,
                          0.245676097
                        ]
                      },
                      {
                        "test": [
                          0.9687798619,
                          0.2294383598
                        ],
                        "passed_time": 261.2340606,
                        "iteration": 683,
                        "remaining_time": 120.6870806,
                        "learn": [
                          0.9658973217,
                          0.2456381443
                        ]
                      },
                      {
                        "test": [
                          0.9687815309,
                          0.2294252139
                        ],
                        "passed_time": 261.492373,
                        "iteration": 684,
                        "remaining_time": 120.2483175,
                        "learn": [
                          0.9659213424,
                          0.2455784652
                        ]
                      },
                      {
                        "test": [
                          0.9687885046,
                          0.2293879043
                        ],
                        "passed_time": 261.8232001,
                        "iteration": 685,
                        "remaining_time": 119.8432724,
                        "learn": [
                          0.9659399986,
                          0.2455165568
                        ]
                      },
                      {
                        "test": [
                          0.9687938094,
                          0.2293762939
                        ],
                        "passed_time": 262.2153816,
                        "iteration": 686,
                        "remaining_time": 119.4663965,
                        "learn": [
                          0.965952009,
                          0.2454911393
                        ]
                      },
                      {
                        "test": [
                          0.9688023925,
                          0.2293279935
                        ],
                        "passed_time": 262.6019907,
                        "iteration": 687,
                        "remaining_time": 119.0869493,
                        "learn": [
                          0.9659887552,
                          0.2453825438
                        ]
                      },
                      {
                        "test": [
                          0.9688066244,
                          0.229322121
                        ],
                        "passed_time": 263.0345276,
                        "iteration": 688,
                        "remaining_time": 118.728212,
                        "learn": [
                          0.9660010934,
                          0.2453605433
                        ]
                      },
                      {
                        "test": [
                          0.9688148499,
                          0.2293075743
                        ],
                        "passed_time": 263.3986348,
                        "iteration": 689,
                        "remaining_time": 118.3385171,
                        "learn": [
                          0.966016233,
                          0.2453315078
                        ]
                      },
                      {
                        "test": [
                          0.9688238502,
                          0.2292614828
                        ],
                        "passed_time": 263.7434044,
                        "iteration": 690,
                        "remaining_time": 117.9402488,
                        "learn": [
                          0.9660325646,
                          0.2452707871
                        ]
                      },
                      {
                        "test": [
                          0.9688295722,
                          0.2292427068
                        ],
                        "passed_time": 264.1198944,
                        "iteration": 691,
                        "remaining_time": 117.5562536,
                        "learn": [
                          0.9660420418,
                          0.2452513448
                        ]
                      },
                      {
                        "test": [
                          0.968832314,
                          0.2292346792
                        ],
                        "passed_time": 264.4933584,
                        "iteration": 692,
                        "remaining_time": 117.1709394,
                        "learn": [
                          0.9660562277,
                          0.2452117293
                        ]
                      },
                      {
                        "test": [
                          0.9688445926,
                          0.2292025687
                        ],
                        "passed_time": 264.763637,
                        "iteration": 693,
                        "remaining_time": 116.7401627,
                        "learn": [
                          0.9660707116,
                          0.2451648046
                        ]
                      },
                      {
                        "test": [
                          0.9688524008,
                          0.2291748222
                        ],
                        "passed_time": 265.1906945,
                        "iteration": 694,
                        "remaining_time": 116.3786501,
                        "learn": [
                          0.9660868347,
                          0.2451159978
                        ]
                      },
                      {
                        "test": [
                          0.968855679,
                          0.2291560193
                        ],
                        "passed_time": 265.5996107,
                        "iteration": 695,
                        "remaining_time": 116.0090254,
                        "learn": [
                          0.9660986662,
                          0.2450762544
                        ]
                      },
                      {
                        "test": [
                          0.968858242,
                          0.2291252557
                        ],
                        "passed_time": 265.9663239,
                        "iteration": 696,
                        "remaining_time": 115.6209414,
                        "learn": [
                          0.9661124349,
                          0.2450196817
                        ]
                      },
                      {
                        "test": [
                          0.9688596129,
                          0.229116851
                        ],
                        "passed_time": 266.3662758,
                        "iteration": 697,
                        "remaining_time": 115.2472998,
                        "learn": [
                          0.966129303,
                          0.2449742737
                        ]
                      },
                      {
                        "test": [
                          0.9688528776,
                          0.2291195987
                        ],
                        "passed_time": 266.7547444,
                        "iteration": 698,
                        "remaining_time": 114.8686381,
                        "learn": [
                          0.9661402106,
                          0.2449467182
                        ]
                      },
                      {
                        "test": [
                          0.9688591957,
                          0.2291069377
                        ],
                        "passed_time": 267.1359821,
                        "iteration": 699,
                        "remaining_time": 114.4868495,
                        "learn": [
                          0.9661679864,
                          0.2448754541
                        ]
                      },
                      {
                        "test": [
                          0.9688469768,
                          0.229110305
                        ],
                        "passed_time": 267.4058835,
                        "iteration": 700,
                        "remaining_time": 114.0575737,
                        "learn": [
                          0.9661920667,
                          0.2448152268
                        ]
                      },
                      {
                        "test": [
                          0.9688590169,
                          0.2290864646
                        ],
                        "passed_time": 267.8351543,
                        "iteration": 701,
                        "remaining_time": 113.6964045,
                        "learn": [
                          0.9662102461,
                          0.2447834686
                        ]
                      },
                      {
                        "test": [
                          0.9688701034,
                          0.2290543541
                        ],
                        "passed_time": 268.2394308,
                        "iteration": 702,
                        "remaining_time": 113.3244821,
                        "learn": [
                          0.9662193656,
                          0.2447587089
                        ]
                      },
                      {
                        "test": [
                          0.9688692689,
                          0.2290572365
                        ],
                        "passed_time": 268.6340689,
                        "iteration": 703,
                        "remaining_time": 112.9484154,
                        "learn": [
                          0.9662280083,
                          0.2447418614
                        ]
                      },
                      {
                        "test": [
                          0.9688721299,
                          0.2290435788
                        ],
                        "passed_time": 269.0091794,
                        "iteration": 704,
                        "remaining_time": 112.5641247,
                        "learn": [
                          0.9662475586,
                          0.2446864216
                        ]
                      },
                      {
                        "test": [
                          0.9688628316,
                          0.2290670959
                        ],
                        "passed_time": 269.3660108,
                        "iteration": 705,
                        "remaining_time": 112.1722481,
                        "learn": [
                          0.9662559032,
                          0.2446570206
                        ]
                      },
                      {
                        "test": [
                          0.9688682556,
                          0.2290228901
                        ],
                        "passed_time": 269.7863026,
                        "iteration": 706,
                        "remaining_time": 111.8067704,
                        "learn": [
                          0.9662854075,
                          0.244555186
                        ]
                      },
                      {
                        "test": [
                          0.968865633,
                          0.2290229171
                        ],
                        "passed_time": 270.1864697,
                        "iteration": 707,
                        "remaining_time": 111.4328378,
                        "learn": [
                          0.9663117528,
                          0.2444952511
                        ]
                      },
                      {
                        "test": [
                          0.9688697457,
                          0.2290176641
                        ],
                        "passed_time": 270.5717216,
                        "iteration": 708,
                        "remaining_time": 111.0527094,
                        "learn": [
                          0.9663196206,
                          0.2444808155
                        ]
                      },
                      {
                        "test": [
                          0.9688753486,
                          0.2290075084
                        ],
                        "passed_time": 270.9589409,
                        "iteration": 709,
                        "remaining_time": 110.6733702,
                        "learn": [
                          0.9663339257,
                          0.2444499892
                        ]
                      },
                      {
                        "test": [
                          0.968878746,
                          0.2289881666
                        ],
                        "passed_time": 271.3561464,
                        "iteration": 710,
                        "remaining_time": 110.298068,
                        "learn": [
                          0.9663655162,
                          0.2443759294
                        ]
                      },
                      {
                        "test": [
                          0.9688811898,
                          0.2289815129
                        ],
                        "passed_time": 271.7216396,
                        "iteration": 711,
                        "remaining_time": 109.9098767,
                        "learn": [
                          0.9663729072,
                          0.2443547146
                        ]
                      },
                      {
                        "test": [
                          0.9688979983,
                          0.2289062472
                        ],
                        "passed_time": 271.9975493,
                        "iteration": 712,
                        "remaining_time": 109.4856896,
                        "learn": [
                          0.9664091468,
                          0.2442565164
                        ]
                      },
                      {
                        "test": [
                          0.9688999653,
                          0.2288949601
                        ],
                        "passed_time": 272.3874536,
                        "iteration": 713,
                        "remaining_time": 109.1075794,
                        "learn": [
                          0.9664188027,
                          0.2442272981
                        ]
                      },
                      {
                        "test": [
                          0.9688880444,
                          0.2288999437
                        ],
                        "passed_time": 272.7840115,
                        "iteration": 714,
                        "remaining_time": 108.7320885,
                        "learn": [
                          0.9664402008,
                          0.24417184
                        ]
                      },
                      {
                        "test": [
                          0.9688951373,
                          0.2288721703
                        ],
                        "passed_time": 273.0594574,
                        "iteration": 715,
                        "remaining_time": 108.3084998,
                        "learn": [
                          0.9664508104,
                          0.2441333209
                        ]
                      },
                      {
                        "test": [
                          0.9688990116,
                          0.2288599133
                        ],
                        "passed_time": 273.4435403,
                        "iteration": 716,
                        "remaining_time": 107.9282035,
                        "learn": [
                          0.966465652,
                          0.2440913481
                        ]
                      },
                      {
                        "test": [
                          0.968903482,
                          0.2288554954
                        ],
                        "passed_time": 273.7709246,
                        "iteration": 717,
                        "remaining_time": 107.5256278,
                        "learn": [
                          0.9664765,
                          0.2440714307
                        ]
                      },
                      {
                        "test": [
                          0.9689292908,
                          0.2287995176
                        ],
                        "passed_time": 274.192416,
                        "iteration": 718,
                        "remaining_time": 107.1600402,
                        "learn": [
                          0.966512084,
                          0.2439931864
                        ]
                      },
                      {
                        "test": [
                          0.9689385891,
                          0.2287694275
                        ],
                        "passed_time": 274.6029343,
                        "iteration": 719,
                        "remaining_time": 106.79003,
                        "learn": [
                          0.966555357,
                          0.2438935263
                        ]
                      },
                      {
                        "test": [
                          0.9689530134,
                          0.2287352428
                        ],
                        "passed_time": 275.0513185,
                        "iteration": 720,
                        "remaining_time": 106.4345601,
                        "learn": [
                          0.9665837288,
                          0.2438194117
                        ]
                      },
                      {
                        "test": [
                          0.9689539075,
                          0.2287278617
                        ],
                        "passed_time": 275.3717346,
                        "iteration": 721,
                        "remaining_time": 106.0295599,
                        "learn": [
                          0.9665952921,
                          0.2437833594
                        ]
                      },
                      {
                        "test": [
                          0.9689648747,
                          0.2286911448
                        ],
                        "passed_time": 275.6692305,
                        "iteration": 722,
                        "remaining_time": 105.6160122,
                        "learn": [
                          0.9666084647,
                          0.2437331273
                        ]
                      },
                      {
                        "test": [
                          0.9689676762,
                          0.2286756552
                        ],
                        "passed_time": 276.0675675,
                        "iteration": 723,
                        "remaining_time": 105.2412274,
                        "learn": [
                          0.9666181803,
                          0.2436965816
                        ]
                      },
                      {
                        "test": [
                          0.9689745903,
                          0.2286611894
                        ],
                        "passed_time": 276.4505487,
                        "iteration": 724,
                        "remaining_time": 104.8605529,
                        "learn": [
                          0.9666335583,
                          0.2436625393
                        ]
                      },
                      {
                        "test": [
                          0.9689700902,
                          0.2286581453
                        ],
                        "passed_time": 276.8583504,
                        "iteration": 725,
                        "remaining_time": 104.4892397,
                        "learn": [
                          0.9666429162,
                          0.2436235816
                        ]
                      },
                      {
                        "test": [
                          0.9689699411,
                          0.2286191656
                        ],
                        "passed_time": 277.2820064,
                        "iteration": 726,
                        "remaining_time": 104.1237796,
                        "learn": [
                          0.9666590691,
                          0.2435472377
                        ]
                      },
                      {
                        "test": [
                          0.9690310955,
                          0.2282746245
                        ],
                        "passed_time": 277.678842,
                        "iteration": 727,
                        "remaining_time": 103.7481388,
                        "learn": [
                          0.9667055011,
                          0.2432851503
                        ]
                      },
                      {
                        "test": [
                          0.9690474868,
                          0.2282329779
                        ],
                        "passed_time": 278.0947327,
                        "iteration": 728,
                        "remaining_time": 103.3795234,
                        "learn": [
                          0.9667294621,
                          0.2432218166
                        ]
                      },
                      {
                        "test": [
                          0.9690614939,
                          0.2281755184
                        ],
                        "passed_time": 278.4976277,
                        "iteration": 729,
                        "remaining_time": 103.0059719,
                        "learn": [
                          0.9667624235,
                          0.243125939
                        ]
                      },
                      {
                        "test": [
                          0.9690669775,
                          0.2281404447
                        ],
                        "passed_time": 278.8089946,
                        "iteration": 730,
                        "remaining_time": 102.5986587,
                        "learn": [
                          0.966768384,
                          0.2430884066
                        ]
                      },
                      {
                        "test": [
                          0.9690669179,
                          0.2281248475
                        ],
                        "passed_time": 279.1423935,
                        "iteration": 731,
                        "remaining_time": 102.1996741,
                        "learn": [
                          0.96677953,
                          0.2430463425
                        ]
                      },
                      {
                        "test": [
                          0.9690679312,
                          0.2281217226
                        ],
                        "passed_time": 279.5661947,
                        "iteration": 732,
                        "remaining_time": 101.8337981,
                        "learn": [
                          0.966804564,
                          0.2429933147
                        ]
                      },
                      {
                        "test": [
                          0.9690698981,
                          0.2281068527
                        ],
                        "passed_time": 279.9605602,
                        "iteration": 733,
                        "remaining_time": 101.4570968,
                        "learn": [
                          0.9668136835,
                          0.2429634751
                        ]
                      },
                      {
                        "test": [
                          0.9690711498,
                          0.2280994985
                        ],
                        "passed_time": 280.3757655,
                        "iteration": 734,
                        "remaining_time": 101.087861,
                        "learn": [
                          0.9668223262,
                          0.2429363948
                        ]
                      },
                      {
                        "test": [
                          0.9690739214,
                          0.2280827967
                        ],
                        "passed_time": 280.7911385,
                        "iteration": 735,
                        "remaining_time": 100.7185605,
                        "learn": [
                          0.9668475986,
                          0.2428742123
                        ]
                      },
                      {
                        "test": [
                          0.969073534,
                          0.2280809919
                        ],
                        "passed_time": 281.1962836,
                        "iteration": 736,
                        "remaining_time": 100.3454852,
                        "learn": [
                          0.9668675661,
                          0.2428233224
                        ]
                      },
                      {
                        "test": [
                          0.969072938,
                          0.2280680346
                        ],
                        "passed_time": 281.5958841,
                        "iteration": 737,
                        "remaining_time": 99.97035451,
                        "learn": [
                          0.9668834805,
                          0.2427748811
                        ]
                      },
                      {
                        "test": [
                          0.9690739512,
                          0.2280664452
                        ],
                        "passed_time": 281.9758976,
                        "iteration": 738,
                        "remaining_time": 99.58823988,
                        "learn": [
                          0.9668934345,
                          0.2427577412
                        ]
                      },
                      {
                        "test": [
                          0.9690766335,
                          0.2280622428
                        ],
                        "passed_time": 282.3798104,
                        "iteration": 739,
                        "remaining_time": 99.21452797,
                        "learn": [
                          0.9669026136,
                          0.2427413687
                        ]
                      },
                      {
                        "test": [
                          0.9690753818,
                          0.2280548617
                        ],
                        "passed_time": 282.8265494,
                        "iteration": 740,
                        "remaining_time": 98.85570349,
                        "learn": [
                          0.9669142365,
                          0.2427025207
                        ]
                      },
                      {
                        "test": [
                          0.9690875411,
                          0.228016286
                        ],
                        "passed_time": 283.2031335,
                        "iteration": 741,
                        "remaining_time": 98.47224858,
                        "learn": [
                          0.9669340849,
                          0.2426445409
                        ]
                      },
                      {
                        "test": [
                          0.9690900445,
                          0.2280103057
                        ],
                        "passed_time": 283.6316619,
                        "iteration": 742,
                        "remaining_time": 98.1067794,
                        "learn": [
                          0.9669463634,
                          0.2426067527
                        ]
                      },
                      {
                        "test": [
                          0.969106853,
                          0.227929383
                        ],
                        "passed_time": 284.0639353,
                        "iteration": 743,
                        "remaining_time": 97.74242934,
                        "learn": [
                          0.9669773579,
                          0.2425041324
                        ]
                      },
                      {
                        "test": [
                          0.9691076279,
                          0.2279192812
                        ],
                        "passed_time": 284.3509382,
                        "iteration": 744,
                        "remaining_time": 97.32817348,
                        "learn": [
                          0.9669916034,
                          0.2424632561
                        ]
                      },
                      {
                        "test": [
                          0.9691124558,
                          0.2278983232
                        ],
                        "passed_time": 284.7485035,
                        "iteration": 745,
                        "remaining_time": 96.95190335,
                        "learn": [
                          0.9670101404,
                          0.2424081269
                        ]
                      },
                      {
                        "test": [
                          0.9691162705,
                          0.2278875748
                        ],
                        "passed_time": 285.0936863,
                        "iteration": 746,
                        "remaining_time": 96.55783485,
                        "learn": [
                          0.9670158029,
                          0.2423895251
                        ]
                      },
                      {
                        "test": [
                          0.9691233635,
                          0.2278660241
                        ],
                        "passed_time": 285.4686762,
                        "iteration": 747,
                        "remaining_time": 96.17393904,
                        "learn": [
                          0.9670433998,
                          0.2423284207
                        ]
                      },
                      {
                        "test": [
                          0.9691279531,
                          0.2278463322
                        ],
                        "passed_time": 285.812311,
                        "iteration": 748,
                        "remaining_time": 95.77955949,
                        "learn": [
                          0.9670664072,
                          0.2422670057
                        ]
                      },
                      {
                        "test": [
                          0.9691361785,
                          0.2278163499
                        ],
                        "passed_time": 286.1928348,
                        "iteration": 749,
                        "remaining_time": 95.39761161,
                        "learn": [
                          0.9670938849,
                          0.2421907897
                        ]
                      },
                      {
                        "test": [
                          0.9691553712,
                          0.2277600218
                        ],
                        "passed_time": 286.569961,
                        "iteration": 750,
                        "remaining_time": 95.014541,
                        "learn": [
                          0.9671211243,
                          0.242117077
                        ]
                      },
                      {
                        "test": [
                          0.9691650867,
                          0.2277061452
                        ],
                        "passed_time": 286.9667956,
                        "iteration": 751,
                        "remaining_time": 94.63798578,
                        "learn": [
                          0.9671330452,
                          0.2420543098
                        ]
                      },
                      {
                        "test": [
                          0.9691671729,
                          0.2276906826
                        ],
                        "passed_time": 287.4046085,
                        "iteration": 752,
                        "remaining_time": 94.27481846,
                        "learn": [
                          0.9671575427,
                          0.2419920542
                        ]
                      },
                      {
                        "test": [
                          0.9691878557,
                          0.2276198348
                        ],
                        "passed_time": 287.8005942,
                        "iteration": 753,
                        "remaining_time": 93.89780659,
                        "learn": [
                          0.9671935439,
                          0.2418786347
                        ]
                      },
                      {
                        "test": [
                          0.9691916704,
                          0.2276145819
                        ],
                        "passed_time": 288.0989684,
                        "iteration": 754,
                        "remaining_time": 93.48906922,
                        "learn": [
                          0.9672124386,
                          0.241839275
                        ]
                      },
                      {
                        "test": [
                          0.9692103267,
                          0.2275539168
                        ],
                        "passed_time": 288.5056868,
                        "iteration": 755,
                        "remaining_time": 93.11559202,
                        "learn": [
                          0.9672331214,
                          0.2417716472
                        ]
                      },
                      {
                        "test": [
                          0.9692277908,
                          0.22750928
                        ],
                        "passed_time": 288.8131349,
                        "iteration": 756,
                        "remaining_time": 92.71016086,
                        "learn": [
                          0.9672503471,
                          0.2417336214
                        ]
                      },
                      {
                        "test": [
                          0.9692355394,
                          0.2274839041
                        ],
                        "passed_time": 289.2528962,
                        "iteration": 757,
                        "remaining_time": 92.3472307,
                        "learn": [
                          0.967276454,
                          0.2416743626
                        ]
                      },
                      {
                        "test": [
                          0.9692441821,
                          0.2274566964
                        ],
                        "passed_time": 289.6154439,
                        "iteration": 758,
                        "remaining_time": 91.95958101,
                        "learn": [
                          0.9673001766,
                          0.2416132765
                        ]
                      },
                      {
                        "test": [
                          0.9692509174,
                          0.2274329907
                        ],
                        "passed_time": 289.9356417,
                        "iteration": 759,
                        "remaining_time": 91.5586237,
                        "learn": [
                          0.9673269391,
                          0.2415528847
                        ]
                      },
                      {
                        "test": [
                          0.9692480564,
                          0.2274279532
                        ],
                        "passed_time": 290.2376146,
                        "iteration": 760,
                        "remaining_time": 91.15215491,
                        "learn": [
                          0.9673305154,
                          0.24153569
                        ]
                      },
                      {
                        "test": [
                          0.9692474604,
                          0.2274286267
                        ],
                        "passed_time": 290.6165836,
                        "iteration": 761,
                        "remaining_time": 90.77000904,
                        "learn": [
                          0.9673389792,
                          0.2415149503
                        ]
                      },
                      {
                        "test": [
                          0.9692544341,
                          0.2274088539
                        ],
                        "passed_time": 291.0186861,
                        "iteration": 762,
                        "remaining_time": 90.39505715,
                        "learn": [
                          0.9673551917,
                          0.2414773996
                        ]
                      },
                      {
                        "test": [
                          0.9692554474,
                          0.2274030083
                        ],
                        "passed_time": 291.4209319,
                        "iteration": 763,
                        "remaining_time": 90.02007843,
                        "learn": [
                          0.9673640728,
                          0.241448693
                        ]
                      },
                      {
                        "test": [
                          0.969402492,
                          0.2267246476
                        ],
                        "passed_time": 291.7439901,
                        "iteration": 764,
                        "remaining_time": 89.62070284,
                        "learn": [
                          0.9674651623,
                          0.2409501915
                        ]
                      },
                      {
                        "test": [
                          0.9694237709,
                          0.2266573288
                        ],
                        "passed_time": 292.1568006,
                        "iteration": 765,
                        "remaining_time": 89.24894432,
                        "learn": [
                          0.9674901962,
                          0.2408737014
                        ]
                      },
                      {
                        "test": [
                          0.969424367,
                          0.2266485199
                        ],
                        "passed_time": 292.5437268,
                        "iteration": 766,
                        "remaining_time": 88.86921557,
                        "learn": [
                          0.9675070047,
                          0.2408322586
                        ]
                      },
                      {
                        "test": [
                          0.9694262147,
                          0.2266286395
                        ],
                        "passed_time": 292.9759797,
                        "iteration": 767,
                        "remaining_time": 88.50316053,
                        "learn": [
                          0.9675175548,
                          0.2407900849
                        ]
                      },
                      {
                        "test": [
                          0.9694247246,
                          0.2266247065
                        ],
                        "passed_time": 293.3376662,
                        "iteration": 768,
                        "remaining_time": 88.11573589,
                        "learn": [
                          0.9675261378,
                          0.2407619447
                        ]
                      },
                      {
                        "test": [
                          0.9694266319,
                          0.2266194535
                        ],
                        "passed_time": 293.7395814,
                        "iteration": 769,
                        "remaining_time": 87.74039446,
                        "learn": [
                          0.9675438404,
                          0.2407183091
                        ]
                      },
                      {
                        "test": [
                          0.9694298506,
                          0.2266089745
                        ],
                        "passed_time": 294.0745121,
                        "iteration": 770,
                        "remaining_time": 87.34508854,
                        "learn": [
                          0.9675555825,
                          0.2406824213
                        ]
                      },
                      {
                        "test": [
                          0.969432354,
                          0.2266047452
                        ],
                        "passed_time": 294.4768136,
                        "iteration": 771,
                        "remaining_time": 86.96983614,
                        "learn": [
                          0.9675653577,
                          0.2406590686
                        ]
                      },
                      {
                        "test": [
                          0.9694520831,
                          0.2265364835
                        ],
                        "passed_time": 294.905287,
                        "iteration": 772,
                        "remaining_time": 86.60219943,
                        "learn": [
                          0.967589736,
                          0.2405892115
                        ]
                      },
                      {
                        "test": [
                          0.9694603086,
                          0.2265212903
                        ],
                        "passed_time": 295.2443294,
                        "iteration": 773,
                        "remaining_time": 86.20829257,
                        "learn": [
                          0.9676189423,
                          0.2405232648
                        ]
                      },
                      {
                        "test": [
                          0.969460547,
                          0.2265124276
                        ],
                        "passed_time": 295.592314,
                        "iteration": 774,
                        "remaining_time": 85.81712341,
                        "learn": [
                          0.9676228762,
                          0.2405081714
                        ]
                      },
                      {
                        "test": [
                          0.96946913,
                          0.2264629149
                        ],
                        "passed_time": 295.9830327,
                        "iteration": 775,
                        "remaining_time": 85.43840118,
                        "learn": [
                          0.9676397443,
                          0.2404391914
                        ]
                      },
                      {
                        "test": [
                          0.9694710374,
                          0.2264562342
                        ],
                        "passed_time": 296.3188011,
                        "iteration": 776,
                        "remaining_time": 85.04387729,
                        "learn": [
                          0.9676453471,
                          0.240425432
                        ]
                      },
                      {
                        "test": [
                          0.9694766402,
                          0.2264362729
                        ],
                        "passed_time": 296.6738892,
                        "iteration": 777,
                        "remaining_time": 84.65501722,
                        "learn": [
                          0.9676627517,
                          0.2403783977
                        ]
                      },
                      {
                        "test": [
                          0.9694926739,
                          0.2263988826
                        ],
                        "passed_time": 297.0798929,
                        "iteration": 778,
                        "remaining_time": 84.28068848,
                        "learn": [
                          0.9676806927,
                          0.2403291889
                        ]
                      },
                      {
                        "test": [
                          0.9694898725,
                          0.2263966736
                        ],
                        "passed_time": 297.4938548,
                        "iteration": 779,
                        "remaining_time": 83.90852315,
                        "learn": [
                          0.9676866531,
                          0.2402988012
                        ]
                      },
                      {
                        "test": [
                          0.9695003033,
                          0.226365479
                        ],
                        "passed_time": 297.8837069,
                        "iteration": 780,
                        "remaining_time": 83.52949015,
                        "learn": [
                          0.9677111506,
                          0.2402330372
                        ]
                      },
                      {
                        "test": [
                          0.969504714,
                          0.2263304054
                        ],
                        "passed_time": 298.2023266,
                        "iteration": 781,
                        "remaining_time": 83.13057188,
                        "learn": [
                          0.9677250385,
                          0.24017027
                        ]
                      },
                      {
                        "test": [
                          0.969517231,
                          0.2262823205
                        ],
                        "passed_time": 298.5923197,
                        "iteration": 782,
                        "remaining_time": 82.75163905,
                        "learn": [
                          0.9677596688,
                          0.2400817564
                        ]
                      },
                      {
                        "test": [
                          0.9695208073,
                          0.2262722186
                        ],
                        "passed_time": 299.0010841,
                        "iteration": 783,
                        "remaining_time": 82.37784969,
                        "learn": [
                          0.9677695036,
                          0.2400470197
                        ]
                      },
                      {
                        "test": [
                          0.9695206285,
                          0.2262678815
                        ],
                        "passed_time": 299.3650148,
                        "iteration": 784,
                        "remaining_time": 81.99169194,
                        "learn": [
                          0.9677806497,
                          0.2400156635
                        ]
                      },
                      {
                        "test": [
                          0.9695296288,
                          0.2262300871
                        ],
                        "passed_time": 299.704596,
                        "iteration": 785,
                        "remaining_time": 81.59896125,
                        "learn": [
                          0.9677981138,
                          0.2399597486
                        ]
                      },
                      {
                        "test": [
                          0.9695357084,
                          0.2262019635
                        ],
                        "passed_time": 300.0664515,
                        "iteration": 786,
                        "remaining_time": 81.21239413,
                        "learn": [
                          0.9678075314,
                          0.2399275153
                        ]
                      },
                      {
                        "test": [
                          0.9695385098,
                          0.2261939628
                        ],
                        "passed_time": 300.4436602,
                        "iteration": 787,
                        "remaining_time": 80.83002027,
                        "learn": [
                          0.9678276777,
                          0.2398771188
                        ]
                      },
                      {
                        "test": [
                          0.9695392847,
                          0.2261836454
                        ],
                        "passed_time": 300.834507,
                        "iteration": 788,
                        "remaining_time": 80.45130668,
                        "learn": [
                          0.9678384066,
                          0.2398557213
                        ]
                      },
                      {
                        "test": [
                          0.9695377946,
                          0.2261793891
                        ],
                        "passed_time": 301.2403579,
                        "iteration": 789,
                        "remaining_time": 80.07655082,
                        "learn": [
                          0.9678522348,
                          0.2398132917
                        ]
                      },
                      {
                        "test": [
                          0.9695449471,
                          0.2261486525
                        ],
                        "passed_time": 301.5141512,
                        "iteration": 790,
                        "remaining_time": 79.66682378,
                        "learn": [
                          0.9678710699,
                          0.2397556957
                        ]
                      },
                      {
                        "test": [
                          0.9695565701,
                          0.2261298226
                        ],
                        "passed_time": 301.932037,
                        "iteration": 791,
                        "remaining_time": 79.29528244,
                        "learn": [
                          0.9678867459,
                          0.2397259658
                        ]
                      },
                      {
                        "test": [
                          0.9695760608,
                          0.2260538566
                        ],
                        "passed_time": 302.3433602,
                        "iteration": 792,
                        "remaining_time": 78.92191118,
                        "learn": [
                          0.9679251313,
                          0.2396103718
                        ]
                      },
                      {
                        "test": [
                          0.9696457386,
                          0.2257962993
                        ],
                        "passed_time": 302.7420484,
                        "iteration": 793,
                        "remaining_time": 78.54516621,
                        "learn": [
                          0.9680005908,
                          0.2393406098
                        ]
                      },
                      {
                        "test": [
                          0.9696491361,
                          0.2257876656
                        ],
                        "passed_time": 303.1200042,
                        "iteration": 794,
                        "remaining_time": 78.16301994,
                        "learn": [
                          0.9680086374,
                          0.239321332
                        ]
                      },
                      {
                        "test": [
                          0.9696541429,
                          0.2257700749
                        ],
                        "passed_time": 303.4686423,
                        "iteration": 795,
                        "remaining_time": 77.77337063,
                        "learn": [
                          0.9680246115,
                          0.2392675733
                        ]
                      },
                      {
                        "test": [
                          0.9696519375,
                          0.2257574947
                        ],
                        "passed_time": 303.8452623,
                        "iteration": 796,
                        "remaining_time": 77.39095138,
                        "learn": [
                          0.9680618644,
                          0.2391697953
                        ]
                      },
                      {
                        "test": [
                          0.9696609974,
                          0.2257347857
                        ],
                        "passed_time": 304.2236821,
                        "iteration": 797,
                        "remaining_time": 77.00900224,
                        "learn": [
                          0.9680727124,
                          0.2391305818
                        ]
                      },
                      {
                        "test": [
                          0.9696725607,
                          0.2257002238
                        ],
                        "passed_time": 304.613096,
                        "iteration": 798,
                        "remaining_time": 76.62982765,
                        "learn": [
                          0.968092978,
                          0.239075617
                        ]
                      },
                      {
                        "test": [
                          0.969671607,
                          0.2256935835
                        ],
                        "passed_time": 305.0300401,
                        "iteration": 799,
                        "remaining_time": 76.25751004,
                        "learn": [
                          0.9681017399,
                          0.2390459054
                        ]
                      },
                      {
                        "test": [
                          0.969676435,
                          0.2256791311
                        ],
                        "passed_time": 305.4368886,
                        "iteration": 800,
                        "remaining_time": 75.88257283,
                        "learn": [
                          0.9681290388,
                          0.2389788806
                        ]
                      },
                      {
                        "test": [
                          0.9696791768,
                          0.2256661873
                        ],
                        "passed_time": 305.8066116,
                        "iteration": 801,
                        "remaining_time": 75.4983904,
                        "learn": [
                          0.9681414366,
                          0.2389407452
                        ]
                      },
                      {
                        "test": [
                          0.9696705937,
                          0.2256821617
                        ],
                        "passed_time": 306.2016693,
                        "iteration": 802,
                        "remaining_time": 75.12045935,
                        "learn": [
                          0.9681485295,
                          0.2389210653
                        ]
                      },
                      {
                        "test": [
                          0.9696714282,
                          0.2256816903
                        ],
                        "passed_time": 306.6240597,
                        "iteration": 803,
                        "remaining_time": 74.74914889,
                        "learn": [
                          0.9681655169,
                          0.2388749812
                        ]
                      },
                      {
                        "test": [
                          0.9696906209,
                          0.225624379
                        ],
                        "passed_time": 306.9640969,
                        "iteration": 804,
                        "remaining_time": 74.35776261,
                        "learn": [
                          0.9681940675,
                          0.2388039181
                        ]
                      },
                      {
                        "test": [
                          0.9697595835,
                          0.2253461735
                        ],
                        "passed_time": 307.4042312,
                        "iteration": 805,
                        "remaining_time": 73.9905966,
                        "learn": [
                          0.9682472944,
                          0.2385763847
                        ]
                      },
                      {
                        "test": [
                          0.9697561264,
                          0.2253502816
                        ],
                        "passed_time": 307.7402035,
                        "iteration": 806,
                        "remaining_time": 73.59833864,
                        "learn": [
                          0.9682567716,
                          0.2385477694
                        ]
                      },
                      {
                        "test": [
                          0.9697626233,
                          0.2253351288
                        ],
                        "passed_time": 308.076345,
                        "iteration": 807,
                        "remaining_time": 73.20626019,
                        "learn": [
                          0.9682735205,
                          0.238499255
                        ]
                      },
                      {
                        "test": [
                          0.9697714448,
                          0.2253119753
                        ],
                        "passed_time": 308.4672663,
                        "iteration": 808,
                        "remaining_time": 72.82725323,
                        "learn": [
                          0.9682849646,
                          0.2384605897
                        ]
                      },
                      {
                        "test": [
                          0.9697760344,
                          0.2252949234
                        ],
                        "passed_time": 308.8946822,
                        "iteration": 809,
                        "remaining_time": 72.45677731,
                        "learn": [
                          0.9683196545,
                          0.2383829301
                        ]
                      },
                      {
                        "test": [
                          0.9698328972,
                          0.2251063552
                        ],
                        "passed_time": 309.1889705,
                        "iteration": 810,
                        "remaining_time": 72.05513616,
                        "learn": [
                          0.9683678746,
                          0.238229091
                        ]
                      },
                      {
                        "test": [
                          0.9698354602,
                          0.2250982198
                        ],
                        "passed_time": 309.5994765,
                        "iteration": 811,
                        "remaining_time": 71.68066696,
                        "learn": [
                          0.968393445,
                          0.2381653553
                        ]
                      },
                      {
                        "test": [
                          0.9698399305,
                          0.2250867845
                        ],
                        "passed_time": 309.9259251,
                        "iteration": 812,
                        "remaining_time": 71.28677489,
                        "learn": [
                          0.968401134,
                          0.238147119
                        ]
                      },
                      {
                        "test": [
                          0.969843328,
                          0.2250726553
                        ],
                        "passed_time": 310.2007588,
                        "iteration": 813,
                        "remaining_time": 70.88125447,
                        "learn": [
                          0.9684137702,
                          0.2381069919
                        ]
                      },
                      {
                        "test": [
                          0.9698453546,
                          0.2250626208
                        ],
                        "passed_time": 310.5876515,
                        "iteration": 814,
                        "remaining_time": 70.50149144,
                        "learn": [
                          0.9684256911,
                          0.2380766407
                        ]
                      },
                      {
                        "test": [
                          0.9698133469,
                          0.2251030687
                        ],
                        "passed_time": 310.9894257,
                        "iteration": 815,
                        "remaining_time": 70.12506659,
                        "learn": [
                          0.9684507251,
                          0.2380220232
                        ]
                      },
                      {
                        "test": [
                          0.9698128104,
                          0.2250865959
                        ],
                        "passed_time": 311.324649,
                        "iteration": 816,
                        "remaining_time": 69.73367291,
                        "learn": [
                          0.9684761763,
                          0.2379476161
                        ]
                      },
                      {
                        "test": [
                          0.9698099494,
                          0.225089815
                        ],
                        "passed_time": 311.6763033,
                        "iteration": 817,
                        "remaining_time": 69.34607236,
                        "learn": [
                          0.9684787989,
                          0.2379325045
                        ]
                      },
                      {
                        "test": [
                          0.9698113203,
                          0.225082865
                        ],
                        "passed_time": 312.0454722,
                        "iteration": 818,
                        "remaining_time": 68.96243036,
                        "learn": [
                          0.968496263,
                          0.2378843373
                        ]
                      },
                      {
                        "test": [
                          0.9698101282,
                          0.2250765479
                        ],
                        "passed_time": 312.4273847,
                        "iteration": 819,
                        "remaining_time": 68.58162104,
                        "learn": [
                          0.9685043693,
                          0.2378558317
                        ]
                      },
                      {
                        "test": [
                          0.9698146582,
                          0.2250429424
                        ],
                        "passed_time": 312.8216303,
                        "iteration": 820,
                        "remaining_time": 68.20349796,
                        "learn": [
                          0.9685225487,
                          0.2377925711
                        ]
                      },
                      {
                        "test": [
                          0.9698242545,
                          0.225011007
                        ],
                        "passed_time": 313.1666976,
                        "iteration": 821,
                        "remaining_time": 67.81468634,
                        "learn": [
                          0.9685352445,
                          0.2377530652
                        ]
                      },
                      {
                        "test": [
                          0.9698320031,
                          0.2249943995
                        ],
                        "passed_time": 313.5136326,
                        "iteration": 822,
                        "remaining_time": 67.4263827,
                        "learn": [
                          0.9685447216,
                          0.2377328189
                        ]
                      },
                      {
                        "test": [
                          0.9698348641,
                          0.2249825332
                        ],
                        "passed_time": 313.8562943,
                        "iteration": 823,
                        "remaining_time": 67.03726674,
                        "learn": [
                          0.9685648084,
                          0.2376865703
                        ]
                      },
                      {
                        "test": [
                          0.969835639,
                          0.2249718791
                        ],
                        "passed_time": 314.2757901,
                        "iteration": 824,
                        "remaining_time": 66.66456154,
                        "learn": [
                          0.9685786366,
                          0.2376347668
                        ]
                      },
                      {
                        "test": [
                          0.9698339105,
                          0.2249568744
                        ],
                        "passed_time": 314.7288378,
                        "iteration": 825,
                        "remaining_time": 66.29881086,
                        "learn": [
                          0.968582809,
                          0.2375972892
                        ]
                      },
                      {
                        "test": [
                          0.9698336422,
                          0.2249473113
                        ],
                        "passed_time": 315.1360218,
                        "iteration": 826,
                        "remaining_time": 65.92325487,
                        "learn": [
                          0.9685900807,
                          0.237567139
                        ]
                      },
                      {
                        "test": [
                          0.9698354602,
                          0.2249292223
                        ],
                        "passed_time": 315.5278007,
                        "iteration": 827,
                        "remaining_time": 65.54442236,
                        "learn": [
                          0.9686060548,
                          0.2375074233
                        ]
                      },
                      {
                        "test": [
                          0.9698445201,
                          0.224897893
                        ],
                        "passed_time": 315.9354074,
                        "iteration": 828,
                        "remaining_time": 65.16882348,
                        "learn": [
                          0.9686260223,
                          0.2374479087
                        ]
                      },
                      {
                        "test": [
                          0.9698485732,
                          0.2248746183
                        ],
                        "passed_time": 316.344153,
                        "iteration": 829,
                        "remaining_time": 64.79338074,
                        "learn": [
                          0.9686407447,
                          0.2374063745
                        ]
                      },
                      {
                        "test": [
                          0.969848156,
                          0.224873864
                        ],
                        "passed_time": 316.7624717,
                        "iteration": 830,
                        "remaining_time": 64.41980471,
                        "learn": [
                          0.9686478376,
                          0.2373900386
                        ]
                      },
                      {
                        "test": [
                          0.969848156,
                          0.2248607855
                        ],
                        "passed_time": 317.1675562,
                        "iteration": 831,
                        "remaining_time": 64.04344884,
                        "learn": [
                          0.9686667919,
                          0.2373385092
                        ]
                      },
                      {
                        "test": [
                          0.9698511362,
                          0.224844609
                        ],
                        "passed_time": 317.5478226,
                        "iteration": 832,
                        "remaining_time": 63.66204848,
                        "learn": [
                          0.9686717391,
                          0.2373102594
                        ]
                      },
                      {
                        "test": [
                          0.9698749781,
                          0.2247818697
                        ],
                        "passed_time": 317.9842518,
                        "iteration": 833,
                        "remaining_time": 63.2918295,
                        "learn": [
                          0.9686954021,
                          0.2372438741
                        ]
                      },
                      {
                        "test": [
                          0.9698691964,
                          0.2247750677
                        ],
                        "passed_time": 318.3391805,
                        "iteration": 834,
                        "remaining_time": 62.90534704,
                        "learn": [
                          0.9687137604,
                          0.2371850904
                        ]
                      },
                      {
                        "test": [
                          0.9698728323,
                          0.2247643463
                        ],
                        "passed_time": 318.7354669,
                        "iteration": 835,
                        "remaining_time": 62.52705331,
                        "learn": [
                          0.9687362313,
                          0.2371262153
                        ]
                      },
                      {
                        "test": [
                          0.969871819,
                          0.2247599688
                        ],
                        "passed_time": 319.069786,
                        "iteration": 836,
                        "remaining_time": 62.13664889,
                        "learn": [
                          0.9687515497,
                          0.2370843522
                        ]
                      },
                      {
                        "test": [
                          0.9698774815,
                          0.224740452
                        ],
                        "passed_time": 319.4599389,
                        "iteration": 837,
                        "remaining_time": 61.75717196,
                        "learn": [
                          0.9687716365,
                          0.2370271217
                        ]
                      },
                      {
                        "test": [
                          0.9698806405,
                          0.2247279257
                        ],
                        "passed_time": 319.8371112,
                        "iteration": 838,
                        "remaining_time": 61.37517867,
                        "learn": [
                          0.9687830806,
                          0.2369916906
                        ]
                      },
                      {
                        "test": [
                          0.9698834419,
                          0.2247166385
                        ],
                        "passed_time": 320.2311133,
                        "iteration": 839,
                        "remaining_time": 60.99640252,
                        "learn": [
                          0.9687933922,
                          0.2369643179
                        ]
                      },
                      {
                        "test": [
                          0.9698910713,
                          0.2246907104
                        ],
                        "passed_time": 320.6307521,
                        "iteration": 840,
                        "remaining_time": 60.61865587,
                        "learn": [
                          0.9688147902,
                          0.2369069046
                        ]
                      },
                      {
                        "test": [
                          0.9698991776,
                          0.2246689847
                        ],
                        "passed_time": 321.0721323,
                        "iteration": 841,
                        "remaining_time": 60.24868991,
                        "learn": [
                          0.9688370824,
                          0.2368502953
                        ]
                      },
                      {
                        "test": [
                          0.9698985219,
                          0.2246703854
                        ],
                        "passed_time": 321.4804165,
                        "iteration": 842,
                        "remaining_time": 59.87239074,
                        "learn": [
                          0.9688526988,
                          0.2368087977
                        ]
                      },
                      {
                        "test": [
                          0.9699123502,
                          0.2246371032
                        ],
                        "passed_time": 321.8733601,
                        "iteration": 843,
                        "remaining_time": 59.49318031,
                        "learn": [
                          0.9688830972,
                          0.2367318325
                        ]
                      },
                      {
                        "test": [
                          0.9699218273,
                          0.2246055045
                        ],
                        "passed_time": 322.2639721,
                        "iteration": 844,
                        "remaining_time": 59.11350967,
                        "learn": [
                          0.9688935876,
                          0.2366982105
                        ]
                      },
                      {
                        "test": [
                          0.9699132442,
                          0.2246097877
                        ],
                        "passed_time": 322.6688368,
                        "iteration": 845,
                        "remaining_time": 58.73640764,
                        "learn": [
                          0.9689117074,
                          0.2366460963
                        ]
                      },
                      {
                        "test": [
                          0.9699180722,
                          0.2245962243
                        ],
                        "passed_time": 322.9911562,
                        "iteration": 846,
                        "remaining_time": 58.34432928,
                        "learn": [
                          0.9689338803,
                          0.2365915702
                        ]
                      },
                      {
                        "test": [
                          0.9699085951,
                          0.2245982446
                        ],
                        "passed_time": 323.3954743,
                        "iteration": 847,
                        "remaining_time": 57.96711332,
                        "learn": [
                          0.9689574242,
                          0.2365304292
                        ]
                      },
                      {
                        "test": [
                          0.9699100256,
                          0.2245910252
                        ],
                        "passed_time": 323.7811759,
                        "iteration": 848,
                        "remaining_time": 57.58652245,
                        "learn": [
                          0.9689693451,
                          0.2364929333
                        ]
                      },
                      {
                        "test": [
                          0.969920218,
                          0.2245569078
                        ],
                        "passed_time": 324.1889655,
                        "iteration": 849,
                        "remaining_time": 57.20981745,
                        "learn": [
                          0.9689871073,
                          0.2364338024
                        ]
                      },
                      {
                        "test": [
                          0.9699059725,
                          0.2245718181
                        ],
                        "passed_time": 324.543034,
                        "iteration": 850,
                        "remaining_time": 56.82363345,
                        "learn": [
                          0.968998611,
                          0.2363924144
                        ]
                      },
                      {
                        "test": [
                          0.9699121714,
                          0.2245442872
                        ],
                        "passed_time": 324.9166567,
                        "iteration": 851,
                        "remaining_time": 56.44092158,
                        "learn": [
                          0.9690116644,
                          0.236350661
                        ]
                      },
                      {
                        "test": [
                          0.9699149728,
                          0.2245352359
                        ],
                        "passed_time": 325.3397065,
                        "iteration": 852,
                        "remaining_time": 56.06674894,
                        "learn": [
                          0.9690361023,
                          0.2362915301
                        ]
                      },
                      {
                        "test": [
                          0.9699295163,
                          0.2244853461
                        ],
                        "passed_time": 325.715718,
                        "iteration": 853,
                        "remaining_time": 55.68442018,
                        "learn": [
                          0.9690624475,
                          0.2362174154
                        ]
                      },
                      {
                        "test": [
                          0.9699239731,
                          0.2244946803
                        ],
                        "passed_time": 326.1172328,
                        "iteration": 854,
                        "remaining_time": 55.30643129,
                        "learn": [
                          0.969075799,
                          0.2361896224
                        ]
                      },
                      {
                        "test": [
                          0.9699302912,
                          0.2244729815
                        ],
                        "passed_time": 326.5416791,
                        "iteration": 855,
                        "remaining_time": 54.93224508,
                        "learn": [
                          0.9690870047,
                          0.236158723
                        ]
                      },
                      {
                        "test": [
                          0.9699326754,
                          0.2244611286
                        ],
                        "passed_time": 326.9547287,
                        "iteration": 856,
                        "remaining_time": 54.55603992,
                        "learn": [
                          0.9691029787,
                          0.2361098432
                        ]
                      },
                      {
                        "test": [
                          0.9699406624,
                          0.2244437803
                        ],
                        "passed_time": 327.2974383,
                        "iteration": 857,
                        "remaining_time": 54.1681075,
                        "learn": [
                          0.9691181183,
                          0.2360748324
                        ]
                      },
                      {
                        "test": [
                          0.9699488878,
                          0.2244161686
                        ],
                        "passed_time": 327.7208091,
                        "iteration": 858,
                        "remaining_time": 53.79352047,
                        "learn": [
                          0.9691348076,
                          0.2360271951
                        ]
                      },
                      {
                        "test": [
                          0.9699513316,
                          0.2243955877
                        ],
                        "passed_time": 328.0978338,
                        "iteration": 859,
                        "remaining_time": 53.41127528,
                        "learn": [
                          0.9691477418,
                          0.2359847838
                        ]
                      },
                      {
                        "test": [
                          0.9700472951,
                          0.2240260209
                        ],
                        "passed_time": 328.4848833,
                        "iteration": 860,
                        "remaining_time": 53.03066061,
                        "learn": [
                          0.9692384601,
                          0.2356295049
                        ]
                      },
                      {
                        "test": [
                          0.9700514078,
                          0.2240097636
                        ],
                        "passed_time": 328.8972436,
                        "iteration": 861,
                        "remaining_time": 52.65408308,
                        "learn": [
                          0.9692564011,
                          0.2355785785
                        ]
                      },
                      {
                        "test": [
                          0.9700633883,
                          0.223986664
                        ],
                        "passed_time": 329.2824839,
                        "iteration": 862,
                        "remaining_time": 52.27311738,
                        "learn": [
                          0.9692769647,
                          0.2355242899
                        ]
                      },
                      {
                        "test": [
                          0.97006464,
                          0.2239787846
                        ],
                        "passed_time": 329.6754109,
                        "iteration": 863,
                        "remaining_time": 51.89335171,
                        "learn": [
                          0.969291389,
                          0.2354883838
                        ]
                      },
                      {
                        "test": [
                          0.9700804651,
                          0.2239046099
                        ],
                        "passed_time": 330.0056427,
                        "iteration": 864,
                        "remaining_time": 51.50377083,
                        "learn": [
                          0.9693123698,
                          0.2354037622
                        ]
                      },
                      {
                        "test": [
                          0.9700879455,
                          0.2238919758
                        ],
                        "passed_time": 330.3961022,
                        "iteration": 865,
                        "remaining_time": 51.12364629,
                        "learn": [
                          0.9693330526,
                          0.2353612048
                        ]
                      },
                      {
                        "test": [
                          0.9700923562,
                          0.2238737251
                        ],
                        "passed_time": 330.7923062,
                        "iteration": 866,
                        "remaining_time": 50.74437915,
                        "learn": [
                          0.9693465829,
                          0.235331548
                        ]
                      },
                      {
                        "test": [
                          0.9700984955,
                          0.2238538985
                        ],
                        "passed_time": 331.1990169,
                        "iteration": 867,
                        "remaining_time": 50.36667077,
                        "learn": [
                          0.9693773389,
                          0.2352528468
                        ]
                      },
                      {
                        "test": [
                          0.9701129794,
                          0.2238179493
                        ],
                        "passed_time": 331.5930506,
                        "iteration": 868,
                        "remaining_time": 49.98698461,
                        "learn": [
                          0.9694031477,
                          0.2351856941
                        ]
                      },
                      {
                        "test": [
                          0.9701094031,
                          0.2238238623
                        ],
                        "passed_time": 331.9355823,
                        "iteration": 869,
                        "remaining_time": 49.59956978,
                        "learn": [
                          0.9694215059,
                          0.2351446899
                        ]
                      },
                      {
                        "test": [
                          0.9701160192,
                          0.2238113899
                        ],
                        "passed_time": 332.3141605,
                        "iteration": 870,
                        "remaining_time": 49.21759668,
                        "learn": [
                          0.9694362879,
                          0.2351135529
                        ]
                      },
                      {
                        "test": [
                          0.9701151848,
                          0.2238069316
                        ],
                        "passed_time": 332.7319615,
                        "iteration": 871,
                        "remaining_time": 48.84138884,
                        "learn": [
                          0.9694462419,
                          0.2350877882
                        ]
                      },
                      {
                        "test": [
                          0.9701202512,
                          0.2237955367
                        ],
                        "passed_time": 333.1498049,
                        "iteration": 872,
                        "remaining_time": 48.46509189,
                        "learn": [
                          0.969455421,
                          0.2350585334
                        ]
                      },
                      {
                        "test": [
                          0.9701157808,
                          0.2238019345
                        ],
                        "passed_time": 333.5441634,
                        "iteration": 873,
                        "remaining_time": 48.08531417,
                        "learn": [
                          0.9694707394,
                          0.235021202
                        ]
                      },
                      {
                        "test": [
                          0.9701187015,
                          0.2237846132
                        ],
                        "passed_time": 333.9357435,
                        "iteration": 874,
                        "remaining_time": 47.70510621,
                        "learn": [
                          0.969486773,
                          0.2349757757
                        ]
                      },
                      {
                        "test": [
                          0.9701180458,
                          0.2237838185
                        ],
                        "passed_time": 334.3502385,
                        "iteration": 875,
                        "remaining_time": 47.32811595,
                        "learn": [
                          0.9695065022,
                          0.2349269324
                        ]
                      },
                      {
                        "test": [
                          0.9701084495,
                          0.2237910918
                        ],
                        "passed_time": 334.7692703,
                        "iteration": 876,
                        "remaining_time": 46.95167645,
                        "learn": [
                          0.9695247412,
                          0.2348800625
                        ]
                      },
                      {
                        "test": [
                          0.9701114297,
                          0.2237654735
                        ],
                        "passed_time": 335.2050029,
                        "iteration": 877,
                        "remaining_time": 46.57746055,
                        "learn": [
                          0.969545424,
                          0.2348192871
                        ]
                      },
                      {
                        "test": [
                          0.9701238275,
                          0.2237280158
                        ],
                        "passed_time": 335.652716,
                        "iteration": 878,
                        "remaining_time": 46.20475386,
                        "learn": [
                          0.9695683718,
                          0.2347549484
                        ]
                      },
                      {
                        "test": [
                          0.9701216221,
                          0.2237255779
                        ],
                        "passed_time": 335.9805232,
                        "iteration": 879,
                        "remaining_time": 45.81552589,
                        "learn": [
                          0.969579339,
                          0.2347197914
                        ]
                      },
                      {
                        "test": [
                          0.9701311588,
                          0.2236975755
                        ],
                        "passed_time": 336.3958531,
                        "iteration": 880,
                        "remaining_time": 45.43825938,
                        "learn": [
                          0.969602108,
                          0.2346598565
                        ]
                      },
                      {
                        "test": [
                          0.9701399803,
                          0.2236513628
                        ],
                        "passed_time": 336.679752,
                        "iteration": 881,
                        "remaining_time": 45.04332284,
                        "learn": [
                          0.9696137905,
                          0.2346013834
                        ]
                      },
                      {
                        "test": [
                          0.9701429605,
                          0.2236488979
                        ],
                        "passed_time": 337.0557466,
                        "iteration": 882,
                        "remaining_time": 44.66084072,
                        "learn": [
                          0.9696312547,
                          0.2345574007
                        ]
                      },
                      {
                        "test": [
                          0.9701371789,
                          0.2236585823
                        ],
                        "passed_time": 337.4155069,
                        "iteration": 883,
                        "remaining_time": 44.27624299,
                        "learn": [
                          0.9696522355,
                          0.2344993296
                        ]
                      },
                      {
                        "test": [
                          0.9701412916,
                          0.2236459213
                        ],
                        "passed_time": 337.7677153,
                        "iteration": 884,
                        "remaining_time": 43.89072006,
                        "learn": [
                          0.969663918,
                          0.234461852
                        ]
                      },
                      {
                        "test": [
                          0.9701343179,
                          0.223645369
                        ],
                        "passed_time": 338.1753496,
                        "iteration": 885,
                        "remaining_time": 43.5124039,
                        "learn": [
                          0.9696682096,
                          0.234433858
                        ]
                      },
                      {
                        "test": [
                          0.9701395035,
                          0.2236197641
                        ],
                        "passed_time": 338.5735331,
                        "iteration": 886,
                        "remaining_time": 43.13281763,
                        "learn": [
                          0.9696836472,
                          0.2343834797
                        ]
                      },
                      {
                        "test": [
                          0.9701395631,
                          0.2236139589
                        ],
                        "passed_time": 339.0037026,
                        "iteration": 887,
                        "remaining_time": 42.75722375,
                        "learn": [
                          0.9696938396,
                          0.2343448692
                        ]
                      },
                      {
                        "test": [
                          0.9701421261,
                          0.223609568
                        ],
                        "passed_time": 339.392457,
                        "iteration": 888,
                        "remaining_time": 42.37633603,
                        "learn": [
                          0.9697028399,
                          0.2343199085
                        ]
                      },
                      {
                        "test": [
                          0.9701436758,
                          0.2235899434
                        ],
                        "passed_time": 339.8184529,
                        "iteration": 889,
                        "remaining_time": 42.0000335,
                        "learn": [
                          0.9697287679,
                          0.2342274479
                        ]
                      },
                      {
                        "test": [
                          0.9701542258,
                          0.223538397
                        ],
                        "passed_time": 340.0943052,
                        "iteration": 890,
                        "remaining_time": 41.6052517,
                        "learn": [
                          0.9697446227,
                          0.2341629082
                        ]
                      },
                      {
                        "test": [
                          0.9701616764,
                          0.2235313391
                        ],
                        "passed_time": 340.4912546,
                        "iteration": 891,
                        "remaining_time": 41.22539854,
                        "learn": [
                          0.9697558284,
                          0.2341424244
                        ]
                      },
                      {
                        "test": [
                          0.9701673985,
                          0.2235152704
                        ],
                        "passed_time": 340.9073131,
                        "iteration": 892,
                        "remaining_time": 40.84779676,
                        "learn": [
                          0.9697647095,
                          0.2341107393
                        ]
                      },
                      {
                        "test": [
                          0.9701634645,
                          0.2235190418
                        ],
                        "passed_time": 341.3007349,
                        "iteration": 893,
                        "remaining_time": 40.46742494,
                        "learn": [
                          0.9697751999,
                          0.2340839878
                        ]
                      },
                      {
                        "test": [
                          0.9701690078,
                          0.223497976
                        ],
                        "passed_time": 341.7144941,
                        "iteration": 894,
                        "remaining_time": 40.08940992,
                        "learn": [
                          0.9697892666,
                          0.2340436049
                        ]
                      },
                      {
                        "test": [
                          0.9701732993,
                          0.2234422002
                        ],
                        "passed_time": 342.0638717,
                        "iteration": 895,
                        "remaining_time": 39.70384226,
                        "learn": [
                          0.9698047042,
                          0.2339744787
                        ]
                      },
                      {
                        "test": [
                          0.9701756835,
                          0.2234275862
                        ],
                        "passed_time": 342.4582883,
                        "iteration": 896,
                        "remaining_time": 39.32352697,
                        "learn": [
                          0.9698290229,
                          0.2339111267
                        ]
                      },
                      {
                        "test": [
                          0.9701879025,
                          0.2233849159
                        ],
                        "passed_time": 342.8709942,
                        "iteration": 897,
                        "remaining_time": 38.9452577,
                        "learn": [
                          0.9698421955,
                          0.2338615525
                        ]
                      },
                      {
                        "test": [
                          0.9701856971,
                          0.2233769018
                        ],
                        "passed_time": 343.2177683,
                        "iteration": 898,
                        "remaining_time": 38.55950456,
                        "learn": [
                          0.9698543847,
                          0.2338183007
                        ]
                      },
                      {
                        "test": [
                          0.9701871872,
                          0.2233535866
                        ],
                        "passed_time": 343.5695515,
                        "iteration": 899,
                        "remaining_time": 38.17439461,
                        "learn": [
                          0.9698713422,
                          0.2337674108
                        ]
                      },
                      {
                        "test": [
                          0.9701911807,
                          0.2233325209
                        ],
                        "passed_time": 343.9592416,
                        "iteration": 900,
                        "remaining_time": 37.79352377,
                        "learn": [
                          0.9698925018,
                          0.2337096504
                        ]
                      },
                      {
                        "test": [
                          0.9701958299,
                          0.2232956154
                        ],
                        "passed_time": 344.3851312,
                        "iteration": 901,
                        "remaining_time": 37.41656636,
                        "learn": [
                          0.9699127078,
                          0.2336499895
                        ]
                      },
                      {
                        "test": [
                          0.9701943398,
                          0.2232942146
                        ],
                        "passed_time": 344.7700359,
                        "iteration": 902,
                        "remaining_time": 37.03509799,
                        "learn": [
                          0.9699243903,
                          0.2336208992
                        ]
                      },
                      {
                        "test": [
                          0.9701957703,
                          0.2232906049
                        ],
                        "passed_time": 345.1082584,
                        "iteration": 903,
                        "remaining_time": 36.64866461,
                        "learn": [
                          0.9699280262,
                          0.2336078158
                        ]
                      },
                      {
                        "test": [
                          0.970202148,
                          0.2232747651
                        ],
                        "passed_time": 345.500104,
                        "iteration": 904,
                        "remaining_time": 36.26796672,
                        "learn": [
                          0.9699524641,
                          0.233548557
                        ]
                      },
                      {
                        "test": [
                          0.9702044129,
                          0.2232618213
                        ],
                        "passed_time": 345.9171114,
                        "iteration": 905,
                        "remaining_time": 35.88985483,
                        "learn": [
                          0.9699578881,
                          0.2335243272
                        ]
                      },
                      {
                        "test": [
                          0.9702052474,
                          0.2232616866
                        ],
                        "passed_time": 346.2524086,
                        "iteration": 906,
                        "remaining_time": 35.50327894,
                        "learn": [
                          0.9699736834,
                          0.2334940491
                        ]
                      },
                      {
                        "test": [
                          0.970205009,
                          0.2232565414
                        ],
                        "passed_time": 346.6689173,
                        "iteration": 907,
                        "remaining_time": 35.12504449,
                        "learn": [
                          0.9699859023,
                          0.2334533189
                        ]
                      },
                      {
                        "test": [
                          0.9702143073,
                          0.2232125376
                        ],
                        "passed_time": 347.0733114,
                        "iteration": 908,
                        "remaining_time": 34.74551302,
                        "learn": [
                          0.9700191021,
                          0.2333559064
                        ]
                      },
                      {
                        "test": [
                          0.9702228308,
                          0.2231843063
                        ],
                        "passed_time": 347.3515677,
                        "iteration": 909,
                        "remaining_time": 34.35345175,
                        "learn": [
                          0.9700474739,
                          0.233282413
                        ]
                      },
                      {
                        "test": [
                          0.9702222347,
                          0.2231781239
                        ],
                        "passed_time": 347.7584689,
                        "iteration": 910,
                        "remaining_time": 33.97420827,
                        "learn": [
                          0.9700676799,
                          0.2332376811
                        ]
                      },
                      {
                        "test": [
                          0.9702198505,
                          0.223174137
                        ],
                        "passed_time": 348.1257652,
                        "iteration": 911,
                        "remaining_time": 33.59108261,
                        "learn": [
                          0.9700826406,
                          0.2331909757
                        ]
                      },
                      {
                        "test": [
                          0.9702377915,
                          0.223130268
                        ],
                        "passed_time": 348.5312898,
                        "iteration": 912,
                        "remaining_time": 33.21163441,
                        "learn": [
                          0.9701082706,
                          0.2331295972
                        ]
                      },
                      {
                        "test": [
                          0.9702377319,
                          0.2231272509
                        ],
                        "passed_time": 348.9424968,
                        "iteration": 913,
                        "remaining_time": 32.83266381,
                        "learn": [
                          0.9701204896,
                          0.2330899269
                        ]
                      },
                      {
                        "test": [
                          0.9702386856,
                          0.2231134719
                        ],
                        "passed_time": 349.3297429,
                        "iteration": 914,
                        "remaining_time": 32.45139688,
                        "learn": [
                          0.9701295495,
                          0.2330560308
                        ]
                      },
                      {
                        "test": [
                          0.9702254534,
                          0.2231397907
                        ],
                        "passed_time": 349.7348612,
                        "iteration": 915,
                        "remaining_time": 32.07175583,
                        "learn": [
                          0.9701498747,
                          0.2330158853
                        ]
                      },
                      {
                        "test": [
                          0.9702273607,
                          0.2231027774
                        ],
                        "passed_time": 350.1396008,
                        "iteration": 916,
                        "remaining_time": 31.69202493,
                        "learn": [
                          0.9701753855,
                          0.2329225294
                        ]
                      },
                      {
                        "test": [
                          0.9702301621,
                          0.2230948576
                        ],
                        "passed_time": 350.4968223,
                        "iteration": 917,
                        "remaining_time": 31.30799502,
                        "learn": [
                          0.970179975,
                          0.2329055904
                        ]
                      },
                      {
                        "test": [
                          0.9702238441,
                          0.2231023464
                        ],
                        "passed_time": 350.8940518,
                        "iteration": 918,
                        "remaining_time": 30.92754972,
                        "learn": [
                          0.9701883197,
                          0.2328626858
                        ]
                      },
                      {
                        "test": [
                          0.9702345133,
                          0.2230789505
                        ],
                        "passed_time": 351.3015789,
                        "iteration": 919,
                        "remaining_time": 30.54796338,
                        "learn": [
                          0.9702119231,
                          0.2328133491
                        ]
                      },
                      {
                        "test": [
                          0.970249176,
                          0.2229498486
                        ],
                        "passed_time": 351.6135058,
                        "iteration": 920,
                        "remaining_time": 30.16011613,
                        "learn": [
                          0.9702342749,
                          0.2327026705
                        ]
                      },
                      {
                        "test": [
                          0.9702442288,
                          0.2229465621
                        ],
                        "passed_time": 351.9926717,
                        "iteration": 921,
                        "remaining_time": 29.7781219,
                        "learn": [
                          0.9702570438,
                          0.2326388252
                        ]
                      },
                      {
                        "test": [
                          0.9702407718,
                          0.222952098
                        ],
                        "passed_time": 352.3594964,
                        "iteration": 922,
                        "remaining_time": 29.39510425,
                        "learn": [
                          0.970266223,
                          0.2326211919
                        ]
                      },
                      {
                        "test": [
                          0.9702383578,
                          0.2229474915
                        ],
                        "passed_time": 352.7659554,
                        "iteration": 923,
                        "remaining_time": 29.01538161,
                        "learn": [
                          0.9702851176,
                          0.2325745231
                        ]
                      },
                      {
                        "test": [
                          0.9702451229,
                          0.2229166606
                        ],
                        "passed_time": 353.1865799,
                        "iteration": 924,
                        "remaining_time": 28.63674972,
                        "learn": [
                          0.9703040123,
                          0.2325045381
                        ]
                      },
                      {
                        "test": [
                          0.9702409506,
                          0.2229150443
                        ],
                        "passed_time": 353.575648,
                        "iteration": 925,
                        "remaining_time": 28.25550535,
                        "learn": [
                          0.9703140855,
                          0.2324651418
                        ]
                      },
                      {
                        "test": [
                          0.9702467322,
                          0.2228957969
                        ],
                        "passed_time": 353.9365664,
                        "iteration": 926,
                        "remaining_time": 27.87202734,
                        "learn": [
                          0.9703239202,
                          0.2324302041
                        ]
                      },
                      {
                        "test": [
                          0.9702484012,
                          0.2228904766
                        ],
                        "passed_time": 354.3380411,
                        "iteration": 927,
                        "remaining_time": 27.49174457,
                        "learn": [
                          0.9703282118,
                          0.2324180892
                        ]
                      },
                      {
                        "test": [
                          0.970252037,
                          0.2228553894
                        ],
                        "passed_time": 354.7054861,
                        "iteration": 928,
                        "remaining_time": 27.10881541,
                        "learn": [
                          0.9703508019,
                          0.2323363914
                        ]
                      },
                      {
                        "test": [
                          0.9703150392,
                          0.2225617752
                        ],
                        "passed_time": 355.0637942,
                        "iteration": 929,
                        "remaining_time": 26.72523182,
                        "learn": [
                          0.9704069495,
                          0.2320923027
                        ]
                      },
                      {
                        "test": [
                          0.9703066349,
                          0.2225642535
                        ],
                        "passed_time": 355.3379043,
                        "iteration": 930,
                        "remaining_time": 26.33546229,
                        "learn": [
                          0.9704178572,
                          0.2320520842
                        ]
                      },
                      {
                        "test": [
                          0.9703130722,
                          0.2225395646
                        ],
                        "passed_time": 355.7292174,
                        "iteration": 931,
                        "remaining_time": 25.95449225,
                        "learn": [
                          0.9704284072,
                          0.2320000614
                        ]
                      },
                      {
                        "test": [
                          0.970318675,
                          0.2225131246
                        ],
                        "passed_time": 356.0691409,
                        "iteration": 932,
                        "remaining_time": 25.56980969,
                        "learn": [
                          0.9704379439,
                          0.2319680108
                        ]
                      },
                      {
                        "test": [
                          0.9703179002,
                          0.2224810815
                        ],
                        "passed_time": 356.4455967,
                        "iteration": 933,
                        "remaining_time": 25.18780448,
                        "learn": [
                          0.9704447985,
                          0.2319192223
                        ]
                      },
                      {
                        "test": [
                          0.9703074098,
                          0.2225023493
                        ],
                        "passed_time": 356.8406636,
                        "iteration": 934,
                        "remaining_time": 24.80710496,
                        "learn": [
                          0.9704686403,
                          0.2318636363
                        ]
                      },
                      {
                        "test": [
                          0.9703009725,
                          0.2225137038
                        ],
                        "passed_time": 357.268178,
                        "iteration": 935,
                        "remaining_time": 24.42859337,
                        "learn": [
                          0.9704826176,
                          0.2318226321
                        ]
                      },
                      {
                        "test": [
                          0.9703016281,
                          0.2225185931
                        ],
                        "passed_time": 357.7185525,
                        "iteration": 936,
                        "remaining_time": 24.0515142,
                        "learn": [
                          0.9704933763,
                          0.2317956979
                        ]
                      },
                      {
                        "test": [
                          0.970300734,
                          0.2225166266
                        ],
                        "passed_time": 358.1414631,
                        "iteration": 937,
                        "remaining_time": 23.67246345,
                        "learn": [
                          0.9705010653,
                          0.231775543
                        ]
                      },
                      {
                        "test": [
                          0.970307827,
                          0.2225011775
                        ],
                        "passed_time": 358.5321957,
                        "iteration": 938,
                        "remaining_time": 23.2912289,
                        "learn": [
                          0.9705210328,
                          0.2317242328
                        ]
                      },
                      {
                        "test": [
                          0.9703112841,
                          0.2224842467
                        ],
                        "passed_time": 358.879544,
                        "iteration": 939,
                        "remaining_time": 22.90720494,
                        "learn": [
                          0.9705348611,
                          0.2316904829
                        ]
                      },
                      {
                        "test": [
                          0.9703104496,
                          0.2224821456
                        ],
                        "passed_time": 359.2542219,
                        "iteration": 940,
                        "remaining_time": 22.52497247,
                        "learn": [
                          0.9705457687,
                          0.2316591267
                        ]
                      },
                      {
                        "test": [
                          0.9703118205,
                          0.2224739428
                        ],
                        "passed_time": 359.6415655,
                        "iteration": 941,
                        "remaining_time": 22.14353588,
                        "learn": [
                          0.9705581665,
                          0.2316224714
                        ]
                      },
                      {
                        "test": [
                          0.9703159928,
                          0.2224569986
                        ],
                        "passed_time": 360.0132022,
                        "iteration": 942,
                        "remaining_time": 21.76113735,
                        "learn": [
                          0.9705736041,
                          0.2315801149
                        ]
                      },
                      {
                        "test": [
                          0.9703321457,
                          0.2224286461
                        ],
                        "passed_time": 360.4181431,
                        "iteration": 943,
                        "remaining_time": 21.38073731,
                        "learn": [
                          0.9705893993,
                          0.2315364063
                        ]
                      },
                      {
                        "test": [
                          0.9703251123,
                          0.2224330505
                        ],
                        "passed_time": 360.8059301,
                        "iteration": 944,
                        "remaining_time": 20.99928694,
                        "learn": [
                          0.9705996513,
                          0.2315027294
                        ]
                      },
                      {
                        "test": [
                          0.9703276753,
                          0.222423851
                        ],
                        "passed_time": 361.1801517,
                        "iteration": 945,
                        "remaining_time": 20.61704883,
                        "learn": [
                          0.9706088305,
                          0.2314719031
                        ]
                      },
                      {
                        "test": [
                          0.9703301787,
                          0.2224045901
                        ],
                        "passed_time": 361.5082015,
                        "iteration": 946,
                        "remaining_time": 20.23224359,
                        "learn": [
                          0.9706216455,
                          0.2314326896
                        ]
                      },
                      {
                        "test": [
                          0.9703370929,
                          0.2223616235
                        ],
                        "passed_time": 361.9088306,
                        "iteration": 947,
                        "remaining_time": 19.85153923,
                        "learn": [
                          0.9706249237,
                          0.2313929096
                        ]
                      },
                      {
                        "test": [
                          0.9703418016,
                          0.2223484507
                        ],
                        "passed_time": 362.3000799,
                        "iteration": 948,
                        "remaining_time": 19.47028881,
                        "learn": [
                          0.9706411958,
                          0.2313475016
                        ]
                      },
                      {
                        "test": [
                          0.9703418016,
                          0.2223469287
                        ],
                        "passed_time": 362.7004449,
                        "iteration": 949,
                        "remaining_time": 19.0894971,
                        "learn": [
                          0.9706455469,
                          0.2313384931
                        ]
                      },
                      {
                        "test": [
                          0.9703421593,
                          0.2223287318
                        ],
                        "passed_time": 362.998061,
                        "iteration": 950,
                        "remaining_time": 18.70337013,
                        "learn": [
                          0.9706689715,
                          0.2312749401
                        ]
                      },
                      {
                        "test": [
                          0.9703425765,
                          0.2223141582
                        ],
                        "passed_time": 363.3707429,
                        "iteration": 951,
                        "remaining_time": 18.32121393,
                        "learn": [
                          0.9706799388,
                          0.2312243426
                        ]
                      },
                      {
                        "test": [
                          0.9703420997,
                          0.2223099828
                        ],
                        "passed_time": 363.6950017,
                        "iteration": 952,
                        "remaining_time": 17.93668948,
                        "learn": [
                          0.9706910849,
                          0.2311976643
                        ]
                      },
                      {
                        "test": [
                          0.9703432322,
                          0.2223067367
                        ],
                        "passed_time": 364.0118616,
                        "iteration": 953,
                        "remaining_time": 17.55193463,
                        "learn": [
                          0.9707099795,
                          0.23115063
                        ]
                      },
                      {
                        "test": [
                          0.9703441262,
                          0.2223066559
                        ],
                        "passed_time": 364.4255423,
                        "iteration": 954,
                        "remaining_time": 17.17188419,
                        "learn": [
                          0.9707272649,
                          0.2311063914
                        ]
                      },
                      {
                        "test": [
                          0.9703477621,
                          0.22229549
                        ],
                        "passed_time": 364.6941252,
                        "iteration": 955,
                        "remaining_time": 16.78508526,
                        "learn": [
                          0.9707289934,
                          0.2310977849
                        ]
                      },
                      {
                        "test": [
                          0.9703441262,
                          0.2222960961
                        ],
                        "passed_time": 365.0919822,
                        "iteration": 956,
                        "remaining_time": 16.40434194,
                        "learn": [
                          0.9707467556,
                          0.2310472605
                        ]
                      },
                      {
                        "test": [
                          0.9703517556,
                          0.2222568065
                        ],
                        "passed_time": 365.5392563,
                        "iteration": 957,
                        "remaining_time": 16.0257294,
                        "learn": [
                          0.9707546234,
                          0.2310066948
                        ]
                      },
                      {
                        "test": [
                          0.9703634977,
                          0.22223566
                        ],
                        "passed_time": 365.9164272,
                        "iteration": 958,
                        "remaining_time": 15.64397655,
                        "learn": [
                          0.9707745314,
                          0.2309503414
                        ]
                      },
                      {
                        "test": [
                          0.9703673124,
                          0.2222350538
                        ],
                        "passed_time": 366.3628903,
                        "iteration": 959,
                        "remaining_time": 15.26512043,
                        "learn": [
                          0.9707887769,
                          0.2309231331
                        ]
                      },
                      {
                        "test": [
                          0.9703685045,
                          0.2222199684
                        ],
                        "passed_time": 366.688041,
                        "iteration": 960,
                        "remaining_time": 14.88120041,
                        "learn": [
                          0.9708015919,
                          0.2308834079
                        ]
                      },
                      {
                        "test": [
                          0.9703673124,
                          0.222222541
                        ],
                        "passed_time": 367.0727826,
                        "iteration": 961,
                        "remaining_time": 14.49975648,
                        "learn": [
                          0.9708114862,
                          0.2308616998
                        ]
                      },
                      {
                        "test": [
                          0.970368892,
                          0.2222139207
                        ],
                        "passed_time": 367.4814876,
                        "iteration": 962,
                        "remaining_time": 14.11922642,
                        "learn": [
                          0.9708298445,
                          0.2307991518
                        ]
                      },
                      {
                        "test": [
                          0.9703763425,
                          0.2221872114
                        ],
                        "passed_time": 367.765363,
                        "iteration": 963,
                        "remaining_time": 13.73397621,
                        "learn": [
                          0.9708459377,
                          0.2307512405
                        ]
                      },
                      {
                        "test": [
                          0.9703820944,
                          0.2221726378
                        ],
                        "passed_time": 368.1734,
                        "iteration": 964,
                        "remaining_time": 13.35343938,
                        "learn": [
                          0.9708651304,
                          0.2306993456
                        ]
                      },
                      {
                        "test": [
                          0.9703932405,
                          0.2221005104
                        ],
                        "passed_time": 368.5548239,
                        "iteration": 965,
                        "remaining_time": 12.97190892,
                        "learn": [
                          0.9708828926,
                          0.2306060079
                        ]
                      },
                      {
                        "test": [
                          0.9703969359,
                          0.2220875396
                        ],
                        "passed_time": 369.009071,
                        "iteration": 966,
                        "remaining_time": 12.59286385,
                        "learn": [
                          0.9708964229,
                          0.2305720935
                        ]
                      },
                      {
                        "test": [
                          0.9704084992,
                          0.2220522504
                        ],
                        "passed_time": 369.3901653,
                        "iteration": 967,
                        "remaining_time": 12.21124513,
                        "learn": [
                          0.9709087014,
                          0.2305350727
                        ]
                      },
                      {
                        "test": [
                          0.9704102874,
                          0.2220449367
                        ],
                        "passed_time": 369.7687933,
                        "iteration": 968,
                        "remaining_time": 11.8295486,
                        "learn": [
                          0.9709200263,
                          0.230506695
                        ]
                      },
                      {
                        "test": [
                          0.9704068899,
                          0.2220463105
                        ],
                        "passed_time": 370.1894621,
                        "iteration": 969,
                        "remaining_time": 11.44915862,
                        "learn": [
                          0.9709301591,
                          0.2304716842
                        ]
                      },
                      {
                        "test": [
                          0.9703987837,
                          0.2220584597
                        ],
                        "passed_time": 370.607269,
                        "iteration": 970,
                        "remaining_time": 11.06860021,
                        "learn": [
                          0.9709371924,
                          0.2304463398
                        ]
                      },
                      {
                        "test": [
                          0.9704013467,
                          0.2220511998
                        ],
                        "passed_time": 371.0310645,
                        "iteration": 971,
                        "remaining_time": 10.68813766,
                        "learn": [
                          0.9709520936,
                          0.2304094469
                        ]
                      },
                      {
                        "test": [
                          0.9704048634,
                          0.2220476574
                        ],
                        "passed_time": 371.4677239,
                        "iteration": 972,
                        "remaining_time": 10.30794301,
                        "learn": [
                          0.9709635377,
                          0.2303812519
                        ]
                      },
                      {
                        "test": [
                          0.9704093337,
                          0.2220370303
                        ],
                        "passed_time": 371.8637103,
                        "iteration": 973,
                        "remaining_time": 9.926546681,
                        "learn": [
                          0.9709716439,
                          0.2303656652
                        ]
                      },
                      {
                        "test": [
                          0.9704089761,
                          0.2220367744
                        ],
                        "passed_time": 372.2654043,
                        "iteration": 974,
                        "remaining_time": 9.545266777,
                        "learn": [
                          0.9709799886,
                          0.2303447976
                        ]
                      },
                      {
                        "test": [
                          0.9704127908,
                          0.2220297165
                        ],
                        "passed_time": 372.5997928,
                        "iteration": 975,
                        "remaining_time": 9.162289986,
                        "learn": [
                          0.970985353,
                          0.2303225047
                        ]
                      },
                      {
                        "test": [
                          0.9704266787,
                          0.221981699
                        ],
                        "passed_time": 372.9997819,
                        "iteration": 976,
                        "remaining_time": 8.780956994,
                        "learn": [
                          0.9710120559,
                          0.2302362752
                        ]
                      },
                      {
                        "test": [
                          0.9704319835,
                          0.2219579124
                        ],
                        "passed_time": 373.3802603,
                        "iteration": 977,
                        "remaining_time": 8.399146959,
                        "learn": [
                          0.9710232615,
                          0.2301906113
                        ]
                      },
                      {
                        "test": [
                          0.9704226851,
                          0.2219733616
                        ],
                        "passed_time": 373.7710352,
                        "iteration": 978,
                        "remaining_time": 8.01756051,
                        "learn": [
                          0.9710401893,
                          0.2301488579
                        ]
                      },
                      {
                        "test": [
                          0.9704299569,
                          0.2219556227
                        ],
                        "passed_time": 374.1955556,
                        "iteration": 979,
                        "remaining_time": 7.636643992,
                        "learn": [
                          0.9710589051,
                          0.2301114899
                        ]
                      },
                      {
                        "test": [
                          0.9704416394,
                          0.2219001028
                        ],
                        "passed_time": 374.5321133,
                        "iteration": 980,
                        "remaining_time": 7.253934917,
                        "learn": [
                          0.9710748792,
                          0.2300477908
                        ]
                      },
                      {
                        "test": [
                          0.9704464674,
                          0.2218858524
                        ],
                        "passed_time": 374.8890891,
                        "iteration": 981,
                        "remaining_time": 6.871694097,
                        "learn": [
                          0.9710884094,
                          0.2300185177
                        ]
                      },
                      {
                        "test": [
                          0.9704440236,
                          0.2218692315
                        ],
                        "passed_time": 375.2839113,
                        "iteration": 982,
                        "remaining_time": 6.490159198,
                        "learn": [
                          0.9711019397,
                          0.2299645032
                        ]
                      },
                      {
                        "test": [
                          0.9704816937,
                          0.2217354423
                        ],
                        "passed_time": 375.6748564,
                        "iteration": 983,
                        "remaining_time": 6.108534251,
                        "learn": [
                          0.971141696,
                          0.2298202391
                        ]
                      },
                      {
                        "test": [
                          0.9704807401,
                          0.2217411802
                        ],
                        "passed_time": 376.068126,
                        "iteration": 984,
                        "remaining_time": 5.726925776,
                        "learn": [
                          0.9711511731,
                          0.2298021307
                        ]
                      },
                      {
                        "test": [
                          0.9704883099,
                          0.2217158582
                        ],
                        "passed_time": 376.4787993,
                        "iteration": 985,
                        "remaining_time": 5.34554076,
                        "learn": [
                          0.971170485,
                          0.2297381026
                        ]
                      },
                      {
                        "test": [
                          0.9704924226,
                          0.2216907517
                        ],
                        "passed_time": 376.7624008,
                        "iteration": 986,
                        "remaining_time": 4.962422706,
                        "learn": [
                          0.9711824059,
                          0.2296882909
                        ]
                      },
                      {
                        "test": [
                          0.9704982042,
                          0.221663746
                        ],
                        "passed_time": 377.1884282,
                        "iteration": 987,
                        "remaining_time": 4.58123597,
                        "learn": [
                          0.9712040424,
                          0.2296360671
                        ]
                      },
                      {
                        "test": [
                          0.9705114961,
                          0.2216363228
                        ],
                        "passed_time": 377.5900465,
                        "iteration": 988,
                        "remaining_time": 4.199687069,
                        "learn": [
                          0.9712327123,
                          0.2295623727
                        ]
                      },
                      {
                        "test": [
                          0.9705155492,
                          0.2216252377
                        ],
                        "passed_time": 378.0565379,
                        "iteration": 989,
                        "remaining_time": 3.818752908,
                        "learn": [
                          0.9712458849,
                          0.2295311444
                        ]
                      },
                      {
                        "test": [
                          0.9705207348,
                          0.2215979222
                        ],
                        "passed_time": 378.4263523,
                        "iteration": 990,
                        "remaining_time": 3.436768083,
                        "learn": [
                          0.9712522626,
                          0.2295037352
                        ]
                      },
                      {
                        "test": [
                          0.9705114961,
                          0.2216105024
                        ],
                        "passed_time": 378.7585678,
                        "iteration": 991,
                        "remaining_time": 3.054504579,
                        "learn": [
                          0.971259892,
                          0.2294795419
                        ]
                      },
                      {
                        "test": [
                          0.9705116749,
                          0.2216033234
                        ],
                        "passed_time": 379.1744571,
                        "iteration": 992,
                        "remaining_time": 2.672931722,
                        "learn": [
                          0.971275568,
                          0.229430187
                        ]
                      },
                      {
                        "test": [
                          0.9705222845,
                          0.2215719133
                        ],
                        "passed_time": 379.6036422,
                        "iteration": 993,
                        "remaining_time": 2.291370074,
                        "learn": [
                          0.9712920785,
                          0.2293716773
                        ]
                      },
                      {
                        "test": [
                          0.970523715,
                          0.2215674011
                        ],
                        "passed_time": 380.0351457,
                        "iteration": 994,
                        "remaining_time": 1.90972435,
                        "learn": [
                          0.971309185,
                          0.2293245334
                        ]
                      },
                      {
                        "test": [
                          0.9705311656,
                          0.2215365702
                        ],
                        "passed_time": 380.4208944,
                        "iteration": 995,
                        "remaining_time": 1.527794757,
                        "learn": [
                          0.9713289142,
                          0.2292577461
                        ]
                      },
                      {
                        "test": [
                          0.9705336094,
                          0.2215242863
                        ],
                        "passed_time": 380.7637451,
                        "iteration": 996,
                        "remaining_time": 1.145728421,
                        "learn": [
                          0.9713387489,
                          0.2292208533
                        ]
                      },
                      {
                        "test": [
                          0.9705266953,
                          0.221528354
                        ],
                        "passed_time": 381.1787639,
                        "iteration": 997,
                        "remaining_time": 0.7638852984,
                        "learn": [
                          0.9713491797,
                          0.229187615
                        ]
                      },
                      {
                        "test": [
                          0.9705225229,
                          0.2215292026
                        ],
                        "passed_time": 381.6045882,
                        "iteration": 998,
                        "remaining_time": 0.3819865747,
                        "learn": [
                          0.9713675976,
                          0.2291460442
                        ]
                      },
                      {
                        "test": [
                          0.9705962539,
                          0.2210932329
                        ],
                        "passed_time": 381.9879247,
                        "iteration": 999,
                        "remaining_time": 0,
                        "learn": [
                          0.9713953137,
                          0.2289097398
                        ]
                      }
                    ]
                  },
                  "total_iterations": 1000,
                  "passed_iterations": 999
                },
                "path": "catboost_clf_find_fraud",
                "name": "catboost_clf_find_fraud"
              }
            },
            "_view_module": "catboost-widget",
            "_model_module_version": "^1.0.0",
            "_view_count": null,
            "_view_module_version": "^1.0.0",
            "layout": "IPY_MODEL_a1b640aa8d454549bd85f88de509b5d7",
            "_model_module": "catboost-widget"
          }
        }
      }
    }
  },
  "cells": [
    {
      "cell_type": "markdown",
      "source": [
        "**Вариант 6.4**\n",
        "* 1. Убираем список столбцов: 'id_07', 'id_08', 'id_21', 'id_22', 'id_24', 'id_25', 'id_26', 'id_23',  'id_27' (baseline)\n",
        "* 2. Убираем столбцы, которые убрали после 2-й попытки - показавшие 0 в feature_importance и также имеющие высокие коэффициенты корреляции\n",
        "* 3. Добавляем 3 столбца: сгруппированная карта, сгруппированный адрес, сгруппированный dist.\n",
        "* 4. Убираем столбцец D9 - столбец со временем операции\n",
        "* 5. Добавляем столбец с часами операции, вычисленными из TransactionDT, а также добавим день, вычисленный из TransactionDT\n",
        "*  6.Удаляем TransactionDT\n",
        "* 7. Удаляем больше столбцов V оставили 274 столбца всего\n",
        "\n"
      ],
      "metadata": {
        "id": "nhrbPqlxF24M"
      }
    },
    {
      "cell_type": "code",
      "source": [
        "import pandas as pd\n",
        "import numpy as np\n",
        "import matplotlib.pyplot as plt\n",
        "# import seaborn as sns\n",
        "%matplotlib inline"
      ],
      "metadata": {
        "id": "z3sbUzZm9jub"
      },
      "execution_count": null,
      "outputs": []
    },
    {
      "cell_type": "code",
      "source": [
        "import gc\n",
        "import sys"
      ],
      "metadata": {
        "id": "Fx87FaR_Tax7"
      },
      "execution_count": null,
      "outputs": []
    },
    {
      "cell_type": "code",
      "source": [
        "feature_cat_for_cat=['ProductCD', 'P_emaildomain',\n",
        " 'R_emaildomain', 'DeviceType', 'DeviceInfo',\n",
        " 'addr1', 'addr2', 'card1', 'card2', 'card3',\n",
        " 'card4', 'card5', 'card6', 'id_12', 'id_13',\n",
        " 'id_14', 'id_15', 'id_16', 'id_17', 'id_18',\n",
        " 'id_19', 'id_20', 'id_28', 'id_29', 'id_30',\n",
        " 'id_31', 'id_33', 'id_34', 'id_35', 'id_36',\n",
        " 'id_37', 'id_38', 'M1', 'M2', 'M3', 'M4',\n",
        " 'M5', 'M6', 'M7', 'M8', 'M9', 'card_card',\n",
        " 'dist', 'addr']"
      ],
      "metadata": {
        "id": "5GLTYYuni1kp"
      },
      "execution_count": null,
      "outputs": []
    },
    {
      "cell_type": "code",
      "source": [
        "# 'ProductCD', 'P_emaildomain', 'R_emaildomain',\n",
        "#  'DeviceType', 'DeviceInfo', 'addr1', 'addr2',\n",
        "#  'card1', 'card2', 'card3', 'card4', 'card5',\n",
        "#  'card6', 'id_12', 'id_13', 'id_14', 'id_15',\n",
        "#  'id_16', 'id_17', 'id_18','id_19', 'id_20',\n",
        "#  'id_28', 'id_29', 'id_30', 'id_31', 'id_33',\n",
        "#  'id_34', 'id_35', 'id_36', 'id_37', 'id_38',\n",
        "#  'M1', 'M2', 'M3', 'M4', 'M5', 'M6', 'M7',\n",
        "#  'M8', 'M9', 'card_card', 'dist', 'addr'"
      ],
      "metadata": {
        "id": "m0Leg09IZCn7"
      },
      "execution_count": null,
      "outputs": []
    },
    {
      "cell_type": "code",
      "execution_count": null,
      "metadata": {
        "id": "9OnUijHslaDP",
        "colab": {
          "base_uri": "https://localhost:8080/",
          "height": 402
        },
        "outputId": "71e448c9-2b5a-49c3-fb1a-984409d3d959"
      },
      "outputs": [
        {
          "output_type": "stream",
          "name": "stderr",
          "text": [
            "/usr/local/lib/python3.7/dist-packages/IPython/core/interactiveshell.py:2882: DtypeWarning: Columns (5) have mixed types.Specify dtype option on import or set low_memory=False.\n",
            "  exec(code_obj, self.user_global_ns, self.user_ns)\n"
          ]
        },
        {
          "output_type": "execute_result",
          "data": {
            "text/html": [
              "\n",
              "  <div id=\"df-b2e307b1-6eff-4360-a453-def9f753011a\">\n",
              "    <div class=\"colab-df-container\">\n",
              "      <div>\n",
              "<style scoped>\n",
              "    .dataframe tbody tr th:only-of-type {\n",
              "        vertical-align: middle;\n",
              "    }\n",
              "\n",
              "    .dataframe tbody tr th {\n",
              "        vertical-align: top;\n",
              "    }\n",
              "\n",
              "    .dataframe thead th {\n",
              "        text-align: right;\n",
              "    }\n",
              "</style>\n",
              "<table border=\"1\" class=\"dataframe\">\n",
              "  <thead>\n",
              "    <tr style=\"text-align: right;\">\n",
              "      <th></th>\n",
              "      <th>TransactionAmt</th>\n",
              "      <th>ProductCD</th>\n",
              "      <th>card1</th>\n",
              "      <th>card2</th>\n",
              "      <th>card3</th>\n",
              "      <th>card4</th>\n",
              "      <th>card5</th>\n",
              "      <th>card6</th>\n",
              "      <th>addr1</th>\n",
              "      <th>addr2</th>\n",
              "      <th>dist1</th>\n",
              "      <th>dist2</th>\n",
              "      <th>P_emaildomain</th>\n",
              "      <th>R_emaildomain</th>\n",
              "      <th>C1</th>\n",
              "      <th>C2</th>\n",
              "      <th>C3</th>\n",
              "      <th>C4</th>\n",
              "      <th>C5</th>\n",
              "      <th>C6</th>\n",
              "      <th>C7</th>\n",
              "      <th>C8</th>\n",
              "      <th>C9</th>\n",
              "      <th>C10</th>\n",
              "      <th>C11</th>\n",
              "      <th>C12</th>\n",
              "      <th>C13</th>\n",
              "      <th>C14</th>\n",
              "      <th>D1</th>\n",
              "      <th>D2</th>\n",
              "      <th>D3</th>\n",
              "      <th>D4</th>\n",
              "      <th>D5</th>\n",
              "      <th>D6</th>\n",
              "      <th>D7</th>\n",
              "      <th>D8</th>\n",
              "      <th>D10</th>\n",
              "      <th>D11</th>\n",
              "      <th>D12</th>\n",
              "      <th>D13</th>\n",
              "      <th>...</th>\n",
              "      <th>V316</th>\n",
              "      <th>V317</th>\n",
              "      <th>V318</th>\n",
              "      <th>V319</th>\n",
              "      <th>V320</th>\n",
              "      <th>V321</th>\n",
              "      <th>V322</th>\n",
              "      <th>V326</th>\n",
              "      <th>V332</th>\n",
              "      <th>V333</th>\n",
              "      <th>V334</th>\n",
              "      <th>V335</th>\n",
              "      <th>V337</th>\n",
              "      <th>V339</th>\n",
              "      <th>id_12</th>\n",
              "      <th>id_13</th>\n",
              "      <th>id_14</th>\n",
              "      <th>id_15</th>\n",
              "      <th>id_16</th>\n",
              "      <th>id_17</th>\n",
              "      <th>id_18</th>\n",
              "      <th>id_19</th>\n",
              "      <th>id_20</th>\n",
              "      <th>id_28</th>\n",
              "      <th>id_29</th>\n",
              "      <th>id_30</th>\n",
              "      <th>id_31</th>\n",
              "      <th>id_33</th>\n",
              "      <th>id_34</th>\n",
              "      <th>id_35</th>\n",
              "      <th>id_36</th>\n",
              "      <th>id_37</th>\n",
              "      <th>id_38</th>\n",
              "      <th>DeviceType</th>\n",
              "      <th>DeviceInfo</th>\n",
              "      <th>card_card</th>\n",
              "      <th>dist</th>\n",
              "      <th>addr</th>\n",
              "      <th>Hr</th>\n",
              "      <th>day</th>\n",
              "    </tr>\n",
              "    <tr>\n",
              "      <th>TransactionID</th>\n",
              "      <th></th>\n",
              "      <th></th>\n",
              "      <th></th>\n",
              "      <th></th>\n",
              "      <th></th>\n",
              "      <th></th>\n",
              "      <th></th>\n",
              "      <th></th>\n",
              "      <th></th>\n",
              "      <th></th>\n",
              "      <th></th>\n",
              "      <th></th>\n",
              "      <th></th>\n",
              "      <th></th>\n",
              "      <th></th>\n",
              "      <th></th>\n",
              "      <th></th>\n",
              "      <th></th>\n",
              "      <th></th>\n",
              "      <th></th>\n",
              "      <th></th>\n",
              "      <th></th>\n",
              "      <th></th>\n",
              "      <th></th>\n",
              "      <th></th>\n",
              "      <th></th>\n",
              "      <th></th>\n",
              "      <th></th>\n",
              "      <th></th>\n",
              "      <th></th>\n",
              "      <th></th>\n",
              "      <th></th>\n",
              "      <th></th>\n",
              "      <th></th>\n",
              "      <th></th>\n",
              "      <th></th>\n",
              "      <th></th>\n",
              "      <th></th>\n",
              "      <th></th>\n",
              "      <th></th>\n",
              "      <th></th>\n",
              "      <th></th>\n",
              "      <th></th>\n",
              "      <th></th>\n",
              "      <th></th>\n",
              "      <th></th>\n",
              "      <th></th>\n",
              "      <th></th>\n",
              "      <th></th>\n",
              "      <th></th>\n",
              "      <th></th>\n",
              "      <th></th>\n",
              "      <th></th>\n",
              "      <th></th>\n",
              "      <th></th>\n",
              "      <th></th>\n",
              "      <th></th>\n",
              "      <th></th>\n",
              "      <th></th>\n",
              "      <th></th>\n",
              "      <th></th>\n",
              "      <th></th>\n",
              "      <th></th>\n",
              "      <th></th>\n",
              "      <th></th>\n",
              "      <th></th>\n",
              "      <th></th>\n",
              "      <th></th>\n",
              "      <th></th>\n",
              "      <th></th>\n",
              "      <th></th>\n",
              "      <th></th>\n",
              "      <th></th>\n",
              "      <th></th>\n",
              "      <th></th>\n",
              "      <th></th>\n",
              "      <th></th>\n",
              "      <th></th>\n",
              "      <th></th>\n",
              "      <th></th>\n",
              "      <th></th>\n",
              "    </tr>\n",
              "  </thead>\n",
              "  <tbody>\n",
              "    <tr>\n",
              "      <th>3126425</th>\n",
              "      <td>87.0</td>\n",
              "      <td>W</td>\n",
              "      <td>10847</td>\n",
              "      <td>302</td>\n",
              "      <td>150</td>\n",
              "      <td>visa</td>\n",
              "      <td>226</td>\n",
              "      <td>credit</td>\n",
              "      <td>325</td>\n",
              "      <td>87</td>\n",
              "      <td>NaN</td>\n",
              "      <td>NaN</td>\n",
              "      <td>anonymous.com</td>\n",
              "      <td></td>\n",
              "      <td>139.0</td>\n",
              "      <td>118.0</td>\n",
              "      <td>0.0</td>\n",
              "      <td>0.0</td>\n",
              "      <td>86.0</td>\n",
              "      <td>93.0</td>\n",
              "      <td>0.0</td>\n",
              "      <td>0.0</td>\n",
              "      <td>82.0</td>\n",
              "      <td>0.0</td>\n",
              "      <td>99.0</td>\n",
              "      <td>0.0</td>\n",
              "      <td>410.0</td>\n",
              "      <td>112.0</td>\n",
              "      <td>512.0</td>\n",
              "      <td>512.0</td>\n",
              "      <td>1.0</td>\n",
              "      <td>512.0</td>\n",
              "      <td>1.0</td>\n",
              "      <td>NaN</td>\n",
              "      <td>NaN</td>\n",
              "      <td>NaN</td>\n",
              "      <td>512.0</td>\n",
              "      <td>NaN</td>\n",
              "      <td>NaN</td>\n",
              "      <td>NaN</td>\n",
              "      <td>...</td>\n",
              "      <td>0.0</td>\n",
              "      <td>2577.0</td>\n",
              "      <td>157.0</td>\n",
              "      <td>0.0</td>\n",
              "      <td>736.0</td>\n",
              "      <td>736.0</td>\n",
              "      <td>NaN</td>\n",
              "      <td>NaN</td>\n",
              "      <td>NaN</td>\n",
              "      <td>NaN</td>\n",
              "      <td>NaN</td>\n",
              "      <td>NaN</td>\n",
              "      <td>NaN</td>\n",
              "      <td>NaN</td>\n",
              "      <td></td>\n",
              "      <td></td>\n",
              "      <td></td>\n",
              "      <td></td>\n",
              "      <td></td>\n",
              "      <td></td>\n",
              "      <td></td>\n",
              "      <td></td>\n",
              "      <td></td>\n",
              "      <td></td>\n",
              "      <td></td>\n",
              "      <td></td>\n",
              "      <td></td>\n",
              "      <td></td>\n",
              "      <td></td>\n",
              "      <td></td>\n",
              "      <td></td>\n",
              "      <td></td>\n",
              "      <td></td>\n",
              "      <td></td>\n",
              "      <td></td>\n",
              "      <td>10847302.0150.0visacredit226.0</td>\n",
              "      <td>nannan</td>\n",
              "      <td>325.087.0</td>\n",
              "      <td>0.916667</td>\n",
              "      <td>22.0</td>\n",
              "    </tr>\n",
              "    <tr>\n",
              "      <th>3138318</th>\n",
              "      <td>500.0</td>\n",
              "      <td>R</td>\n",
              "      <td>15446</td>\n",
              "      <td>460</td>\n",
              "      <td>150</td>\n",
              "      <td>mastercard</td>\n",
              "      <td>224</td>\n",
              "      <td>debit</td>\n",
              "      <td>226</td>\n",
              "      <td>87</td>\n",
              "      <td>NaN</td>\n",
              "      <td>NaN</td>\n",
              "      <td>aol.com</td>\n",
              "      <td>gmail.com</td>\n",
              "      <td>1.0</td>\n",
              "      <td>1.0</td>\n",
              "      <td>0.0</td>\n",
              "      <td>1.0</td>\n",
              "      <td>0.0</td>\n",
              "      <td>1.0</td>\n",
              "      <td>0.0</td>\n",
              "      <td>1.0</td>\n",
              "      <td>0.0</td>\n",
              "      <td>1.0</td>\n",
              "      <td>1.0</td>\n",
              "      <td>0.0</td>\n",
              "      <td>1.0</td>\n",
              "      <td>1.0</td>\n",
              "      <td>0.0</td>\n",
              "      <td>NaN</td>\n",
              "      <td>NaN</td>\n",
              "      <td>0.0</td>\n",
              "      <td>NaN</td>\n",
              "      <td>0.0</td>\n",
              "      <td>NaN</td>\n",
              "      <td>NaN</td>\n",
              "      <td>NaN</td>\n",
              "      <td>NaN</td>\n",
              "      <td>NaN</td>\n",
              "      <td>NaN</td>\n",
              "      <td>...</td>\n",
              "      <td>0.0</td>\n",
              "      <td>0.0</td>\n",
              "      <td>0.0</td>\n",
              "      <td>0.0</td>\n",
              "      <td>0.0</td>\n",
              "      <td>0.0</td>\n",
              "      <td>0.0</td>\n",
              "      <td>0.0</td>\n",
              "      <td>0.0</td>\n",
              "      <td>0.0</td>\n",
              "      <td>0.0</td>\n",
              "      <td>0.0</td>\n",
              "      <td>0.0</td>\n",
              "      <td>0.0</td>\n",
              "      <td>NotFound</td>\n",
              "      <td>52</td>\n",
              "      <td>-360</td>\n",
              "      <td>New</td>\n",
              "      <td>NotFound</td>\n",
              "      <td>166</td>\n",
              "      <td></td>\n",
              "      <td>529</td>\n",
              "      <td>299</td>\n",
              "      <td>New</td>\n",
              "      <td>NotFound</td>\n",
              "      <td>Windows 7</td>\n",
              "      <td>ie 11.0 for desktop</td>\n",
              "      <td>1600x900</td>\n",
              "      <td>match_status:2</td>\n",
              "      <td>T</td>\n",
              "      <td>F</td>\n",
              "      <td>T</td>\n",
              "      <td>T</td>\n",
              "      <td>desktop</td>\n",
              "      <td>Trident/7.0</td>\n",
              "      <td>15446460.0150.0mastercarddebit224.0</td>\n",
              "      <td>nannan</td>\n",
              "      <td>226.087.0</td>\n",
              "      <td>0.000000</td>\n",
              "      <td>0.0</td>\n",
              "    </tr>\n",
              "    <tr>\n",
              "      <th>3280546</th>\n",
              "      <td>117.0</td>\n",
              "      <td>W</td>\n",
              "      <td>11127</td>\n",
              "      <td>567</td>\n",
              "      <td>150</td>\n",
              "      <td>mastercard</td>\n",
              "      <td>219</td>\n",
              "      <td>debit</td>\n",
              "      <td>204</td>\n",
              "      <td>87</td>\n",
              "      <td>NaN</td>\n",
              "      <td>NaN</td>\n",
              "      <td>aol.com</td>\n",
              "      <td></td>\n",
              "      <td>1.0</td>\n",
              "      <td>3.0</td>\n",
              "      <td>0.0</td>\n",
              "      <td>0.0</td>\n",
              "      <td>0.0</td>\n",
              "      <td>2.0</td>\n",
              "      <td>0.0</td>\n",
              "      <td>0.0</td>\n",
              "      <td>2.0</td>\n",
              "      <td>0.0</td>\n",
              "      <td>2.0</td>\n",
              "      <td>0.0</td>\n",
              "      <td>13.0</td>\n",
              "      <td>1.0</td>\n",
              "      <td>423.0</td>\n",
              "      <td>423.0</td>\n",
              "      <td>0.0</td>\n",
              "      <td>423.0</td>\n",
              "      <td>3.0</td>\n",
              "      <td>NaN</td>\n",
              "      <td>NaN</td>\n",
              "      <td>NaN</td>\n",
              "      <td>17.0</td>\n",
              "      <td>NaN</td>\n",
              "      <td>NaN</td>\n",
              "      <td>NaN</td>\n",
              "      <td>...</td>\n",
              "      <td>117.0</td>\n",
              "      <td>234.0</td>\n",
              "      <td>234.0</td>\n",
              "      <td>0.0</td>\n",
              "      <td>0.0</td>\n",
              "      <td>0.0</td>\n",
              "      <td>NaN</td>\n",
              "      <td>NaN</td>\n",
              "      <td>NaN</td>\n",
              "      <td>NaN</td>\n",
              "      <td>NaN</td>\n",
              "      <td>NaN</td>\n",
              "      <td>NaN</td>\n",
              "      <td>NaN</td>\n",
              "      <td></td>\n",
              "      <td></td>\n",
              "      <td></td>\n",
              "      <td></td>\n",
              "      <td></td>\n",
              "      <td></td>\n",
              "      <td></td>\n",
              "      <td></td>\n",
              "      <td></td>\n",
              "      <td></td>\n",
              "      <td></td>\n",
              "      <td></td>\n",
              "      <td></td>\n",
              "      <td></td>\n",
              "      <td></td>\n",
              "      <td></td>\n",
              "      <td></td>\n",
              "      <td></td>\n",
              "      <td></td>\n",
              "      <td></td>\n",
              "      <td></td>\n",
              "      <td>11127567.0150.0mastercarddebit219.0</td>\n",
              "      <td>nannan</td>\n",
              "      <td>204.087.0</td>\n",
              "      <td>0.875000</td>\n",
              "      <td>21.0</td>\n",
              "    </tr>\n",
              "    <tr>\n",
              "      <th>3442167</th>\n",
              "      <td>117.0</td>\n",
              "      <td>W</td>\n",
              "      <td>7919</td>\n",
              "      <td>194</td>\n",
              "      <td>150</td>\n",
              "      <td>mastercard</td>\n",
              "      <td>166</td>\n",
              "      <td>debit</td>\n",
              "      <td>126</td>\n",
              "      <td>87</td>\n",
              "      <td>NaN</td>\n",
              "      <td>NaN</td>\n",
              "      <td></td>\n",
              "      <td></td>\n",
              "      <td>3.0</td>\n",
              "      <td>1.0</td>\n",
              "      <td>0.0</td>\n",
              "      <td>0.0</td>\n",
              "      <td>0.0</td>\n",
              "      <td>0.0</td>\n",
              "      <td>0.0</td>\n",
              "      <td>0.0</td>\n",
              "      <td>2.0</td>\n",
              "      <td>0.0</td>\n",
              "      <td>2.0</td>\n",
              "      <td>0.0</td>\n",
              "      <td>22.0</td>\n",
              "      <td>2.0</td>\n",
              "      <td>0.0</td>\n",
              "      <td>NaN</td>\n",
              "      <td>NaN</td>\n",
              "      <td>NaN</td>\n",
              "      <td>NaN</td>\n",
              "      <td>NaN</td>\n",
              "      <td>NaN</td>\n",
              "      <td>NaN</td>\n",
              "      <td>482.0</td>\n",
              "      <td>0.0</td>\n",
              "      <td>NaN</td>\n",
              "      <td>NaN</td>\n",
              "      <td>...</td>\n",
              "      <td>0.0</td>\n",
              "      <td>0.0</td>\n",
              "      <td>0.0</td>\n",
              "      <td>0.0</td>\n",
              "      <td>0.0</td>\n",
              "      <td>0.0</td>\n",
              "      <td>NaN</td>\n",
              "      <td>NaN</td>\n",
              "      <td>NaN</td>\n",
              "      <td>NaN</td>\n",
              "      <td>NaN</td>\n",
              "      <td>NaN</td>\n",
              "      <td>NaN</td>\n",
              "      <td>NaN</td>\n",
              "      <td></td>\n",
              "      <td></td>\n",
              "      <td></td>\n",
              "      <td></td>\n",
              "      <td></td>\n",
              "      <td></td>\n",
              "      <td></td>\n",
              "      <td></td>\n",
              "      <td></td>\n",
              "      <td></td>\n",
              "      <td></td>\n",
              "      <td></td>\n",
              "      <td></td>\n",
              "      <td></td>\n",
              "      <td></td>\n",
              "      <td></td>\n",
              "      <td></td>\n",
              "      <td></td>\n",
              "      <td></td>\n",
              "      <td></td>\n",
              "      <td></td>\n",
              "      <td>7919194.0150.0mastercarddebit166.0</td>\n",
              "      <td>nannan</td>\n",
              "      <td>126.087.0</td>\n",
              "      <td>0.750000</td>\n",
              "      <td>18.0</td>\n",
              "    </tr>\n",
              "    <tr>\n",
              "      <th>3479621</th>\n",
              "      <td>49.0</td>\n",
              "      <td>W</td>\n",
              "      <td>2485</td>\n",
              "      <td>555</td>\n",
              "      <td>150</td>\n",
              "      <td>visa</td>\n",
              "      <td>226</td>\n",
              "      <td>debit</td>\n",
              "      <td>251</td>\n",
              "      <td>87</td>\n",
              "      <td>15.0</td>\n",
              "      <td>NaN</td>\n",
              "      <td></td>\n",
              "      <td></td>\n",
              "      <td>2.0</td>\n",
              "      <td>3.0</td>\n",
              "      <td>0.0</td>\n",
              "      <td>0.0</td>\n",
              "      <td>0.0</td>\n",
              "      <td>0.0</td>\n",
              "      <td>0.0</td>\n",
              "      <td>0.0</td>\n",
              "      <td>3.0</td>\n",
              "      <td>0.0</td>\n",
              "      <td>1.0</td>\n",
              "      <td>0.0</td>\n",
              "      <td>19.0</td>\n",
              "      <td>2.0</td>\n",
              "      <td>159.0</td>\n",
              "      <td>159.0</td>\n",
              "      <td>12.0</td>\n",
              "      <td>NaN</td>\n",
              "      <td>NaN</td>\n",
              "      <td>NaN</td>\n",
              "      <td>NaN</td>\n",
              "      <td>NaN</td>\n",
              "      <td>272.0</td>\n",
              "      <td>275.0</td>\n",
              "      <td>NaN</td>\n",
              "      <td>NaN</td>\n",
              "      <td>...</td>\n",
              "      <td>0.0</td>\n",
              "      <td>0.0</td>\n",
              "      <td>0.0</td>\n",
              "      <td>0.0</td>\n",
              "      <td>0.0</td>\n",
              "      <td>0.0</td>\n",
              "      <td>NaN</td>\n",
              "      <td>NaN</td>\n",
              "      <td>NaN</td>\n",
              "      <td>NaN</td>\n",
              "      <td>NaN</td>\n",
              "      <td>NaN</td>\n",
              "      <td>NaN</td>\n",
              "      <td>NaN</td>\n",
              "      <td></td>\n",
              "      <td></td>\n",
              "      <td></td>\n",
              "      <td></td>\n",
              "      <td></td>\n",
              "      <td></td>\n",
              "      <td></td>\n",
              "      <td></td>\n",
              "      <td></td>\n",
              "      <td></td>\n",
              "      <td></td>\n",
              "      <td></td>\n",
              "      <td></td>\n",
              "      <td></td>\n",
              "      <td></td>\n",
              "      <td></td>\n",
              "      <td></td>\n",
              "      <td></td>\n",
              "      <td></td>\n",
              "      <td></td>\n",
              "      <td></td>\n",
              "      <td>2485555.0150.0visadebit226.0</td>\n",
              "      <td>15.0nan</td>\n",
              "      <td>251.087.0</td>\n",
              "      <td>0.791667</td>\n",
              "      <td>19.0</td>\n",
              "    </tr>\n",
              "  </tbody>\n",
              "</table>\n",
              "<p>5 rows × 277 columns</p>\n",
              "</div>\n",
              "      <button class=\"colab-df-convert\" onclick=\"convertToInteractive('df-b2e307b1-6eff-4360-a453-def9f753011a')\"\n",
              "              title=\"Convert this dataframe to an interactive table.\"\n",
              "              style=\"display:none;\">\n",
              "        \n",
              "  <svg xmlns=\"http://www.w3.org/2000/svg\" height=\"24px\"viewBox=\"0 0 24 24\"\n",
              "       width=\"24px\">\n",
              "    <path d=\"M0 0h24v24H0V0z\" fill=\"none\"/>\n",
              "    <path d=\"M18.56 5.44l.94 2.06.94-2.06 2.06-.94-2.06-.94-.94-2.06-.94 2.06-2.06.94zm-11 1L8.5 8.5l.94-2.06 2.06-.94-2.06-.94L8.5 2.5l-.94 2.06-2.06.94zm10 10l.94 2.06.94-2.06 2.06-.94-2.06-.94-.94-2.06-.94 2.06-2.06.94z\"/><path d=\"M17.41 7.96l-1.37-1.37c-.4-.4-.92-.59-1.43-.59-.52 0-1.04.2-1.43.59L10.3 9.45l-7.72 7.72c-.78.78-.78 2.05 0 2.83L4 21.41c.39.39.9.59 1.41.59.51 0 1.02-.2 1.41-.59l7.78-7.78 2.81-2.81c.8-.78.8-2.07 0-2.86zM5.41 20L4 18.59l7.72-7.72 1.47 1.35L5.41 20z\"/>\n",
              "  </svg>\n",
              "      </button>\n",
              "      \n",
              "  <style>\n",
              "    .colab-df-container {\n",
              "      display:flex;\n",
              "      flex-wrap:wrap;\n",
              "      gap: 12px;\n",
              "    }\n",
              "\n",
              "    .colab-df-convert {\n",
              "      background-color: #E8F0FE;\n",
              "      border: none;\n",
              "      border-radius: 50%;\n",
              "      cursor: pointer;\n",
              "      display: none;\n",
              "      fill: #1967D2;\n",
              "      height: 32px;\n",
              "      padding: 0 0 0 0;\n",
              "      width: 32px;\n",
              "    }\n",
              "\n",
              "    .colab-df-convert:hover {\n",
              "      background-color: #E2EBFA;\n",
              "      box-shadow: 0px 1px 2px rgba(60, 64, 67, 0.3), 0px 1px 3px 1px rgba(60, 64, 67, 0.15);\n",
              "      fill: #174EA6;\n",
              "    }\n",
              "\n",
              "    [theme=dark] .colab-df-convert {\n",
              "      background-color: #3B4455;\n",
              "      fill: #D2E3FC;\n",
              "    }\n",
              "\n",
              "    [theme=dark] .colab-df-convert:hover {\n",
              "      background-color: #434B5C;\n",
              "      box-shadow: 0px 1px 3px 1px rgba(0, 0, 0, 0.15);\n",
              "      filter: drop-shadow(0px 1px 2px rgba(0, 0, 0, 0.3));\n",
              "      fill: #FFFFFF;\n",
              "    }\n",
              "  </style>\n",
              "\n",
              "      <script>\n",
              "        const buttonEl =\n",
              "          document.querySelector('#df-b2e307b1-6eff-4360-a453-def9f753011a button.colab-df-convert');\n",
              "        buttonEl.style.display =\n",
              "          google.colab.kernel.accessAllowed ? 'block' : 'none';\n",
              "\n",
              "        async function convertToInteractive(key) {\n",
              "          const element = document.querySelector('#df-b2e307b1-6eff-4360-a453-def9f753011a');\n",
              "          const dataTable =\n",
              "            await google.colab.kernel.invokeFunction('convertToInteractive',\n",
              "                                                     [key], {});\n",
              "          if (!dataTable) return;\n",
              "\n",
              "          const docLinkHtml = 'Like what you see? Visit the ' +\n",
              "            '<a target=\"_blank\" href=https://colab.research.google.com/notebooks/data_table.ipynb>data table notebook</a>'\n",
              "            + ' to learn more about interactive tables.';\n",
              "          element.innerHTML = '';\n",
              "          dataTable['output_type'] = 'display_data';\n",
              "          await google.colab.output.renderOutput(dataTable, element);\n",
              "          const docLink = document.createElement('div');\n",
              "          docLink.innerHTML = docLinkHtml;\n",
              "          element.appendChild(docLink);\n",
              "        }\n",
              "      </script>\n",
              "    </div>\n",
              "  </div>\n",
              "  "
            ],
            "text/plain": [
              "               TransactionAmt ProductCD  card1  ...       addr        Hr   day\n",
              "TransactionID                                   ...                           \n",
              "3126425                  87.0         W  10847  ...  325.087.0  0.916667  22.0\n",
              "3138318                 500.0         R  15446  ...  226.087.0  0.000000   0.0\n",
              "3280546                 117.0         W  11127  ...  204.087.0  0.875000  21.0\n",
              "3442167                 117.0         W   7919  ...  126.087.0  0.750000  18.0\n",
              "3479621                  49.0         W   2485  ...  251.087.0  0.791667  19.0\n",
              "\n",
              "[5 rows x 277 columns]"
            ]
          },
          "metadata": {},
          "execution_count": 4
        }
      ],
      "source": [
        "path_to_data = '/content/drive/MyDrive/Classroom/X_train_06_02_try6_4.csv'\n",
        "X_train = pd.read_csv(path_to_data,  index_col='TransactionID')\n",
        "X_train.head()"
      ]
    },
    {
      "cell_type": "code",
      "source": [
        "%time\n",
        "path_to_data = '/content/drive/MyDrive/Classroom/X_validate_06_02_try6_4.csv'\n",
        "X_validate = pd.read_csv(path_to_data,  index_col='TransactionID')\n",
        "X_validate.head()"
      ],
      "metadata": {
        "colab": {
          "base_uri": "https://localhost:8080/",
          "height": 404
        },
        "id": "qXGopDRc-6od",
        "outputId": "659731ac-e028-4b5f-a486-ea4487823b41"
      },
      "execution_count": null,
      "outputs": [
        {
          "output_type": "stream",
          "name": "stdout",
          "text": [
            "CPU times: user 3 µs, sys: 0 ns, total: 3 µs\n",
            "Wall time: 8.34 µs\n"
          ]
        },
        {
          "output_type": "stream",
          "name": "stderr",
          "text": [
            "/usr/local/lib/python3.7/dist-packages/IPython/core/interactiveshell.py:2882: DtypeWarning: Columns (5,7) have mixed types.Specify dtype option on import or set low_memory=False.\n",
            "  exec(code_obj, self.user_global_ns, self.user_ns)\n"
          ]
        },
        {
          "output_type": "execute_result",
          "data": {
            "text/html": [
              "\n",
              "  <div id=\"df-455f835e-8309-404f-9c40-80073faf90af\">\n",
              "    <div class=\"colab-df-container\">\n",
              "      <div>\n",
              "<style scoped>\n",
              "    .dataframe tbody tr th:only-of-type {\n",
              "        vertical-align: middle;\n",
              "    }\n",
              "\n",
              "    .dataframe tbody tr th {\n",
              "        vertical-align: top;\n",
              "    }\n",
              "\n",
              "    .dataframe thead th {\n",
              "        text-align: right;\n",
              "    }\n",
              "</style>\n",
              "<table border=\"1\" class=\"dataframe\">\n",
              "  <thead>\n",
              "    <tr style=\"text-align: right;\">\n",
              "      <th></th>\n",
              "      <th>TransactionAmt</th>\n",
              "      <th>ProductCD</th>\n",
              "      <th>card1</th>\n",
              "      <th>card2</th>\n",
              "      <th>card3</th>\n",
              "      <th>card4</th>\n",
              "      <th>card5</th>\n",
              "      <th>card6</th>\n",
              "      <th>addr1</th>\n",
              "      <th>addr2</th>\n",
              "      <th>dist1</th>\n",
              "      <th>dist2</th>\n",
              "      <th>P_emaildomain</th>\n",
              "      <th>R_emaildomain</th>\n",
              "      <th>C1</th>\n",
              "      <th>C2</th>\n",
              "      <th>C3</th>\n",
              "      <th>C4</th>\n",
              "      <th>C5</th>\n",
              "      <th>C6</th>\n",
              "      <th>C7</th>\n",
              "      <th>C8</th>\n",
              "      <th>C9</th>\n",
              "      <th>C10</th>\n",
              "      <th>C11</th>\n",
              "      <th>C12</th>\n",
              "      <th>C13</th>\n",
              "      <th>C14</th>\n",
              "      <th>D1</th>\n",
              "      <th>D2</th>\n",
              "      <th>D3</th>\n",
              "      <th>D4</th>\n",
              "      <th>D5</th>\n",
              "      <th>D6</th>\n",
              "      <th>D7</th>\n",
              "      <th>D8</th>\n",
              "      <th>D10</th>\n",
              "      <th>D11</th>\n",
              "      <th>D12</th>\n",
              "      <th>D13</th>\n",
              "      <th>...</th>\n",
              "      <th>V316</th>\n",
              "      <th>V317</th>\n",
              "      <th>V318</th>\n",
              "      <th>V319</th>\n",
              "      <th>V320</th>\n",
              "      <th>V321</th>\n",
              "      <th>V322</th>\n",
              "      <th>V326</th>\n",
              "      <th>V332</th>\n",
              "      <th>V333</th>\n",
              "      <th>V334</th>\n",
              "      <th>V335</th>\n",
              "      <th>V337</th>\n",
              "      <th>V339</th>\n",
              "      <th>id_12</th>\n",
              "      <th>id_13</th>\n",
              "      <th>id_14</th>\n",
              "      <th>id_15</th>\n",
              "      <th>id_16</th>\n",
              "      <th>id_17</th>\n",
              "      <th>id_18</th>\n",
              "      <th>id_19</th>\n",
              "      <th>id_20</th>\n",
              "      <th>id_28</th>\n",
              "      <th>id_29</th>\n",
              "      <th>id_30</th>\n",
              "      <th>id_31</th>\n",
              "      <th>id_33</th>\n",
              "      <th>id_34</th>\n",
              "      <th>id_35</th>\n",
              "      <th>id_36</th>\n",
              "      <th>id_37</th>\n",
              "      <th>id_38</th>\n",
              "      <th>DeviceType</th>\n",
              "      <th>DeviceInfo</th>\n",
              "      <th>card_card</th>\n",
              "      <th>dist</th>\n",
              "      <th>addr</th>\n",
              "      <th>Hr</th>\n",
              "      <th>day</th>\n",
              "    </tr>\n",
              "    <tr>\n",
              "      <th>TransactionID</th>\n",
              "      <th></th>\n",
              "      <th></th>\n",
              "      <th></th>\n",
              "      <th></th>\n",
              "      <th></th>\n",
              "      <th></th>\n",
              "      <th></th>\n",
              "      <th></th>\n",
              "      <th></th>\n",
              "      <th></th>\n",
              "      <th></th>\n",
              "      <th></th>\n",
              "      <th></th>\n",
              "      <th></th>\n",
              "      <th></th>\n",
              "      <th></th>\n",
              "      <th></th>\n",
              "      <th></th>\n",
              "      <th></th>\n",
              "      <th></th>\n",
              "      <th></th>\n",
              "      <th></th>\n",
              "      <th></th>\n",
              "      <th></th>\n",
              "      <th></th>\n",
              "      <th></th>\n",
              "      <th></th>\n",
              "      <th></th>\n",
              "      <th></th>\n",
              "      <th></th>\n",
              "      <th></th>\n",
              "      <th></th>\n",
              "      <th></th>\n",
              "      <th></th>\n",
              "      <th></th>\n",
              "      <th></th>\n",
              "      <th></th>\n",
              "      <th></th>\n",
              "      <th></th>\n",
              "      <th></th>\n",
              "      <th></th>\n",
              "      <th></th>\n",
              "      <th></th>\n",
              "      <th></th>\n",
              "      <th></th>\n",
              "      <th></th>\n",
              "      <th></th>\n",
              "      <th></th>\n",
              "      <th></th>\n",
              "      <th></th>\n",
              "      <th></th>\n",
              "      <th></th>\n",
              "      <th></th>\n",
              "      <th></th>\n",
              "      <th></th>\n",
              "      <th></th>\n",
              "      <th></th>\n",
              "      <th></th>\n",
              "      <th></th>\n",
              "      <th></th>\n",
              "      <th></th>\n",
              "      <th></th>\n",
              "      <th></th>\n",
              "      <th></th>\n",
              "      <th></th>\n",
              "      <th></th>\n",
              "      <th></th>\n",
              "      <th></th>\n",
              "      <th></th>\n",
              "      <th></th>\n",
              "      <th></th>\n",
              "      <th></th>\n",
              "      <th></th>\n",
              "      <th></th>\n",
              "      <th></th>\n",
              "      <th></th>\n",
              "      <th></th>\n",
              "      <th></th>\n",
              "      <th></th>\n",
              "      <th></th>\n",
              "      <th></th>\n",
              "    </tr>\n",
              "  </thead>\n",
              "  <tbody>\n",
              "    <tr>\n",
              "      <th>3457624</th>\n",
              "      <td>724.000</td>\n",
              "      <td>W</td>\n",
              "      <td>7826</td>\n",
              "      <td>481</td>\n",
              "      <td>150</td>\n",
              "      <td>mastercard</td>\n",
              "      <td>224</td>\n",
              "      <td>debit</td>\n",
              "      <td>387</td>\n",
              "      <td>87</td>\n",
              "      <td>NaN</td>\n",
              "      <td>NaN</td>\n",
              "      <td>aol.com</td>\n",
              "      <td></td>\n",
              "      <td>3.0</td>\n",
              "      <td>1.0</td>\n",
              "      <td>0.0</td>\n",
              "      <td>0.0</td>\n",
              "      <td>0.0</td>\n",
              "      <td>1.0</td>\n",
              "      <td>0.0</td>\n",
              "      <td>0.0</td>\n",
              "      <td>2.0</td>\n",
              "      <td>0.0</td>\n",
              "      <td>1.0</td>\n",
              "      <td>0.0</td>\n",
              "      <td>2.0</td>\n",
              "      <td>2.0</td>\n",
              "      <td>0.0</td>\n",
              "      <td>NaN</td>\n",
              "      <td>NaN</td>\n",
              "      <td>145.0</td>\n",
              "      <td>0.0</td>\n",
              "      <td>NaN</td>\n",
              "      <td>NaN</td>\n",
              "      <td>NaN</td>\n",
              "      <td>145.0</td>\n",
              "      <td>0.0</td>\n",
              "      <td>NaN</td>\n",
              "      <td>NaN</td>\n",
              "      <td>...</td>\n",
              "      <td>0.0000</td>\n",
              "      <td>0.0000</td>\n",
              "      <td>0.0000</td>\n",
              "      <td>0.0</td>\n",
              "      <td>0.0</td>\n",
              "      <td>0.0</td>\n",
              "      <td>NaN</td>\n",
              "      <td>NaN</td>\n",
              "      <td>NaN</td>\n",
              "      <td>NaN</td>\n",
              "      <td>NaN</td>\n",
              "      <td>NaN</td>\n",
              "      <td>NaN</td>\n",
              "      <td>NaN</td>\n",
              "      <td></td>\n",
              "      <td></td>\n",
              "      <td></td>\n",
              "      <td></td>\n",
              "      <td></td>\n",
              "      <td></td>\n",
              "      <td></td>\n",
              "      <td></td>\n",
              "      <td></td>\n",
              "      <td></td>\n",
              "      <td></td>\n",
              "      <td></td>\n",
              "      <td></td>\n",
              "      <td></td>\n",
              "      <td></td>\n",
              "      <td></td>\n",
              "      <td></td>\n",
              "      <td></td>\n",
              "      <td></td>\n",
              "      <td></td>\n",
              "      <td></td>\n",
              "      <td>7826481.0150.0mastercarddebit224.0</td>\n",
              "      <td>nannan</td>\n",
              "      <td>387.087.0</td>\n",
              "      <td>0.625000</td>\n",
              "      <td>15.0</td>\n",
              "    </tr>\n",
              "    <tr>\n",
              "      <th>3552820</th>\n",
              "      <td>108.500</td>\n",
              "      <td>W</td>\n",
              "      <td>12544</td>\n",
              "      <td>321</td>\n",
              "      <td>150</td>\n",
              "      <td>visa</td>\n",
              "      <td>226</td>\n",
              "      <td>debit</td>\n",
              "      <td>476</td>\n",
              "      <td>87</td>\n",
              "      <td>0.0</td>\n",
              "      <td>NaN</td>\n",
              "      <td>yahoo.com</td>\n",
              "      <td></td>\n",
              "      <td>2.0</td>\n",
              "      <td>1.0</td>\n",
              "      <td>0.0</td>\n",
              "      <td>0.0</td>\n",
              "      <td>0.0</td>\n",
              "      <td>1.0</td>\n",
              "      <td>0.0</td>\n",
              "      <td>0.0</td>\n",
              "      <td>1.0</td>\n",
              "      <td>0.0</td>\n",
              "      <td>1.0</td>\n",
              "      <td>1.0</td>\n",
              "      <td>7.0</td>\n",
              "      <td>2.0</td>\n",
              "      <td>122.0</td>\n",
              "      <td>122.0</td>\n",
              "      <td>5.0</td>\n",
              "      <td>347.0</td>\n",
              "      <td>5.0</td>\n",
              "      <td>NaN</td>\n",
              "      <td>NaN</td>\n",
              "      <td>NaN</td>\n",
              "      <td>347.0</td>\n",
              "      <td>122.0</td>\n",
              "      <td>NaN</td>\n",
              "      <td>NaN</td>\n",
              "      <td>...</td>\n",
              "      <td>0.0000</td>\n",
              "      <td>0.0000</td>\n",
              "      <td>0.0000</td>\n",
              "      <td>0.0</td>\n",
              "      <td>0.0</td>\n",
              "      <td>0.0</td>\n",
              "      <td>NaN</td>\n",
              "      <td>NaN</td>\n",
              "      <td>NaN</td>\n",
              "      <td>NaN</td>\n",
              "      <td>NaN</td>\n",
              "      <td>NaN</td>\n",
              "      <td>NaN</td>\n",
              "      <td>NaN</td>\n",
              "      <td></td>\n",
              "      <td></td>\n",
              "      <td></td>\n",
              "      <td></td>\n",
              "      <td></td>\n",
              "      <td></td>\n",
              "      <td></td>\n",
              "      <td></td>\n",
              "      <td></td>\n",
              "      <td></td>\n",
              "      <td></td>\n",
              "      <td></td>\n",
              "      <td></td>\n",
              "      <td></td>\n",
              "      <td></td>\n",
              "      <td></td>\n",
              "      <td></td>\n",
              "      <td></td>\n",
              "      <td></td>\n",
              "      <td></td>\n",
              "      <td></td>\n",
              "      <td>12544321.0150.0visadebit226.0</td>\n",
              "      <td>0.0nan</td>\n",
              "      <td>476.087.0</td>\n",
              "      <td>0.666667</td>\n",
              "      <td>16.0</td>\n",
              "    </tr>\n",
              "    <tr>\n",
              "      <th>3271083</th>\n",
              "      <td>47.950</td>\n",
              "      <td>W</td>\n",
              "      <td>9400</td>\n",
              "      <td>111</td>\n",
              "      <td>150</td>\n",
              "      <td>mastercard</td>\n",
              "      <td>224</td>\n",
              "      <td>debit</td>\n",
              "      <td>315</td>\n",
              "      <td>87</td>\n",
              "      <td>6.0</td>\n",
              "      <td>NaN</td>\n",
              "      <td>gmail.com</td>\n",
              "      <td></td>\n",
              "      <td>1.0</td>\n",
              "      <td>1.0</td>\n",
              "      <td>0.0</td>\n",
              "      <td>0.0</td>\n",
              "      <td>2.0</td>\n",
              "      <td>1.0</td>\n",
              "      <td>0.0</td>\n",
              "      <td>0.0</td>\n",
              "      <td>1.0</td>\n",
              "      <td>0.0</td>\n",
              "      <td>1.0</td>\n",
              "      <td>0.0</td>\n",
              "      <td>3.0</td>\n",
              "      <td>1.0</td>\n",
              "      <td>32.0</td>\n",
              "      <td>32.0</td>\n",
              "      <td>22.0</td>\n",
              "      <td>22.0</td>\n",
              "      <td>22.0</td>\n",
              "      <td>NaN</td>\n",
              "      <td>NaN</td>\n",
              "      <td>NaN</td>\n",
              "      <td>33.0</td>\n",
              "      <td>33.0</td>\n",
              "      <td>NaN</td>\n",
              "      <td>NaN</td>\n",
              "      <td>...</td>\n",
              "      <td>0.0000</td>\n",
              "      <td>0.0000</td>\n",
              "      <td>0.0000</td>\n",
              "      <td>0.0</td>\n",
              "      <td>0.0</td>\n",
              "      <td>0.0</td>\n",
              "      <td>NaN</td>\n",
              "      <td>NaN</td>\n",
              "      <td>NaN</td>\n",
              "      <td>NaN</td>\n",
              "      <td>NaN</td>\n",
              "      <td>NaN</td>\n",
              "      <td>NaN</td>\n",
              "      <td>NaN</td>\n",
              "      <td></td>\n",
              "      <td></td>\n",
              "      <td></td>\n",
              "      <td></td>\n",
              "      <td></td>\n",
              "      <td></td>\n",
              "      <td></td>\n",
              "      <td></td>\n",
              "      <td></td>\n",
              "      <td></td>\n",
              "      <td></td>\n",
              "      <td></td>\n",
              "      <td></td>\n",
              "      <td></td>\n",
              "      <td></td>\n",
              "      <td></td>\n",
              "      <td></td>\n",
              "      <td></td>\n",
              "      <td></td>\n",
              "      <td></td>\n",
              "      <td></td>\n",
              "      <td>9400111.0150.0mastercarddebit224.0</td>\n",
              "      <td>6.0nan</td>\n",
              "      <td>315.087.0</td>\n",
              "      <td>0.666667</td>\n",
              "      <td>16.0</td>\n",
              "    </tr>\n",
              "    <tr>\n",
              "      <th>3226689</th>\n",
              "      <td>100.599</td>\n",
              "      <td>C</td>\n",
              "      <td>15885</td>\n",
              "      <td>545</td>\n",
              "      <td>185</td>\n",
              "      <td>visa</td>\n",
              "      <td>138</td>\n",
              "      <td>debit</td>\n",
              "      <td></td>\n",
              "      <td></td>\n",
              "      <td>NaN</td>\n",
              "      <td>NaN</td>\n",
              "      <td>gmail.com</td>\n",
              "      <td>gmail.com</td>\n",
              "      <td>2.0</td>\n",
              "      <td>3.0</td>\n",
              "      <td>0.0</td>\n",
              "      <td>1.0</td>\n",
              "      <td>0.0</td>\n",
              "      <td>1.0</td>\n",
              "      <td>1.0</td>\n",
              "      <td>0.0</td>\n",
              "      <td>0.0</td>\n",
              "      <td>0.0</td>\n",
              "      <td>1.0</td>\n",
              "      <td>1.0</td>\n",
              "      <td>0.0</td>\n",
              "      <td>0.0</td>\n",
              "      <td>0.0</td>\n",
              "      <td>NaN</td>\n",
              "      <td>0.0</td>\n",
              "      <td>0.0</td>\n",
              "      <td>0.0</td>\n",
              "      <td>0.0</td>\n",
              "      <td>0.0</td>\n",
              "      <td>NaN</td>\n",
              "      <td>0.0</td>\n",
              "      <td>NaN</td>\n",
              "      <td>0.0</td>\n",
              "      <td>NaN</td>\n",
              "      <td>...</td>\n",
              "      <td>100.5993</td>\n",
              "      <td>100.5993</td>\n",
              "      <td>100.5993</td>\n",
              "      <td>0.0</td>\n",
              "      <td>0.0</td>\n",
              "      <td>0.0</td>\n",
              "      <td>NaN</td>\n",
              "      <td>NaN</td>\n",
              "      <td>NaN</td>\n",
              "      <td>NaN</td>\n",
              "      <td>NaN</td>\n",
              "      <td>NaN</td>\n",
              "      <td>NaN</td>\n",
              "      <td>NaN</td>\n",
              "      <td></td>\n",
              "      <td></td>\n",
              "      <td></td>\n",
              "      <td></td>\n",
              "      <td></td>\n",
              "      <td></td>\n",
              "      <td></td>\n",
              "      <td></td>\n",
              "      <td></td>\n",
              "      <td></td>\n",
              "      <td></td>\n",
              "      <td></td>\n",
              "      <td></td>\n",
              "      <td></td>\n",
              "      <td></td>\n",
              "      <td></td>\n",
              "      <td></td>\n",
              "      <td></td>\n",
              "      <td></td>\n",
              "      <td></td>\n",
              "      <td></td>\n",
              "      <td>15885545.0185.0visadebit138.0</td>\n",
              "      <td>nannan</td>\n",
              "      <td>nannan</td>\n",
              "      <td>0.666667</td>\n",
              "      <td>16.0</td>\n",
              "    </tr>\n",
              "    <tr>\n",
              "      <th>3268855</th>\n",
              "      <td>107.950</td>\n",
              "      <td>W</td>\n",
              "      <td>15497</td>\n",
              "      <td>490</td>\n",
              "      <td>150</td>\n",
              "      <td>visa</td>\n",
              "      <td>226</td>\n",
              "      <td>debit</td>\n",
              "      <td>299</td>\n",
              "      <td>87</td>\n",
              "      <td>NaN</td>\n",
              "      <td>NaN</td>\n",
              "      <td>hotmail.com</td>\n",
              "      <td></td>\n",
              "      <td>10.0</td>\n",
              "      <td>14.0</td>\n",
              "      <td>0.0</td>\n",
              "      <td>0.0</td>\n",
              "      <td>11.0</td>\n",
              "      <td>8.0</td>\n",
              "      <td>0.0</td>\n",
              "      <td>0.0</td>\n",
              "      <td>6.0</td>\n",
              "      <td>0.0</td>\n",
              "      <td>10.0</td>\n",
              "      <td>0.0</td>\n",
              "      <td>43.0</td>\n",
              "      <td>9.0</td>\n",
              "      <td>549.0</td>\n",
              "      <td>549.0</td>\n",
              "      <td>16.0</td>\n",
              "      <td>549.0</td>\n",
              "      <td>16.0</td>\n",
              "      <td>NaN</td>\n",
              "      <td>NaN</td>\n",
              "      <td>NaN</td>\n",
              "      <td>446.0</td>\n",
              "      <td>NaN</td>\n",
              "      <td>NaN</td>\n",
              "      <td>NaN</td>\n",
              "      <td>...</td>\n",
              "      <td>0.0000</td>\n",
              "      <td>0.0000</td>\n",
              "      <td>0.0000</td>\n",
              "      <td>0.0</td>\n",
              "      <td>0.0</td>\n",
              "      <td>0.0</td>\n",
              "      <td>NaN</td>\n",
              "      <td>NaN</td>\n",
              "      <td>NaN</td>\n",
              "      <td>NaN</td>\n",
              "      <td>NaN</td>\n",
              "      <td>NaN</td>\n",
              "      <td>NaN</td>\n",
              "      <td>NaN</td>\n",
              "      <td></td>\n",
              "      <td></td>\n",
              "      <td></td>\n",
              "      <td></td>\n",
              "      <td></td>\n",
              "      <td></td>\n",
              "      <td></td>\n",
              "      <td></td>\n",
              "      <td></td>\n",
              "      <td></td>\n",
              "      <td></td>\n",
              "      <td></td>\n",
              "      <td></td>\n",
              "      <td></td>\n",
              "      <td></td>\n",
              "      <td></td>\n",
              "      <td></td>\n",
              "      <td></td>\n",
              "      <td></td>\n",
              "      <td></td>\n",
              "      <td></td>\n",
              "      <td>15497490.0150.0visadebit226.0</td>\n",
              "      <td>nannan</td>\n",
              "      <td>299.087.0</td>\n",
              "      <td>0.666667</td>\n",
              "      <td>16.0</td>\n",
              "    </tr>\n",
              "  </tbody>\n",
              "</table>\n",
              "<p>5 rows × 277 columns</p>\n",
              "</div>\n",
              "      <button class=\"colab-df-convert\" onclick=\"convertToInteractive('df-455f835e-8309-404f-9c40-80073faf90af')\"\n",
              "              title=\"Convert this dataframe to an interactive table.\"\n",
              "              style=\"display:none;\">\n",
              "        \n",
              "  <svg xmlns=\"http://www.w3.org/2000/svg\" height=\"24px\"viewBox=\"0 0 24 24\"\n",
              "       width=\"24px\">\n",
              "    <path d=\"M0 0h24v24H0V0z\" fill=\"none\"/>\n",
              "    <path d=\"M18.56 5.44l.94 2.06.94-2.06 2.06-.94-2.06-.94-.94-2.06-.94 2.06-2.06.94zm-11 1L8.5 8.5l.94-2.06 2.06-.94-2.06-.94L8.5 2.5l-.94 2.06-2.06.94zm10 10l.94 2.06.94-2.06 2.06-.94-2.06-.94-.94-2.06-.94 2.06-2.06.94z\"/><path d=\"M17.41 7.96l-1.37-1.37c-.4-.4-.92-.59-1.43-.59-.52 0-1.04.2-1.43.59L10.3 9.45l-7.72 7.72c-.78.78-.78 2.05 0 2.83L4 21.41c.39.39.9.59 1.41.59.51 0 1.02-.2 1.41-.59l7.78-7.78 2.81-2.81c.8-.78.8-2.07 0-2.86zM5.41 20L4 18.59l7.72-7.72 1.47 1.35L5.41 20z\"/>\n",
              "  </svg>\n",
              "      </button>\n",
              "      \n",
              "  <style>\n",
              "    .colab-df-container {\n",
              "      display:flex;\n",
              "      flex-wrap:wrap;\n",
              "      gap: 12px;\n",
              "    }\n",
              "\n",
              "    .colab-df-convert {\n",
              "      background-color: #E8F0FE;\n",
              "      border: none;\n",
              "      border-radius: 50%;\n",
              "      cursor: pointer;\n",
              "      display: none;\n",
              "      fill: #1967D2;\n",
              "      height: 32px;\n",
              "      padding: 0 0 0 0;\n",
              "      width: 32px;\n",
              "    }\n",
              "\n",
              "    .colab-df-convert:hover {\n",
              "      background-color: #E2EBFA;\n",
              "      box-shadow: 0px 1px 2px rgba(60, 64, 67, 0.3), 0px 1px 3px 1px rgba(60, 64, 67, 0.15);\n",
              "      fill: #174EA6;\n",
              "    }\n",
              "\n",
              "    [theme=dark] .colab-df-convert {\n",
              "      background-color: #3B4455;\n",
              "      fill: #D2E3FC;\n",
              "    }\n",
              "\n",
              "    [theme=dark] .colab-df-convert:hover {\n",
              "      background-color: #434B5C;\n",
              "      box-shadow: 0px 1px 3px 1px rgba(0, 0, 0, 0.15);\n",
              "      filter: drop-shadow(0px 1px 2px rgba(0, 0, 0, 0.3));\n",
              "      fill: #FFFFFF;\n",
              "    }\n",
              "  </style>\n",
              "\n",
              "      <script>\n",
              "        const buttonEl =\n",
              "          document.querySelector('#df-455f835e-8309-404f-9c40-80073faf90af button.colab-df-convert');\n",
              "        buttonEl.style.display =\n",
              "          google.colab.kernel.accessAllowed ? 'block' : 'none';\n",
              "\n",
              "        async function convertToInteractive(key) {\n",
              "          const element = document.querySelector('#df-455f835e-8309-404f-9c40-80073faf90af');\n",
              "          const dataTable =\n",
              "            await google.colab.kernel.invokeFunction('convertToInteractive',\n",
              "                                                     [key], {});\n",
              "          if (!dataTable) return;\n",
              "\n",
              "          const docLinkHtml = 'Like what you see? Visit the ' +\n",
              "            '<a target=\"_blank\" href=https://colab.research.google.com/notebooks/data_table.ipynb>data table notebook</a>'\n",
              "            + ' to learn more about interactive tables.';\n",
              "          element.innerHTML = '';\n",
              "          dataTable['output_type'] = 'display_data';\n",
              "          await google.colab.output.renderOutput(dataTable, element);\n",
              "          const docLink = document.createElement('div');\n",
              "          docLink.innerHTML = docLinkHtml;\n",
              "          element.appendChild(docLink);\n",
              "        }\n",
              "      </script>\n",
              "    </div>\n",
              "  </div>\n",
              "  "
            ],
            "text/plain": [
              "               TransactionAmt ProductCD  card1  ...       addr        Hr   day\n",
              "TransactionID                                   ...                           \n",
              "3457624               724.000         W   7826  ...  387.087.0  0.625000  15.0\n",
              "3552820               108.500         W  12544  ...  476.087.0  0.666667  16.0\n",
              "3271083                47.950         W   9400  ...  315.087.0  0.666667  16.0\n",
              "3226689               100.599         C  15885  ...     nannan  0.666667  16.0\n",
              "3268855               107.950         W  15497  ...  299.087.0  0.666667  16.0\n",
              "\n",
              "[5 rows x 277 columns]"
            ]
          },
          "metadata": {},
          "execution_count": 5
        }
      ]
    },
    {
      "cell_type": "code",
      "source": [
        "%time\n",
        "path_to_data = '/content/drive/MyDrive/Classroom/X_test_06_02_try6_4.csv'\n",
        "X_test = pd.read_csv(path_to_data,  index_col='TransactionID')\n",
        "X_test.head()"
      ],
      "metadata": {
        "colab": {
          "base_uri": "https://localhost:8080/",
          "height": 404
        },
        "id": "tUJt8gvT_bOX",
        "outputId": "38afc627-bf54-4b9c-d40d-b1b419ee1345"
      },
      "execution_count": null,
      "outputs": [
        {
          "output_type": "stream",
          "name": "stdout",
          "text": [
            "CPU times: user 4 µs, sys: 0 ns, total: 4 µs\n",
            "Wall time: 9.54 µs\n"
          ]
        },
        {
          "output_type": "stream",
          "name": "stderr",
          "text": [
            "/usr/local/lib/python3.7/dist-packages/IPython/core/interactiveshell.py:2882: DtypeWarning: Columns (5,7) have mixed types.Specify dtype option on import or set low_memory=False.\n",
            "  exec(code_obj, self.user_global_ns, self.user_ns)\n"
          ]
        },
        {
          "output_type": "execute_result",
          "data": {
            "text/html": [
              "\n",
              "  <div id=\"df-577f785c-6d09-4c78-9516-a1bddc8ee181\">\n",
              "    <div class=\"colab-df-container\">\n",
              "      <div>\n",
              "<style scoped>\n",
              "    .dataframe tbody tr th:only-of-type {\n",
              "        vertical-align: middle;\n",
              "    }\n",
              "\n",
              "    .dataframe tbody tr th {\n",
              "        vertical-align: top;\n",
              "    }\n",
              "\n",
              "    .dataframe thead th {\n",
              "        text-align: right;\n",
              "    }\n",
              "</style>\n",
              "<table border=\"1\" class=\"dataframe\">\n",
              "  <thead>\n",
              "    <tr style=\"text-align: right;\">\n",
              "      <th></th>\n",
              "      <th>TransactionAmt</th>\n",
              "      <th>ProductCD</th>\n",
              "      <th>card1</th>\n",
              "      <th>card2</th>\n",
              "      <th>card3</th>\n",
              "      <th>card4</th>\n",
              "      <th>card5</th>\n",
              "      <th>card6</th>\n",
              "      <th>addr1</th>\n",
              "      <th>addr2</th>\n",
              "      <th>dist1</th>\n",
              "      <th>dist2</th>\n",
              "      <th>P_emaildomain</th>\n",
              "      <th>R_emaildomain</th>\n",
              "      <th>C1</th>\n",
              "      <th>C2</th>\n",
              "      <th>C3</th>\n",
              "      <th>C4</th>\n",
              "      <th>C5</th>\n",
              "      <th>C6</th>\n",
              "      <th>C7</th>\n",
              "      <th>C8</th>\n",
              "      <th>C9</th>\n",
              "      <th>C10</th>\n",
              "      <th>C11</th>\n",
              "      <th>C12</th>\n",
              "      <th>C13</th>\n",
              "      <th>C14</th>\n",
              "      <th>D1</th>\n",
              "      <th>D2</th>\n",
              "      <th>D3</th>\n",
              "      <th>D4</th>\n",
              "      <th>D5</th>\n",
              "      <th>D6</th>\n",
              "      <th>D7</th>\n",
              "      <th>D8</th>\n",
              "      <th>D10</th>\n",
              "      <th>D11</th>\n",
              "      <th>D12</th>\n",
              "      <th>D13</th>\n",
              "      <th>...</th>\n",
              "      <th>V316</th>\n",
              "      <th>V317</th>\n",
              "      <th>V318</th>\n",
              "      <th>V319</th>\n",
              "      <th>V320</th>\n",
              "      <th>V321</th>\n",
              "      <th>V322</th>\n",
              "      <th>V326</th>\n",
              "      <th>V332</th>\n",
              "      <th>V333</th>\n",
              "      <th>V334</th>\n",
              "      <th>V335</th>\n",
              "      <th>V337</th>\n",
              "      <th>V339</th>\n",
              "      <th>id_12</th>\n",
              "      <th>id_13</th>\n",
              "      <th>id_14</th>\n",
              "      <th>id_15</th>\n",
              "      <th>id_16</th>\n",
              "      <th>id_17</th>\n",
              "      <th>id_18</th>\n",
              "      <th>id_19</th>\n",
              "      <th>id_20</th>\n",
              "      <th>id_28</th>\n",
              "      <th>id_29</th>\n",
              "      <th>id_30</th>\n",
              "      <th>id_31</th>\n",
              "      <th>id_33</th>\n",
              "      <th>id_34</th>\n",
              "      <th>id_35</th>\n",
              "      <th>id_36</th>\n",
              "      <th>id_37</th>\n",
              "      <th>id_38</th>\n",
              "      <th>DeviceType</th>\n",
              "      <th>DeviceInfo</th>\n",
              "      <th>card_card</th>\n",
              "      <th>dist</th>\n",
              "      <th>addr</th>\n",
              "      <th>Hr</th>\n",
              "      <th>day</th>\n",
              "    </tr>\n",
              "    <tr>\n",
              "      <th>TransactionID</th>\n",
              "      <th></th>\n",
              "      <th></th>\n",
              "      <th></th>\n",
              "      <th></th>\n",
              "      <th></th>\n",
              "      <th></th>\n",
              "      <th></th>\n",
              "      <th></th>\n",
              "      <th></th>\n",
              "      <th></th>\n",
              "      <th></th>\n",
              "      <th></th>\n",
              "      <th></th>\n",
              "      <th></th>\n",
              "      <th></th>\n",
              "      <th></th>\n",
              "      <th></th>\n",
              "      <th></th>\n",
              "      <th></th>\n",
              "      <th></th>\n",
              "      <th></th>\n",
              "      <th></th>\n",
              "      <th></th>\n",
              "      <th></th>\n",
              "      <th></th>\n",
              "      <th></th>\n",
              "      <th></th>\n",
              "      <th></th>\n",
              "      <th></th>\n",
              "      <th></th>\n",
              "      <th></th>\n",
              "      <th></th>\n",
              "      <th></th>\n",
              "      <th></th>\n",
              "      <th></th>\n",
              "      <th></th>\n",
              "      <th></th>\n",
              "      <th></th>\n",
              "      <th></th>\n",
              "      <th></th>\n",
              "      <th></th>\n",
              "      <th></th>\n",
              "      <th></th>\n",
              "      <th></th>\n",
              "      <th></th>\n",
              "      <th></th>\n",
              "      <th></th>\n",
              "      <th></th>\n",
              "      <th></th>\n",
              "      <th></th>\n",
              "      <th></th>\n",
              "      <th></th>\n",
              "      <th></th>\n",
              "      <th></th>\n",
              "      <th></th>\n",
              "      <th></th>\n",
              "      <th></th>\n",
              "      <th></th>\n",
              "      <th></th>\n",
              "      <th></th>\n",
              "      <th></th>\n",
              "      <th></th>\n",
              "      <th></th>\n",
              "      <th></th>\n",
              "      <th></th>\n",
              "      <th></th>\n",
              "      <th></th>\n",
              "      <th></th>\n",
              "      <th></th>\n",
              "      <th></th>\n",
              "      <th></th>\n",
              "      <th></th>\n",
              "      <th></th>\n",
              "      <th></th>\n",
              "      <th></th>\n",
              "      <th></th>\n",
              "      <th></th>\n",
              "      <th></th>\n",
              "      <th></th>\n",
              "      <th></th>\n",
              "      <th></th>\n",
              "    </tr>\n",
              "  </thead>\n",
              "  <tbody>\n",
              "    <tr>\n",
              "      <th>3663549</th>\n",
              "      <td>31.95</td>\n",
              "      <td>W</td>\n",
              "      <td>10409</td>\n",
              "      <td>111</td>\n",
              "      <td>150</td>\n",
              "      <td>visa</td>\n",
              "      <td>226</td>\n",
              "      <td>debit</td>\n",
              "      <td>170</td>\n",
              "      <td>87</td>\n",
              "      <td>1.0</td>\n",
              "      <td>NaN</td>\n",
              "      <td>gmail.com</td>\n",
              "      <td></td>\n",
              "      <td>6.0</td>\n",
              "      <td>6.0</td>\n",
              "      <td>0.0</td>\n",
              "      <td>0.0</td>\n",
              "      <td>3.0</td>\n",
              "      <td>4.0</td>\n",
              "      <td>0.0</td>\n",
              "      <td>0.0</td>\n",
              "      <td>6.0</td>\n",
              "      <td>0.0</td>\n",
              "      <td>5.0</td>\n",
              "      <td>1.0</td>\n",
              "      <td>115.0</td>\n",
              "      <td>6.0</td>\n",
              "      <td>419.0</td>\n",
              "      <td>419.0</td>\n",
              "      <td>27.0</td>\n",
              "      <td>398.0</td>\n",
              "      <td>27.0</td>\n",
              "      <td>NaN</td>\n",
              "      <td>NaN</td>\n",
              "      <td>NaN</td>\n",
              "      <td>418.0</td>\n",
              "      <td>203.0</td>\n",
              "      <td>NaN</td>\n",
              "      <td>NaN</td>\n",
              "      <td>...</td>\n",
              "      <td>0.0</td>\n",
              "      <td>0.0</td>\n",
              "      <td>0.0</td>\n",
              "      <td>0.0</td>\n",
              "      <td>0.0</td>\n",
              "      <td>0.0</td>\n",
              "      <td>NaN</td>\n",
              "      <td>NaN</td>\n",
              "      <td>NaN</td>\n",
              "      <td>NaN</td>\n",
              "      <td>NaN</td>\n",
              "      <td>NaN</td>\n",
              "      <td>NaN</td>\n",
              "      <td>NaN</td>\n",
              "      <td></td>\n",
              "      <td></td>\n",
              "      <td></td>\n",
              "      <td></td>\n",
              "      <td></td>\n",
              "      <td></td>\n",
              "      <td></td>\n",
              "      <td></td>\n",
              "      <td></td>\n",
              "      <td></td>\n",
              "      <td></td>\n",
              "      <td></td>\n",
              "      <td></td>\n",
              "      <td></td>\n",
              "      <td></td>\n",
              "      <td></td>\n",
              "      <td></td>\n",
              "      <td></td>\n",
              "      <td></td>\n",
              "      <td></td>\n",
              "      <td></td>\n",
              "      <td>10409111.0150.0visadebit226.0</td>\n",
              "      <td>1.0nan</td>\n",
              "      <td>170.087.0</td>\n",
              "      <td>0.0</td>\n",
              "      <td>0.0</td>\n",
              "    </tr>\n",
              "    <tr>\n",
              "      <th>3663550</th>\n",
              "      <td>49.00</td>\n",
              "      <td>W</td>\n",
              "      <td>4272</td>\n",
              "      <td>111</td>\n",
              "      <td>150</td>\n",
              "      <td>visa</td>\n",
              "      <td>226</td>\n",
              "      <td>debit</td>\n",
              "      <td>299</td>\n",
              "      <td>87</td>\n",
              "      <td>4.0</td>\n",
              "      <td>NaN</td>\n",
              "      <td>aol.com</td>\n",
              "      <td></td>\n",
              "      <td>3.0</td>\n",
              "      <td>2.0</td>\n",
              "      <td>0.0</td>\n",
              "      <td>0.0</td>\n",
              "      <td>0.0</td>\n",
              "      <td>1.0</td>\n",
              "      <td>0.0</td>\n",
              "      <td>0.0</td>\n",
              "      <td>2.0</td>\n",
              "      <td>0.0</td>\n",
              "      <td>1.0</td>\n",
              "      <td>1.0</td>\n",
              "      <td>12.0</td>\n",
              "      <td>2.0</td>\n",
              "      <td>149.0</td>\n",
              "      <td>149.0</td>\n",
              "      <td>7.0</td>\n",
              "      <td>634.0</td>\n",
              "      <td>7.0</td>\n",
              "      <td>NaN</td>\n",
              "      <td>NaN</td>\n",
              "      <td>NaN</td>\n",
              "      <td>231.0</td>\n",
              "      <td>634.0</td>\n",
              "      <td>NaN</td>\n",
              "      <td>NaN</td>\n",
              "      <td>...</td>\n",
              "      <td>0.0</td>\n",
              "      <td>0.0</td>\n",
              "      <td>0.0</td>\n",
              "      <td>0.0</td>\n",
              "      <td>0.0</td>\n",
              "      <td>0.0</td>\n",
              "      <td>NaN</td>\n",
              "      <td>NaN</td>\n",
              "      <td>NaN</td>\n",
              "      <td>NaN</td>\n",
              "      <td>NaN</td>\n",
              "      <td>NaN</td>\n",
              "      <td>NaN</td>\n",
              "      <td>NaN</td>\n",
              "      <td></td>\n",
              "      <td></td>\n",
              "      <td></td>\n",
              "      <td></td>\n",
              "      <td></td>\n",
              "      <td></td>\n",
              "      <td></td>\n",
              "      <td></td>\n",
              "      <td></td>\n",
              "      <td></td>\n",
              "      <td></td>\n",
              "      <td></td>\n",
              "      <td></td>\n",
              "      <td></td>\n",
              "      <td></td>\n",
              "      <td></td>\n",
              "      <td></td>\n",
              "      <td></td>\n",
              "      <td></td>\n",
              "      <td></td>\n",
              "      <td></td>\n",
              "      <td>4272111.0150.0visadebit226.0</td>\n",
              "      <td>4.0nan</td>\n",
              "      <td>299.087.0</td>\n",
              "      <td>0.0</td>\n",
              "      <td>0.0</td>\n",
              "    </tr>\n",
              "    <tr>\n",
              "      <th>3663551</th>\n",
              "      <td>171.00</td>\n",
              "      <td>W</td>\n",
              "      <td>4476</td>\n",
              "      <td>574</td>\n",
              "      <td>150</td>\n",
              "      <td>visa</td>\n",
              "      <td>226</td>\n",
              "      <td>debit</td>\n",
              "      <td>472</td>\n",
              "      <td>87</td>\n",
              "      <td>2635.0</td>\n",
              "      <td>NaN</td>\n",
              "      <td>hotmail.com</td>\n",
              "      <td></td>\n",
              "      <td>2.0</td>\n",
              "      <td>2.0</td>\n",
              "      <td>0.0</td>\n",
              "      <td>0.0</td>\n",
              "      <td>0.0</td>\n",
              "      <td>5.0</td>\n",
              "      <td>0.0</td>\n",
              "      <td>0.0</td>\n",
              "      <td>4.0</td>\n",
              "      <td>0.0</td>\n",
              "      <td>2.0</td>\n",
              "      <td>0.0</td>\n",
              "      <td>22.0</td>\n",
              "      <td>2.0</td>\n",
              "      <td>137.0</td>\n",
              "      <td>137.0</td>\n",
              "      <td>10.0</td>\n",
              "      <td>97.0</td>\n",
              "      <td>10.0</td>\n",
              "      <td>NaN</td>\n",
              "      <td>NaN</td>\n",
              "      <td>NaN</td>\n",
              "      <td>136.0</td>\n",
              "      <td>136.0</td>\n",
              "      <td>NaN</td>\n",
              "      <td>NaN</td>\n",
              "      <td>...</td>\n",
              "      <td>0.0</td>\n",
              "      <td>0.0</td>\n",
              "      <td>0.0</td>\n",
              "      <td>0.0</td>\n",
              "      <td>263.0</td>\n",
              "      <td>0.0</td>\n",
              "      <td>NaN</td>\n",
              "      <td>NaN</td>\n",
              "      <td>NaN</td>\n",
              "      <td>NaN</td>\n",
              "      <td>NaN</td>\n",
              "      <td>NaN</td>\n",
              "      <td>NaN</td>\n",
              "      <td>NaN</td>\n",
              "      <td></td>\n",
              "      <td></td>\n",
              "      <td></td>\n",
              "      <td></td>\n",
              "      <td></td>\n",
              "      <td></td>\n",
              "      <td></td>\n",
              "      <td></td>\n",
              "      <td></td>\n",
              "      <td></td>\n",
              "      <td></td>\n",
              "      <td></td>\n",
              "      <td></td>\n",
              "      <td></td>\n",
              "      <td></td>\n",
              "      <td></td>\n",
              "      <td></td>\n",
              "      <td></td>\n",
              "      <td></td>\n",
              "      <td></td>\n",
              "      <td></td>\n",
              "      <td>4476574.0150.0visadebit226.0</td>\n",
              "      <td>2635.0nan</td>\n",
              "      <td>472.087.0</td>\n",
              "      <td>0.0</td>\n",
              "      <td>0.0</td>\n",
              "    </tr>\n",
              "    <tr>\n",
              "      <th>3663552</th>\n",
              "      <td>284.95</td>\n",
              "      <td>W</td>\n",
              "      <td>10989</td>\n",
              "      <td>360</td>\n",
              "      <td>150</td>\n",
              "      <td>visa</td>\n",
              "      <td>166</td>\n",
              "      <td>debit</td>\n",
              "      <td>205</td>\n",
              "      <td>87</td>\n",
              "      <td>17.0</td>\n",
              "      <td>NaN</td>\n",
              "      <td>gmail.com</td>\n",
              "      <td></td>\n",
              "      <td>5.0</td>\n",
              "      <td>2.0</td>\n",
              "      <td>0.0</td>\n",
              "      <td>0.0</td>\n",
              "      <td>1.0</td>\n",
              "      <td>1.0</td>\n",
              "      <td>0.0</td>\n",
              "      <td>0.0</td>\n",
              "      <td>2.0</td>\n",
              "      <td>0.0</td>\n",
              "      <td>2.0</td>\n",
              "      <td>0.0</td>\n",
              "      <td>7.0</td>\n",
              "      <td>4.0</td>\n",
              "      <td>42.0</td>\n",
              "      <td>42.0</td>\n",
              "      <td>41.0</td>\n",
              "      <td>242.0</td>\n",
              "      <td>41.0</td>\n",
              "      <td>NaN</td>\n",
              "      <td>NaN</td>\n",
              "      <td>NaN</td>\n",
              "      <td>242.0</td>\n",
              "      <td>242.0</td>\n",
              "      <td>NaN</td>\n",
              "      <td>NaN</td>\n",
              "      <td>...</td>\n",
              "      <td>0.0</td>\n",
              "      <td>0.0</td>\n",
              "      <td>0.0</td>\n",
              "      <td>0.0</td>\n",
              "      <td>0.0</td>\n",
              "      <td>0.0</td>\n",
              "      <td>NaN</td>\n",
              "      <td>NaN</td>\n",
              "      <td>NaN</td>\n",
              "      <td>NaN</td>\n",
              "      <td>NaN</td>\n",
              "      <td>NaN</td>\n",
              "      <td>NaN</td>\n",
              "      <td>NaN</td>\n",
              "      <td></td>\n",
              "      <td></td>\n",
              "      <td></td>\n",
              "      <td></td>\n",
              "      <td></td>\n",
              "      <td></td>\n",
              "      <td></td>\n",
              "      <td></td>\n",
              "      <td></td>\n",
              "      <td></td>\n",
              "      <td></td>\n",
              "      <td></td>\n",
              "      <td></td>\n",
              "      <td></td>\n",
              "      <td></td>\n",
              "      <td></td>\n",
              "      <td></td>\n",
              "      <td></td>\n",
              "      <td></td>\n",
              "      <td></td>\n",
              "      <td></td>\n",
              "      <td>10989360.0150.0visadebit166.0</td>\n",
              "      <td>17.0nan</td>\n",
              "      <td>205.087.0</td>\n",
              "      <td>0.0</td>\n",
              "      <td>0.0</td>\n",
              "    </tr>\n",
              "    <tr>\n",
              "      <th>3663553</th>\n",
              "      <td>67.95</td>\n",
              "      <td>W</td>\n",
              "      <td>18018</td>\n",
              "      <td>452</td>\n",
              "      <td>150</td>\n",
              "      <td>mastercard</td>\n",
              "      <td>117</td>\n",
              "      <td>debit</td>\n",
              "      <td>264</td>\n",
              "      <td>87</td>\n",
              "      <td>6.0</td>\n",
              "      <td>NaN</td>\n",
              "      <td>gmail.com</td>\n",
              "      <td></td>\n",
              "      <td>6.0</td>\n",
              "      <td>6.0</td>\n",
              "      <td>0.0</td>\n",
              "      <td>0.0</td>\n",
              "      <td>2.0</td>\n",
              "      <td>5.0</td>\n",
              "      <td>0.0</td>\n",
              "      <td>0.0</td>\n",
              "      <td>5.0</td>\n",
              "      <td>0.0</td>\n",
              "      <td>6.0</td>\n",
              "      <td>0.0</td>\n",
              "      <td>14.0</td>\n",
              "      <td>6.0</td>\n",
              "      <td>22.0</td>\n",
              "      <td>22.0</td>\n",
              "      <td>0.0</td>\n",
              "      <td>22.0</td>\n",
              "      <td>0.0</td>\n",
              "      <td>NaN</td>\n",
              "      <td>NaN</td>\n",
              "      <td>NaN</td>\n",
              "      <td>22.0</td>\n",
              "      <td>22.0</td>\n",
              "      <td>NaN</td>\n",
              "      <td>NaN</td>\n",
              "      <td>...</td>\n",
              "      <td>0.0</td>\n",
              "      <td>0.0</td>\n",
              "      <td>0.0</td>\n",
              "      <td>0.0</td>\n",
              "      <td>0.0</td>\n",
              "      <td>0.0</td>\n",
              "      <td>NaN</td>\n",
              "      <td>NaN</td>\n",
              "      <td>NaN</td>\n",
              "      <td>NaN</td>\n",
              "      <td>NaN</td>\n",
              "      <td>NaN</td>\n",
              "      <td>NaN</td>\n",
              "      <td>NaN</td>\n",
              "      <td></td>\n",
              "      <td></td>\n",
              "      <td></td>\n",
              "      <td></td>\n",
              "      <td></td>\n",
              "      <td></td>\n",
              "      <td></td>\n",
              "      <td></td>\n",
              "      <td></td>\n",
              "      <td></td>\n",
              "      <td></td>\n",
              "      <td></td>\n",
              "      <td></td>\n",
              "      <td></td>\n",
              "      <td></td>\n",
              "      <td></td>\n",
              "      <td></td>\n",
              "      <td></td>\n",
              "      <td></td>\n",
              "      <td></td>\n",
              "      <td></td>\n",
              "      <td>18018452.0150.0mastercarddebit117.0</td>\n",
              "      <td>6.0nan</td>\n",
              "      <td>264.087.0</td>\n",
              "      <td>0.0</td>\n",
              "      <td>0.0</td>\n",
              "    </tr>\n",
              "  </tbody>\n",
              "</table>\n",
              "<p>5 rows × 277 columns</p>\n",
              "</div>\n",
              "      <button class=\"colab-df-convert\" onclick=\"convertToInteractive('df-577f785c-6d09-4c78-9516-a1bddc8ee181')\"\n",
              "              title=\"Convert this dataframe to an interactive table.\"\n",
              "              style=\"display:none;\">\n",
              "        \n",
              "  <svg xmlns=\"http://www.w3.org/2000/svg\" height=\"24px\"viewBox=\"0 0 24 24\"\n",
              "       width=\"24px\">\n",
              "    <path d=\"M0 0h24v24H0V0z\" fill=\"none\"/>\n",
              "    <path d=\"M18.56 5.44l.94 2.06.94-2.06 2.06-.94-2.06-.94-.94-2.06-.94 2.06-2.06.94zm-11 1L8.5 8.5l.94-2.06 2.06-.94-2.06-.94L8.5 2.5l-.94 2.06-2.06.94zm10 10l.94 2.06.94-2.06 2.06-.94-2.06-.94-.94-2.06-.94 2.06-2.06.94z\"/><path d=\"M17.41 7.96l-1.37-1.37c-.4-.4-.92-.59-1.43-.59-.52 0-1.04.2-1.43.59L10.3 9.45l-7.72 7.72c-.78.78-.78 2.05 0 2.83L4 21.41c.39.39.9.59 1.41.59.51 0 1.02-.2 1.41-.59l7.78-7.78 2.81-2.81c.8-.78.8-2.07 0-2.86zM5.41 20L4 18.59l7.72-7.72 1.47 1.35L5.41 20z\"/>\n",
              "  </svg>\n",
              "      </button>\n",
              "      \n",
              "  <style>\n",
              "    .colab-df-container {\n",
              "      display:flex;\n",
              "      flex-wrap:wrap;\n",
              "      gap: 12px;\n",
              "    }\n",
              "\n",
              "    .colab-df-convert {\n",
              "      background-color: #E8F0FE;\n",
              "      border: none;\n",
              "      border-radius: 50%;\n",
              "      cursor: pointer;\n",
              "      display: none;\n",
              "      fill: #1967D2;\n",
              "      height: 32px;\n",
              "      padding: 0 0 0 0;\n",
              "      width: 32px;\n",
              "    }\n",
              "\n",
              "    .colab-df-convert:hover {\n",
              "      background-color: #E2EBFA;\n",
              "      box-shadow: 0px 1px 2px rgba(60, 64, 67, 0.3), 0px 1px 3px 1px rgba(60, 64, 67, 0.15);\n",
              "      fill: #174EA6;\n",
              "    }\n",
              "\n",
              "    [theme=dark] .colab-df-convert {\n",
              "      background-color: #3B4455;\n",
              "      fill: #D2E3FC;\n",
              "    }\n",
              "\n",
              "    [theme=dark] .colab-df-convert:hover {\n",
              "      background-color: #434B5C;\n",
              "      box-shadow: 0px 1px 3px 1px rgba(0, 0, 0, 0.15);\n",
              "      filter: drop-shadow(0px 1px 2px rgba(0, 0, 0, 0.3));\n",
              "      fill: #FFFFFF;\n",
              "    }\n",
              "  </style>\n",
              "\n",
              "      <script>\n",
              "        const buttonEl =\n",
              "          document.querySelector('#df-577f785c-6d09-4c78-9516-a1bddc8ee181 button.colab-df-convert');\n",
              "        buttonEl.style.display =\n",
              "          google.colab.kernel.accessAllowed ? 'block' : 'none';\n",
              "\n",
              "        async function convertToInteractive(key) {\n",
              "          const element = document.querySelector('#df-577f785c-6d09-4c78-9516-a1bddc8ee181');\n",
              "          const dataTable =\n",
              "            await google.colab.kernel.invokeFunction('convertToInteractive',\n",
              "                                                     [key], {});\n",
              "          if (!dataTable) return;\n",
              "\n",
              "          const docLinkHtml = 'Like what you see? Visit the ' +\n",
              "            '<a target=\"_blank\" href=https://colab.research.google.com/notebooks/data_table.ipynb>data table notebook</a>'\n",
              "            + ' to learn more about interactive tables.';\n",
              "          element.innerHTML = '';\n",
              "          dataTable['output_type'] = 'display_data';\n",
              "          await google.colab.output.renderOutput(dataTable, element);\n",
              "          const docLink = document.createElement('div');\n",
              "          docLink.innerHTML = docLinkHtml;\n",
              "          element.appendChild(docLink);\n",
              "        }\n",
              "      </script>\n",
              "    </div>\n",
              "  </div>\n",
              "  "
            ],
            "text/plain": [
              "               TransactionAmt ProductCD  card1  ...       addr   Hr  day\n",
              "TransactionID                                   ...                     \n",
              "3663549                 31.95         W  10409  ...  170.087.0  0.0  0.0\n",
              "3663550                 49.00         W   4272  ...  299.087.0  0.0  0.0\n",
              "3663551                171.00         W   4476  ...  472.087.0  0.0  0.0\n",
              "3663552                284.95         W  10989  ...  205.087.0  0.0  0.0\n",
              "3663553                 67.95         W  18018  ...  264.087.0  0.0  0.0\n",
              "\n",
              "[5 rows x 277 columns]"
            ]
          },
          "metadata": {},
          "execution_count": 6
        }
      ]
    },
    {
      "cell_type": "code",
      "source": [
        "path_to_data = '/content/drive/MyDrive/Classroom/y_train_06_02_try65_4.csv'\n",
        "y_train = pd.read_csv(path_to_data)\n",
        "y_train.head()"
      ],
      "metadata": {
        "colab": {
          "base_uri": "https://localhost:8080/",
          "height": 206
        },
        "id": "PD5iAOvt_ryN",
        "outputId": "31ae297a-5413-4e9b-d44a-8a88d6e5bb09"
      },
      "execution_count": null,
      "outputs": [
        {
          "output_type": "execute_result",
          "data": {
            "text/html": [
              "\n",
              "  <div id=\"df-e024dbed-d549-40ea-a089-014dcdcdd29d\">\n",
              "    <div class=\"colab-df-container\">\n",
              "      <div>\n",
              "<style scoped>\n",
              "    .dataframe tbody tr th:only-of-type {\n",
              "        vertical-align: middle;\n",
              "    }\n",
              "\n",
              "    .dataframe tbody tr th {\n",
              "        vertical-align: top;\n",
              "    }\n",
              "\n",
              "    .dataframe thead th {\n",
              "        text-align: right;\n",
              "    }\n",
              "</style>\n",
              "<table border=\"1\" class=\"dataframe\">\n",
              "  <thead>\n",
              "    <tr style=\"text-align: right;\">\n",
              "      <th></th>\n",
              "      <th>isFraud</th>\n",
              "    </tr>\n",
              "  </thead>\n",
              "  <tbody>\n",
              "    <tr>\n",
              "      <th>0</th>\n",
              "      <td>0</td>\n",
              "    </tr>\n",
              "    <tr>\n",
              "      <th>1</th>\n",
              "      <td>0</td>\n",
              "    </tr>\n",
              "    <tr>\n",
              "      <th>2</th>\n",
              "      <td>0</td>\n",
              "    </tr>\n",
              "    <tr>\n",
              "      <th>3</th>\n",
              "      <td>0</td>\n",
              "    </tr>\n",
              "    <tr>\n",
              "      <th>4</th>\n",
              "      <td>0</td>\n",
              "    </tr>\n",
              "  </tbody>\n",
              "</table>\n",
              "</div>\n",
              "      <button class=\"colab-df-convert\" onclick=\"convertToInteractive('df-e024dbed-d549-40ea-a089-014dcdcdd29d')\"\n",
              "              title=\"Convert this dataframe to an interactive table.\"\n",
              "              style=\"display:none;\">\n",
              "        \n",
              "  <svg xmlns=\"http://www.w3.org/2000/svg\" height=\"24px\"viewBox=\"0 0 24 24\"\n",
              "       width=\"24px\">\n",
              "    <path d=\"M0 0h24v24H0V0z\" fill=\"none\"/>\n",
              "    <path d=\"M18.56 5.44l.94 2.06.94-2.06 2.06-.94-2.06-.94-.94-2.06-.94 2.06-2.06.94zm-11 1L8.5 8.5l.94-2.06 2.06-.94-2.06-.94L8.5 2.5l-.94 2.06-2.06.94zm10 10l.94 2.06.94-2.06 2.06-.94-2.06-.94-.94-2.06-.94 2.06-2.06.94z\"/><path d=\"M17.41 7.96l-1.37-1.37c-.4-.4-.92-.59-1.43-.59-.52 0-1.04.2-1.43.59L10.3 9.45l-7.72 7.72c-.78.78-.78 2.05 0 2.83L4 21.41c.39.39.9.59 1.41.59.51 0 1.02-.2 1.41-.59l7.78-7.78 2.81-2.81c.8-.78.8-2.07 0-2.86zM5.41 20L4 18.59l7.72-7.72 1.47 1.35L5.41 20z\"/>\n",
              "  </svg>\n",
              "      </button>\n",
              "      \n",
              "  <style>\n",
              "    .colab-df-container {\n",
              "      display:flex;\n",
              "      flex-wrap:wrap;\n",
              "      gap: 12px;\n",
              "    }\n",
              "\n",
              "    .colab-df-convert {\n",
              "      background-color: #E8F0FE;\n",
              "      border: none;\n",
              "      border-radius: 50%;\n",
              "      cursor: pointer;\n",
              "      display: none;\n",
              "      fill: #1967D2;\n",
              "      height: 32px;\n",
              "      padding: 0 0 0 0;\n",
              "      width: 32px;\n",
              "    }\n",
              "\n",
              "    .colab-df-convert:hover {\n",
              "      background-color: #E2EBFA;\n",
              "      box-shadow: 0px 1px 2px rgba(60, 64, 67, 0.3), 0px 1px 3px 1px rgba(60, 64, 67, 0.15);\n",
              "      fill: #174EA6;\n",
              "    }\n",
              "\n",
              "    [theme=dark] .colab-df-convert {\n",
              "      background-color: #3B4455;\n",
              "      fill: #D2E3FC;\n",
              "    }\n",
              "\n",
              "    [theme=dark] .colab-df-convert:hover {\n",
              "      background-color: #434B5C;\n",
              "      box-shadow: 0px 1px 3px 1px rgba(0, 0, 0, 0.15);\n",
              "      filter: drop-shadow(0px 1px 2px rgba(0, 0, 0, 0.3));\n",
              "      fill: #FFFFFF;\n",
              "    }\n",
              "  </style>\n",
              "\n",
              "      <script>\n",
              "        const buttonEl =\n",
              "          document.querySelector('#df-e024dbed-d549-40ea-a089-014dcdcdd29d button.colab-df-convert');\n",
              "        buttonEl.style.display =\n",
              "          google.colab.kernel.accessAllowed ? 'block' : 'none';\n",
              "\n",
              "        async function convertToInteractive(key) {\n",
              "          const element = document.querySelector('#df-e024dbed-d549-40ea-a089-014dcdcdd29d');\n",
              "          const dataTable =\n",
              "            await google.colab.kernel.invokeFunction('convertToInteractive',\n",
              "                                                     [key], {});\n",
              "          if (!dataTable) return;\n",
              "\n",
              "          const docLinkHtml = 'Like what you see? Visit the ' +\n",
              "            '<a target=\"_blank\" href=https://colab.research.google.com/notebooks/data_table.ipynb>data table notebook</a>'\n",
              "            + ' to learn more about interactive tables.';\n",
              "          element.innerHTML = '';\n",
              "          dataTable['output_type'] = 'display_data';\n",
              "          await google.colab.output.renderOutput(dataTable, element);\n",
              "          const docLink = document.createElement('div');\n",
              "          docLink.innerHTML = docLinkHtml;\n",
              "          element.appendChild(docLink);\n",
              "        }\n",
              "      </script>\n",
              "    </div>\n",
              "  </div>\n",
              "  "
            ],
            "text/plain": [
              "   isFraud\n",
              "0        0\n",
              "1        0\n",
              "2        0\n",
              "3        0\n",
              "4        0"
            ]
          },
          "metadata": {},
          "execution_count": 7
        }
      ]
    },
    {
      "cell_type": "code",
      "source": [
        "path_to_data = '/content/drive/MyDrive/Classroom/y_validatet_06_02_try6_4.csv'\n",
        "y_validate = pd.read_csv(path_to_data)\n",
        "y_validate.head()"
      ],
      "metadata": {
        "colab": {
          "base_uri": "https://localhost:8080/",
          "height": 206
        },
        "id": "BjEZjkC3_6QM",
        "outputId": "4cfa34ee-6d48-43f9-f6ea-eb7a1f9ced89"
      },
      "execution_count": null,
      "outputs": [
        {
          "output_type": "execute_result",
          "data": {
            "text/html": [
              "\n",
              "  <div id=\"df-73965442-b2bc-4590-9d91-4baf57de2e37\">\n",
              "    <div class=\"colab-df-container\">\n",
              "      <div>\n",
              "<style scoped>\n",
              "    .dataframe tbody tr th:only-of-type {\n",
              "        vertical-align: middle;\n",
              "    }\n",
              "\n",
              "    .dataframe tbody tr th {\n",
              "        vertical-align: top;\n",
              "    }\n",
              "\n",
              "    .dataframe thead th {\n",
              "        text-align: right;\n",
              "    }\n",
              "</style>\n",
              "<table border=\"1\" class=\"dataframe\">\n",
              "  <thead>\n",
              "    <tr style=\"text-align: right;\">\n",
              "      <th></th>\n",
              "      <th>isFraud</th>\n",
              "    </tr>\n",
              "  </thead>\n",
              "  <tbody>\n",
              "    <tr>\n",
              "      <th>0</th>\n",
              "      <td>0</td>\n",
              "    </tr>\n",
              "    <tr>\n",
              "      <th>1</th>\n",
              "      <td>0</td>\n",
              "    </tr>\n",
              "    <tr>\n",
              "      <th>2</th>\n",
              "      <td>0</td>\n",
              "    </tr>\n",
              "    <tr>\n",
              "      <th>3</th>\n",
              "      <td>0</td>\n",
              "    </tr>\n",
              "    <tr>\n",
              "      <th>4</th>\n",
              "      <td>0</td>\n",
              "    </tr>\n",
              "  </tbody>\n",
              "</table>\n",
              "</div>\n",
              "      <button class=\"colab-df-convert\" onclick=\"convertToInteractive('df-73965442-b2bc-4590-9d91-4baf57de2e37')\"\n",
              "              title=\"Convert this dataframe to an interactive table.\"\n",
              "              style=\"display:none;\">\n",
              "        \n",
              "  <svg xmlns=\"http://www.w3.org/2000/svg\" height=\"24px\"viewBox=\"0 0 24 24\"\n",
              "       width=\"24px\">\n",
              "    <path d=\"M0 0h24v24H0V0z\" fill=\"none\"/>\n",
              "    <path d=\"M18.56 5.44l.94 2.06.94-2.06 2.06-.94-2.06-.94-.94-2.06-.94 2.06-2.06.94zm-11 1L8.5 8.5l.94-2.06 2.06-.94-2.06-.94L8.5 2.5l-.94 2.06-2.06.94zm10 10l.94 2.06.94-2.06 2.06-.94-2.06-.94-.94-2.06-.94 2.06-2.06.94z\"/><path d=\"M17.41 7.96l-1.37-1.37c-.4-.4-.92-.59-1.43-.59-.52 0-1.04.2-1.43.59L10.3 9.45l-7.72 7.72c-.78.78-.78 2.05 0 2.83L4 21.41c.39.39.9.59 1.41.59.51 0 1.02-.2 1.41-.59l7.78-7.78 2.81-2.81c.8-.78.8-2.07 0-2.86zM5.41 20L4 18.59l7.72-7.72 1.47 1.35L5.41 20z\"/>\n",
              "  </svg>\n",
              "      </button>\n",
              "      \n",
              "  <style>\n",
              "    .colab-df-container {\n",
              "      display:flex;\n",
              "      flex-wrap:wrap;\n",
              "      gap: 12px;\n",
              "    }\n",
              "\n",
              "    .colab-df-convert {\n",
              "      background-color: #E8F0FE;\n",
              "      border: none;\n",
              "      border-radius: 50%;\n",
              "      cursor: pointer;\n",
              "      display: none;\n",
              "      fill: #1967D2;\n",
              "      height: 32px;\n",
              "      padding: 0 0 0 0;\n",
              "      width: 32px;\n",
              "    }\n",
              "\n",
              "    .colab-df-convert:hover {\n",
              "      background-color: #E2EBFA;\n",
              "      box-shadow: 0px 1px 2px rgba(60, 64, 67, 0.3), 0px 1px 3px 1px rgba(60, 64, 67, 0.15);\n",
              "      fill: #174EA6;\n",
              "    }\n",
              "\n",
              "    [theme=dark] .colab-df-convert {\n",
              "      background-color: #3B4455;\n",
              "      fill: #D2E3FC;\n",
              "    }\n",
              "\n",
              "    [theme=dark] .colab-df-convert:hover {\n",
              "      background-color: #434B5C;\n",
              "      box-shadow: 0px 1px 3px 1px rgba(0, 0, 0, 0.15);\n",
              "      filter: drop-shadow(0px 1px 2px rgba(0, 0, 0, 0.3));\n",
              "      fill: #FFFFFF;\n",
              "    }\n",
              "  </style>\n",
              "\n",
              "      <script>\n",
              "        const buttonEl =\n",
              "          document.querySelector('#df-73965442-b2bc-4590-9d91-4baf57de2e37 button.colab-df-convert');\n",
              "        buttonEl.style.display =\n",
              "          google.colab.kernel.accessAllowed ? 'block' : 'none';\n",
              "\n",
              "        async function convertToInteractive(key) {\n",
              "          const element = document.querySelector('#df-73965442-b2bc-4590-9d91-4baf57de2e37');\n",
              "          const dataTable =\n",
              "            await google.colab.kernel.invokeFunction('convertToInteractive',\n",
              "                                                     [key], {});\n",
              "          if (!dataTable) return;\n",
              "\n",
              "          const docLinkHtml = 'Like what you see? Visit the ' +\n",
              "            '<a target=\"_blank\" href=https://colab.research.google.com/notebooks/data_table.ipynb>data table notebook</a>'\n",
              "            + ' to learn more about interactive tables.';\n",
              "          element.innerHTML = '';\n",
              "          dataTable['output_type'] = 'display_data';\n",
              "          await google.colab.output.renderOutput(dataTable, element);\n",
              "          const docLink = document.createElement('div');\n",
              "          docLink.innerHTML = docLinkHtml;\n",
              "          element.appendChild(docLink);\n",
              "        }\n",
              "      </script>\n",
              "    </div>\n",
              "  </div>\n",
              "  "
            ],
            "text/plain": [
              "   isFraud\n",
              "0        0\n",
              "1        0\n",
              "2        0\n",
              "3        0\n",
              "4        0"
            ]
          },
          "metadata": {},
          "execution_count": 8
        }
      ]
    },
    {
      "cell_type": "code",
      "source": [
        "gc.collect()"
      ],
      "metadata": {
        "id": "xy7XLFC2ThRX",
        "colab": {
          "base_uri": "https://localhost:8080/"
        },
        "outputId": "b748fea1-4267-418d-e975-7679139ad774"
      },
      "execution_count": null,
      "outputs": [
        {
          "output_type": "execute_result",
          "data": {
            "text/plain": [
              "292"
            ]
          },
          "metadata": {},
          "execution_count": 9
        }
      ]
    },
    {
      "cell_type": "code",
      "source": [
        "sys.getsizeof(X_train) / 1024 ** 2"
      ],
      "metadata": {
        "colab": {
          "base_uri": "https://localhost:8080/"
        },
        "id": "li2NQCFlTxh-",
        "outputId": "e0c534aa-f59b-4f20-d3be-daea49c63941"
      },
      "execution_count": null,
      "outputs": [
        {
          "output_type": "execute_result",
          "data": {
            "text/plain": [
              "2358.0613832473755"
            ]
          },
          "metadata": {},
          "execution_count": 10
        }
      ]
    },
    {
      "cell_type": "code",
      "source": [
        "sys.getsizeof(X_test) / 1024 ** 2"
      ],
      "metadata": {
        "colab": {
          "base_uri": "https://localhost:8080/"
        },
        "id": "s6HehwUVT9om",
        "outputId": "a76a7658-1117-4806-c5d2-b6fdfd6157e7"
      },
      "execution_count": null,
      "outputs": [
        {
          "output_type": "execute_result",
          "data": {
            "text/plain": [
              "2683.862072944641"
            ]
          },
          "metadata": {},
          "execution_count": 11
        }
      ]
    },
    {
      "cell_type": "code",
      "source": [
        "sys.getsizeof(X_validate) / 1024 ** 2"
      ],
      "metadata": {
        "colab": {
          "base_uri": "https://localhost:8080/"
        },
        "outputId": "9a745aef-30ae-4f86-f4d4-5798d401aaf5",
        "id": "L5NuKrLGYuHT"
      },
      "execution_count": null,
      "outputs": [
        {
          "output_type": "execute_result",
          "data": {
            "text/plain": [
              "786.0538263320923"
            ]
          },
          "metadata": {},
          "execution_count": 12
        }
      ]
    },
    {
      "cell_type": "code",
      "source": [
        "path_to_data = '/content/drive/MyDrive/Classroom/ID_05_02.csv'\n",
        "ID = pd.read_csv(path_to_data)\n",
        "ID.head()"
      ],
      "metadata": {
        "colab": {
          "base_uri": "https://localhost:8080/",
          "height": 206
        },
        "id": "RKUsrp34HSgS",
        "outputId": "457bb6cf-d318-4509-b01d-644df7f04894"
      },
      "execution_count": null,
      "outputs": [
        {
          "output_type": "execute_result",
          "data": {
            "text/html": [
              "\n",
              "  <div id=\"df-99d10e1d-5230-4119-827c-3dc3d625b467\">\n",
              "    <div class=\"colab-df-container\">\n",
              "      <div>\n",
              "<style scoped>\n",
              "    .dataframe tbody tr th:only-of-type {\n",
              "        vertical-align: middle;\n",
              "    }\n",
              "\n",
              "    .dataframe tbody tr th {\n",
              "        vertical-align: top;\n",
              "    }\n",
              "\n",
              "    .dataframe thead th {\n",
              "        text-align: right;\n",
              "    }\n",
              "</style>\n",
              "<table border=\"1\" class=\"dataframe\">\n",
              "  <thead>\n",
              "    <tr style=\"text-align: right;\">\n",
              "      <th></th>\n",
              "      <th>TransactionID</th>\n",
              "    </tr>\n",
              "  </thead>\n",
              "  <tbody>\n",
              "    <tr>\n",
              "      <th>0</th>\n",
              "      <td>3663549</td>\n",
              "    </tr>\n",
              "    <tr>\n",
              "      <th>1</th>\n",
              "      <td>3663550</td>\n",
              "    </tr>\n",
              "    <tr>\n",
              "      <th>2</th>\n",
              "      <td>3663551</td>\n",
              "    </tr>\n",
              "    <tr>\n",
              "      <th>3</th>\n",
              "      <td>3663552</td>\n",
              "    </tr>\n",
              "    <tr>\n",
              "      <th>4</th>\n",
              "      <td>3663553</td>\n",
              "    </tr>\n",
              "  </tbody>\n",
              "</table>\n",
              "</div>\n",
              "      <button class=\"colab-df-convert\" onclick=\"convertToInteractive('df-99d10e1d-5230-4119-827c-3dc3d625b467')\"\n",
              "              title=\"Convert this dataframe to an interactive table.\"\n",
              "              style=\"display:none;\">\n",
              "        \n",
              "  <svg xmlns=\"http://www.w3.org/2000/svg\" height=\"24px\"viewBox=\"0 0 24 24\"\n",
              "       width=\"24px\">\n",
              "    <path d=\"M0 0h24v24H0V0z\" fill=\"none\"/>\n",
              "    <path d=\"M18.56 5.44l.94 2.06.94-2.06 2.06-.94-2.06-.94-.94-2.06-.94 2.06-2.06.94zm-11 1L8.5 8.5l.94-2.06 2.06-.94-2.06-.94L8.5 2.5l-.94 2.06-2.06.94zm10 10l.94 2.06.94-2.06 2.06-.94-2.06-.94-.94-2.06-.94 2.06-2.06.94z\"/><path d=\"M17.41 7.96l-1.37-1.37c-.4-.4-.92-.59-1.43-.59-.52 0-1.04.2-1.43.59L10.3 9.45l-7.72 7.72c-.78.78-.78 2.05 0 2.83L4 21.41c.39.39.9.59 1.41.59.51 0 1.02-.2 1.41-.59l7.78-7.78 2.81-2.81c.8-.78.8-2.07 0-2.86zM5.41 20L4 18.59l7.72-7.72 1.47 1.35L5.41 20z\"/>\n",
              "  </svg>\n",
              "      </button>\n",
              "      \n",
              "  <style>\n",
              "    .colab-df-container {\n",
              "      display:flex;\n",
              "      flex-wrap:wrap;\n",
              "      gap: 12px;\n",
              "    }\n",
              "\n",
              "    .colab-df-convert {\n",
              "      background-color: #E8F0FE;\n",
              "      border: none;\n",
              "      border-radius: 50%;\n",
              "      cursor: pointer;\n",
              "      display: none;\n",
              "      fill: #1967D2;\n",
              "      height: 32px;\n",
              "      padding: 0 0 0 0;\n",
              "      width: 32px;\n",
              "    }\n",
              "\n",
              "    .colab-df-convert:hover {\n",
              "      background-color: #E2EBFA;\n",
              "      box-shadow: 0px 1px 2px rgba(60, 64, 67, 0.3), 0px 1px 3px 1px rgba(60, 64, 67, 0.15);\n",
              "      fill: #174EA6;\n",
              "    }\n",
              "\n",
              "    [theme=dark] .colab-df-convert {\n",
              "      background-color: #3B4455;\n",
              "      fill: #D2E3FC;\n",
              "    }\n",
              "\n",
              "    [theme=dark] .colab-df-convert:hover {\n",
              "      background-color: #434B5C;\n",
              "      box-shadow: 0px 1px 3px 1px rgba(0, 0, 0, 0.15);\n",
              "      filter: drop-shadow(0px 1px 2px rgba(0, 0, 0, 0.3));\n",
              "      fill: #FFFFFF;\n",
              "    }\n",
              "  </style>\n",
              "\n",
              "      <script>\n",
              "        const buttonEl =\n",
              "          document.querySelector('#df-99d10e1d-5230-4119-827c-3dc3d625b467 button.colab-df-convert');\n",
              "        buttonEl.style.display =\n",
              "          google.colab.kernel.accessAllowed ? 'block' : 'none';\n",
              "\n",
              "        async function convertToInteractive(key) {\n",
              "          const element = document.querySelector('#df-99d10e1d-5230-4119-827c-3dc3d625b467');\n",
              "          const dataTable =\n",
              "            await google.colab.kernel.invokeFunction('convertToInteractive',\n",
              "                                                     [key], {});\n",
              "          if (!dataTable) return;\n",
              "\n",
              "          const docLinkHtml = 'Like what you see? Visit the ' +\n",
              "            '<a target=\"_blank\" href=https://colab.research.google.com/notebooks/data_table.ipynb>data table notebook</a>'\n",
              "            + ' to learn more about interactive tables.';\n",
              "          element.innerHTML = '';\n",
              "          dataTable['output_type'] = 'display_data';\n",
              "          await google.colab.output.renderOutput(dataTable, element);\n",
              "          const docLink = document.createElement('div');\n",
              "          docLink.innerHTML = docLinkHtml;\n",
              "          element.appendChild(docLink);\n",
              "        }\n",
              "      </script>\n",
              "    </div>\n",
              "  </div>\n",
              "  "
            ],
            "text/plain": [
              "   TransactionID\n",
              "0        3663549\n",
              "1        3663550\n",
              "2        3663551\n",
              "3        3663552\n",
              "4        3663553"
            ]
          },
          "metadata": {},
          "execution_count": 10
        }
      ]
    },
    {
      "cell_type": "code",
      "source": [
        "gc.collect()"
      ],
      "metadata": {
        "colab": {
          "base_uri": "https://localhost:8080/"
        },
        "id": "27rE89SrHbwL",
        "outputId": "60f231eb-0ef0-43e1-fa0d-4836ee0973a7"
      },
      "execution_count": null,
      "outputs": [
        {
          "output_type": "execute_result",
          "data": {
            "text/plain": [
              "193"
            ]
          },
          "metadata": {},
          "execution_count": 11
        }
      ]
    },
    {
      "cell_type": "code",
      "source": [
        "ID"
      ],
      "metadata": {
        "id": "oWCrhS_AY8Jt"
      },
      "execution_count": null,
      "outputs": []
    },
    {
      "cell_type": "markdown",
      "source": [
        "#CatBoost"
      ],
      "metadata": {
        "id": "oZjpJbwJx0_i"
      }
    },
    {
      "cell_type": "code",
      "source": [
        "!pip install -q catboost shap"
      ],
      "metadata": {
        "id": "PB7NAq4fcxoS",
        "colab": {
          "base_uri": "https://localhost:8080/"
        },
        "outputId": "f1a7c2c8-f684-4b25-82e6-e1a3258baa23"
      },
      "execution_count": null,
      "outputs": [
        {
          "output_type": "stream",
          "name": "stdout",
          "text": [
            "\u001b[K     |████████████████████████████████| 76.1 MB 1.2 MB/s \n",
            "\u001b[K     |████████████████████████████████| 564 kB 48.4 MB/s \n",
            "\u001b[?25h"
          ]
        }
      ]
    },
    {
      "cell_type": "code",
      "source": [
        "import catboost\n",
        "from catboost import CatBoostClassifier\n",
        "\n",
        "import shap\n",
        "import sklearn.model_selection\n",
        "import matplotlib.pyplot as plt\n",
        "import seaborn as sns"
      ],
      "metadata": {
        "id": "mhCa2tX-c3YM"
      },
      "execution_count": null,
      "outputs": []
    },
    {
      "cell_type": "code",
      "source": [
        "gc.collect()"
      ],
      "metadata": {
        "colab": {
          "base_uri": "https://localhost:8080/"
        },
        "id": "ibjpVlpAaoTl",
        "outputId": "00813312-7018-4749-dfcb-e388ed4c04a2"
      },
      "execution_count": null,
      "outputs": [
        {
          "output_type": "execute_result",
          "data": {
            "text/plain": [
              "59"
            ]
          },
          "metadata": {},
          "execution_count": 14
        }
      ]
    },
    {
      "cell_type": "code",
      "source": [
        "train_pool = catboost.Pool(\n",
        "    X_train,\n",
        "    label=y_train,\n",
        "    cat_features=feature_cat_for_cat\n",
        ")\n",
        "val_pool = catboost.Pool(\n",
        "    X_validate,\n",
        "    label=y_validate,\n",
        "    cat_features=feature_cat_for_cat\n",
        ")\n",
        "test_pool = catboost.Pool(\n",
        "    X_test,\n",
        "    cat_features=feature_cat_for_cat\n",
        ")"
      ],
      "metadata": {
        "id": "TJBN85zNn_Jf"
      },
      "execution_count": null,
      "outputs": []
    },
    {
      "cell_type": "code",
      "source": [
        "!rm -rf 'catboost_clf_find_fraud/snapshot.bkp'"
      ],
      "metadata": {
        "id": "y8MvrE3UAXDX"
      },
      "execution_count": null,
      "outputs": []
    },
    {
      "cell_type": "code",
      "metadata": {
        "id": "NpZBBUs_6oGH",
        "colab": {
          "base_uri": "https://localhost:8080/",
          "height": 35,
          "referenced_widgets": [
            "deedcf53497940d3860e4094bc63e6b4"
          ]
        },
        "outputId": "92ab31e2-db46-4aa7-b7f8-d6e0cf7d4100"
      },
      "source": [
        "catboost_train_dir = 'catboost_clf_find_fraud'\n",
        "clf = catboost.CatBoostClassifier(\n",
        "    loss_function='Logloss',\n",
        "    custom_loss='AUC',\n",
        "    logging_level='Silent',\n",
        "    eval_metric='AUC',\n",
        "    od_pval=0.05,\n",
        "    od_wait=20,\n",
        "    # early_stopping_rounds=20,\n",
        "    # random_seed=52,\n",
        "    train_dir=catboost_train_dir,\n",
        "    # task_type='CPU',\n",
        "    task_type='GPU',\n",
        "    devices='0',\n",
        "    auto_class_weights='Balanced',\n",
        "    use_best_model=True\n",
        ")\n",
        "clf.fit(\n",
        "    train_pool, \n",
        "    eval_set=val_pool,\n",
        "    plot=True,\n",
        "    save_snapshot=True,\n",
        "    snapshot_file='snapshot.bkp',\n",
        ")"
      ],
      "execution_count": null,
      "outputs": [
        {
          "output_type": "display_data",
          "data": {
            "application/vnd.jupyter.widget-view+json": {
              "model_id": "deedcf53497940d3860e4094bc63e6b4",
              "version_minor": 0,
              "version_major": 2
            },
            "text/plain": [
              "MetricVisualizer(layout=Layout(align_self='stretch', height='500px'))"
            ]
          },
          "metadata": {}
        },
        {
          "output_type": "execute_result",
          "data": {
            "text/plain": [
              "<catboost.core.CatBoostClassifier at 0x7f045b047fd0>"
            ]
          },
          "metadata": {},
          "execution_count": 18
        }
      ]
    },
    {
      "cell_type": "code",
      "source": [
        "clf.best_score_"
      ],
      "metadata": {
        "colab": {
          "base_uri": "https://localhost:8080/"
        },
        "id": "Rd44HdcgdGZo",
        "outputId": "1e918d58-3395-4ec5-8e56-94e78203be20"
      },
      "execution_count": null,
      "outputs": [
        {
          "output_type": "execute_result",
          "data": {
            "text/plain": [
              "{'learn': {'AUC': 0.9713953137397766, 'Logloss': 0.22890973982759938},\n",
              " 'validation': {'AUC': 0.9705962538719177, 'Logloss': 0.2210932328684965}}"
            ]
          },
          "metadata": {},
          "execution_count": 19
        }
      ]
    },
    {
      "cell_type": "code",
      "source": [
        "clf.best_iteration_"
      ],
      "metadata": {
        "colab": {
          "base_uri": "https://localhost:8080/"
        },
        "id": "yMI9magodN0_",
        "outputId": "62f2ea40-048a-430f-d709-e9f27dce7a35"
      },
      "execution_count": null,
      "outputs": [
        {
          "output_type": "execute_result",
          "data": {
            "text/plain": [
              "999"
            ]
          },
          "metadata": {},
          "execution_count": 20
        }
      ]
    },
    {
      "cell_type": "code",
      "source": [
        "gc.collect()"
      ],
      "metadata": {
        "colab": {
          "base_uri": "https://localhost:8080/"
        },
        "id": "pbTphzygkb9-",
        "outputId": "9a5175f7-cc4e-4566-a93c-4e632c9813ab"
      },
      "execution_count": null,
      "outputs": [
        {
          "output_type": "execute_result",
          "data": {
            "text/plain": [
              "584"
            ]
          },
          "metadata": {},
          "execution_count": 21
        }
      ]
    },
    {
      "cell_type": "markdown",
      "source": [
        "# Сохранение модели в файл\n",
        "model.save_model('catboost 5.08.22')\n",
        "# Загрузка модели из файла\n",
        "from_file = cb.CatBoostClassifier()\n",
        "from_file.load_model('catboost 5.08.22')"
      ],
      "metadata": {
        "id": "RG-ki-3pO-Pi"
      }
    },
    {
      "cell_type": "code",
      "source": [
        "clf.save_model('catboost 6.08.22')"
      ],
      "metadata": {
        "id": "hVDbJxafPq-T"
      },
      "execution_count": null,
      "outputs": []
    },
    {
      "cell_type": "code",
      "source": [
        "clf = catboost.CatBoostClassifier()\n",
        "clf.load_model('catboost 6.08.22')"
      ],
      "metadata": {
        "colab": {
          "base_uri": "https://localhost:8080/"
        },
        "id": "unSuHvOoPytX",
        "outputId": "bc1b7750-3868-45b2-f93f-b5e0fe7df730"
      },
      "execution_count": null,
      "outputs": [
        {
          "output_type": "execute_result",
          "data": {
            "text/plain": [
              "<catboost.core.CatBoostClassifier at 0x7fd5c8a77490>"
            ]
          },
          "metadata": {},
          "execution_count": 28
        }
      ]
    },
    {
      "cell_type": "markdown",
      "source": [
        "Предсказываем"
      ],
      "metadata": {
        "id": "m9Mxj14QPhLv"
      }
    },
    {
      "cell_type": "code",
      "source": [
        "vt_pool = catboost.Pool(\n",
        "    X_validate,\n",
        "    cat_features=feature_cat_for_cat\n",
        "    )  \n",
        "\n",
        "tt_pool = catboost.Pool(\n",
        "    X_train,\n",
        "    cat_features=feature_cat_for_cat\n",
        ") \n",
        "y_pred_train = clf.predict(tt_pool)\n",
        "y_pred_val = clf.predict(vt_pool)\n",
        "y_pred_submit = clf.predict(test_pool)\n"
      ],
      "metadata": {
        "id": "NHoK09A8J4T1"
      },
      "execution_count": null,
      "outputs": []
    },
    {
      "cell_type": "code",
      "source": [
        "y_pred_proba_submit = clf.predict_proba(test_pool)"
      ],
      "metadata": {
        "id": "WygkkHZVPQVk"
      },
      "execution_count": null,
      "outputs": []
    },
    {
      "cell_type": "code",
      "source": [
        "gc.collect()"
      ],
      "metadata": {
        "colab": {
          "base_uri": "https://localhost:8080/"
        },
        "id": "yAEl0Zm2k1Yo",
        "outputId": "b379877f-71c6-43a4-9d43-39c29d8e13cb"
      },
      "execution_count": null,
      "outputs": [
        {
          "output_type": "execute_result",
          "data": {
            "text/plain": [
              "88"
            ]
          },
          "metadata": {},
          "execution_count": 25
        }
      ]
    },
    {
      "cell_type": "markdown",
      "source": [
        "Сохраняем результат"
      ],
      "metadata": {
        "id": "JidpGRb7Pl4_"
      }
    },
    {
      "cell_type": "code",
      "source": [
        "len(y_pred_submit)"
      ],
      "metadata": {
        "colab": {
          "base_uri": "https://localhost:8080/"
        },
        "id": "sn9paqBimGNn",
        "outputId": "375fcf37-ce3b-4e05-ab5f-f82f04156020"
      },
      "execution_count": null,
      "outputs": [
        {
          "output_type": "execute_result",
          "data": {
            "text/plain": [
              "506691"
            ]
          },
          "metadata": {},
          "execution_count": 40
        }
      ]
    },
    {
      "cell_type": "code",
      "source": [
        "ID"
      ],
      "metadata": {
        "colab": {
          "base_uri": "https://localhost:8080/",
          "height": 424
        },
        "id": "kbF1YQXymOFc",
        "outputId": "241efacf-c033-4931-d1ed-98a4d08fd4d3"
      },
      "execution_count": null,
      "outputs": [
        {
          "output_type": "execute_result",
          "data": {
            "text/html": [
              "\n",
              "  <div id=\"df-fb87afc7-fa01-4167-8ac1-0c25b7201a21\">\n",
              "    <div class=\"colab-df-container\">\n",
              "      <div>\n",
              "<style scoped>\n",
              "    .dataframe tbody tr th:only-of-type {\n",
              "        vertical-align: middle;\n",
              "    }\n",
              "\n",
              "    .dataframe tbody tr th {\n",
              "        vertical-align: top;\n",
              "    }\n",
              "\n",
              "    .dataframe thead th {\n",
              "        text-align: right;\n",
              "    }\n",
              "</style>\n",
              "<table border=\"1\" class=\"dataframe\">\n",
              "  <thead>\n",
              "    <tr style=\"text-align: right;\">\n",
              "      <th></th>\n",
              "      <th>TransactionID</th>\n",
              "    </tr>\n",
              "  </thead>\n",
              "  <tbody>\n",
              "    <tr>\n",
              "      <th>0</th>\n",
              "      <td>3663549</td>\n",
              "    </tr>\n",
              "    <tr>\n",
              "      <th>1</th>\n",
              "      <td>3663550</td>\n",
              "    </tr>\n",
              "    <tr>\n",
              "      <th>2</th>\n",
              "      <td>3663551</td>\n",
              "    </tr>\n",
              "    <tr>\n",
              "      <th>3</th>\n",
              "      <td>3663552</td>\n",
              "    </tr>\n",
              "    <tr>\n",
              "      <th>4</th>\n",
              "      <td>3663553</td>\n",
              "    </tr>\n",
              "    <tr>\n",
              "      <th>...</th>\n",
              "      <td>...</td>\n",
              "    </tr>\n",
              "    <tr>\n",
              "      <th>506686</th>\n",
              "      <td>4170235</td>\n",
              "    </tr>\n",
              "    <tr>\n",
              "      <th>506687</th>\n",
              "      <td>4170236</td>\n",
              "    </tr>\n",
              "    <tr>\n",
              "      <th>506688</th>\n",
              "      <td>4170237</td>\n",
              "    </tr>\n",
              "    <tr>\n",
              "      <th>506689</th>\n",
              "      <td>4170238</td>\n",
              "    </tr>\n",
              "    <tr>\n",
              "      <th>506690</th>\n",
              "      <td>4170239</td>\n",
              "    </tr>\n",
              "  </tbody>\n",
              "</table>\n",
              "<p>506691 rows × 1 columns</p>\n",
              "</div>\n",
              "      <button class=\"colab-df-convert\" onclick=\"convertToInteractive('df-fb87afc7-fa01-4167-8ac1-0c25b7201a21')\"\n",
              "              title=\"Convert this dataframe to an interactive table.\"\n",
              "              style=\"display:none;\">\n",
              "        \n",
              "  <svg xmlns=\"http://www.w3.org/2000/svg\" height=\"24px\"viewBox=\"0 0 24 24\"\n",
              "       width=\"24px\">\n",
              "    <path d=\"M0 0h24v24H0V0z\" fill=\"none\"/>\n",
              "    <path d=\"M18.56 5.44l.94 2.06.94-2.06 2.06-.94-2.06-.94-.94-2.06-.94 2.06-2.06.94zm-11 1L8.5 8.5l.94-2.06 2.06-.94-2.06-.94L8.5 2.5l-.94 2.06-2.06.94zm10 10l.94 2.06.94-2.06 2.06-.94-2.06-.94-.94-2.06-.94 2.06-2.06.94z\"/><path d=\"M17.41 7.96l-1.37-1.37c-.4-.4-.92-.59-1.43-.59-.52 0-1.04.2-1.43.59L10.3 9.45l-7.72 7.72c-.78.78-.78 2.05 0 2.83L4 21.41c.39.39.9.59 1.41.59.51 0 1.02-.2 1.41-.59l7.78-7.78 2.81-2.81c.8-.78.8-2.07 0-2.86zM5.41 20L4 18.59l7.72-7.72 1.47 1.35L5.41 20z\"/>\n",
              "  </svg>\n",
              "      </button>\n",
              "      \n",
              "  <style>\n",
              "    .colab-df-container {\n",
              "      display:flex;\n",
              "      flex-wrap:wrap;\n",
              "      gap: 12px;\n",
              "    }\n",
              "\n",
              "    .colab-df-convert {\n",
              "      background-color: #E8F0FE;\n",
              "      border: none;\n",
              "      border-radius: 50%;\n",
              "      cursor: pointer;\n",
              "      display: none;\n",
              "      fill: #1967D2;\n",
              "      height: 32px;\n",
              "      padding: 0 0 0 0;\n",
              "      width: 32px;\n",
              "    }\n",
              "\n",
              "    .colab-df-convert:hover {\n",
              "      background-color: #E2EBFA;\n",
              "      box-shadow: 0px 1px 2px rgba(60, 64, 67, 0.3), 0px 1px 3px 1px rgba(60, 64, 67, 0.15);\n",
              "      fill: #174EA6;\n",
              "    }\n",
              "\n",
              "    [theme=dark] .colab-df-convert {\n",
              "      background-color: #3B4455;\n",
              "      fill: #D2E3FC;\n",
              "    }\n",
              "\n",
              "    [theme=dark] .colab-df-convert:hover {\n",
              "      background-color: #434B5C;\n",
              "      box-shadow: 0px 1px 3px 1px rgba(0, 0, 0, 0.15);\n",
              "      filter: drop-shadow(0px 1px 2px rgba(0, 0, 0, 0.3));\n",
              "      fill: #FFFFFF;\n",
              "    }\n",
              "  </style>\n",
              "\n",
              "      <script>\n",
              "        const buttonEl =\n",
              "          document.querySelector('#df-fb87afc7-fa01-4167-8ac1-0c25b7201a21 button.colab-df-convert');\n",
              "        buttonEl.style.display =\n",
              "          google.colab.kernel.accessAllowed ? 'block' : 'none';\n",
              "\n",
              "        async function convertToInteractive(key) {\n",
              "          const element = document.querySelector('#df-fb87afc7-fa01-4167-8ac1-0c25b7201a21');\n",
              "          const dataTable =\n",
              "            await google.colab.kernel.invokeFunction('convertToInteractive',\n",
              "                                                     [key], {});\n",
              "          if (!dataTable) return;\n",
              "\n",
              "          const docLinkHtml = 'Like what you see? Visit the ' +\n",
              "            '<a target=\"_blank\" href=https://colab.research.google.com/notebooks/data_table.ipynb>data table notebook</a>'\n",
              "            + ' to learn more about interactive tables.';\n",
              "          element.innerHTML = '';\n",
              "          dataTable['output_type'] = 'display_data';\n",
              "          await google.colab.output.renderOutput(dataTable, element);\n",
              "          const docLink = document.createElement('div');\n",
              "          docLink.innerHTML = docLinkHtml;\n",
              "          element.appendChild(docLink);\n",
              "        }\n",
              "      </script>\n",
              "    </div>\n",
              "  </div>\n",
              "  "
            ],
            "text/plain": [
              "        TransactionID\n",
              "0             3663549\n",
              "1             3663550\n",
              "2             3663551\n",
              "3             3663552\n",
              "4             3663553\n",
              "...               ...\n",
              "506686        4170235\n",
              "506687        4170236\n",
              "506688        4170237\n",
              "506689        4170238\n",
              "506690        4170239\n",
              "\n",
              "[506691 rows x 1 columns]"
            ]
          },
          "metadata": {},
          "execution_count": 36
        }
      ]
    },
    {
      "cell_type": "code",
      "source": [
        "y_pred_submit.sum()/X_test.shape[0]"
      ],
      "metadata": {
        "colab": {
          "base_uri": "https://localhost:8080/"
        },
        "id": "5dYYWTGTpPYp",
        "outputId": "a3207acb-4516-4e07-f5ca-93e807673685"
      },
      "execution_count": null,
      "outputs": [
        {
          "output_type": "execute_result",
          "data": {
            "text/plain": [
              "0.09122917123059221"
            ]
          },
          "metadata": {},
          "execution_count": 26
        }
      ]
    },
    {
      "cell_type": "code",
      "source": [
        "res=pd.Series(y_pred_submit)"
      ],
      "metadata": {
        "id": "FHT-dfanmh15"
      },
      "execution_count": null,
      "outputs": []
    },
    {
      "cell_type": "code",
      "source": [
        "res"
      ],
      "metadata": {
        "colab": {
          "base_uri": "https://localhost:8080/"
        },
        "id": "BJj7awgjmpY9",
        "outputId": "f37d8657-2923-46c9-9ac1-f820f7a1096e"
      },
      "execution_count": null,
      "outputs": [
        {
          "output_type": "execute_result",
          "data": {
            "text/plain": [
              "0         0\n",
              "1         0\n",
              "2         0\n",
              "3         0\n",
              "4         0\n",
              "         ..\n",
              "506686    0\n",
              "506687    0\n",
              "506688    0\n",
              "506689    0\n",
              "506690    0\n",
              "Length: 506691, dtype: int64"
            ]
          },
          "metadata": {},
          "execution_count": 45
        }
      ]
    },
    {
      "cell_type": "code",
      "source": [
        "y_pred_submit_res=pd.DataFrame(res, columns=['isFraud'])"
      ],
      "metadata": {
        "id": "_GgFXt9IJ_fz"
      },
      "execution_count": null,
      "outputs": []
    },
    {
      "cell_type": "code",
      "source": [
        "y_pred_submit_res=pd.concat([ID, y_pred_submit_res], axis=1)"
      ],
      "metadata": {
        "id": "PvwnPgUBnEI9"
      },
      "execution_count": null,
      "outputs": []
    },
    {
      "cell_type": "code",
      "source": [
        "y_pred_submit_res"
      ],
      "metadata": {
        "id": "-MOHVyO8J_f8",
        "colab": {
          "base_uri": "https://localhost:8080/",
          "height": 424
        },
        "outputId": "db2bba67-b6e1-481e-ba41-43aa37fa23bb"
      },
      "execution_count": null,
      "outputs": [
        {
          "output_type": "execute_result",
          "data": {
            "text/html": [
              "\n",
              "  <div id=\"df-2d87f3cb-7d2c-4c9b-8b6e-d3e57d7ef590\">\n",
              "    <div class=\"colab-df-container\">\n",
              "      <div>\n",
              "<style scoped>\n",
              "    .dataframe tbody tr th:only-of-type {\n",
              "        vertical-align: middle;\n",
              "    }\n",
              "\n",
              "    .dataframe tbody tr th {\n",
              "        vertical-align: top;\n",
              "    }\n",
              "\n",
              "    .dataframe thead th {\n",
              "        text-align: right;\n",
              "    }\n",
              "</style>\n",
              "<table border=\"1\" class=\"dataframe\">\n",
              "  <thead>\n",
              "    <tr style=\"text-align: right;\">\n",
              "      <th></th>\n",
              "      <th>TransactionID</th>\n",
              "      <th>isFraud</th>\n",
              "    </tr>\n",
              "  </thead>\n",
              "  <tbody>\n",
              "    <tr>\n",
              "      <th>0</th>\n",
              "      <td>3663549</td>\n",
              "      <td>0</td>\n",
              "    </tr>\n",
              "    <tr>\n",
              "      <th>1</th>\n",
              "      <td>3663550</td>\n",
              "      <td>0</td>\n",
              "    </tr>\n",
              "    <tr>\n",
              "      <th>2</th>\n",
              "      <td>3663551</td>\n",
              "      <td>0</td>\n",
              "    </tr>\n",
              "    <tr>\n",
              "      <th>3</th>\n",
              "      <td>3663552</td>\n",
              "      <td>0</td>\n",
              "    </tr>\n",
              "    <tr>\n",
              "      <th>4</th>\n",
              "      <td>3663553</td>\n",
              "      <td>0</td>\n",
              "    </tr>\n",
              "    <tr>\n",
              "      <th>...</th>\n",
              "      <td>...</td>\n",
              "      <td>...</td>\n",
              "    </tr>\n",
              "    <tr>\n",
              "      <th>506686</th>\n",
              "      <td>4170235</td>\n",
              "      <td>0</td>\n",
              "    </tr>\n",
              "    <tr>\n",
              "      <th>506687</th>\n",
              "      <td>4170236</td>\n",
              "      <td>0</td>\n",
              "    </tr>\n",
              "    <tr>\n",
              "      <th>506688</th>\n",
              "      <td>4170237</td>\n",
              "      <td>0</td>\n",
              "    </tr>\n",
              "    <tr>\n",
              "      <th>506689</th>\n",
              "      <td>4170238</td>\n",
              "      <td>0</td>\n",
              "    </tr>\n",
              "    <tr>\n",
              "      <th>506690</th>\n",
              "      <td>4170239</td>\n",
              "      <td>0</td>\n",
              "    </tr>\n",
              "  </tbody>\n",
              "</table>\n",
              "<p>506691 rows × 2 columns</p>\n",
              "</div>\n",
              "      <button class=\"colab-df-convert\" onclick=\"convertToInteractive('df-2d87f3cb-7d2c-4c9b-8b6e-d3e57d7ef590')\"\n",
              "              title=\"Convert this dataframe to an interactive table.\"\n",
              "              style=\"display:none;\">\n",
              "        \n",
              "  <svg xmlns=\"http://www.w3.org/2000/svg\" height=\"24px\"viewBox=\"0 0 24 24\"\n",
              "       width=\"24px\">\n",
              "    <path d=\"M0 0h24v24H0V0z\" fill=\"none\"/>\n",
              "    <path d=\"M18.56 5.44l.94 2.06.94-2.06 2.06-.94-2.06-.94-.94-2.06-.94 2.06-2.06.94zm-11 1L8.5 8.5l.94-2.06 2.06-.94-2.06-.94L8.5 2.5l-.94 2.06-2.06.94zm10 10l.94 2.06.94-2.06 2.06-.94-2.06-.94-.94-2.06-.94 2.06-2.06.94z\"/><path d=\"M17.41 7.96l-1.37-1.37c-.4-.4-.92-.59-1.43-.59-.52 0-1.04.2-1.43.59L10.3 9.45l-7.72 7.72c-.78.78-.78 2.05 0 2.83L4 21.41c.39.39.9.59 1.41.59.51 0 1.02-.2 1.41-.59l7.78-7.78 2.81-2.81c.8-.78.8-2.07 0-2.86zM5.41 20L4 18.59l7.72-7.72 1.47 1.35L5.41 20z\"/>\n",
              "  </svg>\n",
              "      </button>\n",
              "      \n",
              "  <style>\n",
              "    .colab-df-container {\n",
              "      display:flex;\n",
              "      flex-wrap:wrap;\n",
              "      gap: 12px;\n",
              "    }\n",
              "\n",
              "    .colab-df-convert {\n",
              "      background-color: #E8F0FE;\n",
              "      border: none;\n",
              "      border-radius: 50%;\n",
              "      cursor: pointer;\n",
              "      display: none;\n",
              "      fill: #1967D2;\n",
              "      height: 32px;\n",
              "      padding: 0 0 0 0;\n",
              "      width: 32px;\n",
              "    }\n",
              "\n",
              "    .colab-df-convert:hover {\n",
              "      background-color: #E2EBFA;\n",
              "      box-shadow: 0px 1px 2px rgba(60, 64, 67, 0.3), 0px 1px 3px 1px rgba(60, 64, 67, 0.15);\n",
              "      fill: #174EA6;\n",
              "    }\n",
              "\n",
              "    [theme=dark] .colab-df-convert {\n",
              "      background-color: #3B4455;\n",
              "      fill: #D2E3FC;\n",
              "    }\n",
              "\n",
              "    [theme=dark] .colab-df-convert:hover {\n",
              "      background-color: #434B5C;\n",
              "      box-shadow: 0px 1px 3px 1px rgba(0, 0, 0, 0.15);\n",
              "      filter: drop-shadow(0px 1px 2px rgba(0, 0, 0, 0.3));\n",
              "      fill: #FFFFFF;\n",
              "    }\n",
              "  </style>\n",
              "\n",
              "      <script>\n",
              "        const buttonEl =\n",
              "          document.querySelector('#df-2d87f3cb-7d2c-4c9b-8b6e-d3e57d7ef590 button.colab-df-convert');\n",
              "        buttonEl.style.display =\n",
              "          google.colab.kernel.accessAllowed ? 'block' : 'none';\n",
              "\n",
              "        async function convertToInteractive(key) {\n",
              "          const element = document.querySelector('#df-2d87f3cb-7d2c-4c9b-8b6e-d3e57d7ef590');\n",
              "          const dataTable =\n",
              "            await google.colab.kernel.invokeFunction('convertToInteractive',\n",
              "                                                     [key], {});\n",
              "          if (!dataTable) return;\n",
              "\n",
              "          const docLinkHtml = 'Like what you see? Visit the ' +\n",
              "            '<a target=\"_blank\" href=https://colab.research.google.com/notebooks/data_table.ipynb>data table notebook</a>'\n",
              "            + ' to learn more about interactive tables.';\n",
              "          element.innerHTML = '';\n",
              "          dataTable['output_type'] = 'display_data';\n",
              "          await google.colab.output.renderOutput(dataTable, element);\n",
              "          const docLink = document.createElement('div');\n",
              "          docLink.innerHTML = docLinkHtml;\n",
              "          element.appendChild(docLink);\n",
              "        }\n",
              "      </script>\n",
              "    </div>\n",
              "  </div>\n",
              "  "
            ],
            "text/plain": [
              "        TransactionID  isFraud\n",
              "0             3663549        0\n",
              "1             3663550        0\n",
              "2             3663551        0\n",
              "3             3663552        0\n",
              "4             3663553        0\n",
              "...               ...      ...\n",
              "506686        4170235        0\n",
              "506687        4170236        0\n",
              "506688        4170237        0\n",
              "506689        4170238        0\n",
              "506690        4170239        0\n",
              "\n",
              "[506691 rows x 2 columns]"
            ]
          },
          "metadata": {},
          "execution_count": 30
        }
      ]
    },
    {
      "cell_type": "code",
      "source": [
        "y_pred_submit_res.to_csv('/content/drive/MyDrive/Classroom/submit_isFraud_06_02_try6_4.csv', index=False)"
      ],
      "metadata": {
        "id": "897Bwc-zJ_f9"
      },
      "execution_count": null,
      "outputs": []
    },
    {
      "cell_type": "code",
      "source": [
        "y.sum()/y.shape[0]"
      ],
      "metadata": {
        "colab": {
          "base_uri": "https://localhost:8080/"
        },
        "id": "Pi2KwwWwBasO",
        "outputId": "d6ef15b1-abf5-4df2-a527-bda02bc6184b"
      },
      "execution_count": null,
      "outputs": [
        {
          "output_type": "execute_result",
          "data": {
            "text/plain": [
              "isFraud    0.03499\n",
              "dtype: float64"
            ]
          },
          "metadata": {},
          "execution_count": 73
        }
      ]
    },
    {
      "cell_type": "code",
      "source": [
        "y_pred_submit_res.isFraud.sum()/y_pred_submit_res.shape[0]"
      ],
      "metadata": {
        "colab": {
          "base_uri": "https://localhost:8080/"
        },
        "id": "Lc5XToiHBk5I",
        "outputId": "e935f51d-a058-44a4-965b-6738103835b9"
      },
      "execution_count": null,
      "outputs": [
        {
          "output_type": "execute_result",
          "data": {
            "text/plain": [
              "0.09122917123059221"
            ]
          },
          "metadata": {},
          "execution_count": 32
        }
      ]
    },
    {
      "cell_type": "code",
      "source": [
        "proba=pd.DataFrame(y_pred_proba_submit)"
      ],
      "metadata": {
        "id": "unq-fgbtXFkE"
      },
      "execution_count": null,
      "outputs": []
    },
    {
      "cell_type": "code",
      "source": [
        "proba"
      ],
      "metadata": {
        "colab": {
          "base_uri": "https://localhost:8080/",
          "height": 424
        },
        "id": "7OiyDIq2Xapq",
        "outputId": "d6953f36-9f38-4532-a430-8c91329c41f8"
      },
      "execution_count": null,
      "outputs": [
        {
          "output_type": "execute_result",
          "data": {
            "text/html": [
              "\n",
              "  <div id=\"df-54161a42-4de2-4f83-94c3-88816acd4be6\">\n",
              "    <div class=\"colab-df-container\">\n",
              "      <div>\n",
              "<style scoped>\n",
              "    .dataframe tbody tr th:only-of-type {\n",
              "        vertical-align: middle;\n",
              "    }\n",
              "\n",
              "    .dataframe tbody tr th {\n",
              "        vertical-align: top;\n",
              "    }\n",
              "\n",
              "    .dataframe thead th {\n",
              "        text-align: right;\n",
              "    }\n",
              "</style>\n",
              "<table border=\"1\" class=\"dataframe\">\n",
              "  <thead>\n",
              "    <tr style=\"text-align: right;\">\n",
              "      <th></th>\n",
              "      <th>0</th>\n",
              "      <th>1</th>\n",
              "    </tr>\n",
              "  </thead>\n",
              "  <tbody>\n",
              "    <tr>\n",
              "      <th>0</th>\n",
              "      <td>0.979801</td>\n",
              "      <td>0.020199</td>\n",
              "    </tr>\n",
              "    <tr>\n",
              "      <th>1</th>\n",
              "      <td>0.813978</td>\n",
              "      <td>0.186022</td>\n",
              "    </tr>\n",
              "    <tr>\n",
              "      <th>2</th>\n",
              "      <td>0.994002</td>\n",
              "      <td>0.005998</td>\n",
              "    </tr>\n",
              "    <tr>\n",
              "      <th>3</th>\n",
              "      <td>0.956343</td>\n",
              "      <td>0.043657</td>\n",
              "    </tr>\n",
              "    <tr>\n",
              "      <th>4</th>\n",
              "      <td>0.929936</td>\n",
              "      <td>0.070064</td>\n",
              "    </tr>\n",
              "    <tr>\n",
              "      <th>...</th>\n",
              "      <td>...</td>\n",
              "      <td>...</td>\n",
              "    </tr>\n",
              "    <tr>\n",
              "      <th>506686</th>\n",
              "      <td>0.729123</td>\n",
              "      <td>0.270877</td>\n",
              "    </tr>\n",
              "    <tr>\n",
              "      <th>506687</th>\n",
              "      <td>0.909539</td>\n",
              "      <td>0.090461</td>\n",
              "    </tr>\n",
              "    <tr>\n",
              "      <th>506688</th>\n",
              "      <td>0.864358</td>\n",
              "      <td>0.135642</td>\n",
              "    </tr>\n",
              "    <tr>\n",
              "      <th>506689</th>\n",
              "      <td>0.783868</td>\n",
              "      <td>0.216132</td>\n",
              "    </tr>\n",
              "    <tr>\n",
              "      <th>506690</th>\n",
              "      <td>0.899538</td>\n",
              "      <td>0.100462</td>\n",
              "    </tr>\n",
              "  </tbody>\n",
              "</table>\n",
              "<p>506691 rows × 2 columns</p>\n",
              "</div>\n",
              "      <button class=\"colab-df-convert\" onclick=\"convertToInteractive('df-54161a42-4de2-4f83-94c3-88816acd4be6')\"\n",
              "              title=\"Convert this dataframe to an interactive table.\"\n",
              "              style=\"display:none;\">\n",
              "        \n",
              "  <svg xmlns=\"http://www.w3.org/2000/svg\" height=\"24px\"viewBox=\"0 0 24 24\"\n",
              "       width=\"24px\">\n",
              "    <path d=\"M0 0h24v24H0V0z\" fill=\"none\"/>\n",
              "    <path d=\"M18.56 5.44l.94 2.06.94-2.06 2.06-.94-2.06-.94-.94-2.06-.94 2.06-2.06.94zm-11 1L8.5 8.5l.94-2.06 2.06-.94-2.06-.94L8.5 2.5l-.94 2.06-2.06.94zm10 10l.94 2.06.94-2.06 2.06-.94-2.06-.94-.94-2.06-.94 2.06-2.06.94z\"/><path d=\"M17.41 7.96l-1.37-1.37c-.4-.4-.92-.59-1.43-.59-.52 0-1.04.2-1.43.59L10.3 9.45l-7.72 7.72c-.78.78-.78 2.05 0 2.83L4 21.41c.39.39.9.59 1.41.59.51 0 1.02-.2 1.41-.59l7.78-7.78 2.81-2.81c.8-.78.8-2.07 0-2.86zM5.41 20L4 18.59l7.72-7.72 1.47 1.35L5.41 20z\"/>\n",
              "  </svg>\n",
              "      </button>\n",
              "      \n",
              "  <style>\n",
              "    .colab-df-container {\n",
              "      display:flex;\n",
              "      flex-wrap:wrap;\n",
              "      gap: 12px;\n",
              "    }\n",
              "\n",
              "    .colab-df-convert {\n",
              "      background-color: #E8F0FE;\n",
              "      border: none;\n",
              "      border-radius: 50%;\n",
              "      cursor: pointer;\n",
              "      display: none;\n",
              "      fill: #1967D2;\n",
              "      height: 32px;\n",
              "      padding: 0 0 0 0;\n",
              "      width: 32px;\n",
              "    }\n",
              "\n",
              "    .colab-df-convert:hover {\n",
              "      background-color: #E2EBFA;\n",
              "      box-shadow: 0px 1px 2px rgba(60, 64, 67, 0.3), 0px 1px 3px 1px rgba(60, 64, 67, 0.15);\n",
              "      fill: #174EA6;\n",
              "    }\n",
              "\n",
              "    [theme=dark] .colab-df-convert {\n",
              "      background-color: #3B4455;\n",
              "      fill: #D2E3FC;\n",
              "    }\n",
              "\n",
              "    [theme=dark] .colab-df-convert:hover {\n",
              "      background-color: #434B5C;\n",
              "      box-shadow: 0px 1px 3px 1px rgba(0, 0, 0, 0.15);\n",
              "      filter: drop-shadow(0px 1px 2px rgba(0, 0, 0, 0.3));\n",
              "      fill: #FFFFFF;\n",
              "    }\n",
              "  </style>\n",
              "\n",
              "      <script>\n",
              "        const buttonEl =\n",
              "          document.querySelector('#df-54161a42-4de2-4f83-94c3-88816acd4be6 button.colab-df-convert');\n",
              "        buttonEl.style.display =\n",
              "          google.colab.kernel.accessAllowed ? 'block' : 'none';\n",
              "\n",
              "        async function convertToInteractive(key) {\n",
              "          const element = document.querySelector('#df-54161a42-4de2-4f83-94c3-88816acd4be6');\n",
              "          const dataTable =\n",
              "            await google.colab.kernel.invokeFunction('convertToInteractive',\n",
              "                                                     [key], {});\n",
              "          if (!dataTable) return;\n",
              "\n",
              "          const docLinkHtml = 'Like what you see? Visit the ' +\n",
              "            '<a target=\"_blank\" href=https://colab.research.google.com/notebooks/data_table.ipynb>data table notebook</a>'\n",
              "            + ' to learn more about interactive tables.';\n",
              "          element.innerHTML = '';\n",
              "          dataTable['output_type'] = 'display_data';\n",
              "          await google.colab.output.renderOutput(dataTable, element);\n",
              "          const docLink = document.createElement('div');\n",
              "          docLink.innerHTML = docLinkHtml;\n",
              "          element.appendChild(docLink);\n",
              "        }\n",
              "      </script>\n",
              "    </div>\n",
              "  </div>\n",
              "  "
            ],
            "text/plain": [
              "               0         1\n",
              "0       0.979801  0.020199\n",
              "1       0.813978  0.186022\n",
              "2       0.994002  0.005998\n",
              "3       0.956343  0.043657\n",
              "4       0.929936  0.070064\n",
              "...          ...       ...\n",
              "506686  0.729123  0.270877\n",
              "506687  0.909539  0.090461\n",
              "506688  0.864358  0.135642\n",
              "506689  0.783868  0.216132\n",
              "506690  0.899538  0.100462\n",
              "\n",
              "[506691 rows x 2 columns]"
            ]
          },
          "metadata": {},
          "execution_count": 34
        }
      ]
    },
    {
      "cell_type": "code",
      "source": [
        "proba[1]"
      ],
      "metadata": {
        "colab": {
          "base_uri": "https://localhost:8080/"
        },
        "id": "C7kNWwO9ZXj5",
        "outputId": "eafebf56-9c66-4e68-f5cf-8f6d0b5b16ef"
      },
      "execution_count": null,
      "outputs": [
        {
          "output_type": "execute_result",
          "data": {
            "text/plain": [
              "0         0.008725\n",
              "1         0.019236\n",
              "2         0.000476\n",
              "3         0.007880\n",
              "4         0.036358\n",
              "            ...   \n",
              "506686    0.214238\n",
              "506687    0.032585\n",
              "506688    0.085328\n",
              "506689    0.112674\n",
              "506690    0.062610\n",
              "Name: 1, Length: 506691, dtype: float64"
            ]
          },
          "metadata": {},
          "execution_count": 50
        }
      ]
    },
    {
      "cell_type": "code",
      "source": [
        "submission = pd.DataFrame(columns=['TransactionID'], data= ID)\n",
        "submission['isFraud'] = proba[1]\n",
        "submission.head()\n",
        "# submission.isFraud.value_counts()"
      ],
      "metadata": {
        "id": "BGyQkbU9YBET",
        "colab": {
          "base_uri": "https://localhost:8080/",
          "height": 206
        },
        "outputId": "f1bad234-a155-4de8-892a-62489fa85aa5"
      },
      "execution_count": null,
      "outputs": [
        {
          "output_type": "execute_result",
          "data": {
            "text/html": [
              "\n",
              "  <div id=\"df-91428931-dccb-4ec0-b38e-8886482e0f0b\">\n",
              "    <div class=\"colab-df-container\">\n",
              "      <div>\n",
              "<style scoped>\n",
              "    .dataframe tbody tr th:only-of-type {\n",
              "        vertical-align: middle;\n",
              "    }\n",
              "\n",
              "    .dataframe tbody tr th {\n",
              "        vertical-align: top;\n",
              "    }\n",
              "\n",
              "    .dataframe thead th {\n",
              "        text-align: right;\n",
              "    }\n",
              "</style>\n",
              "<table border=\"1\" class=\"dataframe\">\n",
              "  <thead>\n",
              "    <tr style=\"text-align: right;\">\n",
              "      <th></th>\n",
              "      <th>TransactionID</th>\n",
              "      <th>isFraud</th>\n",
              "    </tr>\n",
              "  </thead>\n",
              "  <tbody>\n",
              "    <tr>\n",
              "      <th>0</th>\n",
              "      <td>3663549</td>\n",
              "      <td>0.020199</td>\n",
              "    </tr>\n",
              "    <tr>\n",
              "      <th>1</th>\n",
              "      <td>3663550</td>\n",
              "      <td>0.186022</td>\n",
              "    </tr>\n",
              "    <tr>\n",
              "      <th>2</th>\n",
              "      <td>3663551</td>\n",
              "      <td>0.005998</td>\n",
              "    </tr>\n",
              "    <tr>\n",
              "      <th>3</th>\n",
              "      <td>3663552</td>\n",
              "      <td>0.043657</td>\n",
              "    </tr>\n",
              "    <tr>\n",
              "      <th>4</th>\n",
              "      <td>3663553</td>\n",
              "      <td>0.070064</td>\n",
              "    </tr>\n",
              "  </tbody>\n",
              "</table>\n",
              "</div>\n",
              "      <button class=\"colab-df-convert\" onclick=\"convertToInteractive('df-91428931-dccb-4ec0-b38e-8886482e0f0b')\"\n",
              "              title=\"Convert this dataframe to an interactive table.\"\n",
              "              style=\"display:none;\">\n",
              "        \n",
              "  <svg xmlns=\"http://www.w3.org/2000/svg\" height=\"24px\"viewBox=\"0 0 24 24\"\n",
              "       width=\"24px\">\n",
              "    <path d=\"M0 0h24v24H0V0z\" fill=\"none\"/>\n",
              "    <path d=\"M18.56 5.44l.94 2.06.94-2.06 2.06-.94-2.06-.94-.94-2.06-.94 2.06-2.06.94zm-11 1L8.5 8.5l.94-2.06 2.06-.94-2.06-.94L8.5 2.5l-.94 2.06-2.06.94zm10 10l.94 2.06.94-2.06 2.06-.94-2.06-.94-.94-2.06-.94 2.06-2.06.94z\"/><path d=\"M17.41 7.96l-1.37-1.37c-.4-.4-.92-.59-1.43-.59-.52 0-1.04.2-1.43.59L10.3 9.45l-7.72 7.72c-.78.78-.78 2.05 0 2.83L4 21.41c.39.39.9.59 1.41.59.51 0 1.02-.2 1.41-.59l7.78-7.78 2.81-2.81c.8-.78.8-2.07 0-2.86zM5.41 20L4 18.59l7.72-7.72 1.47 1.35L5.41 20z\"/>\n",
              "  </svg>\n",
              "      </button>\n",
              "      \n",
              "  <style>\n",
              "    .colab-df-container {\n",
              "      display:flex;\n",
              "      flex-wrap:wrap;\n",
              "      gap: 12px;\n",
              "    }\n",
              "\n",
              "    .colab-df-convert {\n",
              "      background-color: #E8F0FE;\n",
              "      border: none;\n",
              "      border-radius: 50%;\n",
              "      cursor: pointer;\n",
              "      display: none;\n",
              "      fill: #1967D2;\n",
              "      height: 32px;\n",
              "      padding: 0 0 0 0;\n",
              "      width: 32px;\n",
              "    }\n",
              "\n",
              "    .colab-df-convert:hover {\n",
              "      background-color: #E2EBFA;\n",
              "      box-shadow: 0px 1px 2px rgba(60, 64, 67, 0.3), 0px 1px 3px 1px rgba(60, 64, 67, 0.15);\n",
              "      fill: #174EA6;\n",
              "    }\n",
              "\n",
              "    [theme=dark] .colab-df-convert {\n",
              "      background-color: #3B4455;\n",
              "      fill: #D2E3FC;\n",
              "    }\n",
              "\n",
              "    [theme=dark] .colab-df-convert:hover {\n",
              "      background-color: #434B5C;\n",
              "      box-shadow: 0px 1px 3px 1px rgba(0, 0, 0, 0.15);\n",
              "      filter: drop-shadow(0px 1px 2px rgba(0, 0, 0, 0.3));\n",
              "      fill: #FFFFFF;\n",
              "    }\n",
              "  </style>\n",
              "\n",
              "      <script>\n",
              "        const buttonEl =\n",
              "          document.querySelector('#df-91428931-dccb-4ec0-b38e-8886482e0f0b button.colab-df-convert');\n",
              "        buttonEl.style.display =\n",
              "          google.colab.kernel.accessAllowed ? 'block' : 'none';\n",
              "\n",
              "        async function convertToInteractive(key) {\n",
              "          const element = document.querySelector('#df-91428931-dccb-4ec0-b38e-8886482e0f0b');\n",
              "          const dataTable =\n",
              "            await google.colab.kernel.invokeFunction('convertToInteractive',\n",
              "                                                     [key], {});\n",
              "          if (!dataTable) return;\n",
              "\n",
              "          const docLinkHtml = 'Like what you see? Visit the ' +\n",
              "            '<a target=\"_blank\" href=https://colab.research.google.com/notebooks/data_table.ipynb>data table notebook</a>'\n",
              "            + ' to learn more about interactive tables.';\n",
              "          element.innerHTML = '';\n",
              "          dataTable['output_type'] = 'display_data';\n",
              "          await google.colab.output.renderOutput(dataTable, element);\n",
              "          const docLink = document.createElement('div');\n",
              "          docLink.innerHTML = docLinkHtml;\n",
              "          element.appendChild(docLink);\n",
              "        }\n",
              "      </script>\n",
              "    </div>\n",
              "  </div>\n",
              "  "
            ],
            "text/plain": [
              "   TransactionID   isFraud\n",
              "0        3663549  0.020199\n",
              "1        3663550  0.186022\n",
              "2        3663551  0.005998\n",
              "3        3663552  0.043657\n",
              "4        3663553  0.070064"
            ]
          },
          "metadata": {},
          "execution_count": 35
        }
      ]
    },
    {
      "cell_type": "code",
      "source": [
        "submission.isFraud.value_counts()"
      ],
      "metadata": {
        "colab": {
          "base_uri": "https://localhost:8080/"
        },
        "id": "C2xQq0VfZldx",
        "outputId": "53775d24-2a4c-4d57-bb08-6ef4182d260b"
      },
      "execution_count": null,
      "outputs": [
        {
          "output_type": "execute_result",
          "data": {
            "text/plain": [
              "0.851243    10\n",
              "0.050623     6\n",
              "0.990885     6\n",
              "0.008221     6\n",
              "0.999338     5\n",
              "            ..\n",
              "0.070424     1\n",
              "0.045712     1\n",
              "0.080231     1\n",
              "0.044641     1\n",
              "0.100462     1\n",
              "Name: isFraud, Length: 506234, dtype: int64"
            ]
          },
          "metadata": {},
          "execution_count": 36
        }
      ]
    },
    {
      "cell_type": "code",
      "source": [
        "submission.to_csv('/content/drive/MyDrive/Classroom/submit_isFraud_06_02_try6_3_proba.csv', index=False)"
      ],
      "metadata": {
        "id": "Hy0CEE4mZrv7"
      },
      "execution_count": null,
      "outputs": []
    },
    {
      "cell_type": "markdown",
      "source": [
        "#Анализируем результат"
      ],
      "metadata": {
        "id": "4yDdWUbmP1Ev"
      }
    },
    {
      "cell_type": "code",
      "source": [
        "gc.collect()"
      ],
      "metadata": {
        "colab": {
          "base_uri": "https://localhost:8080/"
        },
        "id": "q9L5Zptv4uAe",
        "outputId": "27b5ae19-de62-43c2-972e-39d9d6037239"
      },
      "execution_count": null,
      "outputs": [
        {
          "output_type": "execute_result",
          "data": {
            "text/plain": [
              "248"
            ]
          },
          "metadata": {},
          "execution_count": 38
        }
      ]
    },
    {
      "cell_type": "markdown",
      "source": [
        "График обучения"
      ],
      "metadata": {
        "id": "kJCnggY-3X1m"
      }
    },
    {
      "cell_type": "code",
      "source": [
        "hist = clf.get_evals_result()\n",
        "plt.plot(list(hist['learn'].values())[0], label= 'train')\n",
        "plt.plot(list(hist['validation'].values())[0], label = 'test')\n",
        "plt.ylabel('loss')\n",
        "plt.xlabel('iterations')\n",
        "plt.legend()\n",
        "plt.show()"
      ],
      "metadata": {
        "id": "7FxpSLVG__YV",
        "colab": {
          "base_uri": "https://localhost:8080/",
          "height": 279
        },
        "outputId": "b7288cb6-6220-4737-a9bf-f4bb1c144f03"
      },
      "execution_count": null,
      "outputs": [
        {
          "output_type": "display_data",
          "data": {
            "image/png": "[encoded data removed]",
            "text/plain": [
              "<Figure size 432x288 with 1 Axes>"
            ]
          },
          "metadata": {
            "needs_background": "light"
          }
        }
      ]
    },
    {
      "cell_type": "code",
      "source": [
        "feature_import=sorted(\n",
        "    zip(X_train.columns, clf.feature_importances_), \n",
        "    key=lambda p: p[1], \n",
        "    reverse=True\n",
        ")"
      ],
      "metadata": {
        "id": "KUu9lX-8Ih_I"
      },
      "execution_count": null,
      "outputs": []
    },
    {
      "cell_type": "markdown",
      "source": [
        "Сохраняем feature_import"
      ],
      "metadata": {
        "id": "DUlcDGKpQGMb"
      }
    },
    {
      "cell_type": "code",
      "source": [
        "feature_import"
      ],
      "metadata": {
        "id": "9DUe-CIdHiEI",
        "colab": {
          "base_uri": "https://localhost:8080/"
        },
        "outputId": "51b92244-f8ed-4f16-de2e-a92b9595f041"
      },
      "execution_count": null,
      "outputs": [
        {
          "output_type": "execute_result",
          "data": {
            "text/plain": [
              "[('C1', 7.166967262442168),\n",
              " ('card1', 5.831428207868163),\n",
              " ('C14', 4.442678219332582),\n",
              " ('TransactionAmt', 4.1660810209057715),\n",
              " ('card_card', 4.136573641639178),\n",
              " ('P_emaildomain', 3.4717807896868162),\n",
              " ('C13', 3.2986595854192884),\n",
              " ('dist', 3.1096590442697467),\n",
              " ('addr1', 2.923077096699045),\n",
              " ('card2', 2.4531535191085427),\n",
              " ('M5', 2.3380819150415966),\n",
              " ('DeviceInfo', 1.9553414016263935),\n",
              " ('D2', 1.8926735251967406),\n",
              " ('C6', 1.721515924037286),\n",
              " ('R_emaildomain', 1.6315421200134836),\n",
              " ('V258', 1.5917519469046566),\n",
              " ('D15', 1.5476790262444797),\n",
              " ('id_19', 1.4432230705044995),\n",
              " ('C11', 1.3649188240884342),\n",
              " ('M6', 1.2753333694241642),\n",
              " ('dist1', 1.16558654004413),\n",
              " ('card5', 1.1525819754318276),\n",
              " ('M4', 1.1283230012658736),\n",
              " ('ProductCD', 1.097265919001573),\n",
              " ('C5', 1.0398904025456943),\n",
              " ('addr', 1.014200826827139),\n",
              " ('V308', 1.005352143479031),\n",
              " ('D4', 0.9647404568377648),\n",
              " ('C2', 0.9409218095674778),\n",
              " ('V317', 0.9346729751294952),\n",
              " ('id_31', 0.9256376561903829),\n",
              " ('id_20', 0.9135569117892899),\n",
              " ('D11', 0.8973693008375819),\n",
              " ('D1', 0.8927812016521716),\n",
              " ('D3', 0.8773295480177606),\n",
              " ('V70', 0.8700801992928158),\n",
              " ('D8', 0.7722735111979285),\n",
              " ('C9', 0.7378788650545308),\n",
              " ('D10', 0.7306641151786549),\n",
              " ('D5', 0.719690780212042),\n",
              " ('V91', 0.6970778299844923),\n",
              " ('Hr', 0.5684473752914261),\n",
              " ('id_33', 0.5597017921529989),\n",
              " ('V201', 0.5079281258826224),\n",
              " ('C8', 0.494975541068353),\n",
              " ('M3', 0.49416844056575904),\n",
              " ('V307', 0.49403837271656037),\n",
              " ('card6', 0.49193489940420365),\n",
              " ('V294', 0.466888378786407),\n",
              " ('V283', 0.440576266512794),\n",
              " ('V281', 0.4336681756973291),\n",
              " ('id_14', 0.4116144432956468),\n",
              " ('V310', 0.3911604993128846),\n",
              " ('V285', 0.378475949297224),\n",
              " ('V67', 0.37199802406058535),\n",
              " ('card3', 0.36061573616712095),\n",
              " ('id_34', 0.3600961070526267),\n",
              " ('V165', 0.35169637171039503),\n",
              " ('V87', 0.3378455474867125),\n",
              " ('day', 0.3232476378341718),\n",
              " ('V75', 0.31529999147107673),\n",
              " ('M9', 0.31051745091382815),\n",
              " ('M2', 0.2771865681062143),\n",
              " ('V187', 0.27584270491382085),\n",
              " ('V309', 0.27235671304717546),\n",
              " ('V311', 0.2695865183086419),\n",
              " ('V90', 0.2686984722491985),\n",
              " ('id_18', 0.26119827357810593),\n",
              " ('V82', 0.2595633733988381),\n",
              " ('V55', 0.2593066591977605),\n",
              " ('V312', 0.24307522300182519),\n",
              " ('id_38', 0.22287375441731672),\n",
              " ('V313', 0.2164282716103821),\n",
              " ('id_13', 0.21454819748781123),\n",
              " ('V45', 0.20682317990830582),\n",
              " ('C4', 0.2054620304797154),\n",
              " ('D13', 0.2005601446306354),\n",
              " ('V76', 0.19837308595839684),\n",
              " ('card4', 0.19710069403439356),\n",
              " ('C3', 0.19550818087226873),\n",
              " ('V102', 0.19481504833491678),\n",
              " ('M8', 0.18718878140327663),\n",
              " ('V83', 0.18345112011484055),\n",
              " ('V130', 0.1715391333435294),\n",
              " ('V189', 0.16255161472763435),\n",
              " ('V126', 0.16038095526115012),\n",
              " ('V128', 0.16025899528279502),\n",
              " ('V62', 0.159109947359882),\n",
              " ('DeviceType', 0.15736606706105727),\n",
              " ('V164', 0.15711722864196492),\n",
              " ('V133', 0.15539110589007862),\n",
              " ('V143', 0.14917126186462726),\n",
              " ('V5', 0.1486616965127672),\n",
              " ('V49', 0.14651138531268962),\n",
              " ('M7', 0.14215071726103737),\n",
              " ('V71', 0.1409469974192439),\n",
              " ('id_30', 0.1393155232103124),\n",
              " ('V314', 0.13749860177102008),\n",
              " ('V315', 0.13549328519572212),\n",
              " ('V293', 0.13277560821956752),\n",
              " ('V35', 0.12926677735907438),\n",
              " ('V280', 0.12582610842008995),\n",
              " ('id_12', 0.12015035044448098),\n",
              " ('V316', 0.11861390633592477),\n",
              " ('V54', 0.11852814385253417),\n",
              " ('V69', 0.1183150879948335),\n",
              " ('V72', 0.11660678454859306),\n",
              " ('V99', 0.11234581651588291),\n",
              " ('V13', 0.11077273931611628),\n",
              " ('D12', 0.11013177540436425),\n",
              " ('V145', 0.10972214596859751),\n",
              " ('V291', 0.10768250939213174),\n",
              " ('V320', 0.107343338548847),\n",
              " ('id_15', 0.10684699828332124),\n",
              " ('V159', 0.10473195741936858),\n",
              " ('V129', 0.10176920198387576),\n",
              " ('V29', 0.10098731655422605),\n",
              " ('V86', 0.09423440609912101),\n",
              " ('V206', 0.09407271757936404),\n",
              " ('addr2', 0.09354940297314439),\n",
              " ('id_16', 0.09219697865818664),\n",
              " ('V48', 0.08792323387713648),\n",
              " ('V56', 0.08613323679265286),\n",
              " ('V127', 0.0861247215588185),\n",
              " ('D6', 0.08267644871917655),\n",
              " ('V166', 0.0795004347204409),\n",
              " ('V136', 0.07864595925947582),\n",
              " ('V10', 0.07806250039056177),\n",
              " ('V135', 0.07749613336757605),\n",
              " ('V286', 0.0767935870789276),\n",
              " ('V19', 0.07655114649548952),\n",
              " ('V20', 0.07605570171253818),\n",
              " ('V63', 0.0758944199312007),\n",
              " ('id_37', 0.07044081185659677),\n",
              " ('V306', 0.07033114002948111),\n",
              " ('V26', 0.07016911902104292),\n",
              " ('V150', 0.06970653262860042),\n",
              " ('id_29', 0.06938880063797306),\n",
              " ('V6', 0.06837657478009589),\n",
              " ('id_36', 0.0679107952619269),\n",
              " ('V149', 0.0673317697934743),\n",
              " ('V2', 0.06728469191425097),\n",
              " ('V11', 0.06714264918626324),\n",
              " ('V23', 0.06445398209770695),\n",
              " ('D7', 0.06337417027552537),\n",
              " ('V59', 0.06330641648791697),\n",
              " ('V66', 0.06256321237218786),\n",
              " ('V7', 0.061777245088421494),\n",
              " ('V200', 0.06126027750026946),\n",
              " ('M1', 0.058554096984324525),\n",
              " ('V44', 0.0583823592578322),\n",
              " ('V30', 0.0578736556775481),\n",
              " ('V61', 0.057499906508556936),\n",
              " ('V81', 0.05747081520749049),\n",
              " ('V162', 0.05697274530132097),\n",
              " ('V53', 0.05456035042820507),\n",
              " ('V234', 0.053920395120246795),\n",
              " ('V36', 0.05266964364985882),\n",
              " ('V109', 0.04972303824861512),\n",
              " ('V96', 0.04810010883563137),\n",
              " ('V38', 0.046938253625524125),\n",
              " ('V33', 0.04587374091290098),\n",
              " ('V108', 0.04395337045841153),\n",
              " ('V215', 0.043552979294643544),\n",
              " ('V300', 0.04210084187264801),\n",
              " ('V279', 0.04165220682355333),\n",
              " ('V160', 0.04060937598615654),\n",
              " ('id_17', 0.040526111667691794),\n",
              " ('id_28', 0.040252963839584446),\n",
              " ('V12', 0.0388776349424862),\n",
              " ('V8', 0.03853313897419968),\n",
              " ('V171', 0.03789703522090267),\n",
              " ('V250', 0.03703086395721098),\n",
              " ('V319', 0.03682140518959355),\n",
              " ('V232', 0.03592487283808137),\n",
              " ('V322', 0.03579363816099234),\n",
              " ('V163', 0.03427286013334403),\n",
              " ('C7', 0.03397864176146098),\n",
              " ('dist2', 0.0335996543278999),\n",
              " ('V335', 0.03178375788077854),\n",
              " ('V290', 0.03171768423872983),\n",
              " ('V37', 0.029918435812327542),\n",
              " ('V131', 0.029048075703631306),\n",
              " ('V151', 0.02657346602229576),\n",
              " ('V173', 0.02448958847345068),\n",
              " ('V3', 0.02205837329679194),\n",
              " ('V284', 0.021487542810655513),\n",
              " ('D14', 0.021434256575442664),\n",
              " ('V301', 0.021428476877457914),\n",
              " ('V110', 0.02103220565214141),\n",
              " ('V124', 0.02038326033504463),\n",
              " ('V203', 0.018404065163613734),\n",
              " ('V98', 0.017928106684645263),\n",
              " ('V154', 0.017905614130389734),\n",
              " ('V43', 0.017895479715854996),\n",
              " ('V105', 0.01764883177539133),\n",
              " ('V85', 0.017462145767389126),\n",
              " ('V271', 0.017035308621817416),\n",
              " ('V78', 0.016058300187470224),\n",
              " ('V137', 0.015578410604792889),\n",
              " ('V216', 0.014702065549767765),\n",
              " ('V39', 0.01411570393781035),\n",
              " ('V332', 0.013009909700072155),\n",
              " ('V178', 0.012896049431686436),\n",
              " ('V321', 0.012613003233930583),\n",
              " ('V77', 0.012606373978210192),\n",
              " ('V318', 0.01226332620770565),\n",
              " ('V182', 0.01226298293666427),\n",
              " ('V51', 0.011737494618513642),\n",
              " ('C10', 0.011581989213424265),\n",
              " ('V334', 0.01156788140148033),\n",
              " ('V268', 0.011437342345136912),\n",
              " ('V337', 0.011233052553930152),\n",
              " ('V292', 0.011016377828714898),\n",
              " ('V272', 0.010471397621117512),\n",
              " ('V333', 0.010411211869553183),\n",
              " ('V196', 0.009784543662559797),\n",
              " ('V115', 0.009523794739039243),\n",
              " ('V259', 0.009473826247834546),\n",
              " ('V134', 0.00921153875239208),\n",
              " ('V226', 0.009119879587274385),\n",
              " ('V288', 0.00891212204899649),\n",
              " ('V265', 0.008867895519995119),\n",
              " ('V93', 0.00781267918409185),\n",
              " ('V264', 0.007799920040524399),\n",
              " ('V295', 0.007614932376405915),\n",
              " ('V287', 0.007215491635589623),\n",
              " ('V169', 0.007045548771114567),\n",
              " ('V270', 0.006911637066257377),\n",
              " ('id_35', 0.006648916737415103),\n",
              " ('V208', 0.006389437137580189),\n",
              " ('V73', 0.006046810639627396),\n",
              " ('V106', 0.00577411774768457),\n",
              " ('V97', 0.005630374425336745),\n",
              " ('V141', 0.005563156633590909),\n",
              " ('V122', 0.00515675362890032),\n",
              " ('V229', 0.004927393077848123),\n",
              " ('V79', 0.004627197946171038),\n",
              " ('V186', 0.004450216255995576),\n",
              " ('V132', 0.004324928658517203),\n",
              " ('C12', 0.003945109422851906),\n",
              " ('V254', 0.003939520165277432),\n",
              " ('V4', 0.003881200390936698),\n",
              " ('V195', 0.0037729686380079007),\n",
              " ('V282', 0.003455445376870467),\n",
              " ('V118', 0.002685171872479619),\n",
              " ('V100', 0.002477673368415436),\n",
              " ('V205', 0.002177670251412697),\n",
              " ('V303', 0.0021324367647107636),\n",
              " ('V212', 0.0021264533707103617),\n",
              " ('V107', 0.0018128342357835068),\n",
              " ('V289', 0.0011806581936298483),\n",
              " ('V326', 0.0005833504077623699),\n",
              " ('V32', 0.00043423850773364336),\n",
              " ('V14', 0.0),\n",
              " ('V17', 0.0),\n",
              " ('V24', 0.0),\n",
              " ('V58', 0.0),\n",
              " ('V64', 0.0),\n",
              " ('V80', 0.0),\n",
              " ('V95', 0.0),\n",
              " ('V101', 0.0),\n",
              " ('V119', 0.0),\n",
              " ('V153', 0.0),\n",
              " ('V155', 0.0),\n",
              " ('V172', 0.0),\n",
              " ('V176', 0.0),\n",
              " ('V188', 0.0),\n",
              " ('V198', 0.0),\n",
              " ('V207', 0.0),\n",
              " ('V220', 0.0),\n",
              " ('V246', 0.0),\n",
              " ('V266', 0.0),\n",
              " ('V275', 0.0),\n",
              " ('V299', 0.0),\n",
              " ('V304', 0.0),\n",
              " ('V339', 0.0)]"
            ]
          },
          "metadata": {},
          "execution_count": 41
        }
      ]
    },
    {
      "cell_type": "code",
      "source": [
        "feature_import=pd.DataFrame(feature_import, columns=['feature', 'importance'])"
      ],
      "metadata": {
        "id": "ggph1LMTovgq"
      },
      "execution_count": null,
      "outputs": []
    },
    {
      "cell_type": "code",
      "source": [
        "feature_import.to_csv('/content/drive/MyDrive/Classroom/feature_import_06_02_v6_4.csv', index=False)"
      ],
      "metadata": {
        "id": "jTsK2DatpJqe"
      },
      "execution_count": null,
      "outputs": []
    },
    {
      "cell_type": "code",
      "source": [
        "del X_test\n",
        "gc.collect()"
      ],
      "metadata": {
        "id": "5Pt3SyCI3syp",
        "colab": {
          "base_uri": "https://localhost:8080/"
        },
        "outputId": "ae6b9ca8-b85e-4391-c957-e1635e84fc14"
      },
      "execution_count": null,
      "outputs": [
        {
          "output_type": "execute_result",
          "data": {
            "text/plain": [
              "2830"
            ]
          },
          "metadata": {},
          "execution_count": 44
        }
      ]
    },
    {
      "cell_type": "code",
      "source": [
        "gc.collect()"
      ],
      "metadata": {
        "colab": {
          "base_uri": "https://localhost:8080/"
        },
        "id": "UFept-1w5H31",
        "outputId": "ff173652-6ed6-4ec6-ab8e-b5124354b7d5"
      },
      "execution_count": null,
      "outputs": [
        {
          "output_type": "execute_result",
          "data": {
            "text/plain": [
              "88"
            ]
          },
          "metadata": {},
          "execution_count": 45
        }
      ]
    },
    {
      "cell_type": "code",
      "source": [
        "shap_info = clf.get_feature_importance(\n",
        "    data=train_pool, \n",
        "    type='ShapValues', \n",
        "    verbose=10000\n",
        ")\n",
        "shap_values = shap_info[:,:-1]\n",
        "base_values = shap_info[:,-1]"
      ],
      "metadata": {
        "id": "nLFGaGBZIwiN",
        "colab": {
          "base_uri": "https://localhost:8080/"
        },
        "outputId": "670a1f3a-7537-4672-84a2-0d76b6a1be5b"
      },
      "execution_count": null,
      "outputs": [
        {
          "output_type": "stream",
          "name": "stdout",
          "text": [
            "Processing trees...\n",
            "128/1000 trees processed\tpassed time: 485ms\tremaining time: 3.3s\n",
            "1000/1000 trees processed\tpassed time: 2.69s\tremaining time: 0us\n",
            "Processing documents...\n",
            "128/442905 documents processed\tpassed time: 29.1ms\tremaining time: 1m 40s\n",
            "10112/442905 documents processed\tpassed time: 1.94s\tremaining time: 1m 23s\n",
            "20096/442905 documents processed\tpassed time: 3.85s\tremaining time: 1m 21s\n",
            "30080/442905 documents processed\tpassed time: 5.83s\tremaining time: 1m 19s\n",
            "40064/442905 documents processed\tpassed time: 7.79s\tremaining time: 1m 18s\n",
            "50048/442905 documents processed\tpassed time: 9.77s\tremaining time: 1m 16s\n",
            "60032/442905 documents processed\tpassed time: 11.7s\tremaining time: 1m 14s\n",
            "70016/442905 documents processed\tpassed time: 13.5s\tremaining time: 1m 11s\n",
            "80128/442905 documents processed\tpassed time: 15.4s\tremaining time: 1m 9s\n",
            "90112/442905 documents processed\tpassed time: 17.3s\tremaining time: 1m 7s\n",
            "100096/442905 documents processed\tpassed time: 19.2s\tremaining time: 1m 5s\n",
            "110080/442905 documents processed\tpassed time: 21.1s\tremaining time: 1m 3s\n",
            "120064/442905 documents processed\tpassed time: 23.1s\tremaining time: 1m 2s\n",
            "130048/442905 documents processed\tpassed time: 25.1s\tremaining time: 1m\n",
            "140032/442905 documents processed\tpassed time: 27s\tremaining time: 58.4s\n",
            "150016/442905 documents processed\tpassed time: 29s\tremaining time: 56.6s\n",
            "160128/442905 documents processed\tpassed time: 31.1s\tremaining time: 54.8s\n",
            "170112/442905 documents processed\tpassed time: 33s\tremaining time: 53s\n",
            "180096/442905 documents processed\tpassed time: 35s\tremaining time: 51s\n",
            "190080/442905 documents processed\tpassed time: 36.9s\tremaining time: 49.1s\n",
            "200064/442905 documents processed\tpassed time: 38.8s\tremaining time: 47.1s\n",
            "210048/442905 documents processed\tpassed time: 40.7s\tremaining time: 45.2s\n",
            "220032/442905 documents processed\tpassed time: 42.7s\tremaining time: 43.2s\n",
            "230016/442905 documents processed\tpassed time: 44.6s\tremaining time: 41.3s\n",
            "240128/442905 documents processed\tpassed time: 46.6s\tremaining time: 39.3s\n",
            "250112/442905 documents processed\tpassed time: 48.5s\tremaining time: 37.4s\n",
            "260096/442905 documents processed\tpassed time: 50.5s\tremaining time: 35.5s\n",
            "270080/442905 documents processed\tpassed time: 52.4s\tremaining time: 33.5s\n",
            "280064/442905 documents processed\tpassed time: 54.3s\tremaining time: 31.6s\n",
            "290048/442905 documents processed\tpassed time: 56.3s\tremaining time: 29.7s\n",
            "300032/442905 documents processed\tpassed time: 58.2s\tremaining time: 27.7s\n",
            "310016/442905 documents processed\tpassed time: 1m\tremaining time: 25.8s\n",
            "320128/442905 documents processed\tpassed time: 1m 2s\tremaining time: 23.9s\n",
            "330112/442905 documents processed\tpassed time: 1m 4s\tremaining time: 22s\n",
            "340096/442905 documents processed\tpassed time: 1m 6s\tremaining time: 20s\n",
            "350080/442905 documents processed\tpassed time: 1m 8s\tremaining time: 18.1s\n",
            "360064/442905 documents processed\tpassed time: 1m 10s\tremaining time: 16.1s\n",
            "370048/442905 documents processed\tpassed time: 1m 11s\tremaining time: 14.2s\n",
            "380032/442905 documents processed\tpassed time: 1m 13s\tremaining time: 12.2s\n",
            "390016/442905 documents processed\tpassed time: 1m 15s\tremaining time: 10.3s\n",
            "400128/442905 documents processed\tpassed time: 1m 17s\tremaining time: 8.32s\n",
            "410112/442905 documents processed\tpassed time: 1m 20s\tremaining time: 6.42s\n",
            "420096/442905 documents processed\tpassed time: 1m 22s\tremaining time: 4.46s\n",
            "430080/442905 documents processed\tpassed time: 1m 24s\tremaining time: 2.51s\n",
            "440064/442905 documents processed\tpassed time: 1m 26s\tremaining time: 555ms\n",
            "442905/442905 documents processed\tpassed time: 1m 26s\tremaining time: 0us\n"
          ]
        }
      ]
    },
    {
      "cell_type": "code",
      "source": [
        "/content/catboost_clf_find_fraud/snapshot.bkp"
      ],
      "metadata": {
        "id": "OIY2DTGFDgL2"
      },
      "execution_count": null,
      "outputs": []
    },
    {
      "cell_type": "code",
      "source": [
        "shap.summary_plot(shap_values, X_train)"
      ],
      "metadata": {
        "id": "0NZHRVaK7zSn"
      },
      "execution_count": null,
      "outputs": []
    }
  ]
}